{
 "cells": [
  {
   "cell_type": "markdown",
   "id": "10f135f9",
   "metadata": {},
   "source": [
    "# Table of Contents"
   ]
  },
  {
   "cell_type": "markdown",
   "id": "a30b77bd",
   "metadata": {},
   "source": [
    "1. Imports\n",
    "2. Web Scraping Premier League Data\n",
    "    - Scraping one team from the current season\n",
    "    - Scraping at a larger scale over multiple seasons\n",
    "3. Data Inspection and Clean-Up\n",
    "4. Data Analysis and Visualization"
   ]
  },
  {
   "cell_type": "markdown",
   "id": "af21375f",
   "metadata": {},
   "source": [
    "## Imports"
   ]
  },
  {
   "cell_type": "code",
   "execution_count": 558,
   "id": "071b549f",
   "metadata": {},
   "outputs": [
    {
     "name": "stdout",
     "output_type": "stream",
     "text": [
      "Collecting chart_studio\n",
      "  Downloading chart_studio-1.1.0-py3-none-any.whl (64 kB)\n",
      "     ---------------------------------------- 64.4/64.4 kB 1.2 MB/s eta 0:00:00\n",
      "Requirement already satisfied: plotly in c:\\users\\dozie\\anaconda3\\lib\\site-packages (from chart_studio) (5.9.0)\n",
      "Collecting retrying>=1.3.3\n",
      "  Downloading retrying-1.3.4-py3-none-any.whl (11 kB)\n",
      "Requirement already satisfied: six in c:\\users\\dozie\\anaconda3\\lib\\site-packages (from chart_studio) (1.16.0)\n",
      "Requirement already satisfied: requests in c:\\users\\dozie\\anaconda3\\lib\\site-packages (from chart_studio) (2.28.1)\n",
      "Requirement already satisfied: tenacity>=6.2.0 in c:\\users\\dozie\\anaconda3\\lib\\site-packages (from plotly->chart_studio) (8.0.1)\n",
      "Requirement already satisfied: charset-normalizer<3,>=2 in c:\\users\\dozie\\anaconda3\\lib\\site-packages (from requests->chart_studio) (2.0.4)\n",
      "Requirement already satisfied: idna<4,>=2.5 in c:\\users\\dozie\\anaconda3\\lib\\site-packages (from requests->chart_studio) (3.3)\n",
      "Requirement already satisfied: urllib3<1.27,>=1.21.1 in c:\\users\\dozie\\anaconda3\\lib\\site-packages (from requests->chart_studio) (1.26.11)\n",
      "Requirement already satisfied: certifi>=2017.4.17 in c:\\users\\dozie\\anaconda3\\lib\\site-packages (from requests->chart_studio) (2022.9.14)\n",
      "Installing collected packages: retrying, chart_studio\n",
      "Successfully installed chart_studio-1.1.0 retrying-1.3.4\n",
      "Note: you may need to restart the kernel to use updated packages.\n"
     ]
    }
   ],
   "source": [
    "pip install chart_studio # To ensure my charts can be used on powerpoint!"
   ]
  },
  {
   "cell_type": "code",
   "execution_count": 561,
   "id": "812125d2",
   "metadata": {},
   "outputs": [],
   "source": [
    "import requests  # Importing the libray I need\n",
    "from bs4 import BeautifulSoup # We need this to parse through the HTML in an understandable way\n",
    "import pandas as pd\n",
    "import numpy as np\n",
    "import time #To stagger our scraping frequency\n",
    "import chart_studio\n",
    "\n",
    "username = 'Kvothe_v1'\n",
    "api_key = '4usd06VNwa8moSIVWdRF'\n",
    "chart_studio.tools.set_credentials_file(username, api_key=api_key)\n",
    "import chart_studio.plotly as py\n",
    "import chart_studio.tools as tls\n",
    "import plotly.graph_objs as go\n"
   ]
  },
  {
   "cell_type": "markdown",
   "id": "bacbef3c",
   "metadata": {},
   "source": [
    "## Web Scraping Premier League Data"
   ]
  },
  {
   "cell_type": "code",
   "execution_count": 17,
   "id": "feef93c1",
   "metadata": {},
   "outputs": [],
   "source": [
    "standings_url = 'https://fbref.com/en/comps/9/Premier-League-Stats' ##The page I'll be scraping"
   ]
  },
  {
   "cell_type": "code",
   "execution_count": 18,
   "id": "d43a9c58",
   "metadata": {},
   "outputs": [],
   "source": [
    "data = requests.get(standings_url) \n",
    "#This makes a request to the server, giving me permission to download the html of this page"
   ]
  },
  {
   "cell_type": "code",
   "execution_count": 22,
   "id": "e6c11701",
   "metadata": {},
   "outputs": [],
   "source": [
    "soup = BeautifulSoup(data.text)"
   ]
  },
  {
   "cell_type": "code",
   "execution_count": 23,
   "id": "8f4c6531",
   "metadata": {},
   "outputs": [],
   "source": [
    "standings_table = soup.select('table.stats_table')[0] \n",
    "#This gives us the table tag with stats table we want exactly\n",
    "#Index of [0] because I only need "
   ]
  },
  {
   "cell_type": "code",
   "execution_count": 24,
   "id": "579aa55e",
   "metadata": {
    "collapsed": true
   },
   "outputs": [
    {
     "data": {
      "text/plain": [
       "[<a href=\"/en/squads/18bb7c10/Arsenal-Stats\">Arsenal</a>,\n",
       " <a href=\"/en/matches/1b35bc71/Arsenal-Manchester-United-January-22-2023-Premier-League\" style=\"color:#fff; text-decoration:none; background-color: transparent\">W</a>,\n",
       " <a href=\"/en/matches/07fc721a/Everton-Arsenal-February-4-2023-Premier-League\" style=\"color:#fff; text-decoration:none; background-color: transparent\">L</a>,\n",
       " <a href=\"/en/matches/7caa56bc/Arsenal-Brentford-February-11-2023-Premier-League\" style=\"color:#fff; text-decoration:none; background-color: transparent\">D</a>,\n",
       " <a href=\"/en/matches/b9da01e6/Arsenal-Manchester-City-February-15-2023-Premier-League\" style=\"color:#fff; text-decoration:none; background-color: transparent\">L</a>,\n",
       " <a href=\"/en/matches/e50bfcf8/Aston-Villa-Arsenal-February-18-2023-Premier-League\" style=\"color:#fff; text-decoration:none; background-color: transparent\">W</a>,\n",
       " <a href=\"/en/players/bc7dc64d/Bukayo-Saka\">Bukayo Saka</a>,\n",
       " <a href=\"/en/players/466fb2c5/Aaron-Ramsdale\">Aaron Ramsdale</a>,\n",
       " <a href=\"/en/squads/b8fd03ef/Manchester-City-Stats\">Manchester City</a>,\n",
       " <a href=\"/en/matches/7337f90a/Manchester-City-Wolverhampton-Wanderers-January-22-2023-Premier-League\" style=\"color:#fff; text-decoration:none; background-color: transparent\">W</a>,\n",
       " <a href=\"/en/matches/8a923619/Tottenham-Hotspur-Manchester-City-February-5-2023-Premier-League\" style=\"color:#fff; text-decoration:none; background-color: transparent\">L</a>,\n",
       " <a href=\"/en/matches/18fcd595/Manchester-City-Aston-Villa-February-12-2023-Premier-League\" style=\"color:#fff; text-decoration:none; background-color: transparent\">W</a>,\n",
       " <a href=\"/en/matches/b9da01e6/Arsenal-Manchester-City-February-15-2023-Premier-League\" style=\"color:#fff; text-decoration:none; background-color: transparent\">W</a>,\n",
       " <a href=\"/en/matches/7f12d9aa/Nottingham-Forest-Manchester-City-February-18-2023-Premier-League\" style=\"color:#fff; text-decoration:none; background-color: transparent\">D</a>,\n",
       " <a href=\"/en/players/1f44ac21/Erling-Haaland\">Erling Haaland</a>,\n",
       " <a href=\"/en/players/3bb7b8b4/Ederson\">Ederson</a>,\n",
       " <a href=\"/en/squads/19538871/Manchester-United-Stats\">Manchester Utd</a>,\n",
       " <a href=\"/en/matches/1b35bc71/Arsenal-Manchester-United-January-22-2023-Premier-League\" style=\"color:#fff; text-decoration:none; background-color: transparent\">L</a>,\n",
       " <a href=\"/en/matches/dca5ea6c/Manchester-United-Crystal-Palace-February-4-2023-Premier-League\" style=\"color:#fff; text-decoration:none; background-color: transparent\">W</a>,\n",
       " <a href=\"/en/matches/80532a54/Manchester-United-Leeds-United-February-8-2023-Premier-League\" style=\"color:#fff; text-decoration:none; background-color: transparent\">D</a>,\n",
       " <a href=\"/en/matches/3386146f/Leeds-United-Manchester-United-February-12-2023-Premier-League\" style=\"color:#fff; text-decoration:none; background-color: transparent\">W</a>,\n",
       " <a href=\"/en/matches/d6e88163/Manchester-United-Leicester-City-February-19-2023-Premier-League\" style=\"color:#fff; text-decoration:none; background-color: transparent\">W</a>,\n",
       " <a href=\"/en/players/a1d5bd30/Marcus-Rashford\">Marcus Rashford</a>,\n",
       " <a href=\"/en/players/7ba6d84e/David-de-Gea\">David de Gea</a>,\n",
       " <a href=\"/en/squads/361ca564/Tottenham-Hotspur-Stats\">Tottenham</a>,\n",
       " <a href=\"/en/matches/847f0a9c/Manchester-City-Tottenham-Hotspur-January-19-2023-Premier-League\" style=\"color:#fff; text-decoration:none; background-color: transparent\">L</a>,\n",
       " <a href=\"/en/matches/098cd338/Fulham-Tottenham-Hotspur-January-23-2023-Premier-League\" style=\"color:#fff; text-decoration:none; background-color: transparent\">W</a>,\n",
       " <a href=\"/en/matches/8a923619/Tottenham-Hotspur-Manchester-City-February-5-2023-Premier-League\" style=\"color:#fff; text-decoration:none; background-color: transparent\">W</a>,\n",
       " <a href=\"/en/matches/390c7b85/Leicester-City-Tottenham-Hotspur-February-11-2023-Premier-League\" style=\"color:#fff; text-decoration:none; background-color: transparent\">L</a>,\n",
       " <a href=\"/en/matches/aae66d3d/Tottenham-Hotspur-West-Ham-United-February-19-2023-Premier-League\" style=\"color:#fff; text-decoration:none; background-color: transparent\">W</a>,\n",
       " <a href=\"/en/players/21a66f6a/Harry-Kane\">Harry Kane</a>,\n",
       " <a href=\"/en/players/8f62b6ee/Hugo-Lloris\">Hugo Lloris</a>,\n",
       " <a href=\"/en/squads/b2b47a98/Newcastle-United-Stats\">Newcastle Utd</a>,\n",
       " <a href=\"/en/matches/f93d11e7/Newcastle-United-Fulham-January-15-2023-Premier-League\" style=\"color:#fff; text-decoration:none; background-color: transparent\">W</a>,\n",
       " <a href=\"/en/matches/8468f673/Crystal-Palace-Newcastle-United-January-21-2023-Premier-League\" style=\"color:#fff; text-decoration:none; background-color: transparent\">D</a>,\n",
       " <a href=\"/en/matches/34e9160c/Newcastle-United-West-Ham-United-February-4-2023-Premier-League\" style=\"color:#fff; text-decoration:none; background-color: transparent\">D</a>,\n",
       " <a href=\"/en/matches/d9339e30/Bournemouth-Newcastle-United-February-11-2023-Premier-League\" style=\"color:#fff; text-decoration:none; background-color: transparent\">D</a>,\n",
       " <a href=\"/en/matches/2f909763/Newcastle-United-Liverpool-February-18-2023-Premier-League\" style=\"color:#fff; text-decoration:none; background-color: transparent\">L</a>,\n",
       " <a href=\"/en/players/862a1c15/Miguel-Almiron\">Miguel Almirón</a>,\n",
       " <a href=\"/en/players/4b40d9ca/Nick-Pope\">Nick Pope</a>,\n",
       " <a href=\"/en/squads/fd962109/Fulham-Stats\">Fulham</a>,\n",
       " <a href=\"/en/matches/f93d11e7/Newcastle-United-Fulham-January-15-2023-Premier-League\" style=\"color:#fff; text-decoration:none; background-color: transparent\">L</a>,\n",
       " <a href=\"/en/matches/098cd338/Fulham-Tottenham-Hotspur-January-23-2023-Premier-League\" style=\"color:#fff; text-decoration:none; background-color: transparent\">L</a>,\n",
       " <a href=\"/en/matches/c3cf244b/Chelsea-Fulham-February-3-2023-Premier-League\" style=\"color:#fff; text-decoration:none; background-color: transparent\">D</a>,\n",
       " <a href=\"/en/matches/ee86dc99/Fulham-Nottingham-Forest-February-11-2023-Premier-League\" style=\"color:#fff; text-decoration:none; background-color: transparent\">W</a>,\n",
       " <a href=\"/en/matches/67a7aee6/Brighton-and-Hove-Albion-Fulham-February-18-2023-Premier-League\" style=\"color:#fff; text-decoration:none; background-color: transparent\">W</a>,\n",
       " <a href=\"/en/players/3925dbd6/Aleksandar-Mitrovic\">Aleksandar Mitrović</a>,\n",
       " <a href=\"/en/players/2628fd2b/Bernd-Leno\">Bernd Leno</a>,\n",
       " <a href=\"/en/squads/d07537b9/Brighton-and-Hove-Albion-Stats\">Brighton</a>,\n",
       " <a href=\"/en/matches/cfc2a193/Brighton-and-Hove-Albion-Liverpool-January-14-2023-Premier-League\" style=\"color:#fff; text-decoration:none; background-color: transparent\">W</a>,\n",
       " <a href=\"/en/matches/bcbbc55f/Leicester-City-Brighton-and-Hove-Albion-January-21-2023-Premier-League\" style=\"color:#fff; text-decoration:none; background-color: transparent\">D</a>,\n",
       " <a href=\"/en/matches/dccc53ae/Brighton-and-Hove-Albion-Bournemouth-February-4-2023-Premier-League\" style=\"color:#fff; text-decoration:none; background-color: transparent\">W</a>,\n",
       " <a href=\"/en/matches/5d5deba7/Crystal-Palace-Brighton-and-Hove-Albion-February-11-2023-Premier-League\" style=\"color:#fff; text-decoration:none; background-color: transparent\">D</a>,\n",
       " <a href=\"/en/matches/67a7aee6/Brighton-and-Hove-Albion-Fulham-February-18-2023-Premier-League\" style=\"color:#fff; text-decoration:none; background-color: transparent\">L</a>,\n",
       " <a href=\"/en/players/38ceb24a/Leandro-Trossard\">Leandro Trossard</a>,\n",
       " <a href=\"/en/players/6a713852/Robert-Sanchez\">Robert Sánchez</a>,\n",
       " <a href=\"/en/squads/822bd0ba/Liverpool-Stats\">Liverpool</a>,\n",
       " <a href=\"/en/matches/cfc2a193/Brighton-and-Hove-Albion-Liverpool-January-14-2023-Premier-League\" style=\"color:#fff; text-decoration:none; background-color: transparent\">L</a>,\n",
       " <a href=\"/en/matches/7febc290/Liverpool-Chelsea-January-21-2023-Premier-League\" style=\"color:#fff; text-decoration:none; background-color: transparent\">D</a>,\n",
       " <a href=\"/en/matches/d67a16c8/Wolverhampton-Wanderers-Liverpool-February-4-2023-Premier-League\" style=\"color:#fff; text-decoration:none; background-color: transparent\">L</a>,\n",
       " <a href=\"/en/matches/a895ec23/Merseyside-Derby-Liverpool-Everton-February-13-2023-Premier-League\" style=\"color:#fff; text-decoration:none; background-color: transparent\">W</a>,\n",
       " <a href=\"/en/matches/2f909763/Newcastle-United-Liverpool-February-18-2023-Premier-League\" style=\"color:#fff; text-decoration:none; background-color: transparent\">W</a>,\n",
       " <a href=\"/en/players/e342ad68/Mohamed-Salah\">Mohamed Salah</a>,\n",
       " <a href=\"/en/players/7a2e46a8/Alisson\">Alisson</a>,\n",
       " <a href=\"/en/squads/cd051869/Brentford-Stats\">Brentford</a>,\n",
       " <a href=\"/en/matches/3f992264/Brentford-Bournemouth-January-14-2023-Premier-League\" style=\"color:#fff; text-decoration:none; background-color: transparent\">W</a>,\n",
       " <a href=\"/en/matches/f0e7d8a8/Leeds-United-Brentford-January-22-2023-Premier-League\" style=\"color:#fff; text-decoration:none; background-color: transparent\">D</a>,\n",
       " <a href=\"/en/matches/ef31dad5/Brentford-Southampton-February-4-2023-Premier-League\" style=\"color:#fff; text-decoration:none; background-color: transparent\">W</a>,\n",
       " <a href=\"/en/matches/7caa56bc/Arsenal-Brentford-February-11-2023-Premier-League\" style=\"color:#fff; text-decoration:none; background-color: transparent\">D</a>,\n",
       " <a href=\"/en/matches/f6370484/Brentford-Crystal-Palace-February-18-2023-Premier-League\" style=\"color:#fff; text-decoration:none; background-color: transparent\">D</a>,\n",
       " <a href=\"/en/players/e09f279b/Ivan-Toney\">Ivan Toney</a>,\n",
       " <a href=\"/en/players/98ea5115/David-Raya\">David Raya</a>,\n",
       " <a href=\"/en/squads/cff3d9bb/Chelsea-Stats\">Chelsea</a>,\n",
       " <a href=\"/en/matches/564d2893/Chelsea-Crystal-Palace-January-15-2023-Premier-League\" style=\"color:#fff; text-decoration:none; background-color: transparent\">W</a>,\n",
       " <a href=\"/en/matches/7febc290/Liverpool-Chelsea-January-21-2023-Premier-League\" style=\"color:#fff; text-decoration:none; background-color: transparent\">D</a>,\n",
       " <a href=\"/en/matches/c3cf244b/Chelsea-Fulham-February-3-2023-Premier-League\" style=\"color:#fff; text-decoration:none; background-color: transparent\">D</a>,\n",
       " <a href=\"/en/matches/18dea268/West-Ham-United-Chelsea-February-11-2023-Premier-League\" style=\"color:#fff; text-decoration:none; background-color: transparent\">D</a>,\n",
       " <a href=\"/en/matches/8d750d5d/Chelsea-Southampton-February-18-2023-Premier-League\" style=\"color:#fff; text-decoration:none; background-color: transparent\">L</a>,\n",
       " <a href=\"/en/players/fed7cb61/Kai-Havertz\">Kai Havertz</a>,\n",
       " <a href=\"/en/players/28d596a0/Kepa-Arrizabalaga\">Kepa Arrizabalaga</a>,\n",
       " <a href=\"/en/squads/8602292d/Aston-Villa-Stats\">Aston Villa</a>,\n",
       " <a href=\"/en/matches/ea58bf24/Aston-Villa-Leeds-United-January-13-2023-Premier-League\" style=\"color:#fff; text-decoration:none; background-color: transparent\">W</a>,\n",
       " <a href=\"/en/matches/91d49468/Southampton-Aston-Villa-January-21-2023-Premier-League\" style=\"color:#fff; text-decoration:none; background-color: transparent\">W</a>,\n",
       " <a href=\"/en/matches/76a2a22c/Aston-Villa-Leicester-City-February-4-2023-Premier-League\" style=\"color:#fff; text-decoration:none; background-color: transparent\">L</a>,\n",
       " <a href=\"/en/matches/18fcd595/Manchester-City-Aston-Villa-February-12-2023-Premier-League\" style=\"color:#fff; text-decoration:none; background-color: transparent\">L</a>,\n",
       " <a href=\"/en/matches/e50bfcf8/Aston-Villa-Arsenal-February-18-2023-Premier-League\" style=\"color:#fff; text-decoration:none; background-color: transparent\">L</a>,\n",
       " <a href=\"/en/players/aed3a70f/Ollie-Watkins\">Ollie Watkins</a>,\n",
       " <a href=\"/en/players/7956236f/Emiliano-Martinez\">Emiliano Martínez</a>,\n",
       " <a href=\"/en/squads/47c64c55/Crystal-Palace-Stats\">Crystal Palace</a>,\n",
       " <a href=\"/en/matches/adf46096/Crystal-Palace-Manchester-United-January-18-2023-Premier-League\" style=\"color:#fff; text-decoration:none; background-color: transparent\">D</a>,\n",
       " <a href=\"/en/matches/8468f673/Crystal-Palace-Newcastle-United-January-21-2023-Premier-League\" style=\"color:#fff; text-decoration:none; background-color: transparent\">D</a>,\n",
       " <a href=\"/en/matches/dca5ea6c/Manchester-United-Crystal-Palace-February-4-2023-Premier-League\" style=\"color:#fff; text-decoration:none; background-color: transparent\">L</a>,\n",
       " <a href=\"/en/matches/5d5deba7/Crystal-Palace-Brighton-and-Hove-Albion-February-11-2023-Premier-League\" style=\"color:#fff; text-decoration:none; background-color: transparent\">D</a>,\n",
       " <a href=\"/en/matches/f6370484/Brentford-Crystal-Palace-February-18-2023-Premier-League\" style=\"color:#fff; text-decoration:none; background-color: transparent\">D</a>,\n",
       " <a href=\"/en/players/b2bc3b1f/Wilfried-Zaha\">Wilfried Zaha</a>,\n",
       " <a href=\"/en/players/ab13a5aa/Vicente-Guaita\">Vicente Guaita</a>,\n",
       " <a href=\"/en/squads/e4a775cb/Nottingham-Forest-Stats\">Nott'ham Forest</a>,\n",
       " <a href=\"/en/matches/95d3b457/Nottingham-Forest-Leicester-City-January-14-2023-Premier-League\" style=\"color:#fff; text-decoration:none; background-color: transparent\">W</a>,\n",
       " <a href=\"/en/matches/38c715b4/Bournemouth-Nottingham-Forest-January-21-2023-Premier-League\" style=\"color:#fff; text-decoration:none; background-color: transparent\">D</a>,\n",
       " <a href=\"/en/matches/7c47cb5e/Nottingham-Forest-Leeds-United-February-5-2023-Premier-League\" style=\"color:#fff; text-decoration:none; background-color: transparent\">W</a>,\n",
       " <a href=\"/en/matches/ee86dc99/Fulham-Nottingham-Forest-February-11-2023-Premier-League\" style=\"color:#fff; text-decoration:none; background-color: transparent\">L</a>,\n",
       " <a href=\"/en/matches/7f12d9aa/Nottingham-Forest-Manchester-City-February-18-2023-Premier-League\" style=\"color:#fff; text-decoration:none; background-color: transparent\">D</a>,\n",
       " <a href=\"/en/players/0cd31129/Brennan-Johnson\">Brennan Johnson</a>,\n",
       " <a href=\"/en/players/e5a76dfe/Dean-Henderson\">Dean Henderson</a>,\n",
       " <a href=\"/en/squads/a2d435b3/Leicester-City-Stats\">Leicester City</a>,\n",
       " <a href=\"/en/matches/95d3b457/Nottingham-Forest-Leicester-City-January-14-2023-Premier-League\" style=\"color:#fff; text-decoration:none; background-color: transparent\">L</a>,\n",
       " <a href=\"/en/matches/bcbbc55f/Leicester-City-Brighton-and-Hove-Albion-January-21-2023-Premier-League\" style=\"color:#fff; text-decoration:none; background-color: transparent\">D</a>,\n",
       " <a href=\"/en/matches/76a2a22c/Aston-Villa-Leicester-City-February-4-2023-Premier-League\" style=\"color:#fff; text-decoration:none; background-color: transparent\">W</a>,\n",
       " <a href=\"/en/matches/390c7b85/Leicester-City-Tottenham-Hotspur-February-11-2023-Premier-League\" style=\"color:#fff; text-decoration:none; background-color: transparent\">W</a>,\n",
       " <a href=\"/en/matches/d6e88163/Manchester-United-Leicester-City-February-19-2023-Premier-League\" style=\"color:#fff; text-decoration:none; background-color: transparent\">L</a>,\n",
       " <a href=\"/en/players/ee38d9c5/James-Maddison\">James Maddison</a>,\n",
       " <a href=\"/en/players/d3ce0e89/Danny-Ward\">Danny Ward</a>,\n",
       " <a href=\"/en/squads/8cec06e1/Wolverhampton-Wanderers-Stats\">Wolves</a>,\n",
       " <a href=\"/en/matches/20fbd1a1/Wolverhampton-Wanderers-West-Ham-United-January-14-2023-Premier-League\" style=\"color:#fff; text-decoration:none; background-color: transparent\">W</a>,\n",
       " <a href=\"/en/matches/7337f90a/Manchester-City-Wolverhampton-Wanderers-January-22-2023-Premier-League\" style=\"color:#fff; text-decoration:none; background-color: transparent\">L</a>,\n",
       " <a href=\"/en/matches/d67a16c8/Wolverhampton-Wanderers-Liverpool-February-4-2023-Premier-League\" style=\"color:#fff; text-decoration:none; background-color: transparent\">W</a>,\n",
       " <a href=\"/en/matches/8c7913ed/Southampton-Wolverhampton-Wanderers-February-11-2023-Premier-League\" style=\"color:#fff; text-decoration:none; background-color: transparent\">W</a>,\n",
       " <a href=\"/en/matches/eaf37ab4/Wolverhampton-Wanderers-Bournemouth-February-18-2023-Premier-League\" style=\"color:#fff; text-decoration:none; background-color: transparent\">L</a>,\n",
       " <a href=\"/en/players/44bfb6c5/Ruben-Neves\">Rúben Neves</a>,\n",
       " <a href=\"/en/players/7fcc71d8/Daniel-Podence\">Daniel Podence</a>,\n",
       " <a href=\"/en/players/903b6e8b/Jose-Sa\">José Sá</a>,\n",
       " <a href=\"/en/squads/d3fd31cc/Everton-Stats\">Everton</a>,\n",
       " <a href=\"/en/matches/11603f7f/Everton-Southampton-January-14-2023-Premier-League\" style=\"color:#fff; text-decoration:none; background-color: transparent\">L</a>,\n",
       " <a href=\"/en/matches/db9cdba8/West-Ham-United-Everton-January-21-2023-Premier-League\" style=\"color:#fff; text-decoration:none; background-color: transparent\">L</a>,\n",
       " <a href=\"/en/matches/07fc721a/Everton-Arsenal-February-4-2023-Premier-League\" style=\"color:#fff; text-decoration:none; background-color: transparent\">W</a>,\n",
       " <a href=\"/en/matches/a895ec23/Merseyside-Derby-Liverpool-Everton-February-13-2023-Premier-League\" style=\"color:#fff; text-decoration:none; background-color: transparent\">L</a>,\n",
       " <a href=\"/en/matches/d5f67d2e/Everton-Leeds-United-February-18-2023-Premier-League\" style=\"color:#fff; text-decoration:none; background-color: transparent\">W</a>,\n",
       " <a href=\"/en/players/4468ec10/Demarai-Gray\">Demarai Gray</a>,\n",
       " <a href=\"/en/players/2bd83368/Anthony-Gordon\">Anthony Gordon</a>,\n",
       " <a href=\"/en/players/4806ec67/Jordan-Pickford\">Jordan Pickford</a>,\n",
       " <a href=\"/en/squads/4ba7cbea/Bournemouth-Stats\">Bournemouth</a>,\n",
       " <a href=\"/en/matches/3f992264/Brentford-Bournemouth-January-14-2023-Premier-League\" style=\"color:#fff; text-decoration:none; background-color: transparent\">L</a>,\n",
       " <a href=\"/en/matches/38c715b4/Bournemouth-Nottingham-Forest-January-21-2023-Premier-League\" style=\"color:#fff; text-decoration:none; background-color: transparent\">D</a>,\n",
       " <a href=\"/en/matches/dccc53ae/Brighton-and-Hove-Albion-Bournemouth-February-4-2023-Premier-League\" style=\"color:#fff; text-decoration:none; background-color: transparent\">L</a>,\n",
       " <a href=\"/en/matches/d9339e30/Bournemouth-Newcastle-United-February-11-2023-Premier-League\" style=\"color:#fff; text-decoration:none; background-color: transparent\">D</a>,\n",
       " <a href=\"/en/matches/eaf37ab4/Wolverhampton-Wanderers-Bournemouth-February-18-2023-Premier-League\" style=\"color:#fff; text-decoration:none; background-color: transparent\">W</a>,\n",
       " <a href=\"/en/players/d328a254/Philip-Billing\">Philip Billing</a>,\n",
       " <a href=\"/en/players/01ce9e70/Kieffer-Moore\">Kieffer Moore</a>,\n",
       " <a href=\"/en/players/a9dc785c/Neto\">Neto</a>,\n",
       " <a href=\"/en/squads/7c21e445/West-Ham-United-Stats\">West Ham</a>,\n",
       " <a href=\"/en/matches/20fbd1a1/Wolverhampton-Wanderers-West-Ham-United-January-14-2023-Premier-League\" style=\"color:#fff; text-decoration:none; background-color: transparent\">L</a>,\n",
       " <a href=\"/en/matches/db9cdba8/West-Ham-United-Everton-January-21-2023-Premier-League\" style=\"color:#fff; text-decoration:none; background-color: transparent\">W</a>,\n",
       " <a href=\"/en/matches/34e9160c/Newcastle-United-West-Ham-United-February-4-2023-Premier-League\" style=\"color:#fff; text-decoration:none; background-color: transparent\">D</a>,\n",
       " <a href=\"/en/matches/18dea268/West-Ham-United-Chelsea-February-11-2023-Premier-League\" style=\"color:#fff; text-decoration:none; background-color: transparent\">D</a>,\n",
       " <a href=\"/en/matches/aae66d3d/Tottenham-Hotspur-West-Ham-United-February-19-2023-Premier-League\" style=\"color:#fff; text-decoration:none; background-color: transparent\">L</a>,\n",
       " <a href=\"/en/players/79c84d1c/Jarrod-Bowen\">Jarrod Bowen</a>,\n",
       " <a href=\"/en/players/9328b835/Lukasz-Fabianski\">Łukasz Fabiański</a>,\n",
       " <a href=\"/en/squads/5bfb9659/Leeds-United-Stats\">Leeds United</a>,\n",
       " <a href=\"/en/matches/f0e7d8a8/Leeds-United-Brentford-January-22-2023-Premier-League\" style=\"color:#fff; text-decoration:none; background-color: transparent\">D</a>,\n",
       " <a href=\"/en/matches/7c47cb5e/Nottingham-Forest-Leeds-United-February-5-2023-Premier-League\" style=\"color:#fff; text-decoration:none; background-color: transparent\">L</a>,\n",
       " <a href=\"/en/matches/80532a54/Manchester-United-Leeds-United-February-8-2023-Premier-League\" style=\"color:#fff; text-decoration:none; background-color: transparent\">D</a>,\n",
       " <a href=\"/en/matches/3386146f/Leeds-United-Manchester-United-February-12-2023-Premier-League\" style=\"color:#fff; text-decoration:none; background-color: transparent\">L</a>,\n",
       " <a href=\"/en/matches/d5f67d2e/Everton-Leeds-United-February-18-2023-Premier-League\" style=\"color:#fff; text-decoration:none; background-color: transparent\">L</a>,\n",
       " <a href=\"/en/players/1fb1c435/Rodrigo\">Rodrigo</a>,\n",
       " <a href=\"/en/players/6b625ac2/Illan-Meslier\">Illan Meslier</a>,\n",
       " <a href=\"/en/squads/33c895d4/Southampton-Stats\">Southampton</a>,\n",
       " <a href=\"/en/matches/11603f7f/Everton-Southampton-January-14-2023-Premier-League\" style=\"color:#fff; text-decoration:none; background-color: transparent\">W</a>,\n",
       " <a href=\"/en/matches/91d49468/Southampton-Aston-Villa-January-21-2023-Premier-League\" style=\"color:#fff; text-decoration:none; background-color: transparent\">L</a>,\n",
       " <a href=\"/en/matches/ef31dad5/Brentford-Southampton-February-4-2023-Premier-League\" style=\"color:#fff; text-decoration:none; background-color: transparent\">L</a>,\n",
       " <a href=\"/en/matches/8c7913ed/Southampton-Wolverhampton-Wanderers-February-11-2023-Premier-League\" style=\"color:#fff; text-decoration:none; background-color: transparent\">L</a>,\n",
       " <a href=\"/en/matches/8d750d5d/Chelsea-Southampton-February-18-2023-Premier-League\" style=\"color:#fff; text-decoration:none; background-color: transparent\">W</a>,\n",
       " <a href=\"/en/players/3515d404/James-Ward-Prowse\">James Ward-Prowse</a>,\n",
       " <a href=\"/en/players/c91441dc/Gavin-Bazunu\">Gavin Bazunu</a>]"
      ]
     },
     "execution_count": 24,
     "metadata": {},
     "output_type": "execute_result"
    }
   ],
   "source": [
    "links = standings_table.find_all('a')\n",
    "links \n",
    "#We need to find all the html ('<a>' tags) within the standings_table as they hold the \n",
    "#links to information in the standings_table"
   ]
  },
  {
   "cell_type": "code",
   "execution_count": 25,
   "id": "f624594a",
   "metadata": {
    "collapsed": true
   },
   "outputs": [
    {
     "data": {
      "text/plain": [
       "['/en/squads/18bb7c10/Arsenal-Stats',\n",
       " '/en/matches/1b35bc71/Arsenal-Manchester-United-January-22-2023-Premier-League',\n",
       " '/en/matches/07fc721a/Everton-Arsenal-February-4-2023-Premier-League',\n",
       " '/en/matches/7caa56bc/Arsenal-Brentford-February-11-2023-Premier-League',\n",
       " '/en/matches/b9da01e6/Arsenal-Manchester-City-February-15-2023-Premier-League',\n",
       " '/en/matches/e50bfcf8/Aston-Villa-Arsenal-February-18-2023-Premier-League',\n",
       " '/en/players/bc7dc64d/Bukayo-Saka',\n",
       " '/en/players/466fb2c5/Aaron-Ramsdale',\n",
       " '/en/squads/b8fd03ef/Manchester-City-Stats',\n",
       " '/en/matches/7337f90a/Manchester-City-Wolverhampton-Wanderers-January-22-2023-Premier-League',\n",
       " '/en/matches/8a923619/Tottenham-Hotspur-Manchester-City-February-5-2023-Premier-League',\n",
       " '/en/matches/18fcd595/Manchester-City-Aston-Villa-February-12-2023-Premier-League',\n",
       " '/en/matches/b9da01e6/Arsenal-Manchester-City-February-15-2023-Premier-League',\n",
       " '/en/matches/7f12d9aa/Nottingham-Forest-Manchester-City-February-18-2023-Premier-League',\n",
       " '/en/players/1f44ac21/Erling-Haaland',\n",
       " '/en/players/3bb7b8b4/Ederson',\n",
       " '/en/squads/19538871/Manchester-United-Stats',\n",
       " '/en/matches/1b35bc71/Arsenal-Manchester-United-January-22-2023-Premier-League',\n",
       " '/en/matches/dca5ea6c/Manchester-United-Crystal-Palace-February-4-2023-Premier-League',\n",
       " '/en/matches/80532a54/Manchester-United-Leeds-United-February-8-2023-Premier-League',\n",
       " '/en/matches/3386146f/Leeds-United-Manchester-United-February-12-2023-Premier-League',\n",
       " '/en/matches/d6e88163/Manchester-United-Leicester-City-February-19-2023-Premier-League',\n",
       " '/en/players/a1d5bd30/Marcus-Rashford',\n",
       " '/en/players/7ba6d84e/David-de-Gea',\n",
       " '/en/squads/361ca564/Tottenham-Hotspur-Stats',\n",
       " '/en/matches/847f0a9c/Manchester-City-Tottenham-Hotspur-January-19-2023-Premier-League',\n",
       " '/en/matches/098cd338/Fulham-Tottenham-Hotspur-January-23-2023-Premier-League',\n",
       " '/en/matches/8a923619/Tottenham-Hotspur-Manchester-City-February-5-2023-Premier-League',\n",
       " '/en/matches/390c7b85/Leicester-City-Tottenham-Hotspur-February-11-2023-Premier-League',\n",
       " '/en/matches/aae66d3d/Tottenham-Hotspur-West-Ham-United-February-19-2023-Premier-League',\n",
       " '/en/players/21a66f6a/Harry-Kane',\n",
       " '/en/players/8f62b6ee/Hugo-Lloris',\n",
       " '/en/squads/b2b47a98/Newcastle-United-Stats',\n",
       " '/en/matches/f93d11e7/Newcastle-United-Fulham-January-15-2023-Premier-League',\n",
       " '/en/matches/8468f673/Crystal-Palace-Newcastle-United-January-21-2023-Premier-League',\n",
       " '/en/matches/34e9160c/Newcastle-United-West-Ham-United-February-4-2023-Premier-League',\n",
       " '/en/matches/d9339e30/Bournemouth-Newcastle-United-February-11-2023-Premier-League',\n",
       " '/en/matches/2f909763/Newcastle-United-Liverpool-February-18-2023-Premier-League',\n",
       " '/en/players/862a1c15/Miguel-Almiron',\n",
       " '/en/players/4b40d9ca/Nick-Pope',\n",
       " '/en/squads/fd962109/Fulham-Stats',\n",
       " '/en/matches/f93d11e7/Newcastle-United-Fulham-January-15-2023-Premier-League',\n",
       " '/en/matches/098cd338/Fulham-Tottenham-Hotspur-January-23-2023-Premier-League',\n",
       " '/en/matches/c3cf244b/Chelsea-Fulham-February-3-2023-Premier-League',\n",
       " '/en/matches/ee86dc99/Fulham-Nottingham-Forest-February-11-2023-Premier-League',\n",
       " '/en/matches/67a7aee6/Brighton-and-Hove-Albion-Fulham-February-18-2023-Premier-League',\n",
       " '/en/players/3925dbd6/Aleksandar-Mitrovic',\n",
       " '/en/players/2628fd2b/Bernd-Leno',\n",
       " '/en/squads/d07537b9/Brighton-and-Hove-Albion-Stats',\n",
       " '/en/matches/cfc2a193/Brighton-and-Hove-Albion-Liverpool-January-14-2023-Premier-League',\n",
       " '/en/matches/bcbbc55f/Leicester-City-Brighton-and-Hove-Albion-January-21-2023-Premier-League',\n",
       " '/en/matches/dccc53ae/Brighton-and-Hove-Albion-Bournemouth-February-4-2023-Premier-League',\n",
       " '/en/matches/5d5deba7/Crystal-Palace-Brighton-and-Hove-Albion-February-11-2023-Premier-League',\n",
       " '/en/matches/67a7aee6/Brighton-and-Hove-Albion-Fulham-February-18-2023-Premier-League',\n",
       " '/en/players/38ceb24a/Leandro-Trossard',\n",
       " '/en/players/6a713852/Robert-Sanchez',\n",
       " '/en/squads/822bd0ba/Liverpool-Stats',\n",
       " '/en/matches/cfc2a193/Brighton-and-Hove-Albion-Liverpool-January-14-2023-Premier-League',\n",
       " '/en/matches/7febc290/Liverpool-Chelsea-January-21-2023-Premier-League',\n",
       " '/en/matches/d67a16c8/Wolverhampton-Wanderers-Liverpool-February-4-2023-Premier-League',\n",
       " '/en/matches/a895ec23/Merseyside-Derby-Liverpool-Everton-February-13-2023-Premier-League',\n",
       " '/en/matches/2f909763/Newcastle-United-Liverpool-February-18-2023-Premier-League',\n",
       " '/en/players/e342ad68/Mohamed-Salah',\n",
       " '/en/players/7a2e46a8/Alisson',\n",
       " '/en/squads/cd051869/Brentford-Stats',\n",
       " '/en/matches/3f992264/Brentford-Bournemouth-January-14-2023-Premier-League',\n",
       " '/en/matches/f0e7d8a8/Leeds-United-Brentford-January-22-2023-Premier-League',\n",
       " '/en/matches/ef31dad5/Brentford-Southampton-February-4-2023-Premier-League',\n",
       " '/en/matches/7caa56bc/Arsenal-Brentford-February-11-2023-Premier-League',\n",
       " '/en/matches/f6370484/Brentford-Crystal-Palace-February-18-2023-Premier-League',\n",
       " '/en/players/e09f279b/Ivan-Toney',\n",
       " '/en/players/98ea5115/David-Raya',\n",
       " '/en/squads/cff3d9bb/Chelsea-Stats',\n",
       " '/en/matches/564d2893/Chelsea-Crystal-Palace-January-15-2023-Premier-League',\n",
       " '/en/matches/7febc290/Liverpool-Chelsea-January-21-2023-Premier-League',\n",
       " '/en/matches/c3cf244b/Chelsea-Fulham-February-3-2023-Premier-League',\n",
       " '/en/matches/18dea268/West-Ham-United-Chelsea-February-11-2023-Premier-League',\n",
       " '/en/matches/8d750d5d/Chelsea-Southampton-February-18-2023-Premier-League',\n",
       " '/en/players/fed7cb61/Kai-Havertz',\n",
       " '/en/players/28d596a0/Kepa-Arrizabalaga',\n",
       " '/en/squads/8602292d/Aston-Villa-Stats',\n",
       " '/en/matches/ea58bf24/Aston-Villa-Leeds-United-January-13-2023-Premier-League',\n",
       " '/en/matches/91d49468/Southampton-Aston-Villa-January-21-2023-Premier-League',\n",
       " '/en/matches/76a2a22c/Aston-Villa-Leicester-City-February-4-2023-Premier-League',\n",
       " '/en/matches/18fcd595/Manchester-City-Aston-Villa-February-12-2023-Premier-League',\n",
       " '/en/matches/e50bfcf8/Aston-Villa-Arsenal-February-18-2023-Premier-League',\n",
       " '/en/players/aed3a70f/Ollie-Watkins',\n",
       " '/en/players/7956236f/Emiliano-Martinez',\n",
       " '/en/squads/47c64c55/Crystal-Palace-Stats',\n",
       " '/en/matches/adf46096/Crystal-Palace-Manchester-United-January-18-2023-Premier-League',\n",
       " '/en/matches/8468f673/Crystal-Palace-Newcastle-United-January-21-2023-Premier-League',\n",
       " '/en/matches/dca5ea6c/Manchester-United-Crystal-Palace-February-4-2023-Premier-League',\n",
       " '/en/matches/5d5deba7/Crystal-Palace-Brighton-and-Hove-Albion-February-11-2023-Premier-League',\n",
       " '/en/matches/f6370484/Brentford-Crystal-Palace-February-18-2023-Premier-League',\n",
       " '/en/players/b2bc3b1f/Wilfried-Zaha',\n",
       " '/en/players/ab13a5aa/Vicente-Guaita',\n",
       " '/en/squads/e4a775cb/Nottingham-Forest-Stats',\n",
       " '/en/matches/95d3b457/Nottingham-Forest-Leicester-City-January-14-2023-Premier-League',\n",
       " '/en/matches/38c715b4/Bournemouth-Nottingham-Forest-January-21-2023-Premier-League',\n",
       " '/en/matches/7c47cb5e/Nottingham-Forest-Leeds-United-February-5-2023-Premier-League',\n",
       " '/en/matches/ee86dc99/Fulham-Nottingham-Forest-February-11-2023-Premier-League',\n",
       " '/en/matches/7f12d9aa/Nottingham-Forest-Manchester-City-February-18-2023-Premier-League',\n",
       " '/en/players/0cd31129/Brennan-Johnson',\n",
       " '/en/players/e5a76dfe/Dean-Henderson',\n",
       " '/en/squads/a2d435b3/Leicester-City-Stats',\n",
       " '/en/matches/95d3b457/Nottingham-Forest-Leicester-City-January-14-2023-Premier-League',\n",
       " '/en/matches/bcbbc55f/Leicester-City-Brighton-and-Hove-Albion-January-21-2023-Premier-League',\n",
       " '/en/matches/76a2a22c/Aston-Villa-Leicester-City-February-4-2023-Premier-League',\n",
       " '/en/matches/390c7b85/Leicester-City-Tottenham-Hotspur-February-11-2023-Premier-League',\n",
       " '/en/matches/d6e88163/Manchester-United-Leicester-City-February-19-2023-Premier-League',\n",
       " '/en/players/ee38d9c5/James-Maddison',\n",
       " '/en/players/d3ce0e89/Danny-Ward',\n",
       " '/en/squads/8cec06e1/Wolverhampton-Wanderers-Stats',\n",
       " '/en/matches/20fbd1a1/Wolverhampton-Wanderers-West-Ham-United-January-14-2023-Premier-League',\n",
       " '/en/matches/7337f90a/Manchester-City-Wolverhampton-Wanderers-January-22-2023-Premier-League',\n",
       " '/en/matches/d67a16c8/Wolverhampton-Wanderers-Liverpool-February-4-2023-Premier-League',\n",
       " '/en/matches/8c7913ed/Southampton-Wolverhampton-Wanderers-February-11-2023-Premier-League',\n",
       " '/en/matches/eaf37ab4/Wolverhampton-Wanderers-Bournemouth-February-18-2023-Premier-League',\n",
       " '/en/players/44bfb6c5/Ruben-Neves',\n",
       " '/en/players/7fcc71d8/Daniel-Podence',\n",
       " '/en/players/903b6e8b/Jose-Sa',\n",
       " '/en/squads/d3fd31cc/Everton-Stats',\n",
       " '/en/matches/11603f7f/Everton-Southampton-January-14-2023-Premier-League',\n",
       " '/en/matches/db9cdba8/West-Ham-United-Everton-January-21-2023-Premier-League',\n",
       " '/en/matches/07fc721a/Everton-Arsenal-February-4-2023-Premier-League',\n",
       " '/en/matches/a895ec23/Merseyside-Derby-Liverpool-Everton-February-13-2023-Premier-League',\n",
       " '/en/matches/d5f67d2e/Everton-Leeds-United-February-18-2023-Premier-League',\n",
       " '/en/players/4468ec10/Demarai-Gray',\n",
       " '/en/players/2bd83368/Anthony-Gordon',\n",
       " '/en/players/4806ec67/Jordan-Pickford',\n",
       " '/en/squads/4ba7cbea/Bournemouth-Stats',\n",
       " '/en/matches/3f992264/Brentford-Bournemouth-January-14-2023-Premier-League',\n",
       " '/en/matches/38c715b4/Bournemouth-Nottingham-Forest-January-21-2023-Premier-League',\n",
       " '/en/matches/dccc53ae/Brighton-and-Hove-Albion-Bournemouth-February-4-2023-Premier-League',\n",
       " '/en/matches/d9339e30/Bournemouth-Newcastle-United-February-11-2023-Premier-League',\n",
       " '/en/matches/eaf37ab4/Wolverhampton-Wanderers-Bournemouth-February-18-2023-Premier-League',\n",
       " '/en/players/d328a254/Philip-Billing',\n",
       " '/en/players/01ce9e70/Kieffer-Moore',\n",
       " '/en/players/a9dc785c/Neto',\n",
       " '/en/squads/7c21e445/West-Ham-United-Stats',\n",
       " '/en/matches/20fbd1a1/Wolverhampton-Wanderers-West-Ham-United-January-14-2023-Premier-League',\n",
       " '/en/matches/db9cdba8/West-Ham-United-Everton-January-21-2023-Premier-League',\n",
       " '/en/matches/34e9160c/Newcastle-United-West-Ham-United-February-4-2023-Premier-League',\n",
       " '/en/matches/18dea268/West-Ham-United-Chelsea-February-11-2023-Premier-League',\n",
       " '/en/matches/aae66d3d/Tottenham-Hotspur-West-Ham-United-February-19-2023-Premier-League',\n",
       " '/en/players/79c84d1c/Jarrod-Bowen',\n",
       " '/en/players/9328b835/Lukasz-Fabianski',\n",
       " '/en/squads/5bfb9659/Leeds-United-Stats',\n",
       " '/en/matches/f0e7d8a8/Leeds-United-Brentford-January-22-2023-Premier-League',\n",
       " '/en/matches/7c47cb5e/Nottingham-Forest-Leeds-United-February-5-2023-Premier-League',\n",
       " '/en/matches/80532a54/Manchester-United-Leeds-United-February-8-2023-Premier-League',\n",
       " '/en/matches/3386146f/Leeds-United-Manchester-United-February-12-2023-Premier-League',\n",
       " '/en/matches/d5f67d2e/Everton-Leeds-United-February-18-2023-Premier-League',\n",
       " '/en/players/1fb1c435/Rodrigo',\n",
       " '/en/players/6b625ac2/Illan-Meslier',\n",
       " '/en/squads/33c895d4/Southampton-Stats',\n",
       " '/en/matches/11603f7f/Everton-Southampton-January-14-2023-Premier-League',\n",
       " '/en/matches/91d49468/Southampton-Aston-Villa-January-21-2023-Premier-League',\n",
       " '/en/matches/ef31dad5/Brentford-Southampton-February-4-2023-Premier-League',\n",
       " '/en/matches/8c7913ed/Southampton-Wolverhampton-Wanderers-February-11-2023-Premier-League',\n",
       " '/en/matches/8d750d5d/Chelsea-Southampton-February-18-2023-Premier-League',\n",
       " '/en/players/3515d404/James-Ward-Prowse',\n",
       " '/en/players/c91441dc/Gavin-Bazunu']"
      ]
     },
     "execution_count": 25,
     "metadata": {},
     "output_type": "execute_result"
    }
   ],
   "source": [
    "links = [l.get(\"href\") for l in links] \n",
    "#list comprehension that extracts the href attribute values of all HTML anchor elements in the links list \n",
    "#in the same order as the original links list.\n",
    "links"
   ]
  },
  {
   "cell_type": "code",
   "execution_count": 26,
   "id": "b53bfaf4",
   "metadata": {
    "collapsed": true
   },
   "outputs": [
    {
     "data": {
      "text/plain": [
       "['/en/squads/18bb7c10/Arsenal-Stats',\n",
       " '/en/squads/b8fd03ef/Manchester-City-Stats',\n",
       " '/en/squads/19538871/Manchester-United-Stats',\n",
       " '/en/squads/361ca564/Tottenham-Hotspur-Stats',\n",
       " '/en/squads/b2b47a98/Newcastle-United-Stats',\n",
       " '/en/squads/fd962109/Fulham-Stats',\n",
       " '/en/squads/d07537b9/Brighton-and-Hove-Albion-Stats',\n",
       " '/en/squads/822bd0ba/Liverpool-Stats',\n",
       " '/en/squads/cd051869/Brentford-Stats',\n",
       " '/en/squads/cff3d9bb/Chelsea-Stats',\n",
       " '/en/squads/8602292d/Aston-Villa-Stats',\n",
       " '/en/squads/47c64c55/Crystal-Palace-Stats',\n",
       " '/en/squads/e4a775cb/Nottingham-Forest-Stats',\n",
       " '/en/squads/a2d435b3/Leicester-City-Stats',\n",
       " '/en/squads/8cec06e1/Wolverhampton-Wanderers-Stats',\n",
       " '/en/squads/d3fd31cc/Everton-Stats',\n",
       " '/en/squads/4ba7cbea/Bournemouth-Stats',\n",
       " '/en/squads/7c21e445/West-Ham-United-Stats',\n",
       " '/en/squads/5bfb9659/Leeds-United-Stats',\n",
       " '/en/squads/33c895d4/Southampton-Stats']"
      ]
     },
     "execution_count": 26,
     "metadata": {},
     "output_type": "execute_result"
    }
   ],
   "source": [
    "squads = [l for l in links if '/squads/' in l] \n",
    "#list comprehension that filters the links list to include only the HTML anchor elements that contain the string \n",
    "#'/squads/' in their href attribute\n",
    "#This allows us to pull only the squad links as we need the stats for each team\n",
    "squads"
   ]
  },
  {
   "cell_type": "code",
   "execution_count": 27,
   "id": "29ec1f3e",
   "metadata": {},
   "outputs": [],
   "source": [
    "team_urls = [f\"https://fbref.com{l}\" for l in squads] #completes the url for each team"
   ]
  },
  {
   "cell_type": "code",
   "execution_count": 28,
   "id": "9af732ea",
   "metadata": {
    "collapsed": true
   },
   "outputs": [
    {
     "data": {
      "text/plain": [
       "['https://fbref.com/en/squads/18bb7c10/Arsenal-Stats',\n",
       " 'https://fbref.com/en/squads/b8fd03ef/Manchester-City-Stats',\n",
       " 'https://fbref.com/en/squads/19538871/Manchester-United-Stats',\n",
       " 'https://fbref.com/en/squads/361ca564/Tottenham-Hotspur-Stats',\n",
       " 'https://fbref.com/en/squads/b2b47a98/Newcastle-United-Stats',\n",
       " 'https://fbref.com/en/squads/fd962109/Fulham-Stats',\n",
       " 'https://fbref.com/en/squads/d07537b9/Brighton-and-Hove-Albion-Stats',\n",
       " 'https://fbref.com/en/squads/822bd0ba/Liverpool-Stats',\n",
       " 'https://fbref.com/en/squads/cd051869/Brentford-Stats',\n",
       " 'https://fbref.com/en/squads/cff3d9bb/Chelsea-Stats',\n",
       " 'https://fbref.com/en/squads/8602292d/Aston-Villa-Stats',\n",
       " 'https://fbref.com/en/squads/47c64c55/Crystal-Palace-Stats',\n",
       " 'https://fbref.com/en/squads/e4a775cb/Nottingham-Forest-Stats',\n",
       " 'https://fbref.com/en/squads/a2d435b3/Leicester-City-Stats',\n",
       " 'https://fbref.com/en/squads/8cec06e1/Wolverhampton-Wanderers-Stats',\n",
       " 'https://fbref.com/en/squads/d3fd31cc/Everton-Stats',\n",
       " 'https://fbref.com/en/squads/4ba7cbea/Bournemouth-Stats',\n",
       " 'https://fbref.com/en/squads/7c21e445/West-Ham-United-Stats',\n",
       " 'https://fbref.com/en/squads/5bfb9659/Leeds-United-Stats',\n",
       " 'https://fbref.com/en/squads/33c895d4/Southampton-Stats']"
      ]
     },
     "execution_count": 28,
     "metadata": {},
     "output_type": "execute_result"
    }
   ],
   "source": [
    "team_urls"
   ]
  },
  {
   "cell_type": "markdown",
   "id": "08fcfe26",
   "metadata": {},
   "source": [
    "### Scraping Data for One Team from the Current Season"
   ]
  },
  {
   "cell_type": "code",
   "execution_count": 30,
   "id": "955e0c3a",
   "metadata": {},
   "outputs": [],
   "source": [
    "team_url = team_urls[0] #To test my following code I'll use Arsenal's stats, the first index"
   ]
  },
  {
   "cell_type": "code",
   "execution_count": 31,
   "id": "fd9b8b25",
   "metadata": {},
   "outputs": [],
   "source": [
    "data = requests.get(team_url) #To get permission from the server to downlaod this link for Arsenal"
   ]
  },
  {
   "cell_type": "code",
   "execution_count": 32,
   "id": "e77a153d",
   "metadata": {},
   "outputs": [],
   "source": [
    "matches = pd.read_html(data.text, match=\"Scores & Fixtures\") \n",
    "# Creates a list of DataFrame objects using the specific match parameter"
   ]
  },
  {
   "cell_type": "code",
   "execution_count": 33,
   "id": "139d54f4",
   "metadata": {},
   "outputs": [
    {
     "data": {
      "text/html": [
       "<div>\n",
       "<style scoped>\n",
       "    .dataframe tbody tr th:only-of-type {\n",
       "        vertical-align: middle;\n",
       "    }\n",
       "\n",
       "    .dataframe tbody tr th {\n",
       "        vertical-align: top;\n",
       "    }\n",
       "\n",
       "    .dataframe thead th {\n",
       "        text-align: right;\n",
       "    }\n",
       "</style>\n",
       "<table border=\"1\" class=\"dataframe\">\n",
       "  <thead>\n",
       "    <tr style=\"text-align: right;\">\n",
       "      <th></th>\n",
       "      <th>Date</th>\n",
       "      <th>Time</th>\n",
       "      <th>Comp</th>\n",
       "      <th>Round</th>\n",
       "      <th>Day</th>\n",
       "      <th>Venue</th>\n",
       "      <th>Result</th>\n",
       "      <th>GF</th>\n",
       "      <th>GA</th>\n",
       "      <th>Opponent</th>\n",
       "      <th>xG</th>\n",
       "      <th>xGA</th>\n",
       "      <th>Poss</th>\n",
       "      <th>Attendance</th>\n",
       "      <th>Captain</th>\n",
       "      <th>Formation</th>\n",
       "      <th>Referee</th>\n",
       "      <th>Match Report</th>\n",
       "      <th>Notes</th>\n",
       "    </tr>\n",
       "  </thead>\n",
       "  <tbody>\n",
       "    <tr>\n",
       "      <th>0</th>\n",
       "      <td>2022-08-05</td>\n",
       "      <td>20:00</td>\n",
       "      <td>Premier League</td>\n",
       "      <td>Matchweek 1</td>\n",
       "      <td>Fri</td>\n",
       "      <td>Away</td>\n",
       "      <td>W</td>\n",
       "      <td>2.0</td>\n",
       "      <td>0.0</td>\n",
       "      <td>Crystal Palace</td>\n",
       "      <td>1.0</td>\n",
       "      <td>1.2</td>\n",
       "      <td>44.0</td>\n",
       "      <td>25286.0</td>\n",
       "      <td>Martin Ødegaard</td>\n",
       "      <td>4-3-3</td>\n",
       "      <td>Anthony Taylor</td>\n",
       "      <td>Match Report</td>\n",
       "      <td>NaN</td>\n",
       "    </tr>\n",
       "    <tr>\n",
       "      <th>1</th>\n",
       "      <td>2022-08-13</td>\n",
       "      <td>15:00</td>\n",
       "      <td>Premier League</td>\n",
       "      <td>Matchweek 2</td>\n",
       "      <td>Sat</td>\n",
       "      <td>Home</td>\n",
       "      <td>W</td>\n",
       "      <td>4.0</td>\n",
       "      <td>2.0</td>\n",
       "      <td>Leicester City</td>\n",
       "      <td>2.7</td>\n",
       "      <td>0.5</td>\n",
       "      <td>50.0</td>\n",
       "      <td>60033.0</td>\n",
       "      <td>Martin Ødegaard</td>\n",
       "      <td>4-3-3</td>\n",
       "      <td>Darren England</td>\n",
       "      <td>Match Report</td>\n",
       "      <td>NaN</td>\n",
       "    </tr>\n",
       "    <tr>\n",
       "      <th>2</th>\n",
       "      <td>2022-08-20</td>\n",
       "      <td>17:30</td>\n",
       "      <td>Premier League</td>\n",
       "      <td>Matchweek 3</td>\n",
       "      <td>Sat</td>\n",
       "      <td>Away</td>\n",
       "      <td>W</td>\n",
       "      <td>3.0</td>\n",
       "      <td>0.0</td>\n",
       "      <td>Bournemouth</td>\n",
       "      <td>1.3</td>\n",
       "      <td>0.3</td>\n",
       "      <td>57.0</td>\n",
       "      <td>10423.0</td>\n",
       "      <td>Martin Ødegaard</td>\n",
       "      <td>4-3-3</td>\n",
       "      <td>Craig Pawson</td>\n",
       "      <td>Match Report</td>\n",
       "      <td>NaN</td>\n",
       "    </tr>\n",
       "    <tr>\n",
       "      <th>3</th>\n",
       "      <td>2022-08-27</td>\n",
       "      <td>17:30</td>\n",
       "      <td>Premier League</td>\n",
       "      <td>Matchweek 4</td>\n",
       "      <td>Sat</td>\n",
       "      <td>Home</td>\n",
       "      <td>W</td>\n",
       "      <td>2.0</td>\n",
       "      <td>1.0</td>\n",
       "      <td>Fulham</td>\n",
       "      <td>2.6</td>\n",
       "      <td>0.8</td>\n",
       "      <td>71.0</td>\n",
       "      <td>60164.0</td>\n",
       "      <td>Martin Ødegaard</td>\n",
       "      <td>4-3-3</td>\n",
       "      <td>Jarred Gillett</td>\n",
       "      <td>Match Report</td>\n",
       "      <td>NaN</td>\n",
       "    </tr>\n",
       "    <tr>\n",
       "      <th>4</th>\n",
       "      <td>2022-08-31</td>\n",
       "      <td>19:30</td>\n",
       "      <td>Premier League</td>\n",
       "      <td>Matchweek 5</td>\n",
       "      <td>Wed</td>\n",
       "      <td>Home</td>\n",
       "      <td>W</td>\n",
       "      <td>2.0</td>\n",
       "      <td>1.0</td>\n",
       "      <td>Aston Villa</td>\n",
       "      <td>2.4</td>\n",
       "      <td>0.4</td>\n",
       "      <td>59.0</td>\n",
       "      <td>60012.0</td>\n",
       "      <td>Martin Ødegaard</td>\n",
       "      <td>4-3-3</td>\n",
       "      <td>Robert Jones</td>\n",
       "      <td>Match Report</td>\n",
       "      <td>NaN</td>\n",
       "    </tr>\n",
       "    <tr>\n",
       "      <th>5</th>\n",
       "      <td>2022-09-04</td>\n",
       "      <td>16:30</td>\n",
       "      <td>Premier League</td>\n",
       "      <td>Matchweek 6</td>\n",
       "      <td>Sun</td>\n",
       "      <td>Away</td>\n",
       "      <td>L</td>\n",
       "      <td>1.0</td>\n",
       "      <td>3.0</td>\n",
       "      <td>Manchester Utd</td>\n",
       "      <td>1.3</td>\n",
       "      <td>1.5</td>\n",
       "      <td>60.0</td>\n",
       "      <td>73431.0</td>\n",
       "      <td>Martin Ødegaard</td>\n",
       "      <td>4-3-3</td>\n",
       "      <td>Paul Tierney</td>\n",
       "      <td>Match Report</td>\n",
       "      <td>NaN</td>\n",
       "    </tr>\n",
       "    <tr>\n",
       "      <th>6</th>\n",
       "      <td>2022-09-08</td>\n",
       "      <td>18:45</td>\n",
       "      <td>Europa Lg</td>\n",
       "      <td>Group stage</td>\n",
       "      <td>Thu</td>\n",
       "      <td>Away</td>\n",
       "      <td>W</td>\n",
       "      <td>2.0</td>\n",
       "      <td>1.0</td>\n",
       "      <td>ch Zürich</td>\n",
       "      <td>2.3</td>\n",
       "      <td>1.2</td>\n",
       "      <td>69.0</td>\n",
       "      <td>17070.0</td>\n",
       "      <td>Granit Xhaka</td>\n",
       "      <td>4-3-3</td>\n",
       "      <td>Mohammed Al Hakim</td>\n",
       "      <td>Match Report</td>\n",
       "      <td>NaN</td>\n",
       "    </tr>\n",
       "    <tr>\n",
       "      <th>7</th>\n",
       "      <td>2022-09-18</td>\n",
       "      <td>12:00</td>\n",
       "      <td>Premier League</td>\n",
       "      <td>Matchweek 8</td>\n",
       "      <td>Sun</td>\n",
       "      <td>Away</td>\n",
       "      <td>W</td>\n",
       "      <td>3.0</td>\n",
       "      <td>0.0</td>\n",
       "      <td>Brentford</td>\n",
       "      <td>1.5</td>\n",
       "      <td>0.5</td>\n",
       "      <td>63.0</td>\n",
       "      <td>17122.0</td>\n",
       "      <td>Granit Xhaka</td>\n",
       "      <td>4-3-3</td>\n",
       "      <td>David Coote</td>\n",
       "      <td>Match Report</td>\n",
       "      <td>NaN</td>\n",
       "    </tr>\n",
       "    <tr>\n",
       "      <th>8</th>\n",
       "      <td>2022-10-01</td>\n",
       "      <td>12:30</td>\n",
       "      <td>Premier League</td>\n",
       "      <td>Matchweek 9</td>\n",
       "      <td>Sat</td>\n",
       "      <td>Home</td>\n",
       "      <td>W</td>\n",
       "      <td>3.0</td>\n",
       "      <td>1.0</td>\n",
       "      <td>Tottenham</td>\n",
       "      <td>2.4</td>\n",
       "      <td>1.6</td>\n",
       "      <td>64.0</td>\n",
       "      <td>60278.0</td>\n",
       "      <td>Martin Ødegaard</td>\n",
       "      <td>4-3-3</td>\n",
       "      <td>Anthony Taylor</td>\n",
       "      <td>Match Report</td>\n",
       "      <td>NaN</td>\n",
       "    </tr>\n",
       "    <tr>\n",
       "      <th>9</th>\n",
       "      <td>2022-10-06</td>\n",
       "      <td>20:00</td>\n",
       "      <td>Europa Lg</td>\n",
       "      <td>Group stage</td>\n",
       "      <td>Thu</td>\n",
       "      <td>Home</td>\n",
       "      <td>W</td>\n",
       "      <td>3.0</td>\n",
       "      <td>0.0</td>\n",
       "      <td>no Bodø/Glimt</td>\n",
       "      <td>3.4</td>\n",
       "      <td>0.8</td>\n",
       "      <td>50.0</td>\n",
       "      <td>59724.0</td>\n",
       "      <td>Granit Xhaka</td>\n",
       "      <td>4-3-3</td>\n",
       "      <td>Harm Osmers</td>\n",
       "      <td>Match Report</td>\n",
       "      <td>NaN</td>\n",
       "    </tr>\n",
       "    <tr>\n",
       "      <th>10</th>\n",
       "      <td>2022-10-09</td>\n",
       "      <td>16:30</td>\n",
       "      <td>Premier League</td>\n",
       "      <td>Matchweek 10</td>\n",
       "      <td>Sun</td>\n",
       "      <td>Home</td>\n",
       "      <td>W</td>\n",
       "      <td>3.0</td>\n",
       "      <td>2.0</td>\n",
       "      <td>Liverpool</td>\n",
       "      <td>2.7</td>\n",
       "      <td>1.1</td>\n",
       "      <td>43.0</td>\n",
       "      <td>60059.0</td>\n",
       "      <td>Martin Ødegaard</td>\n",
       "      <td>4-3-3</td>\n",
       "      <td>Michael Oliver</td>\n",
       "      <td>Match Report</td>\n",
       "      <td>NaN</td>\n",
       "    </tr>\n",
       "    <tr>\n",
       "      <th>11</th>\n",
       "      <td>2022-10-13</td>\n",
       "      <td>18:45</td>\n",
       "      <td>Europa Lg</td>\n",
       "      <td>Group stage</td>\n",
       "      <td>Thu</td>\n",
       "      <td>Away</td>\n",
       "      <td>W</td>\n",
       "      <td>1.0</td>\n",
       "      <td>0.0</td>\n",
       "      <td>no Bodø/Glimt</td>\n",
       "      <td>0.7</td>\n",
       "      <td>0.5</td>\n",
       "      <td>55.0</td>\n",
       "      <td>7922.0</td>\n",
       "      <td>Martin Ødegaard</td>\n",
       "      <td>4-3-3</td>\n",
       "      <td>Irfan Peljto</td>\n",
       "      <td>Match Report</td>\n",
       "      <td>NaN</td>\n",
       "    </tr>\n",
       "    <tr>\n",
       "      <th>12</th>\n",
       "      <td>2022-10-16</td>\n",
       "      <td>14:00</td>\n",
       "      <td>Premier League</td>\n",
       "      <td>Matchweek 11</td>\n",
       "      <td>Sun</td>\n",
       "      <td>Away</td>\n",
       "      <td>W</td>\n",
       "      <td>1.0</td>\n",
       "      <td>0.0</td>\n",
       "      <td>Leeds United</td>\n",
       "      <td>0.5</td>\n",
       "      <td>1.8</td>\n",
       "      <td>53.0</td>\n",
       "      <td>36700.0</td>\n",
       "      <td>Martin Ødegaard</td>\n",
       "      <td>4-3-3</td>\n",
       "      <td>Chris Kavanagh</td>\n",
       "      <td>Match Report</td>\n",
       "      <td>NaN</td>\n",
       "    </tr>\n",
       "    <tr>\n",
       "      <th>13</th>\n",
       "      <td>2022-10-20</td>\n",
       "      <td>18:00</td>\n",
       "      <td>Europa Lg</td>\n",
       "      <td>Group stage</td>\n",
       "      <td>Thu</td>\n",
       "      <td>Home</td>\n",
       "      <td>W</td>\n",
       "      <td>1.0</td>\n",
       "      <td>0.0</td>\n",
       "      <td>nl PSV Eindhoven</td>\n",
       "      <td>2.7</td>\n",
       "      <td>0.3</td>\n",
       "      <td>62.0</td>\n",
       "      <td>52200.0</td>\n",
       "      <td>Granit Xhaka</td>\n",
       "      <td>4-3-3</td>\n",
       "      <td>Alejandro Hernández</td>\n",
       "      <td>Match Report</td>\n",
       "      <td>NaN</td>\n",
       "    </tr>\n",
       "    <tr>\n",
       "      <th>14</th>\n",
       "      <td>2022-10-23</td>\n",
       "      <td>14:00</td>\n",
       "      <td>Premier League</td>\n",
       "      <td>Matchweek 13</td>\n",
       "      <td>Sun</td>\n",
       "      <td>Away</td>\n",
       "      <td>D</td>\n",
       "      <td>1.0</td>\n",
       "      <td>1.0</td>\n",
       "      <td>Southampton</td>\n",
       "      <td>1.0</td>\n",
       "      <td>0.7</td>\n",
       "      <td>59.0</td>\n",
       "      <td>31145.0</td>\n",
       "      <td>Martin Ødegaard</td>\n",
       "      <td>4-3-3</td>\n",
       "      <td>Robert Jones</td>\n",
       "      <td>Match Report</td>\n",
       "      <td>NaN</td>\n",
       "    </tr>\n",
       "    <tr>\n",
       "      <th>15</th>\n",
       "      <td>2022-10-27</td>\n",
       "      <td>18:45</td>\n",
       "      <td>Europa Lg</td>\n",
       "      <td>Group stage</td>\n",
       "      <td>Thu</td>\n",
       "      <td>Away</td>\n",
       "      <td>L</td>\n",
       "      <td>0.0</td>\n",
       "      <td>2.0</td>\n",
       "      <td>nl PSV Eindhoven</td>\n",
       "      <td>1.4</td>\n",
       "      <td>0.8</td>\n",
       "      <td>68.0</td>\n",
       "      <td>35000.0</td>\n",
       "      <td>Martin Ødegaard</td>\n",
       "      <td>4-3-3</td>\n",
       "      <td>Marco Di Bello</td>\n",
       "      <td>Match Report</td>\n",
       "      <td>NaN</td>\n",
       "    </tr>\n",
       "    <tr>\n",
       "      <th>16</th>\n",
       "      <td>2022-10-30</td>\n",
       "      <td>14:00</td>\n",
       "      <td>Premier League</td>\n",
       "      <td>Matchweek 14</td>\n",
       "      <td>Sun</td>\n",
       "      <td>Home</td>\n",
       "      <td>W</td>\n",
       "      <td>5.0</td>\n",
       "      <td>0.0</td>\n",
       "      <td>Nott'ham Forest</td>\n",
       "      <td>2.3</td>\n",
       "      <td>0.4</td>\n",
       "      <td>69.0</td>\n",
       "      <td>60263.0</td>\n",
       "      <td>Martin Ødegaard</td>\n",
       "      <td>4-3-3</td>\n",
       "      <td>Simon Hooper</td>\n",
       "      <td>Match Report</td>\n",
       "      <td>NaN</td>\n",
       "    </tr>\n",
       "    <tr>\n",
       "      <th>17</th>\n",
       "      <td>2022-11-03</td>\n",
       "      <td>20:00</td>\n",
       "      <td>Europa Lg</td>\n",
       "      <td>Group stage</td>\n",
       "      <td>Thu</td>\n",
       "      <td>Home</td>\n",
       "      <td>W</td>\n",
       "      <td>1.0</td>\n",
       "      <td>0.0</td>\n",
       "      <td>ch Zürich</td>\n",
       "      <td>1.6</td>\n",
       "      <td>0.4</td>\n",
       "      <td>55.0</td>\n",
       "      <td>48500.0</td>\n",
       "      <td>Gabriel Jesus</td>\n",
       "      <td>4-3-3</td>\n",
       "      <td>Erik Lambrechts</td>\n",
       "      <td>Match Report</td>\n",
       "      <td>NaN</td>\n",
       "    </tr>\n",
       "    <tr>\n",
       "      <th>18</th>\n",
       "      <td>2022-11-06</td>\n",
       "      <td>12:00</td>\n",
       "      <td>Premier League</td>\n",
       "      <td>Matchweek 15</td>\n",
       "      <td>Sun</td>\n",
       "      <td>Away</td>\n",
       "      <td>W</td>\n",
       "      <td>1.0</td>\n",
       "      <td>0.0</td>\n",
       "      <td>Chelsea</td>\n",
       "      <td>2.1</td>\n",
       "      <td>0.3</td>\n",
       "      <td>55.0</td>\n",
       "      <td>40142.0</td>\n",
       "      <td>Martin Ødegaard</td>\n",
       "      <td>4-3-3</td>\n",
       "      <td>Michael Oliver</td>\n",
       "      <td>Match Report</td>\n",
       "      <td>NaN</td>\n",
       "    </tr>\n",
       "    <tr>\n",
       "      <th>19</th>\n",
       "      <td>2022-11-09</td>\n",
       "      <td>19:45</td>\n",
       "      <td>EFL Cup</td>\n",
       "      <td>Third round</td>\n",
       "      <td>Wed</td>\n",
       "      <td>Home</td>\n",
       "      <td>L</td>\n",
       "      <td>1.0</td>\n",
       "      <td>3.0</td>\n",
       "      <td>Brighton</td>\n",
       "      <td>NaN</td>\n",
       "      <td>NaN</td>\n",
       "      <td>57.0</td>\n",
       "      <td>59233.0</td>\n",
       "      <td>Rob Holding</td>\n",
       "      <td>4-2-3-1</td>\n",
       "      <td>Jarred Gillett</td>\n",
       "      <td>Match Report</td>\n",
       "      <td>NaN</td>\n",
       "    </tr>\n",
       "    <tr>\n",
       "      <th>20</th>\n",
       "      <td>2022-11-12</td>\n",
       "      <td>19:45</td>\n",
       "      <td>Premier League</td>\n",
       "      <td>Matchweek 16</td>\n",
       "      <td>Sat</td>\n",
       "      <td>Away</td>\n",
       "      <td>W</td>\n",
       "      <td>2.0</td>\n",
       "      <td>0.0</td>\n",
       "      <td>Wolves</td>\n",
       "      <td>2.1</td>\n",
       "      <td>0.7</td>\n",
       "      <td>62.0</td>\n",
       "      <td>34624.0</td>\n",
       "      <td>Martin Ødegaard</td>\n",
       "      <td>4-3-3</td>\n",
       "      <td>Stuart Attwell</td>\n",
       "      <td>Match Report</td>\n",
       "      <td>NaN</td>\n",
       "    </tr>\n",
       "    <tr>\n",
       "      <th>21</th>\n",
       "      <td>2022-12-26</td>\n",
       "      <td>20:00</td>\n",
       "      <td>Premier League</td>\n",
       "      <td>Matchweek 17</td>\n",
       "      <td>Mon</td>\n",
       "      <td>Home</td>\n",
       "      <td>W</td>\n",
       "      <td>3.0</td>\n",
       "      <td>1.0</td>\n",
       "      <td>West Ham</td>\n",
       "      <td>2.1</td>\n",
       "      <td>1.0</td>\n",
       "      <td>66.0</td>\n",
       "      <td>60125.0</td>\n",
       "      <td>Martin Ødegaard</td>\n",
       "      <td>4-3-3</td>\n",
       "      <td>Michael Oliver</td>\n",
       "      <td>Match Report</td>\n",
       "      <td>NaN</td>\n",
       "    </tr>\n",
       "    <tr>\n",
       "      <th>22</th>\n",
       "      <td>2022-12-31</td>\n",
       "      <td>17:30</td>\n",
       "      <td>Premier League</td>\n",
       "      <td>Matchweek 18</td>\n",
       "      <td>Sat</td>\n",
       "      <td>Away</td>\n",
       "      <td>W</td>\n",
       "      <td>4.0</td>\n",
       "      <td>2.0</td>\n",
       "      <td>Brighton</td>\n",
       "      <td>2.9</td>\n",
       "      <td>1.2</td>\n",
       "      <td>32.0</td>\n",
       "      <td>31647.0</td>\n",
       "      <td>Martin Ødegaard</td>\n",
       "      <td>4-3-3</td>\n",
       "      <td>Anthony Taylor</td>\n",
       "      <td>Match Report</td>\n",
       "      <td>NaN</td>\n",
       "    </tr>\n",
       "    <tr>\n",
       "      <th>23</th>\n",
       "      <td>2023-01-03</td>\n",
       "      <td>19:45</td>\n",
       "      <td>Premier League</td>\n",
       "      <td>Matchweek 19</td>\n",
       "      <td>Tue</td>\n",
       "      <td>Home</td>\n",
       "      <td>D</td>\n",
       "      <td>0.0</td>\n",
       "      <td>0.0</td>\n",
       "      <td>Newcastle Utd</td>\n",
       "      <td>1.1</td>\n",
       "      <td>1.0</td>\n",
       "      <td>66.0</td>\n",
       "      <td>60319.0</td>\n",
       "      <td>Martin Ødegaard</td>\n",
       "      <td>4-3-3</td>\n",
       "      <td>Andy Madley</td>\n",
       "      <td>Match Report</td>\n",
       "      <td>NaN</td>\n",
       "    </tr>\n",
       "    <tr>\n",
       "      <th>24</th>\n",
       "      <td>2023-01-09</td>\n",
       "      <td>20:00</td>\n",
       "      <td>FA Cup</td>\n",
       "      <td>Third round proper</td>\n",
       "      <td>Mon</td>\n",
       "      <td>Away</td>\n",
       "      <td>W</td>\n",
       "      <td>3.0</td>\n",
       "      <td>0.0</td>\n",
       "      <td>Oxford United</td>\n",
       "      <td>NaN</td>\n",
       "      <td>NaN</td>\n",
       "      <td>64.0</td>\n",
       "      <td>11538.0</td>\n",
       "      <td>Rob Holding</td>\n",
       "      <td>4-3-3</td>\n",
       "      <td>David Coote</td>\n",
       "      <td>Match Report</td>\n",
       "      <td>NaN</td>\n",
       "    </tr>\n",
       "    <tr>\n",
       "      <th>25</th>\n",
       "      <td>2023-01-15</td>\n",
       "      <td>16:30</td>\n",
       "      <td>Premier League</td>\n",
       "      <td>Matchweek 20</td>\n",
       "      <td>Sun</td>\n",
       "      <td>Away</td>\n",
       "      <td>W</td>\n",
       "      <td>2.0</td>\n",
       "      <td>0.0</td>\n",
       "      <td>Tottenham</td>\n",
       "      <td>1.8</td>\n",
       "      <td>1.6</td>\n",
       "      <td>49.0</td>\n",
       "      <td>61870.0</td>\n",
       "      <td>Martin Ødegaard</td>\n",
       "      <td>4-3-3</td>\n",
       "      <td>Craig Pawson</td>\n",
       "      <td>Match Report</td>\n",
       "      <td>NaN</td>\n",
       "    </tr>\n",
       "    <tr>\n",
       "      <th>26</th>\n",
       "      <td>2023-01-22</td>\n",
       "      <td>16:30</td>\n",
       "      <td>Premier League</td>\n",
       "      <td>Matchweek 21</td>\n",
       "      <td>Sun</td>\n",
       "      <td>Home</td>\n",
       "      <td>W</td>\n",
       "      <td>3.0</td>\n",
       "      <td>2.0</td>\n",
       "      <td>Manchester Utd</td>\n",
       "      <td>3.1</td>\n",
       "      <td>0.4</td>\n",
       "      <td>57.0</td>\n",
       "      <td>60325.0</td>\n",
       "      <td>Martin Ødegaard</td>\n",
       "      <td>4-3-3</td>\n",
       "      <td>Anthony Taylor</td>\n",
       "      <td>Match Report</td>\n",
       "      <td>NaN</td>\n",
       "    </tr>\n",
       "    <tr>\n",
       "      <th>27</th>\n",
       "      <td>2023-01-27</td>\n",
       "      <td>20:00</td>\n",
       "      <td>FA Cup</td>\n",
       "      <td>Fourth round proper</td>\n",
       "      <td>Fri</td>\n",
       "      <td>Away</td>\n",
       "      <td>L</td>\n",
       "      <td>0.0</td>\n",
       "      <td>1.0</td>\n",
       "      <td>Manchester City</td>\n",
       "      <td>NaN</td>\n",
       "      <td>NaN</td>\n",
       "      <td>46.0</td>\n",
       "      <td>51589.0</td>\n",
       "      <td>Granit Xhaka</td>\n",
       "      <td>4-3-3</td>\n",
       "      <td>Paul Tierney</td>\n",
       "      <td>Match Report</td>\n",
       "      <td>NaN</td>\n",
       "    </tr>\n",
       "    <tr>\n",
       "      <th>28</th>\n",
       "      <td>2023-02-04</td>\n",
       "      <td>12:30</td>\n",
       "      <td>Premier League</td>\n",
       "      <td>Matchweek 22</td>\n",
       "      <td>Sat</td>\n",
       "      <td>Away</td>\n",
       "      <td>L</td>\n",
       "      <td>0.0</td>\n",
       "      <td>1.0</td>\n",
       "      <td>Everton</td>\n",
       "      <td>0.9</td>\n",
       "      <td>1.7</td>\n",
       "      <td>70.0</td>\n",
       "      <td>39314.0</td>\n",
       "      <td>Martin Ødegaard</td>\n",
       "      <td>4-3-3</td>\n",
       "      <td>David Coote</td>\n",
       "      <td>Match Report</td>\n",
       "      <td>NaN</td>\n",
       "    </tr>\n",
       "    <tr>\n",
       "      <th>29</th>\n",
       "      <td>2023-02-11</td>\n",
       "      <td>15:00</td>\n",
       "      <td>Premier League</td>\n",
       "      <td>Matchweek 23</td>\n",
       "      <td>Sat</td>\n",
       "      <td>Home</td>\n",
       "      <td>D</td>\n",
       "      <td>1.0</td>\n",
       "      <td>1.0</td>\n",
       "      <td>Brentford</td>\n",
       "      <td>1.6</td>\n",
       "      <td>2.0</td>\n",
       "      <td>69.0</td>\n",
       "      <td>60254.0</td>\n",
       "      <td>Martin Ødegaard</td>\n",
       "      <td>4-3-3</td>\n",
       "      <td>Peter Bankes</td>\n",
       "      <td>Match Report</td>\n",
       "      <td>NaN</td>\n",
       "    </tr>\n",
       "    <tr>\n",
       "      <th>30</th>\n",
       "      <td>2023-02-15</td>\n",
       "      <td>19:30</td>\n",
       "      <td>Premier League</td>\n",
       "      <td>Matchweek 12</td>\n",
       "      <td>Wed</td>\n",
       "      <td>Home</td>\n",
       "      <td>L</td>\n",
       "      <td>1.0</td>\n",
       "      <td>3.0</td>\n",
       "      <td>Manchester City</td>\n",
       "      <td>1.6</td>\n",
       "      <td>1.7</td>\n",
       "      <td>63.0</td>\n",
       "      <td>60276.0</td>\n",
       "      <td>Martin Ødegaard</td>\n",
       "      <td>4-3-3</td>\n",
       "      <td>Anthony Taylor</td>\n",
       "      <td>Match Report</td>\n",
       "      <td>NaN</td>\n",
       "    </tr>\n",
       "    <tr>\n",
       "      <th>31</th>\n",
       "      <td>2023-02-18</td>\n",
       "      <td>12:30</td>\n",
       "      <td>Premier League</td>\n",
       "      <td>Matchweek 24</td>\n",
       "      <td>Sat</td>\n",
       "      <td>Away</td>\n",
       "      <td>W</td>\n",
       "      <td>4.0</td>\n",
       "      <td>2.0</td>\n",
       "      <td>Aston Villa</td>\n",
       "      <td>3.0</td>\n",
       "      <td>0.5</td>\n",
       "      <td>67.0</td>\n",
       "      <td>42066.0</td>\n",
       "      <td>Martin Ødegaard</td>\n",
       "      <td>4-3-3</td>\n",
       "      <td>Simon Hooper</td>\n",
       "      <td>Match Report</td>\n",
       "      <td>NaN</td>\n",
       "    </tr>\n",
       "    <tr>\n",
       "      <th>32</th>\n",
       "      <td>2023-02-25</td>\n",
       "      <td>15:00</td>\n",
       "      <td>Premier League</td>\n",
       "      <td>Matchweek 25</td>\n",
       "      <td>Sat</td>\n",
       "      <td>Away</td>\n",
       "      <td>NaN</td>\n",
       "      <td>NaN</td>\n",
       "      <td>NaN</td>\n",
       "      <td>Leicester City</td>\n",
       "      <td>NaN</td>\n",
       "      <td>NaN</td>\n",
       "      <td>NaN</td>\n",
       "      <td>NaN</td>\n",
       "      <td>NaN</td>\n",
       "      <td>NaN</td>\n",
       "      <td>NaN</td>\n",
       "      <td>Head-to-Head</td>\n",
       "      <td>NaN</td>\n",
       "    </tr>\n",
       "    <tr>\n",
       "      <th>33</th>\n",
       "      <td>2023-03-01</td>\n",
       "      <td>19:45</td>\n",
       "      <td>Premier League</td>\n",
       "      <td>Matchweek 7</td>\n",
       "      <td>Wed</td>\n",
       "      <td>Home</td>\n",
       "      <td>NaN</td>\n",
       "      <td>NaN</td>\n",
       "      <td>NaN</td>\n",
       "      <td>Everton</td>\n",
       "      <td>NaN</td>\n",
       "      <td>NaN</td>\n",
       "      <td>NaN</td>\n",
       "      <td>NaN</td>\n",
       "      <td>NaN</td>\n",
       "      <td>NaN</td>\n",
       "      <td>NaN</td>\n",
       "      <td>Head-to-Head</td>\n",
       "      <td>NaN</td>\n",
       "    </tr>\n",
       "    <tr>\n",
       "      <th>34</th>\n",
       "      <td>2023-03-04</td>\n",
       "      <td>15:00</td>\n",
       "      <td>Premier League</td>\n",
       "      <td>Matchweek 26</td>\n",
       "      <td>Sat</td>\n",
       "      <td>Home</td>\n",
       "      <td>NaN</td>\n",
       "      <td>NaN</td>\n",
       "      <td>NaN</td>\n",
       "      <td>Bournemouth</td>\n",
       "      <td>NaN</td>\n",
       "      <td>NaN</td>\n",
       "      <td>NaN</td>\n",
       "      <td>NaN</td>\n",
       "      <td>NaN</td>\n",
       "      <td>NaN</td>\n",
       "      <td>NaN</td>\n",
       "      <td>Head-to-Head</td>\n",
       "      <td>NaN</td>\n",
       "    </tr>\n",
       "    <tr>\n",
       "      <th>35</th>\n",
       "      <td>2023-03-12</td>\n",
       "      <td>14:00</td>\n",
       "      <td>Premier League</td>\n",
       "      <td>Matchweek 27</td>\n",
       "      <td>Sun</td>\n",
       "      <td>Away</td>\n",
       "      <td>NaN</td>\n",
       "      <td>NaN</td>\n",
       "      <td>NaN</td>\n",
       "      <td>Fulham</td>\n",
       "      <td>NaN</td>\n",
       "      <td>NaN</td>\n",
       "      <td>NaN</td>\n",
       "      <td>NaN</td>\n",
       "      <td>NaN</td>\n",
       "      <td>NaN</td>\n",
       "      <td>NaN</td>\n",
       "      <td>Head-to-Head</td>\n",
       "      <td>NaN</td>\n",
       "    </tr>\n",
       "    <tr>\n",
       "      <th>36</th>\n",
       "      <td>2023-03-19</td>\n",
       "      <td>14:00</td>\n",
       "      <td>Premier League</td>\n",
       "      <td>Matchweek 28</td>\n",
       "      <td>Sun</td>\n",
       "      <td>Home</td>\n",
       "      <td>NaN</td>\n",
       "      <td>NaN</td>\n",
       "      <td>NaN</td>\n",
       "      <td>Crystal Palace</td>\n",
       "      <td>NaN</td>\n",
       "      <td>NaN</td>\n",
       "      <td>NaN</td>\n",
       "      <td>NaN</td>\n",
       "      <td>NaN</td>\n",
       "      <td>NaN</td>\n",
       "      <td>NaN</td>\n",
       "      <td>Head-to-Head</td>\n",
       "      <td>NaN</td>\n",
       "    </tr>\n",
       "    <tr>\n",
       "      <th>37</th>\n",
       "      <td>2023-04-01</td>\n",
       "      <td>15:00</td>\n",
       "      <td>Premier League</td>\n",
       "      <td>Matchweek 29</td>\n",
       "      <td>Sat</td>\n",
       "      <td>Home</td>\n",
       "      <td>NaN</td>\n",
       "      <td>NaN</td>\n",
       "      <td>NaN</td>\n",
       "      <td>Leeds United</td>\n",
       "      <td>NaN</td>\n",
       "      <td>NaN</td>\n",
       "      <td>NaN</td>\n",
       "      <td>NaN</td>\n",
       "      <td>NaN</td>\n",
       "      <td>NaN</td>\n",
       "      <td>NaN</td>\n",
       "      <td>Head-to-Head</td>\n",
       "      <td>NaN</td>\n",
       "    </tr>\n",
       "    <tr>\n",
       "      <th>38</th>\n",
       "      <td>2023-04-08</td>\n",
       "      <td>15:00</td>\n",
       "      <td>Premier League</td>\n",
       "      <td>Matchweek 30</td>\n",
       "      <td>Sat</td>\n",
       "      <td>Away</td>\n",
       "      <td>NaN</td>\n",
       "      <td>NaN</td>\n",
       "      <td>NaN</td>\n",
       "      <td>Liverpool</td>\n",
       "      <td>NaN</td>\n",
       "      <td>NaN</td>\n",
       "      <td>NaN</td>\n",
       "      <td>NaN</td>\n",
       "      <td>NaN</td>\n",
       "      <td>NaN</td>\n",
       "      <td>NaN</td>\n",
       "      <td>Head-to-Head</td>\n",
       "      <td>NaN</td>\n",
       "    </tr>\n",
       "    <tr>\n",
       "      <th>39</th>\n",
       "      <td>2023-04-15</td>\n",
       "      <td>15:00</td>\n",
       "      <td>Premier League</td>\n",
       "      <td>Matchweek 31</td>\n",
       "      <td>Sat</td>\n",
       "      <td>Away</td>\n",
       "      <td>NaN</td>\n",
       "      <td>NaN</td>\n",
       "      <td>NaN</td>\n",
       "      <td>West Ham</td>\n",
       "      <td>NaN</td>\n",
       "      <td>NaN</td>\n",
       "      <td>NaN</td>\n",
       "      <td>NaN</td>\n",
       "      <td>NaN</td>\n",
       "      <td>NaN</td>\n",
       "      <td>NaN</td>\n",
       "      <td>Head-to-Head</td>\n",
       "      <td>NaN</td>\n",
       "    </tr>\n",
       "    <tr>\n",
       "      <th>40</th>\n",
       "      <td>2023-04-22</td>\n",
       "      <td>15:00</td>\n",
       "      <td>Premier League</td>\n",
       "      <td>Matchweek 32</td>\n",
       "      <td>Sat</td>\n",
       "      <td>Home</td>\n",
       "      <td>NaN</td>\n",
       "      <td>NaN</td>\n",
       "      <td>NaN</td>\n",
       "      <td>Southampton</td>\n",
       "      <td>NaN</td>\n",
       "      <td>NaN</td>\n",
       "      <td>NaN</td>\n",
       "      <td>NaN</td>\n",
       "      <td>NaN</td>\n",
       "      <td>NaN</td>\n",
       "      <td>NaN</td>\n",
       "      <td>Head-to-Head</td>\n",
       "      <td>NaN</td>\n",
       "    </tr>\n",
       "    <tr>\n",
       "      <th>41</th>\n",
       "      <td>2023-04-26</td>\n",
       "      <td>20:00</td>\n",
       "      <td>Premier League</td>\n",
       "      <td>Matchweek 33</td>\n",
       "      <td>Wed</td>\n",
       "      <td>Away</td>\n",
       "      <td>NaN</td>\n",
       "      <td>NaN</td>\n",
       "      <td>NaN</td>\n",
       "      <td>Manchester City</td>\n",
       "      <td>NaN</td>\n",
       "      <td>NaN</td>\n",
       "      <td>NaN</td>\n",
       "      <td>NaN</td>\n",
       "      <td>NaN</td>\n",
       "      <td>NaN</td>\n",
       "      <td>NaN</td>\n",
       "      <td>Head-to-Head</td>\n",
       "      <td>NaN</td>\n",
       "    </tr>\n",
       "    <tr>\n",
       "      <th>42</th>\n",
       "      <td>2023-04-29</td>\n",
       "      <td>15:00</td>\n",
       "      <td>Premier League</td>\n",
       "      <td>Matchweek 34</td>\n",
       "      <td>Sat</td>\n",
       "      <td>Home</td>\n",
       "      <td>NaN</td>\n",
       "      <td>NaN</td>\n",
       "      <td>NaN</td>\n",
       "      <td>Chelsea</td>\n",
       "      <td>NaN</td>\n",
       "      <td>NaN</td>\n",
       "      <td>NaN</td>\n",
       "      <td>NaN</td>\n",
       "      <td>NaN</td>\n",
       "      <td>NaN</td>\n",
       "      <td>NaN</td>\n",
       "      <td>Head-to-Head</td>\n",
       "      <td>NaN</td>\n",
       "    </tr>\n",
       "    <tr>\n",
       "      <th>43</th>\n",
       "      <td>2023-05-06</td>\n",
       "      <td>15:00</td>\n",
       "      <td>Premier League</td>\n",
       "      <td>Matchweek 35</td>\n",
       "      <td>Sat</td>\n",
       "      <td>Away</td>\n",
       "      <td>NaN</td>\n",
       "      <td>NaN</td>\n",
       "      <td>NaN</td>\n",
       "      <td>Newcastle Utd</td>\n",
       "      <td>NaN</td>\n",
       "      <td>NaN</td>\n",
       "      <td>NaN</td>\n",
       "      <td>NaN</td>\n",
       "      <td>NaN</td>\n",
       "      <td>NaN</td>\n",
       "      <td>NaN</td>\n",
       "      <td>Head-to-Head</td>\n",
       "      <td>NaN</td>\n",
       "    </tr>\n",
       "    <tr>\n",
       "      <th>44</th>\n",
       "      <td>2023-05-13</td>\n",
       "      <td>15:00</td>\n",
       "      <td>Premier League</td>\n",
       "      <td>Matchweek 36</td>\n",
       "      <td>Sat</td>\n",
       "      <td>Home</td>\n",
       "      <td>NaN</td>\n",
       "      <td>NaN</td>\n",
       "      <td>NaN</td>\n",
       "      <td>Brighton</td>\n",
       "      <td>NaN</td>\n",
       "      <td>NaN</td>\n",
       "      <td>NaN</td>\n",
       "      <td>NaN</td>\n",
       "      <td>NaN</td>\n",
       "      <td>NaN</td>\n",
       "      <td>NaN</td>\n",
       "      <td>Head-to-Head</td>\n",
       "      <td>NaN</td>\n",
       "    </tr>\n",
       "    <tr>\n",
       "      <th>45</th>\n",
       "      <td>2023-05-20</td>\n",
       "      <td>15:00</td>\n",
       "      <td>Premier League</td>\n",
       "      <td>Matchweek 37</td>\n",
       "      <td>Sat</td>\n",
       "      <td>Away</td>\n",
       "      <td>NaN</td>\n",
       "      <td>NaN</td>\n",
       "      <td>NaN</td>\n",
       "      <td>Nott'ham Forest</td>\n",
       "      <td>NaN</td>\n",
       "      <td>NaN</td>\n",
       "      <td>NaN</td>\n",
       "      <td>NaN</td>\n",
       "      <td>NaN</td>\n",
       "      <td>NaN</td>\n",
       "      <td>NaN</td>\n",
       "      <td>Head-to-Head</td>\n",
       "      <td>NaN</td>\n",
       "    </tr>\n",
       "    <tr>\n",
       "      <th>46</th>\n",
       "      <td>2023-05-28</td>\n",
       "      <td>15:00</td>\n",
       "      <td>Premier League</td>\n",
       "      <td>Matchweek 38</td>\n",
       "      <td>Sun</td>\n",
       "      <td>Home</td>\n",
       "      <td>NaN</td>\n",
       "      <td>NaN</td>\n",
       "      <td>NaN</td>\n",
       "      <td>Wolves</td>\n",
       "      <td>NaN</td>\n",
       "      <td>NaN</td>\n",
       "      <td>NaN</td>\n",
       "      <td>NaN</td>\n",
       "      <td>NaN</td>\n",
       "      <td>NaN</td>\n",
       "      <td>NaN</td>\n",
       "      <td>Head-to-Head</td>\n",
       "      <td>NaN</td>\n",
       "    </tr>\n",
       "  </tbody>\n",
       "</table>\n",
       "</div>"
      ],
      "text/plain": [
       "          Date   Time            Comp                Round  Day Venue Result  \\\n",
       "0   2022-08-05  20:00  Premier League          Matchweek 1  Fri  Away      W   \n",
       "1   2022-08-13  15:00  Premier League          Matchweek 2  Sat  Home      W   \n",
       "2   2022-08-20  17:30  Premier League          Matchweek 3  Sat  Away      W   \n",
       "3   2022-08-27  17:30  Premier League          Matchweek 4  Sat  Home      W   \n",
       "4   2022-08-31  19:30  Premier League          Matchweek 5  Wed  Home      W   \n",
       "5   2022-09-04  16:30  Premier League          Matchweek 6  Sun  Away      L   \n",
       "6   2022-09-08  18:45       Europa Lg          Group stage  Thu  Away      W   \n",
       "7   2022-09-18  12:00  Premier League          Matchweek 8  Sun  Away      W   \n",
       "8   2022-10-01  12:30  Premier League          Matchweek 9  Sat  Home      W   \n",
       "9   2022-10-06  20:00       Europa Lg          Group stage  Thu  Home      W   \n",
       "10  2022-10-09  16:30  Premier League         Matchweek 10  Sun  Home      W   \n",
       "11  2022-10-13  18:45       Europa Lg          Group stage  Thu  Away      W   \n",
       "12  2022-10-16  14:00  Premier League         Matchweek 11  Sun  Away      W   \n",
       "13  2022-10-20  18:00       Europa Lg          Group stage  Thu  Home      W   \n",
       "14  2022-10-23  14:00  Premier League         Matchweek 13  Sun  Away      D   \n",
       "15  2022-10-27  18:45       Europa Lg          Group stage  Thu  Away      L   \n",
       "16  2022-10-30  14:00  Premier League         Matchweek 14  Sun  Home      W   \n",
       "17  2022-11-03  20:00       Europa Lg          Group stage  Thu  Home      W   \n",
       "18  2022-11-06  12:00  Premier League         Matchweek 15  Sun  Away      W   \n",
       "19  2022-11-09  19:45         EFL Cup          Third round  Wed  Home      L   \n",
       "20  2022-11-12  19:45  Premier League         Matchweek 16  Sat  Away      W   \n",
       "21  2022-12-26  20:00  Premier League         Matchweek 17  Mon  Home      W   \n",
       "22  2022-12-31  17:30  Premier League         Matchweek 18  Sat  Away      W   \n",
       "23  2023-01-03  19:45  Premier League         Matchweek 19  Tue  Home      D   \n",
       "24  2023-01-09  20:00          FA Cup   Third round proper  Mon  Away      W   \n",
       "25  2023-01-15  16:30  Premier League         Matchweek 20  Sun  Away      W   \n",
       "26  2023-01-22  16:30  Premier League         Matchweek 21  Sun  Home      W   \n",
       "27  2023-01-27  20:00          FA Cup  Fourth round proper  Fri  Away      L   \n",
       "28  2023-02-04  12:30  Premier League         Matchweek 22  Sat  Away      L   \n",
       "29  2023-02-11  15:00  Premier League         Matchweek 23  Sat  Home      D   \n",
       "30  2023-02-15  19:30  Premier League         Matchweek 12  Wed  Home      L   \n",
       "31  2023-02-18  12:30  Premier League         Matchweek 24  Sat  Away      W   \n",
       "32  2023-02-25  15:00  Premier League         Matchweek 25  Sat  Away    NaN   \n",
       "33  2023-03-01  19:45  Premier League          Matchweek 7  Wed  Home    NaN   \n",
       "34  2023-03-04  15:00  Premier League         Matchweek 26  Sat  Home    NaN   \n",
       "35  2023-03-12  14:00  Premier League         Matchweek 27  Sun  Away    NaN   \n",
       "36  2023-03-19  14:00  Premier League         Matchweek 28  Sun  Home    NaN   \n",
       "37  2023-04-01  15:00  Premier League         Matchweek 29  Sat  Home    NaN   \n",
       "38  2023-04-08  15:00  Premier League         Matchweek 30  Sat  Away    NaN   \n",
       "39  2023-04-15  15:00  Premier League         Matchweek 31  Sat  Away    NaN   \n",
       "40  2023-04-22  15:00  Premier League         Matchweek 32  Sat  Home    NaN   \n",
       "41  2023-04-26  20:00  Premier League         Matchweek 33  Wed  Away    NaN   \n",
       "42  2023-04-29  15:00  Premier League         Matchweek 34  Sat  Home    NaN   \n",
       "43  2023-05-06  15:00  Premier League         Matchweek 35  Sat  Away    NaN   \n",
       "44  2023-05-13  15:00  Premier League         Matchweek 36  Sat  Home    NaN   \n",
       "45  2023-05-20  15:00  Premier League         Matchweek 37  Sat  Away    NaN   \n",
       "46  2023-05-28  15:00  Premier League         Matchweek 38  Sun  Home    NaN   \n",
       "\n",
       "     GF   GA          Opponent   xG  xGA  Poss  Attendance          Captain  \\\n",
       "0   2.0  0.0    Crystal Palace  1.0  1.2  44.0     25286.0  Martin Ødegaard   \n",
       "1   4.0  2.0    Leicester City  2.7  0.5  50.0     60033.0  Martin Ødegaard   \n",
       "2   3.0  0.0       Bournemouth  1.3  0.3  57.0     10423.0  Martin Ødegaard   \n",
       "3   2.0  1.0            Fulham  2.6  0.8  71.0     60164.0  Martin Ødegaard   \n",
       "4   2.0  1.0       Aston Villa  2.4  0.4  59.0     60012.0  Martin Ødegaard   \n",
       "5   1.0  3.0    Manchester Utd  1.3  1.5  60.0     73431.0  Martin Ødegaard   \n",
       "6   2.0  1.0         ch Zürich  2.3  1.2  69.0     17070.0     Granit Xhaka   \n",
       "7   3.0  0.0         Brentford  1.5  0.5  63.0     17122.0     Granit Xhaka   \n",
       "8   3.0  1.0         Tottenham  2.4  1.6  64.0     60278.0  Martin Ødegaard   \n",
       "9   3.0  0.0     no Bodø/Glimt  3.4  0.8  50.0     59724.0     Granit Xhaka   \n",
       "10  3.0  2.0         Liverpool  2.7  1.1  43.0     60059.0  Martin Ødegaard   \n",
       "11  1.0  0.0     no Bodø/Glimt  0.7  0.5  55.0      7922.0  Martin Ødegaard   \n",
       "12  1.0  0.0      Leeds United  0.5  1.8  53.0     36700.0  Martin Ødegaard   \n",
       "13  1.0  0.0  nl PSV Eindhoven  2.7  0.3  62.0     52200.0     Granit Xhaka   \n",
       "14  1.0  1.0       Southampton  1.0  0.7  59.0     31145.0  Martin Ødegaard   \n",
       "15  0.0  2.0  nl PSV Eindhoven  1.4  0.8  68.0     35000.0  Martin Ødegaard   \n",
       "16  5.0  0.0   Nott'ham Forest  2.3  0.4  69.0     60263.0  Martin Ødegaard   \n",
       "17  1.0  0.0         ch Zürich  1.6  0.4  55.0     48500.0    Gabriel Jesus   \n",
       "18  1.0  0.0           Chelsea  2.1  0.3  55.0     40142.0  Martin Ødegaard   \n",
       "19  1.0  3.0          Brighton  NaN  NaN  57.0     59233.0      Rob Holding   \n",
       "20  2.0  0.0            Wolves  2.1  0.7  62.0     34624.0  Martin Ødegaard   \n",
       "21  3.0  1.0          West Ham  2.1  1.0  66.0     60125.0  Martin Ødegaard   \n",
       "22  4.0  2.0          Brighton  2.9  1.2  32.0     31647.0  Martin Ødegaard   \n",
       "23  0.0  0.0     Newcastle Utd  1.1  1.0  66.0     60319.0  Martin Ødegaard   \n",
       "24  3.0  0.0     Oxford United  NaN  NaN  64.0     11538.0      Rob Holding   \n",
       "25  2.0  0.0         Tottenham  1.8  1.6  49.0     61870.0  Martin Ødegaard   \n",
       "26  3.0  2.0    Manchester Utd  3.1  0.4  57.0     60325.0  Martin Ødegaard   \n",
       "27  0.0  1.0   Manchester City  NaN  NaN  46.0     51589.0     Granit Xhaka   \n",
       "28  0.0  1.0           Everton  0.9  1.7  70.0     39314.0  Martin Ødegaard   \n",
       "29  1.0  1.0         Brentford  1.6  2.0  69.0     60254.0  Martin Ødegaard   \n",
       "30  1.0  3.0   Manchester City  1.6  1.7  63.0     60276.0  Martin Ødegaard   \n",
       "31  4.0  2.0       Aston Villa  3.0  0.5  67.0     42066.0  Martin Ødegaard   \n",
       "32  NaN  NaN    Leicester City  NaN  NaN   NaN         NaN              NaN   \n",
       "33  NaN  NaN           Everton  NaN  NaN   NaN         NaN              NaN   \n",
       "34  NaN  NaN       Bournemouth  NaN  NaN   NaN         NaN              NaN   \n",
       "35  NaN  NaN            Fulham  NaN  NaN   NaN         NaN              NaN   \n",
       "36  NaN  NaN    Crystal Palace  NaN  NaN   NaN         NaN              NaN   \n",
       "37  NaN  NaN      Leeds United  NaN  NaN   NaN         NaN              NaN   \n",
       "38  NaN  NaN         Liverpool  NaN  NaN   NaN         NaN              NaN   \n",
       "39  NaN  NaN          West Ham  NaN  NaN   NaN         NaN              NaN   \n",
       "40  NaN  NaN       Southampton  NaN  NaN   NaN         NaN              NaN   \n",
       "41  NaN  NaN   Manchester City  NaN  NaN   NaN         NaN              NaN   \n",
       "42  NaN  NaN           Chelsea  NaN  NaN   NaN         NaN              NaN   \n",
       "43  NaN  NaN     Newcastle Utd  NaN  NaN   NaN         NaN              NaN   \n",
       "44  NaN  NaN          Brighton  NaN  NaN   NaN         NaN              NaN   \n",
       "45  NaN  NaN   Nott'ham Forest  NaN  NaN   NaN         NaN              NaN   \n",
       "46  NaN  NaN            Wolves  NaN  NaN   NaN         NaN              NaN   \n",
       "\n",
       "   Formation              Referee  Match Report  Notes  \n",
       "0      4-3-3       Anthony Taylor  Match Report    NaN  \n",
       "1      4-3-3       Darren England  Match Report    NaN  \n",
       "2      4-3-3         Craig Pawson  Match Report    NaN  \n",
       "3      4-3-3       Jarred Gillett  Match Report    NaN  \n",
       "4      4-3-3         Robert Jones  Match Report    NaN  \n",
       "5      4-3-3         Paul Tierney  Match Report    NaN  \n",
       "6      4-3-3    Mohammed Al Hakim  Match Report    NaN  \n",
       "7      4-3-3          David Coote  Match Report    NaN  \n",
       "8      4-3-3       Anthony Taylor  Match Report    NaN  \n",
       "9      4-3-3          Harm Osmers  Match Report    NaN  \n",
       "10     4-3-3       Michael Oliver  Match Report    NaN  \n",
       "11     4-3-3         Irfan Peljto  Match Report    NaN  \n",
       "12     4-3-3       Chris Kavanagh  Match Report    NaN  \n",
       "13     4-3-3  Alejandro Hernández  Match Report    NaN  \n",
       "14     4-3-3         Robert Jones  Match Report    NaN  \n",
       "15     4-3-3       Marco Di Bello  Match Report    NaN  \n",
       "16     4-3-3         Simon Hooper  Match Report    NaN  \n",
       "17     4-3-3      Erik Lambrechts  Match Report    NaN  \n",
       "18     4-3-3       Michael Oliver  Match Report    NaN  \n",
       "19   4-2-3-1       Jarred Gillett  Match Report    NaN  \n",
       "20     4-3-3       Stuart Attwell  Match Report    NaN  \n",
       "21     4-3-3       Michael Oliver  Match Report    NaN  \n",
       "22     4-3-3       Anthony Taylor  Match Report    NaN  \n",
       "23     4-3-3          Andy Madley  Match Report    NaN  \n",
       "24     4-3-3          David Coote  Match Report    NaN  \n",
       "25     4-3-3         Craig Pawson  Match Report    NaN  \n",
       "26     4-3-3       Anthony Taylor  Match Report    NaN  \n",
       "27     4-3-3         Paul Tierney  Match Report    NaN  \n",
       "28     4-3-3          David Coote  Match Report    NaN  \n",
       "29     4-3-3         Peter Bankes  Match Report    NaN  \n",
       "30     4-3-3       Anthony Taylor  Match Report    NaN  \n",
       "31     4-3-3         Simon Hooper  Match Report    NaN  \n",
       "32       NaN                  NaN  Head-to-Head    NaN  \n",
       "33       NaN                  NaN  Head-to-Head    NaN  \n",
       "34       NaN                  NaN  Head-to-Head    NaN  \n",
       "35       NaN                  NaN  Head-to-Head    NaN  \n",
       "36       NaN                  NaN  Head-to-Head    NaN  \n",
       "37       NaN                  NaN  Head-to-Head    NaN  \n",
       "38       NaN                  NaN  Head-to-Head    NaN  \n",
       "39       NaN                  NaN  Head-to-Head    NaN  \n",
       "40       NaN                  NaN  Head-to-Head    NaN  \n",
       "41       NaN                  NaN  Head-to-Head    NaN  \n",
       "42       NaN                  NaN  Head-to-Head    NaN  \n",
       "43       NaN                  NaN  Head-to-Head    NaN  \n",
       "44       NaN                  NaN  Head-to-Head    NaN  \n",
       "45       NaN                  NaN  Head-to-Head    NaN  \n",
       "46       NaN                  NaN  Head-to-Head    NaN  "
      ]
     },
     "execution_count": 33,
     "metadata": {},
     "output_type": "execute_result"
    }
   ],
   "source": [
    "matches[0]"
   ]
  },
  {
   "cell_type": "code",
   "execution_count": 34,
   "id": "79a7cfad",
   "metadata": {},
   "outputs": [],
   "source": [
    "soup = BeautifulSoup(data.text) #To parse through the data about Arsenal's stats"
   ]
  },
  {
   "cell_type": "code",
   "execution_count": 35,
   "id": "77c37983",
   "metadata": {},
   "outputs": [],
   "source": [
    "shots = soup.find_all('a') #To get all the 'a' tags as they house the links we need"
   ]
  },
  {
   "cell_type": "code",
   "execution_count": 36,
   "id": "f163dab2",
   "metadata": {},
   "outputs": [],
   "source": [
    "shots = [s.get(\"href\") for s in shots] #To get the \"href\" of each 'a' tag"
   ]
  },
  {
   "cell_type": "code",
   "execution_count": 37,
   "id": "079212a0",
   "metadata": {
    "collapsed": true
   },
   "outputs": [
    {
     "data": {
      "text/plain": [
       "['https://fbref.com/pt/squads/18bb7c10/Arsenal-Stats',\n",
       " 'https://fbref.com/en/squads/18bb7c10/Arsenal-Stats',\n",
       " 'https://fbref.com/fr/squads/18bb7c10/Arsenal-Stats',\n",
       " 'https://fbref.com/it/squads/18bb7c10/Arsenal-Stats',\n",
       " 'https://fbref.com/de/squads/18bb7c10/Arsenal-Stats',\n",
       " 'https://fbref.com/es/squads/18bb7c10/Arsenal-Stats',\n",
       " 'https://www.sports-reference.com/?utm_source=fb&utm_medium=sr_xsite&utm_campaign=2023_01_srnav',\n",
       " 'https://www.baseball-reference.com/?utm_source=fb&utm_medium=sr_xsite&utm_campaign=2023_01_srnav',\n",
       " 'https://www.pro-football-reference.com/?utm_source=fb&utm_medium=sr_xsite&utm_campaign=2023_01_srnav',\n",
       " 'https://www.sports-reference.com/cfb/',\n",
       " 'https://www.basketball-reference.com/?utm_source=fb&utm_medium=sr_xsite&utm_campaign=2023_01_srnav',\n",
       " 'https://www.sports-reference.com/cbb/',\n",
       " 'https://www.hockey-reference.com/?utm_source=fb&utm_medium=sr_xsite&utm_campaign=2023_01_srnav',\n",
       " 'https://fbref.com/?utm_source=fb&utm_medium=sr_xsite&utm_campaign=2023_01_srnav',\n",
       " 'https://www.sports-reference.com/blog/?utm_source=fb&utm_medium=sr_xsite&utm_campaign=2023_01_srnav',\n",
       " 'https://stathead.com/?utm_source=fb&utm_medium=sr_xsite&utm_campaign=2023_01_srnav',\n",
       " 'https://www.sports-reference.com/feedback/?utm_source=fb&utm_medium=sr_xsite&utm_campaign=2023_01_srnav',\n",
       " 'https://stathead.com/profile/?utm_source=fb&utm_medium=sr_xsite&utm_campaign=2023_01_srnav_account',\n",
       " 'https://stathead.com/profile/?do=logout',\n",
       " 'https://stathead.com/users/login.cgi?token=1',\n",
       " 'https://stathead.com/users/signup.cgi',\n",
       " '/en/',\n",
       " '#site_menu_link',\n",
       " '/en/players/',\n",
       " '/en/squads/',\n",
       " '/en/comps/',\n",
       " '/en/countries/',\n",
       " '/en/matches/',\n",
       " None,\n",
       " 'https://fbref.com/pt/squads/18bb7c10/Arsenal-Stats',\n",
       " 'https://fbref.com/en/squads/18bb7c10/Arsenal-Stats',\n",
       " 'https://fbref.com/fr/squads/18bb7c10/Arsenal-Stats',\n",
       " 'https://fbref.com/it/squads/18bb7c10/Arsenal-Stats',\n",
       " 'https://fbref.com/de/squads/18bb7c10/Arsenal-Stats',\n",
       " 'https://fbref.com/es/squads/18bb7c10/Arsenal-Stats',\n",
       " 'javascript:void(0)',\n",
       " '/en/email/',\n",
       " '#site_menu_link',\n",
       " '/en/',\n",
       " '/en/squads/',\n",
       " 'https://stathead.com/profile/?utm_source=fb&utm_medium=sr_xsite&utm_campaign=2023_01_srnav_account',\n",
       " 'https://stathead.com/profile/?do=logout',\n",
       " 'https://stathead.com/users/login.cgi?token=1',\n",
       " 'https://stathead.com/users/signup.cgi',\n",
       " 'https://www.sports-reference.com/blog/2023/02/fbref-progressive-carries-back-on-fbref-and-tweak-to-dribble-take-ons/',\n",
       " '/en/squads/18bb7c10/2021-2022/Arsenal-Stats',\n",
       " '/en/comps/9/Premier-League-Stats',\n",
       " '/en/squads/18bb7c10/2022-2023/goallogs/all_comps/Arsenal-Goal-Logs-All-Competitions',\n",
       " '/en/squads/18bb7c10/2022-2023/goallogs/all_comps/Arsenal-Goal-Logs-All-Competitions',\n",
       " '/en/matches/e50bfcf8/Aston-Villa-Arsenal-February-18-2023-Premier-League',\n",
       " '/en/stathead/matchup/teams/a2d435b3/18bb7c10/Leicester-City-vs-Arsenal-History',\n",
       " '/en/country/ENG/England-Football',\n",
       " '/en/comps/19/Europa-League-Stats',\n",
       " '/en/comps/514/FA-Cup-Stats',\n",
       " '/en/squads/b8fd03ef/Manchester-City-Stats',\n",
       " '/en/comps/690/EFL-Cup-Stats',\n",
       " '/en/squads/d07537b9/Brighton-and-Hove-Albion-Stats',\n",
       " '/en/squads/18bb7c10/history/Arsenal-Stats-and-History',\n",
       " '/en/squads/18bb7c10/Arsenal-Stats',\n",
       " '/en/squads/18bb7c10/2022-2023/roster/Arsenal-Roster-Details',\n",
       " '/en/squads/18bb7c10/2022-2023/wages/Arsenal-Wage-Details',\n",
       " '/en/squads/18bb7c10/2022-2023/all_comps/Arsenal-Stats-All-Competitions',\n",
       " '/en/squads/18bb7c10/2022-2023/c9/Arsenal-Stats-Premier-League',\n",
       " '/en/squads/18bb7c10/2022-2023/c19/Arsenal-Stats-Europa-League',\n",
       " '/en/squads/18bb7c10/2022-2023/c514/Arsenal-Stats-FA-Cup',\n",
       " '/en/squads/18bb7c10/2022-2023/c690/Arsenal-Stats-EFL-Cup',\n",
       " '/en/squads/18bb7c10/2022-2023/matchlogs/all_comps/schedule/Arsenal-Scores-and-Fixtures-All-Competitions',\n",
       " '/en/squads/18bb7c10/2022-2023/matchlogs/all_comps/shooting/Arsenal-Match-Logs-All-Competitions',\n",
       " '/en/squads/18bb7c10/2022-2023/matchlogs/all_comps/keeper/Arsenal-Match-Logs-All-Competitions',\n",
       " '/en/squads/18bb7c10/2022-2023/matchlogs/all_comps/passing/Arsenal-Match-Logs-All-Competitions',\n",
       " '/en/squads/18bb7c10/2022-2023/matchlogs/all_comps/passing_types/Arsenal-Match-Logs-All-Competitions',\n",
       " '/en/squads/18bb7c10/2022-2023/matchlogs/all_comps/gca/Arsenal-Match-Logs-All-Competitions',\n",
       " '/en/squads/18bb7c10/2022-2023/matchlogs/all_comps/defense/Arsenal-Match-Logs-All-Competitions',\n",
       " '/en/squads/18bb7c10/2022-2023/matchlogs/all_comps/possession/Arsenal-Match-Logs-All-Competitions',\n",
       " '/en/squads/18bb7c10/2022-2023/matchlogs/all_comps/misc/Arsenal-Match-Logs-All-Competitions',\n",
       " '/en/squads/18bb7c10/2022-2023/matchlogs/c9/schedule/Arsenal-Scores-and-Fixtures-Premier-League',\n",
       " '/en/squads/18bb7c10/2022-2023/matchlogs/c9/shooting/Arsenal-Match-Logs-Premier-League',\n",
       " '/en/squads/18bb7c10/2022-2023/matchlogs/c9/keeper/Arsenal-Match-Logs-Premier-League',\n",
       " '/en/squads/18bb7c10/2022-2023/matchlogs/c9/passing/Arsenal-Match-Logs-Premier-League',\n",
       " '/en/squads/18bb7c10/2022-2023/matchlogs/c9/passing_types/Arsenal-Match-Logs-Premier-League',\n",
       " '/en/squads/18bb7c10/2022-2023/matchlogs/c9/gca/Arsenal-Match-Logs-Premier-League',\n",
       " '/en/squads/18bb7c10/2022-2023/matchlogs/c9/defense/Arsenal-Match-Logs-Premier-League',\n",
       " '/en/squads/18bb7c10/2022-2023/matchlogs/c9/possession/Arsenal-Match-Logs-Premier-League',\n",
       " '/en/squads/18bb7c10/2022-2023/matchlogs/c9/misc/Arsenal-Match-Logs-Premier-League',\n",
       " '/en/squads/18bb7c10/2022-2023/matchlogs/c19/schedule/Arsenal-Scores-and-Fixtures-Europa-League',\n",
       " '/en/squads/18bb7c10/2022-2023/matchlogs/c19/shooting/Arsenal-Match-Logs-Europa-League',\n",
       " '/en/squads/18bb7c10/2022-2023/matchlogs/c19/keeper/Arsenal-Match-Logs-Europa-League',\n",
       " '/en/squads/18bb7c10/2022-2023/matchlogs/c19/passing/Arsenal-Match-Logs-Europa-League',\n",
       " '/en/squads/18bb7c10/2022-2023/matchlogs/c19/passing_types/Arsenal-Match-Logs-Europa-League',\n",
       " '/en/squads/18bb7c10/2022-2023/matchlogs/c19/gca/Arsenal-Match-Logs-Europa-League',\n",
       " '/en/squads/18bb7c10/2022-2023/matchlogs/c19/defense/Arsenal-Match-Logs-Europa-League',\n",
       " '/en/squads/18bb7c10/2022-2023/matchlogs/c19/possession/Arsenal-Match-Logs-Europa-League',\n",
       " '/en/squads/18bb7c10/2022-2023/matchlogs/c19/misc/Arsenal-Match-Logs-Europa-League',\n",
       " '/en/squads/18bb7c10/2022-2023/matchlogs/c514/schedule/Arsenal-Scores-and-Fixtures-FA-Cup',\n",
       " '/en/squads/18bb7c10/2022-2023/matchlogs/c514/shooting/Arsenal-Match-Logs-FA-Cup',\n",
       " '/en/squads/18bb7c10/2022-2023/matchlogs/c514/keeper/Arsenal-Match-Logs-FA-Cup',\n",
       " '/en/squads/18bb7c10/2022-2023/matchlogs/c690/schedule/Arsenal-Scores-and-Fixtures-EFL-Cup',\n",
       " '/en/squads/18bb7c10/2022-2023/matchlogs/c690/shooting/Arsenal-Match-Logs-EFL-Cup',\n",
       " '/en/squads/18bb7c10/2022-2023/matchlogs/c690/keeper/Arsenal-Match-Logs-EFL-Cup',\n",
       " '/en/squads/18bb7c10/2022-2023/goallogs/all_comps/Arsenal-Goal-Logs-All-Competitions',\n",
       " '/en/squads/18bb7c10/2022-2023/goallogs/c9/Arsenal-Goal-Logs-Premier-League',\n",
       " '/en/squads/18bb7c10/2022-2023/goallogs/c19/Arsenal-Goal-Logs-Europa-League',\n",
       " '/en/squads/18bb7c10/2022-2023/goallogs/c514/Arsenal-Goal-Logs-FA-Cup',\n",
       " '/en/squads/18bb7c10/2022-2023/goallogs/c690/Arsenal-Goal-Logs-EFL-Cup',\n",
       " '/en/squads/411b1108/Arsenal-Women-Stats',\n",
       " '/en/squads/45bf2fb0/Arsenal-U21-Stats',\n",
       " '/en/squads/18bb7c10/Arsenal-Stats',\n",
       " '/en/squads/18bb7c10/2022-2023/all_comps/Arsenal-Stats-All-Competitions',\n",
       " '/en/squads/18bb7c10/2022-2023/c9/Arsenal-Stats-Premier-League',\n",
       " '/en/squads/18bb7c10/2022-2023/c19/Arsenal-Stats-Europa-League',\n",
       " '/en/squads/18bb7c10/2022-2023/c514/Arsenal-Stats-FA-Cup',\n",
       " '/en/squads/18bb7c10/2022-2023/c690/Arsenal-Stats-EFL-Cup',\n",
       " '/en/squads/18bb7c10/2022-2023/roster/Arsenal-Roster-Details',\n",
       " '/en/squads/18bb7c10/2022-2023/matchlogs/all_comps/schedule/Arsenal-Scores-and-Fixtures-All-Competitions',\n",
       " '/en/squads/18bb7c10/2022-2023/matchlogs/all_comps/shooting/Arsenal-Match-Logs-All-Competitions',\n",
       " '/en/squads/18bb7c10/2022-2023/matchlogs/all_comps/keeper/Arsenal-Match-Logs-All-Competitions',\n",
       " '/en/squads/18bb7c10/2022-2023/matchlogs/all_comps/passing/Arsenal-Match-Logs-All-Competitions',\n",
       " '/en/squads/18bb7c10/2022-2023/matchlogs/all_comps/passing_types/Arsenal-Match-Logs-All-Competitions',\n",
       " '/en/squads/18bb7c10/2022-2023/matchlogs/all_comps/gca/Arsenal-Match-Logs-All-Competitions',\n",
       " '/en/squads/18bb7c10/2022-2023/matchlogs/all_comps/defense/Arsenal-Match-Logs-All-Competitions',\n",
       " '/en/squads/18bb7c10/2022-2023/matchlogs/all_comps/possession/Arsenal-Match-Logs-All-Competitions',\n",
       " '/en/squads/18bb7c10/2022-2023/matchlogs/all_comps/misc/Arsenal-Match-Logs-All-Competitions',\n",
       " '/en/squads/18bb7c10/2022-2023/matchlogs/c9/schedule/Arsenal-Scores-and-Fixtures-Premier-League',\n",
       " '/en/squads/18bb7c10/2022-2023/matchlogs/c9/shooting/Arsenal-Match-Logs-Premier-League',\n",
       " '/en/squads/18bb7c10/2022-2023/matchlogs/c9/keeper/Arsenal-Match-Logs-Premier-League',\n",
       " '/en/squads/18bb7c10/2022-2023/matchlogs/c9/passing/Arsenal-Match-Logs-Premier-League',\n",
       " '/en/squads/18bb7c10/2022-2023/matchlogs/c9/passing_types/Arsenal-Match-Logs-Premier-League',\n",
       " '/en/squads/18bb7c10/2022-2023/matchlogs/c9/gca/Arsenal-Match-Logs-Premier-League',\n",
       " '/en/squads/18bb7c10/2022-2023/matchlogs/c9/defense/Arsenal-Match-Logs-Premier-League',\n",
       " '/en/squads/18bb7c10/2022-2023/matchlogs/c9/possession/Arsenal-Match-Logs-Premier-League',\n",
       " '/en/squads/18bb7c10/2022-2023/matchlogs/c9/misc/Arsenal-Match-Logs-Premier-League',\n",
       " '/en/squads/18bb7c10/2022-2023/matchlogs/c19/schedule/Arsenal-Scores-and-Fixtures-Europa-League',\n",
       " '/en/squads/18bb7c10/2022-2023/matchlogs/c19/shooting/Arsenal-Match-Logs-Europa-League',\n",
       " '/en/squads/18bb7c10/2022-2023/matchlogs/c19/keeper/Arsenal-Match-Logs-Europa-League',\n",
       " '/en/squads/18bb7c10/2022-2023/matchlogs/c19/passing/Arsenal-Match-Logs-Europa-League',\n",
       " '/en/squads/18bb7c10/2022-2023/matchlogs/c19/passing_types/Arsenal-Match-Logs-Europa-League',\n",
       " '/en/squads/18bb7c10/2022-2023/matchlogs/c19/gca/Arsenal-Match-Logs-Europa-League',\n",
       " '/en/squads/18bb7c10/2022-2023/matchlogs/c19/defense/Arsenal-Match-Logs-Europa-League',\n",
       " '/en/squads/18bb7c10/2022-2023/matchlogs/c19/possession/Arsenal-Match-Logs-Europa-League',\n",
       " '/en/squads/18bb7c10/2022-2023/matchlogs/c19/misc/Arsenal-Match-Logs-Europa-League',\n",
       " '/en/squads/18bb7c10/2022-2023/matchlogs/c514/schedule/Arsenal-Scores-and-Fixtures-FA-Cup',\n",
       " '/en/squads/18bb7c10/2022-2023/matchlogs/c514/shooting/Arsenal-Match-Logs-FA-Cup',\n",
       " '/en/squads/18bb7c10/2022-2023/matchlogs/c514/keeper/Arsenal-Match-Logs-FA-Cup',\n",
       " '/en/squads/18bb7c10/2022-2023/matchlogs/c690/schedule/Arsenal-Scores-and-Fixtures-EFL-Cup',\n",
       " '/en/squads/18bb7c10/2022-2023/matchlogs/c690/shooting/Arsenal-Match-Logs-EFL-Cup',\n",
       " '/en/squads/18bb7c10/2022-2023/matchlogs/c690/keeper/Arsenal-Match-Logs-EFL-Cup',\n",
       " '/en/squads/18bb7c10/2022-2023/goallogs/all_comps/Arsenal-Goal-Logs-All-Competitions',\n",
       " '/en/squads/18bb7c10/2022-2023/goallogs/c9/Arsenal-Goal-Logs-Premier-League',\n",
       " '/en/squads/18bb7c10/2022-2023/goallogs/c19/Arsenal-Goal-Logs-Europa-League',\n",
       " '/en/squads/18bb7c10/2022-2023/goallogs/c514/Arsenal-Goal-Logs-FA-Cup',\n",
       " '/en/squads/18bb7c10/2022-2023/goallogs/c690/Arsenal-Goal-Logs-EFL-Cup',\n",
       " '/en/squads/18bb7c10/2022-2023/wages/Arsenal-Wage-Details',\n",
       " '/en/squads/411b1108/Arsenal-Women-Stats',\n",
       " '/en/squads/45bf2fb0/Arsenal-U21-Stats',\n",
       " '#all_stats_standard',\n",
       " '#all_matchlogs',\n",
       " '#all_stats_keeper',\n",
       " '#all_stats_keeper_adv',\n",
       " '#all_stats_shooting',\n",
       " '#all_stats_passing',\n",
       " '#all_stats_passing_types',\n",
       " '#all_stats_gca',\n",
       " '#all_stats_defense',\n",
       " '#all_stats_possession',\n",
       " '#all_stats_playing_time',\n",
       " '#all_stats_misc',\n",
       " '#all_results2022-202391',\n",
       " '#site_menu_link',\n",
       " '/en/squads/18bb7c10/2022-2023/all_comps/Arsenal-Stats-All-Competitions',\n",
       " None,\n",
       " '/en/squads/18bb7c10/2022-2023/c19/Arsenal-Stats-Europa-League',\n",
       " '/en/squads/18bb7c10/2022-2023/c514/Arsenal-Stats-FA-Cup',\n",
       " '/en/squads/18bb7c10/2022-2023/c690/Arsenal-Stats-EFL-Cup',\n",
       " '/en/players/67ac5bb8/Gabriel-Dos-Santos',\n",
       " '/en/country/BRA/Brazil-Football',\n",
       " '/en/players/67ac5bb8/matchlogs/2022-2023/summary/Gabriel-Dos-Santos-Match-Logs',\n",
       " '/en/players/466fb2c5/Aaron-Ramsdale',\n",
       " '/en/country/ENG/England-Football',\n",
       " '/en/players/466fb2c5/matchlogs/2022-2023/summary/Aaron-Ramsdale-Match-Logs',\n",
       " '/en/players/972aeb2a/William-Saliba',\n",
       " '/en/country/FRA/France-Football',\n",
       " '/en/players/972aeb2a/matchlogs/2022-2023/summary/William-Saliba-Match-Logs',\n",
       " '/en/players/bc7dc64d/Bukayo-Saka',\n",
       " '/en/country/ENG/England-Football',\n",
       " '/en/players/bc7dc64d/matchlogs/2022-2023/summary/Bukayo-Saka-Match-Logs',\n",
       " '/en/players/e61b8aee/Granit-Xhaka',\n",
       " '/en/country/SUI/Switzerland-Football',\n",
       " '/en/players/e61b8aee/matchlogs/2022-2023/summary/Granit-Xhaka-Match-Logs',\n",
       " '/en/players/79300479/Martin-Odegaard',\n",
       " '/en/country/NOR/Norway-Football',\n",
       " '/en/players/79300479/matchlogs/2022-2023/summary/Martin-Odegaard-Match-Logs',\n",
       " '/en/players/48a5a5d6/Martinelli',\n",
       " '/en/country/BRA/Brazil-Football',\n",
       " '/en/players/48a5a5d6/matchlogs/2022-2023/summary/Martinelli-Match-Logs',\n",
       " '/en/players/35e413f1/Ben-White',\n",
       " '/en/country/ENG/England-Football',\n",
       " '/en/players/35e413f1/matchlogs/2022-2023/summary/Ben-White-Match-Logs',\n",
       " '/en/players/529f49ab/Thomas-Partey',\n",
       " '/en/country/GHA/Ghana-Football',\n",
       " '/en/players/529f49ab/matchlogs/2022-2023/summary/Thomas-Partey-Match-Logs',\n",
       " '/en/players/51cf8561/Oleksandr-Zinchenko',\n",
       " '/en/country/UKR/Ukraine-Football',\n",
       " '/en/players/51cf8561/matchlogs/2022-2023/summary/Oleksandr-Zinchenko-Match-Logs',\n",
       " '/en/players/b66315ae/Gabriel-Jesus',\n",
       " '/en/country/BRA/Brazil-Football',\n",
       " '/en/players/b66315ae/matchlogs/2022-2023/summary/Gabriel-Jesus-Match-Logs',\n",
       " '/en/players/a53649b7/Eddie-Nketiah',\n",
       " '/en/country/ENG/England-Football',\n",
       " '/en/players/a53649b7/matchlogs/2022-2023/summary/Eddie-Nketiah-Match-Logs',\n",
       " '/en/players/b3af9be1/Takehiro-Tomiyasu',\n",
       " '/en/country/JPN/Japan-Football',\n",
       " '/en/players/b3af9be1/matchlogs/2022-2023/summary/Takehiro-Tomiyasu-Match-Logs',\n",
       " '/en/players/fce2302c/Kieran-Tierney',\n",
       " '/en/country/SCO/Scotland-Football',\n",
       " '/en/players/fce2302c/matchlogs/2022-2023/summary/Kieran-Tierney-Match-Logs',\n",
       " '/en/players/45db685d/Jorginho',\n",
       " '/en/country/ITA/Italy-Football',\n",
       " '/en/players/45db685d/matchlogs/2022-2023/summary/Jorginho-Match-Logs',\n",
       " '/en/players/1b4f1169/Albert-Sambi-Lokonga',\n",
       " '/en/country/BEL/Belgium-Football',\n",
       " '/en/players/1b4f1169/matchlogs/2022-2023/summary/Albert-Sambi-Lokonga-Match-Logs',\n",
       " '/en/players/6412cc03/Fabio-Vieira',\n",
       " '/en/country/POR/Portugal-Football',\n",
       " '/en/players/6412cc03/matchlogs/2022-2023/summary/Fabio-Vieira-Match-Logs',\n",
       " '/en/players/38ceb24a/Leandro-Trossard',\n",
       " '/en/country/BEL/Belgium-Football',\n",
       " '/en/players/38ceb24a/matchlogs/2022-2023/summary/Leandro-Trossard-Match-Logs',\n",
       " '/en/players/47a34c4f/Mohamed-Elneny',\n",
       " '/en/country/EGY/Egypt-Football',\n",
       " '/en/players/47a34c4f/matchlogs/2022-2023/summary/Mohamed-Elneny-Match-Logs',\n",
       " '/en/players/c5bdb6e3/Reiss-Nelson',\n",
       " '/en/country/ENG/England-Football',\n",
       " '/en/players/c5bdb6e3/matchlogs/2022-2023/summary/Reiss-Nelson-Match-Logs',\n",
       " '/en/players/17695062/Emile-Smith-Rowe',\n",
       " '/en/country/ENG/England-Football',\n",
       " '/en/players/17695062/matchlogs/2022-2023/summary/Emile-Smith-Rowe-Match-Logs',\n",
       " '/en/players/839c14e1/Cedric-Soares',\n",
       " '/en/country/POR/Portugal-Football',\n",
       " '/en/players/839c14e1/matchlogs/2022-2023/summary/Cedric-Soares-Match-Logs',\n",
       " '/en/players/d79a8c87/Rob-Holding',\n",
       " '/en/country/ENG/England-Football',\n",
       " '/en/players/d79a8c87/matchlogs/2022-2023/summary/Rob-Holding-Match-Logs',\n",
       " '/en/players/59878425/Marquinhos',\n",
       " '/en/country/BRA/Brazil-Football',\n",
       " '/en/players/59878425/matchlogs/2022-2023/summary/Marquinhos-Match-Logs',\n",
       " '/en/players/7f94982c/Ethan-Nwaneri',\n",
       " '/en/country/ENG/England-Football',\n",
       " '/en/players/7f94982c/matchlogs/2022-2023/summary/Ethan-Nwaneri-Match-Logs',\n",
       " '/en/players/3a686640/Nathan-Butler-Oyedeji',\n",
       " '/en/country/ENG/England-Football',\n",
       " '/en/players/04eb7d82/Amario-Duberry',\n",
       " '/en/country/ENG/England-Football',\n",
       " '/en/players/aa81d8f8/Karl-Jakob-Hein',\n",
       " '/en/country/EST/Estonia-Football',\n",
       " '/en/players/dc3e663e/Jakub-Kiwior',\n",
       " '/en/country/POL/Poland-Football',\n",
       " '/en/players/57e3f0c7/Nicolas-Pepe',\n",
       " '/en/country/CIV/Cote-dIvoire-Football',\n",
       " '/en/players/54b6eed9/Matthew-Smith',\n",
       " '/en/country/ENG/England-Football',\n",
       " '/en/players/e09d77a2/Lino-Sousa',\n",
       " '/en/country/ENG/England-Football',\n",
       " '/en/players/4a51ba65/Matt-Turner',\n",
       " '/en/country/USA/United-States-Football',\n",
       " '#coverage',\n",
       " '/en/expected-goals-model-explained/',\n",
       " 'https://www.statsperform.com/opta/',\n",
       " '/en/expected-goals-model-explained/#comps',\n",
       " None,\n",
       " '/en/squads/18bb7c10/2022-2023/matchlogs/c9/schedule/Arsenal-Scores-and-Fixtures-Premier-League',\n",
       " '/en/squads/18bb7c10/2022-2023/matchlogs/c19/schedule/Arsenal-Scores-and-Fixtures-Europa-League',\n",
       " '/en/squads/18bb7c10/2022-2023/matchlogs/c514/schedule/Arsenal-Scores-and-Fixtures-FA-Cup',\n",
       " '/en/squads/18bb7c10/2022-2023/matchlogs/c690/schedule/Arsenal-Scores-and-Fixtures-EFL-Cup',\n",
       " None,\n",
       " '/en/squads/18bb7c10/2022-2023/matchlogs/all_comps/shooting/Arsenal-Match-Logs-All-Competitions',\n",
       " '/en/squads/18bb7c10/2022-2023/matchlogs/all_comps/keeper/Arsenal-Match-Logs-All-Competitions',\n",
       " '/en/squads/18bb7c10/2022-2023/matchlogs/all_comps/passing/Arsenal-Match-Logs-All-Competitions',\n",
       " '/en/squads/18bb7c10/2022-2023/matchlogs/all_comps/passing_types/Arsenal-Match-Logs-All-Competitions',\n",
       " '/en/squads/18bb7c10/2022-2023/matchlogs/all_comps/gca/Arsenal-Match-Logs-All-Competitions',\n",
       " '/en/squads/18bb7c10/2022-2023/matchlogs/all_comps/defense/Arsenal-Match-Logs-All-Competitions',\n",
       " '/en/squads/18bb7c10/2022-2023/matchlogs/all_comps/possession/Arsenal-Match-Logs-All-Competitions',\n",
       " '/en/squads/18bb7c10/2022-2023/matchlogs/all_comps/misc/Arsenal-Match-Logs-All-Competitions',\n",
       " '/en/matches/e62f6e78/Crystal-Palace-Arsenal-August-5-2022-Premier-League',\n",
       " '/en/comps/9/schedule/Premier-League-Scores-and-Fixtures',\n",
       " '/en/comps/9/schedule/Premier-League-Scores-and-Fixtures',\n",
       " '/en/squads/47c64c55/Crystal-Palace-Stats',\n",
       " '/en/players/79300479/Martin-Odegaard',\n",
       " '/en/matches/e62f6e78/Crystal-Palace-Arsenal-August-5-2022-Premier-League',\n",
       " '/en/matches/7483b97f/Arsenal-Leicester-City-August-13-2022-Premier-League',\n",
       " '/en/comps/9/schedule/Premier-League-Scores-and-Fixtures',\n",
       " '/en/comps/9/schedule/Premier-League-Scores-and-Fixtures',\n",
       " '/en/squads/a2d435b3/Leicester-City-Stats',\n",
       " '/en/players/79300479/Martin-Odegaard',\n",
       " '/en/matches/7483b97f/Arsenal-Leicester-City-August-13-2022-Premier-League',\n",
       " '/en/matches/7f11dd9e/Bournemouth-Arsenal-August-20-2022-Premier-League',\n",
       " '/en/comps/9/schedule/Premier-League-Scores-and-Fixtures',\n",
       " '/en/comps/9/schedule/Premier-League-Scores-and-Fixtures',\n",
       " '/en/squads/4ba7cbea/Bournemouth-Stats',\n",
       " '/en/players/79300479/Martin-Odegaard',\n",
       " '/en/matches/7f11dd9e/Bournemouth-Arsenal-August-20-2022-Premier-League',\n",
       " '/en/matches/8b69fd2d/Arsenal-Fulham-August-27-2022-Premier-League',\n",
       " '/en/comps/9/schedule/Premier-League-Scores-and-Fixtures',\n",
       " '/en/comps/9/schedule/Premier-League-Scores-and-Fixtures',\n",
       " '/en/squads/fd962109/Fulham-Stats',\n",
       " '/en/players/79300479/Martin-Odegaard',\n",
       " '/en/matches/8b69fd2d/Arsenal-Fulham-August-27-2022-Premier-League',\n",
       " '/en/matches/cc235aad/Arsenal-Aston-Villa-August-31-2022-Premier-League',\n",
       " '/en/comps/9/schedule/Premier-League-Scores-and-Fixtures',\n",
       " '/en/comps/9/schedule/Premier-League-Scores-and-Fixtures',\n",
       " '/en/squads/8602292d/Aston-Villa-Stats',\n",
       " '/en/players/79300479/Martin-Odegaard',\n",
       " '/en/matches/cc235aad/Arsenal-Aston-Villa-August-31-2022-Premier-League',\n",
       " '/en/matches/61ddafa5/Manchester-United-Arsenal-September-4-2022-Premier-League',\n",
       " '/en/comps/9/schedule/Premier-League-Scores-and-Fixtures',\n",
       " '/en/comps/9/schedule/Premier-League-Scores-and-Fixtures',\n",
       " '/en/squads/19538871/Manchester-United-Stats',\n",
       " '/en/players/79300479/Martin-Odegaard',\n",
       " '/en/matches/61ddafa5/Manchester-United-Arsenal-September-4-2022-Premier-League',\n",
       " '/en/matches/e77d99bf/Zurich-Arsenal-September-8-2022-Europa-League',\n",
       " '/en/comps/19/schedule/Europa-League-Scores-and-Fixtures',\n",
       " '/en/comps/19/schedule/Europa-League-Scores-and-Fixtures',\n",
       " '/en/squads/22a5a99c/Zurich-Stats',\n",
       " '/en/players/e61b8aee/Granit-Xhaka',\n",
       " '/en/matches/e77d99bf/Zurich-Arsenal-September-8-2022-Europa-League',\n",
       " '/en/matches/fd5626e6/Brentford-Arsenal-September-18-2022-Premier-League',\n",
       " '/en/comps/9/schedule/Premier-League-Scores-and-Fixtures',\n",
       " '/en/comps/9/schedule/Premier-League-Scores-and-Fixtures',\n",
       " '/en/squads/cd051869/Brentford-Stats',\n",
       " '/en/players/e61b8aee/Granit-Xhaka',\n",
       " '/en/matches/fd5626e6/Brentford-Arsenal-September-18-2022-Premier-League',\n",
       " '/en/matches/aefe3b90/North-London-Derby-Arsenal-Tottenham-Hotspur-October-1-2022-Premier-League',\n",
       " '/en/comps/9/schedule/Premier-League-Scores-and-Fixtures',\n",
       " '/en/comps/9/schedule/Premier-League-Scores-and-Fixtures',\n",
       " '/en/squads/361ca564/Tottenham-Hotspur-Stats',\n",
       " '/en/players/79300479/Martin-Odegaard',\n",
       " '/en/matches/aefe3b90/North-London-Derby-Arsenal-Tottenham-Hotspur-October-1-2022-Premier-League',\n",
       " '/en/matches/91a1d3df/Arsenal-BodoGlimt-October-6-2022-Europa-League',\n",
       " '/en/comps/19/schedule/Europa-League-Scores-and-Fixtures',\n",
       " '/en/comps/19/schedule/Europa-League-Scores-and-Fixtures',\n",
       " '/en/squads/d86248bd/BodoGlimt-Stats',\n",
       " '/en/players/e61b8aee/Granit-Xhaka',\n",
       " '/en/matches/91a1d3df/Arsenal-BodoGlimt-October-6-2022-Europa-League',\n",
       " '/en/matches/84a48413/Arsenal-Liverpool-October-9-2022-Premier-League',\n",
       " '/en/comps/9/schedule/Premier-League-Scores-and-Fixtures',\n",
       " '/en/comps/9/schedule/Premier-League-Scores-and-Fixtures',\n",
       " '/en/squads/822bd0ba/Liverpool-Stats',\n",
       " '/en/players/79300479/Martin-Odegaard',\n",
       " '/en/matches/84a48413/Arsenal-Liverpool-October-9-2022-Premier-League',\n",
       " '/en/matches/04e59775/BodoGlimt-Arsenal-October-13-2022-Europa-League',\n",
       " '/en/comps/19/schedule/Europa-League-Scores-and-Fixtures',\n",
       " '/en/comps/19/schedule/Europa-League-Scores-and-Fixtures',\n",
       " '/en/squads/d86248bd/BodoGlimt-Stats',\n",
       " '/en/players/79300479/Martin-Odegaard',\n",
       " '/en/matches/04e59775/BodoGlimt-Arsenal-October-13-2022-Europa-League',\n",
       " '/en/matches/92885cfc/Leeds-United-Arsenal-October-16-2022-Premier-League',\n",
       " '/en/comps/9/schedule/Premier-League-Scores-and-Fixtures',\n",
       " '/en/comps/9/schedule/Premier-League-Scores-and-Fixtures',\n",
       " '/en/squads/5bfb9659/Leeds-United-Stats',\n",
       " '/en/players/79300479/Martin-Odegaard',\n",
       " '/en/matches/92885cfc/Leeds-United-Arsenal-October-16-2022-Premier-League',\n",
       " '/en/matches/ba3ab652/Arsenal-PSV-Eindhoven-October-20-2022-Europa-League',\n",
       " '/en/comps/19/schedule/Europa-League-Scores-and-Fixtures',\n",
       " '/en/comps/19/schedule/Europa-League-Scores-and-Fixtures',\n",
       " '/en/squads/e334d850/PSV-Eindhoven-Stats',\n",
       " '/en/players/e61b8aee/Granit-Xhaka',\n",
       " '/en/matches/ba3ab652/Arsenal-PSV-Eindhoven-October-20-2022-Europa-League',\n",
       " '/en/matches/d8138438/Southampton-Arsenal-October-23-2022-Premier-League',\n",
       " '/en/comps/9/schedule/Premier-League-Scores-and-Fixtures',\n",
       " '/en/comps/9/schedule/Premier-League-Scores-and-Fixtures',\n",
       " '/en/squads/33c895d4/Southampton-Stats',\n",
       " '/en/players/79300479/Martin-Odegaard',\n",
       " '/en/matches/d8138438/Southampton-Arsenal-October-23-2022-Premier-League',\n",
       " '/en/matches/96e0d9c5/PSV-Eindhoven-Arsenal-October-27-2022-Europa-League',\n",
       " '/en/comps/19/schedule/Europa-League-Scores-and-Fixtures',\n",
       " '/en/comps/19/schedule/Europa-League-Scores-and-Fixtures',\n",
       " '/en/squads/e334d850/PSV-Eindhoven-Stats',\n",
       " '/en/players/79300479/Martin-Odegaard',\n",
       " '/en/matches/96e0d9c5/PSV-Eindhoven-Arsenal-October-27-2022-Europa-League',\n",
       " '/en/matches/1b496cc1/Arsenal-Nottingham-Forest-October-30-2022-Premier-League',\n",
       " '/en/comps/9/schedule/Premier-League-Scores-and-Fixtures',\n",
       " '/en/comps/9/schedule/Premier-League-Scores-and-Fixtures',\n",
       " '/en/squads/e4a775cb/Nottingham-Forest-Stats',\n",
       " '/en/players/79300479/Martin-Odegaard',\n",
       " '/en/matches/1b496cc1/Arsenal-Nottingham-Forest-October-30-2022-Premier-League',\n",
       " '/en/matches/75b5ef0d/Arsenal-Zurich-November-3-2022-Europa-League',\n",
       " '/en/comps/19/schedule/Europa-League-Scores-and-Fixtures',\n",
       " '/en/comps/19/schedule/Europa-League-Scores-and-Fixtures',\n",
       " '/en/squads/22a5a99c/Zurich-Stats',\n",
       " '/en/players/b66315ae/Gabriel-Jesus',\n",
       " '/en/matches/75b5ef0d/Arsenal-Zurich-November-3-2022-Europa-League',\n",
       " '/en/matches/af9dc838/North-West-London-Derby-Chelsea-Arsenal-November-6-2022-Premier-League',\n",
       " '/en/comps/9/schedule/Premier-League-Scores-and-Fixtures',\n",
       " '/en/comps/9/schedule/Premier-League-Scores-and-Fixtures',\n",
       " '/en/squads/cff3d9bb/Chelsea-Stats',\n",
       " '/en/players/79300479/Martin-Odegaard',\n",
       " '/en/matches/af9dc838/North-West-London-Derby-Chelsea-Arsenal-November-6-2022-Premier-League',\n",
       " '/en/matches/5505b180/Arsenal-Brighton-and-Hove-Albion-November-9-2022-EFL-Cup',\n",
       " '/en/comps/690/schedule/EFL-Cup-Scores-and-Fixtures',\n",
       " '/en/comps/690/schedule/EFL-Cup-Scores-and-Fixtures',\n",
       " '/en/squads/d07537b9/Brighton-and-Hove-Albion-Stats',\n",
       " '/en/players/d79a8c87/Rob-Holding',\n",
       " '/en/matches/5505b180/Arsenal-Brighton-and-Hove-Albion-November-9-2022-EFL-Cup',\n",
       " '/en/matches/863d7a8f/Wolverhampton-Wanderers-Arsenal-November-12-2022-Premier-League',\n",
       " '/en/comps/9/schedule/Premier-League-Scores-and-Fixtures',\n",
       " '/en/comps/9/schedule/Premier-League-Scores-and-Fixtures',\n",
       " '/en/squads/8cec06e1/Wolverhampton-Wanderers-Stats',\n",
       " '/en/players/79300479/Martin-Odegaard',\n",
       " '/en/matches/863d7a8f/Wolverhampton-Wanderers-Arsenal-November-12-2022-Premier-League',\n",
       " '/en/matches/3be32b8b/Arsenal-West-Ham-United-December-26-2022-Premier-League',\n",
       " '/en/comps/9/schedule/Premier-League-Scores-and-Fixtures',\n",
       " '/en/comps/9/schedule/Premier-League-Scores-and-Fixtures',\n",
       " '/en/squads/7c21e445/West-Ham-United-Stats',\n",
       " '/en/players/79300479/Martin-Odegaard',\n",
       " '/en/matches/3be32b8b/Arsenal-West-Ham-United-December-26-2022-Premier-League',\n",
       " '/en/matches/dd50a429/Brighton-and-Hove-Albion-Arsenal-December-31-2022-Premier-League',\n",
       " '/en/comps/9/schedule/Premier-League-Scores-and-Fixtures',\n",
       " '/en/comps/9/schedule/Premier-League-Scores-and-Fixtures',\n",
       " '/en/squads/d07537b9/Brighton-and-Hove-Albion-Stats',\n",
       " '/en/players/79300479/Martin-Odegaard',\n",
       " '/en/matches/dd50a429/Brighton-and-Hove-Albion-Arsenal-December-31-2022-Premier-League',\n",
       " '/en/matches/ceebd643/Arsenal-Newcastle-United-January-3-2023-Premier-League',\n",
       " '/en/comps/9/schedule/Premier-League-Scores-and-Fixtures',\n",
       " '/en/comps/9/schedule/Premier-League-Scores-and-Fixtures',\n",
       " '/en/squads/b2b47a98/Newcastle-United-Stats',\n",
       " '/en/players/79300479/Martin-Odegaard',\n",
       " '/en/matches/ceebd643/Arsenal-Newcastle-United-January-3-2023-Premier-League',\n",
       " '/en/matches/17eee5ca/Oxford-United-Arsenal-January-9-2023-FA-Cup',\n",
       " '/en/comps/514/schedule/FA-Cup-Scores-and-Fixtures',\n",
       " '/en/comps/514/schedule/FA-Cup-Scores-and-Fixtures',\n",
       " '/en/squads/604617a2/Oxford-United-Stats',\n",
       " '/en/players/d79a8c87/Rob-Holding',\n",
       " '/en/matches/17eee5ca/Oxford-United-Arsenal-January-9-2023-FA-Cup',\n",
       " '/en/matches/4fc8b7b2/North-London-Derby-Tottenham-Hotspur-Arsenal-January-15-2023-Premier-League',\n",
       " '/en/comps/9/schedule/Premier-League-Scores-and-Fixtures',\n",
       " '/en/comps/9/schedule/Premier-League-Scores-and-Fixtures',\n",
       " '/en/squads/361ca564/Tottenham-Hotspur-Stats',\n",
       " '/en/players/79300479/Martin-Odegaard',\n",
       " '/en/matches/4fc8b7b2/North-London-Derby-Tottenham-Hotspur-Arsenal-January-15-2023-Premier-League',\n",
       " '/en/matches/1b35bc71/Arsenal-Manchester-United-January-22-2023-Premier-League',\n",
       " '/en/comps/9/schedule/Premier-League-Scores-and-Fixtures',\n",
       " '/en/comps/9/schedule/Premier-League-Scores-and-Fixtures',\n",
       " '/en/squads/19538871/Manchester-United-Stats',\n",
       " '/en/players/79300479/Martin-Odegaard',\n",
       " '/en/matches/1b35bc71/Arsenal-Manchester-United-January-22-2023-Premier-League',\n",
       " '/en/matches/eeefddca/Manchester-City-Arsenal-January-27-2023-FA-Cup',\n",
       " '/en/comps/514/schedule/FA-Cup-Scores-and-Fixtures',\n",
       " '/en/comps/514/schedule/FA-Cup-Scores-and-Fixtures',\n",
       " '/en/squads/b8fd03ef/Manchester-City-Stats',\n",
       " '/en/players/e61b8aee/Granit-Xhaka',\n",
       " '/en/matches/eeefddca/Manchester-City-Arsenal-January-27-2023-FA-Cup',\n",
       " '/en/matches/07fc721a/Everton-Arsenal-February-4-2023-Premier-League',\n",
       " '/en/comps/9/schedule/Premier-League-Scores-and-Fixtures',\n",
       " '/en/comps/9/schedule/Premier-League-Scores-and-Fixtures',\n",
       " '/en/squads/d3fd31cc/Everton-Stats',\n",
       " '/en/players/79300479/Martin-Odegaard',\n",
       " '/en/matches/07fc721a/Everton-Arsenal-February-4-2023-Premier-League',\n",
       " '/en/matches/7caa56bc/Arsenal-Brentford-February-11-2023-Premier-League',\n",
       " '/en/comps/9/schedule/Premier-League-Scores-and-Fixtures',\n",
       " '/en/comps/9/schedule/Premier-League-Scores-and-Fixtures',\n",
       " '/en/squads/cd051869/Brentford-Stats',\n",
       " '/en/players/79300479/Martin-Odegaard',\n",
       " '/en/matches/7caa56bc/Arsenal-Brentford-February-11-2023-Premier-League',\n",
       " '/en/matches/b9da01e6/Arsenal-Manchester-City-February-15-2023-Premier-League',\n",
       " '/en/comps/9/schedule/Premier-League-Scores-and-Fixtures',\n",
       " '/en/comps/9/schedule/Premier-League-Scores-and-Fixtures',\n",
       " '/en/squads/b8fd03ef/Manchester-City-Stats',\n",
       " '/en/players/79300479/Martin-Odegaard',\n",
       " '/en/matches/b9da01e6/Arsenal-Manchester-City-February-15-2023-Premier-League',\n",
       " '/en/matches/e50bfcf8/Aston-Villa-Arsenal-February-18-2023-Premier-League',\n",
       " '/en/comps/9/schedule/Premier-League-Scores-and-Fixtures',\n",
       " '/en/comps/9/schedule/Premier-League-Scores-and-Fixtures',\n",
       " '/en/squads/8602292d/Aston-Villa-Stats',\n",
       " '/en/players/79300479/Martin-Odegaard',\n",
       " '/en/matches/e50bfcf8/Aston-Villa-Arsenal-February-18-2023-Premier-League',\n",
       " '/en/comps/9/schedule/Premier-League-Scores-and-Fixtures',\n",
       " '/en/comps/9/schedule/Premier-League-Scores-and-Fixtures',\n",
       " '/en/squads/a2d435b3/Leicester-City-Stats',\n",
       " '/en/stathead/matchup/teams/a2d435b3/18bb7c10/Leicester-City-vs-Arsenal-History',\n",
       " '/en/comps/9/schedule/Premier-League-Scores-and-Fixtures',\n",
       " '/en/comps/9/schedule/Premier-League-Scores-and-Fixtures',\n",
       " '/en/squads/d3fd31cc/Everton-Stats',\n",
       " '/en/stathead/matchup/teams/d3fd31cc/18bb7c10/Everton-vs-Arsenal-History',\n",
       " '/en/comps/9/schedule/Premier-League-Scores-and-Fixtures',\n",
       " '/en/comps/9/schedule/Premier-League-Scores-and-Fixtures',\n",
       " '/en/squads/4ba7cbea/Bournemouth-Stats',\n",
       " '/en/stathead/matchup/teams/4ba7cbea/18bb7c10/Bournemouth-vs-Arsenal-History',\n",
       " '/en/comps/9/schedule/Premier-League-Scores-and-Fixtures',\n",
       " '/en/comps/9/schedule/Premier-League-Scores-and-Fixtures',\n",
       " '/en/squads/fd962109/Fulham-Stats',\n",
       " '/en/stathead/matchup/teams/fd962109/18bb7c10/Fulham-vs-Arsenal-History',\n",
       " '/en/comps/9/schedule/Premier-League-Scores-and-Fixtures',\n",
       " '/en/comps/9/schedule/Premier-League-Scores-and-Fixtures',\n",
       " '/en/squads/47c64c55/Crystal-Palace-Stats',\n",
       " '/en/stathead/matchup/teams/47c64c55/18bb7c10/Crystal-Palace-vs-Arsenal-History',\n",
       " '/en/comps/9/schedule/Premier-League-Scores-and-Fixtures',\n",
       " '/en/comps/9/schedule/Premier-League-Scores-and-Fixtures',\n",
       " '/en/squads/5bfb9659/Leeds-United-Stats',\n",
       " '/en/stathead/matchup/teams/5bfb9659/18bb7c10/Leeds-United-vs-Arsenal-History',\n",
       " '/en/comps/9/schedule/Premier-League-Scores-and-Fixtures',\n",
       " '/en/comps/9/schedule/Premier-League-Scores-and-Fixtures',\n",
       " '/en/squads/822bd0ba/Liverpool-Stats',\n",
       " '/en/stathead/matchup/teams/822bd0ba/18bb7c10/Liverpool-vs-Arsenal-History',\n",
       " '/en/comps/9/schedule/Premier-League-Scores-and-Fixtures',\n",
       " '/en/comps/9/schedule/Premier-League-Scores-and-Fixtures',\n",
       " '/en/squads/7c21e445/West-Ham-United-Stats',\n",
       " '/en/stathead/matchup/teams/7c21e445/18bb7c10/West-Ham-United-vs-Arsenal-History',\n",
       " '/en/comps/9/schedule/Premier-League-Scores-and-Fixtures',\n",
       " '/en/comps/9/schedule/Premier-League-Scores-and-Fixtures',\n",
       " '/en/squads/33c895d4/Southampton-Stats',\n",
       " '/en/stathead/matchup/teams/33c895d4/18bb7c10/Southampton-vs-Arsenal-History',\n",
       " '/en/comps/9/schedule/Premier-League-Scores-and-Fixtures',\n",
       " '/en/comps/9/schedule/Premier-League-Scores-and-Fixtures',\n",
       " '/en/squads/b8fd03ef/Manchester-City-Stats',\n",
       " '/en/stathead/matchup/teams/b8fd03ef/18bb7c10/Manchester-City-vs-Arsenal-History',\n",
       " '/en/comps/9/schedule/Premier-League-Scores-and-Fixtures',\n",
       " '/en/comps/9/schedule/Premier-League-Scores-and-Fixtures',\n",
       " '/en/squads/cff3d9bb/Chelsea-Stats',\n",
       " '/en/stathead/matchup/teams/cff3d9bb/18bb7c10/North-West-London-Derby-Chelsea-vs-Arsenal-History',\n",
       " '/en/comps/9/schedule/Premier-League-Scores-and-Fixtures',\n",
       " '/en/comps/9/schedule/Premier-League-Scores-and-Fixtures',\n",
       " '/en/squads/b2b47a98/Newcastle-United-Stats',\n",
       " '/en/stathead/matchup/teams/b2b47a98/18bb7c10/Newcastle-United-vs-Arsenal-History',\n",
       " '/en/comps/9/schedule/Premier-League-Scores-and-Fixtures',\n",
       " '/en/comps/9/schedule/Premier-League-Scores-and-Fixtures',\n",
       " '/en/squads/d07537b9/Brighton-and-Hove-Albion-Stats',\n",
       " '/en/stathead/matchup/teams/d07537b9/18bb7c10/Brighton-and-Hove-Albion-vs-Arsenal-History',\n",
       " '/en/comps/9/schedule/Premier-League-Scores-and-Fixtures',\n",
       " '/en/comps/9/schedule/Premier-League-Scores-and-Fixtures',\n",
       " '/en/squads/e4a775cb/Nottingham-Forest-Stats',\n",
       " '/en/stathead/matchup/teams/e4a775cb/18bb7c10/Nottingham-Forest-vs-Arsenal-History',\n",
       " '/en/comps/9/schedule/Premier-League-Scores-and-Fixtures',\n",
       " '/en/comps/9/schedule/Premier-League-Scores-and-Fixtures',\n",
       " '/en/squads/8cec06e1/Wolverhampton-Wanderers-Stats',\n",
       " '/en/stathead/matchup/teams/8cec06e1/18bb7c10/Wolverhampton-Wanderers-vs-Arsenal-History',\n",
       " '/en/players/466fb2c5/Aaron-Ramsdale',\n",
       " '/en/country/ENG/England-Football',\n",
       " '/en/players/466fb2c5/matchlogs/2022-2023/keeper/Aaron-Ramsdale-Match-Logs',\n",
       " '#coverage',\n",
       " '/en/players/466fb2c5/Aaron-Ramsdale',\n",
       " '/en/country/ENG/England-Football',\n",
       " '/en/players/466fb2c5/matchlogs/2022-2023/keeper/Aaron-Ramsdale-Match-Logs',\n",
       " '#coverage',\n",
       " '/en/expected-goals-model-explained/',\n",
       " 'https://www.statsperform.com/opta/',\n",
       " '/en/expected-goals-model-explained/#comps',\n",
       " '/en/players/67ac5bb8/Gabriel-Dos-Santos',\n",
       " '/en/country/BRA/Brazil-Football',\n",
       " '/en/players/67ac5bb8/matchlogs/2022-2023/summary/Gabriel-Dos-Santos-Match-Logs',\n",
       " '/en/players/466fb2c5/Aaron-Ramsdale',\n",
       " '/en/country/ENG/England-Football',\n",
       " '/en/players/466fb2c5/matchlogs/2022-2023/summary/Aaron-Ramsdale-Match-Logs',\n",
       " '/en/players/972aeb2a/William-Saliba',\n",
       " '/en/country/FRA/France-Football',\n",
       " '/en/players/972aeb2a/matchlogs/2022-2023/summary/William-Saliba-Match-Logs',\n",
       " '/en/players/bc7dc64d/Bukayo-Saka',\n",
       " '/en/country/ENG/England-Football',\n",
       " '/en/players/bc7dc64d/matchlogs/2022-2023/summary/Bukayo-Saka-Match-Logs',\n",
       " '/en/players/e61b8aee/Granit-Xhaka',\n",
       " '/en/country/SUI/Switzerland-Football',\n",
       " '/en/players/e61b8aee/matchlogs/2022-2023/summary/Granit-Xhaka-Match-Logs',\n",
       " '/en/players/79300479/Martin-Odegaard',\n",
       " '/en/country/NOR/Norway-Football',\n",
       " '/en/players/79300479/matchlogs/2022-2023/summary/Martin-Odegaard-Match-Logs',\n",
       " '/en/players/48a5a5d6/Martinelli',\n",
       " '/en/country/BRA/Brazil-Football',\n",
       " '/en/players/48a5a5d6/matchlogs/2022-2023/summary/Martinelli-Match-Logs',\n",
       " '/en/players/35e413f1/Ben-White',\n",
       " '/en/country/ENG/England-Football',\n",
       " '/en/players/35e413f1/matchlogs/2022-2023/summary/Ben-White-Match-Logs',\n",
       " '/en/players/529f49ab/Thomas-Partey',\n",
       " '/en/country/GHA/Ghana-Football',\n",
       " '/en/players/529f49ab/matchlogs/2022-2023/summary/Thomas-Partey-Match-Logs',\n",
       " '/en/players/51cf8561/Oleksandr-Zinchenko',\n",
       " '/en/country/UKR/Ukraine-Football',\n",
       " '/en/players/51cf8561/matchlogs/2022-2023/summary/Oleksandr-Zinchenko-Match-Logs',\n",
       " '/en/players/b66315ae/Gabriel-Jesus',\n",
       " '/en/country/BRA/Brazil-Football',\n",
       " '/en/players/b66315ae/matchlogs/2022-2023/summary/Gabriel-Jesus-Match-Logs',\n",
       " '/en/players/a53649b7/Eddie-Nketiah',\n",
       " '/en/country/ENG/England-Football',\n",
       " '/en/players/a53649b7/matchlogs/2022-2023/summary/Eddie-Nketiah-Match-Logs',\n",
       " '/en/players/b3af9be1/Takehiro-Tomiyasu',\n",
       " '/en/country/JPN/Japan-Football',\n",
       " '/en/players/b3af9be1/matchlogs/2022-2023/summary/Takehiro-Tomiyasu-Match-Logs',\n",
       " '/en/players/fce2302c/Kieran-Tierney',\n",
       " '/en/country/SCO/Scotland-Football',\n",
       " '/en/players/fce2302c/matchlogs/2022-2023/summary/Kieran-Tierney-Match-Logs',\n",
       " '/en/players/45db685d/Jorginho',\n",
       " '/en/country/ITA/Italy-Football',\n",
       " '/en/players/45db685d/matchlogs/2022-2023/summary/Jorginho-Match-Logs',\n",
       " '/en/players/1b4f1169/Albert-Sambi-Lokonga',\n",
       " '/en/country/BEL/Belgium-Football',\n",
       " '/en/players/1b4f1169/matchlogs/2022-2023/summary/Albert-Sambi-Lokonga-Match-Logs',\n",
       " '/en/players/6412cc03/Fabio-Vieira',\n",
       " '/en/country/POR/Portugal-Football',\n",
       " '/en/players/6412cc03/matchlogs/2022-2023/summary/Fabio-Vieira-Match-Logs',\n",
       " '/en/players/38ceb24a/Leandro-Trossard',\n",
       " '/en/country/BEL/Belgium-Football',\n",
       " '/en/players/38ceb24a/matchlogs/2022-2023/summary/Leandro-Trossard-Match-Logs',\n",
       " '/en/players/47a34c4f/Mohamed-Elneny',\n",
       " '/en/country/EGY/Egypt-Football',\n",
       " '/en/players/47a34c4f/matchlogs/2022-2023/summary/Mohamed-Elneny-Match-Logs',\n",
       " '/en/players/c5bdb6e3/Reiss-Nelson',\n",
       " '/en/country/ENG/England-Football',\n",
       " '/en/players/c5bdb6e3/matchlogs/2022-2023/summary/Reiss-Nelson-Match-Logs',\n",
       " '/en/players/17695062/Emile-Smith-Rowe',\n",
       " '/en/country/ENG/England-Football',\n",
       " '/en/players/17695062/matchlogs/2022-2023/summary/Emile-Smith-Rowe-Match-Logs',\n",
       " '/en/players/839c14e1/Cedric-Soares',\n",
       " '/en/country/POR/Portugal-Football',\n",
       " '/en/players/839c14e1/matchlogs/2022-2023/summary/Cedric-Soares-Match-Logs',\n",
       " '/en/players/d79a8c87/Rob-Holding',\n",
       " '/en/country/ENG/England-Football',\n",
       " '/en/players/d79a8c87/matchlogs/2022-2023/summary/Rob-Holding-Match-Logs',\n",
       " '/en/players/59878425/Marquinhos',\n",
       " '/en/country/BRA/Brazil-Football',\n",
       " '/en/players/59878425/matchlogs/2022-2023/summary/Marquinhos-Match-Logs',\n",
       " '/en/players/7f94982c/Ethan-Nwaneri',\n",
       " '/en/country/ENG/England-Football',\n",
       " '/en/players/7f94982c/matchlogs/2022-2023/summary/Ethan-Nwaneri-Match-Logs',\n",
       " '#coverage',\n",
       " '/en/expected-goals-model-explained/',\n",
       " 'https://www.statsperform.com/opta/',\n",
       " '/en/expected-goals-model-explained/#comps',\n",
       " '/en/players/67ac5bb8/Gabriel-Dos-Santos',\n",
       " '/en/country/BRA/Brazil-Football',\n",
       " '/en/players/67ac5bb8/matchlogs/2022-2023/passing/Gabriel-Dos-Santos-Match-Logs',\n",
       " '/en/players/466fb2c5/Aaron-Ramsdale',\n",
       " '/en/country/ENG/England-Football',\n",
       " '/en/players/466fb2c5/matchlogs/2022-2023/passing/Aaron-Ramsdale-Match-Logs',\n",
       " '/en/players/972aeb2a/William-Saliba',\n",
       " '/en/country/FRA/France-Football',\n",
       " '/en/players/972aeb2a/matchlogs/2022-2023/passing/William-Saliba-Match-Logs',\n",
       " '/en/players/bc7dc64d/Bukayo-Saka',\n",
       " '/en/country/ENG/England-Football',\n",
       " '/en/players/bc7dc64d/matchlogs/2022-2023/passing/Bukayo-Saka-Match-Logs',\n",
       " '/en/players/e61b8aee/Granit-Xhaka',\n",
       " '/en/country/SUI/Switzerland-Football',\n",
       " '/en/players/e61b8aee/matchlogs/2022-2023/passing/Granit-Xhaka-Match-Logs',\n",
       " '/en/players/79300479/Martin-Odegaard',\n",
       " '/en/country/NOR/Norway-Football',\n",
       " '/en/players/79300479/matchlogs/2022-2023/passing/Martin-Odegaard-Match-Logs',\n",
       " '/en/players/48a5a5d6/Martinelli',\n",
       " '/en/country/BRA/Brazil-Football',\n",
       " '/en/players/48a5a5d6/matchlogs/2022-2023/passing/Martinelli-Match-Logs',\n",
       " '/en/players/35e413f1/Ben-White',\n",
       " '/en/country/ENG/England-Football',\n",
       " '/en/players/35e413f1/matchlogs/2022-2023/passing/Ben-White-Match-Logs',\n",
       " '/en/players/529f49ab/Thomas-Partey',\n",
       " '/en/country/GHA/Ghana-Football',\n",
       " '/en/players/529f49ab/matchlogs/2022-2023/passing/Thomas-Partey-Match-Logs',\n",
       " '/en/players/51cf8561/Oleksandr-Zinchenko',\n",
       " '/en/country/UKR/Ukraine-Football',\n",
       " '/en/players/51cf8561/matchlogs/2022-2023/passing/Oleksandr-Zinchenko-Match-Logs',\n",
       " '/en/players/b66315ae/Gabriel-Jesus',\n",
       " '/en/country/BRA/Brazil-Football',\n",
       " '/en/players/b66315ae/matchlogs/2022-2023/passing/Gabriel-Jesus-Match-Logs',\n",
       " '/en/players/a53649b7/Eddie-Nketiah',\n",
       " '/en/country/ENG/England-Football',\n",
       " '/en/players/a53649b7/matchlogs/2022-2023/passing/Eddie-Nketiah-Match-Logs',\n",
       " '/en/players/b3af9be1/Takehiro-Tomiyasu',\n",
       " '/en/country/JPN/Japan-Football',\n",
       " '/en/players/b3af9be1/matchlogs/2022-2023/passing/Takehiro-Tomiyasu-Match-Logs',\n",
       " '/en/players/fce2302c/Kieran-Tierney',\n",
       " '/en/country/SCO/Scotland-Football',\n",
       " '/en/players/fce2302c/matchlogs/2022-2023/passing/Kieran-Tierney-Match-Logs',\n",
       " '/en/players/45db685d/Jorginho',\n",
       " '/en/country/ITA/Italy-Football',\n",
       " '/en/players/45db685d/matchlogs/2022-2023/passing/Jorginho-Match-Logs',\n",
       " '/en/players/1b4f1169/Albert-Sambi-Lokonga',\n",
       " '/en/country/BEL/Belgium-Football',\n",
       " '/en/players/1b4f1169/matchlogs/2022-2023/passing/Albert-Sambi-Lokonga-Match-Logs',\n",
       " '/en/players/6412cc03/Fabio-Vieira',\n",
       " '/en/country/POR/Portugal-Football',\n",
       " '/en/players/6412cc03/matchlogs/2022-2023/passing/Fabio-Vieira-Match-Logs',\n",
       " '/en/players/38ceb24a/Leandro-Trossard',\n",
       " '/en/country/BEL/Belgium-Football',\n",
       " '/en/players/38ceb24a/matchlogs/2022-2023/passing/Leandro-Trossard-Match-Logs',\n",
       " '/en/players/47a34c4f/Mohamed-Elneny',\n",
       " '/en/country/EGY/Egypt-Football',\n",
       " '/en/players/47a34c4f/matchlogs/2022-2023/passing/Mohamed-Elneny-Match-Logs',\n",
       " '/en/players/c5bdb6e3/Reiss-Nelson',\n",
       " '/en/country/ENG/England-Football',\n",
       " '/en/players/c5bdb6e3/matchlogs/2022-2023/passing/Reiss-Nelson-Match-Logs',\n",
       " '/en/players/17695062/Emile-Smith-Rowe',\n",
       " '/en/country/ENG/England-Football',\n",
       " '/en/players/17695062/matchlogs/2022-2023/passing/Emile-Smith-Rowe-Match-Logs',\n",
       " '/en/players/839c14e1/Cedric-Soares',\n",
       " '/en/country/POR/Portugal-Football',\n",
       " '/en/players/839c14e1/matchlogs/2022-2023/passing/Cedric-Soares-Match-Logs',\n",
       " '/en/players/d79a8c87/Rob-Holding',\n",
       " '/en/country/ENG/England-Football',\n",
       " '/en/players/d79a8c87/matchlogs/2022-2023/passing/Rob-Holding-Match-Logs',\n",
       " '/en/players/59878425/Marquinhos',\n",
       " '/en/country/BRA/Brazil-Football',\n",
       " '/en/players/59878425/matchlogs/2022-2023/passing/Marquinhos-Match-Logs',\n",
       " '/en/players/7f94982c/Ethan-Nwaneri',\n",
       " '/en/country/ENG/England-Football',\n",
       " '/en/players/7f94982c/matchlogs/2022-2023/passing/Ethan-Nwaneri-Match-Logs',\n",
       " '#coverage',\n",
       " '/en/expected-goals-model-explained/',\n",
       " 'https://www.statsperform.com/opta/',\n",
       " '/en/expected-goals-model-explained/#comps',\n",
       " '/en/players/67ac5bb8/Gabriel-Dos-Santos',\n",
       " '/en/country/BRA/Brazil-Football',\n",
       " '/en/players/67ac5bb8/matchlogs/2022-2023/passing_types/Gabriel-Dos-Santos-Match-Logs',\n",
       " '/en/players/466fb2c5/Aaron-Ramsdale',\n",
       " '/en/country/ENG/England-Football',\n",
       " '/en/players/466fb2c5/matchlogs/2022-2023/passing_types/Aaron-Ramsdale-Match-Logs',\n",
       " '/en/players/972aeb2a/William-Saliba',\n",
       " '/en/country/FRA/France-Football',\n",
       " '/en/players/972aeb2a/matchlogs/2022-2023/passing_types/William-Saliba-Match-Logs',\n",
       " '/en/players/bc7dc64d/Bukayo-Saka',\n",
       " '/en/country/ENG/England-Football',\n",
       " '/en/players/bc7dc64d/matchlogs/2022-2023/passing_types/Bukayo-Saka-Match-Logs',\n",
       " '/en/players/e61b8aee/Granit-Xhaka',\n",
       " '/en/country/SUI/Switzerland-Football',\n",
       " '/en/players/e61b8aee/matchlogs/2022-2023/passing_types/Granit-Xhaka-Match-Logs',\n",
       " '/en/players/79300479/Martin-Odegaard',\n",
       " '/en/country/NOR/Norway-Football',\n",
       " '/en/players/79300479/matchlogs/2022-2023/passing_types/Martin-Odegaard-Match-Logs',\n",
       " '/en/players/48a5a5d6/Martinelli',\n",
       " '/en/country/BRA/Brazil-Football',\n",
       " '/en/players/48a5a5d6/matchlogs/2022-2023/passing_types/Martinelli-Match-Logs',\n",
       " '/en/players/35e413f1/Ben-White',\n",
       " '/en/country/ENG/England-Football',\n",
       " '/en/players/35e413f1/matchlogs/2022-2023/passing_types/Ben-White-Match-Logs',\n",
       " '/en/players/529f49ab/Thomas-Partey',\n",
       " '/en/country/GHA/Ghana-Football',\n",
       " '/en/players/529f49ab/matchlogs/2022-2023/passing_types/Thomas-Partey-Match-Logs',\n",
       " '/en/players/51cf8561/Oleksandr-Zinchenko',\n",
       " '/en/country/UKR/Ukraine-Football',\n",
       " '/en/players/51cf8561/matchlogs/2022-2023/passing_types/Oleksandr-Zinchenko-Match-Logs',\n",
       " '/en/players/b66315ae/Gabriel-Jesus',\n",
       " '/en/country/BRA/Brazil-Football',\n",
       " '/en/players/b66315ae/matchlogs/2022-2023/passing_types/Gabriel-Jesus-Match-Logs',\n",
       " '/en/players/a53649b7/Eddie-Nketiah',\n",
       " '/en/country/ENG/England-Football',\n",
       " '/en/players/a53649b7/matchlogs/2022-2023/passing_types/Eddie-Nketiah-Match-Logs',\n",
       " '/en/players/b3af9be1/Takehiro-Tomiyasu',\n",
       " '/en/country/JPN/Japan-Football',\n",
       " '/en/players/b3af9be1/matchlogs/2022-2023/passing_types/Takehiro-Tomiyasu-Match-Logs',\n",
       " '/en/players/fce2302c/Kieran-Tierney',\n",
       " '/en/country/SCO/Scotland-Football',\n",
       " '/en/players/fce2302c/matchlogs/2022-2023/passing_types/Kieran-Tierney-Match-Logs',\n",
       " '/en/players/45db685d/Jorginho',\n",
       " '/en/country/ITA/Italy-Football',\n",
       " '/en/players/45db685d/matchlogs/2022-2023/passing_types/Jorginho-Match-Logs',\n",
       " '/en/players/1b4f1169/Albert-Sambi-Lokonga',\n",
       " '/en/country/BEL/Belgium-Football',\n",
       " '/en/players/1b4f1169/matchlogs/2022-2023/passing_types/Albert-Sambi-Lokonga-Match-Logs',\n",
       " '/en/players/6412cc03/Fabio-Vieira',\n",
       " '/en/country/POR/Portugal-Football',\n",
       " '/en/players/6412cc03/matchlogs/2022-2023/passing_types/Fabio-Vieira-Match-Logs',\n",
       " '/en/players/38ceb24a/Leandro-Trossard',\n",
       " '/en/country/BEL/Belgium-Football',\n",
       " '/en/players/38ceb24a/matchlogs/2022-2023/passing_types/Leandro-Trossard-Match-Logs',\n",
       " '/en/players/47a34c4f/Mohamed-Elneny',\n",
       " '/en/country/EGY/Egypt-Football',\n",
       " '/en/players/47a34c4f/matchlogs/2022-2023/passing_types/Mohamed-Elneny-Match-Logs',\n",
       " '/en/players/c5bdb6e3/Reiss-Nelson',\n",
       " '/en/country/ENG/England-Football',\n",
       " '/en/players/c5bdb6e3/matchlogs/2022-2023/passing_types/Reiss-Nelson-Match-Logs',\n",
       " '/en/players/17695062/Emile-Smith-Rowe',\n",
       " '/en/country/ENG/England-Football',\n",
       " '/en/players/17695062/matchlogs/2022-2023/passing_types/Emile-Smith-Rowe-Match-Logs',\n",
       " '/en/players/839c14e1/Cedric-Soares',\n",
       " '/en/country/POR/Portugal-Football',\n",
       " '/en/players/839c14e1/matchlogs/2022-2023/passing_types/Cedric-Soares-Match-Logs',\n",
       " '/en/players/d79a8c87/Rob-Holding',\n",
       " '/en/country/ENG/England-Football',\n",
       " '/en/players/d79a8c87/matchlogs/2022-2023/passing_types/Rob-Holding-Match-Logs',\n",
       " '/en/players/59878425/Marquinhos',\n",
       " '/en/country/BRA/Brazil-Football',\n",
       " '/en/players/59878425/matchlogs/2022-2023/passing_types/Marquinhos-Match-Logs',\n",
       " '/en/players/7f94982c/Ethan-Nwaneri',\n",
       " '/en/country/ENG/England-Football',\n",
       " '/en/players/7f94982c/matchlogs/2022-2023/passing_types/Ethan-Nwaneri-Match-Logs',\n",
       " '#coverage',\n",
       " '/en/expected-goals-model-explained/',\n",
       " 'https://www.statsperform.com/opta/',\n",
       " '/en/expected-goals-model-explained/#comps',\n",
       " '/en/players/67ac5bb8/Gabriel-Dos-Santos',\n",
       " '/en/country/BRA/Brazil-Football',\n",
       " '/en/players/67ac5bb8/matchlogs/2022-2023/gca/Gabriel-Dos-Santos-Match-Logs',\n",
       " '/en/players/466fb2c5/Aaron-Ramsdale',\n",
       " '/en/country/ENG/England-Football',\n",
       " '/en/players/466fb2c5/matchlogs/2022-2023/gca/Aaron-Ramsdale-Match-Logs',\n",
       " '/en/players/972aeb2a/William-Saliba',\n",
       " '/en/country/FRA/France-Football',\n",
       " '/en/players/972aeb2a/matchlogs/2022-2023/gca/William-Saliba-Match-Logs',\n",
       " '/en/players/bc7dc64d/Bukayo-Saka',\n",
       " '/en/country/ENG/England-Football',\n",
       " '/en/players/bc7dc64d/matchlogs/2022-2023/gca/Bukayo-Saka-Match-Logs',\n",
       " '/en/players/e61b8aee/Granit-Xhaka',\n",
       " '/en/country/SUI/Switzerland-Football',\n",
       " '/en/players/e61b8aee/matchlogs/2022-2023/gca/Granit-Xhaka-Match-Logs',\n",
       " '/en/players/79300479/Martin-Odegaard',\n",
       " '/en/country/NOR/Norway-Football',\n",
       " '/en/players/79300479/matchlogs/2022-2023/gca/Martin-Odegaard-Match-Logs',\n",
       " '/en/players/48a5a5d6/Martinelli',\n",
       " '/en/country/BRA/Brazil-Football',\n",
       " '/en/players/48a5a5d6/matchlogs/2022-2023/gca/Martinelli-Match-Logs',\n",
       " '/en/players/35e413f1/Ben-White',\n",
       " '/en/country/ENG/England-Football',\n",
       " '/en/players/35e413f1/matchlogs/2022-2023/gca/Ben-White-Match-Logs',\n",
       " '/en/players/529f49ab/Thomas-Partey',\n",
       " '/en/country/GHA/Ghana-Football',\n",
       " '/en/players/529f49ab/matchlogs/2022-2023/gca/Thomas-Partey-Match-Logs',\n",
       " '/en/players/51cf8561/Oleksandr-Zinchenko',\n",
       " '/en/country/UKR/Ukraine-Football',\n",
       " '/en/players/51cf8561/matchlogs/2022-2023/gca/Oleksandr-Zinchenko-Match-Logs',\n",
       " '/en/players/b66315ae/Gabriel-Jesus',\n",
       " '/en/country/BRA/Brazil-Football',\n",
       " '/en/players/b66315ae/matchlogs/2022-2023/gca/Gabriel-Jesus-Match-Logs',\n",
       " '/en/players/a53649b7/Eddie-Nketiah',\n",
       " '/en/country/ENG/England-Football',\n",
       " '/en/players/a53649b7/matchlogs/2022-2023/gca/Eddie-Nketiah-Match-Logs',\n",
       " '/en/players/b3af9be1/Takehiro-Tomiyasu',\n",
       " '/en/country/JPN/Japan-Football',\n",
       " '/en/players/b3af9be1/matchlogs/2022-2023/gca/Takehiro-Tomiyasu-Match-Logs',\n",
       " '/en/players/fce2302c/Kieran-Tierney',\n",
       " '/en/country/SCO/Scotland-Football',\n",
       " '/en/players/fce2302c/matchlogs/2022-2023/gca/Kieran-Tierney-Match-Logs',\n",
       " '/en/players/45db685d/Jorginho',\n",
       " '/en/country/ITA/Italy-Football',\n",
       " '/en/players/45db685d/matchlogs/2022-2023/gca/Jorginho-Match-Logs',\n",
       " '/en/players/1b4f1169/Albert-Sambi-Lokonga',\n",
       " '/en/country/BEL/Belgium-Football',\n",
       " '/en/players/1b4f1169/matchlogs/2022-2023/gca/Albert-Sambi-Lokonga-Match-Logs',\n",
       " '/en/players/6412cc03/Fabio-Vieira',\n",
       " '/en/country/POR/Portugal-Football',\n",
       " '/en/players/6412cc03/matchlogs/2022-2023/gca/Fabio-Vieira-Match-Logs',\n",
       " '/en/players/38ceb24a/Leandro-Trossard',\n",
       " '/en/country/BEL/Belgium-Football',\n",
       " '/en/players/38ceb24a/matchlogs/2022-2023/gca/Leandro-Trossard-Match-Logs',\n",
       " '/en/players/47a34c4f/Mohamed-Elneny',\n",
       " '/en/country/EGY/Egypt-Football',\n",
       " '/en/players/47a34c4f/matchlogs/2022-2023/gca/Mohamed-Elneny-Match-Logs',\n",
       " '/en/players/c5bdb6e3/Reiss-Nelson',\n",
       " '/en/country/ENG/England-Football',\n",
       " '/en/players/c5bdb6e3/matchlogs/2022-2023/gca/Reiss-Nelson-Match-Logs',\n",
       " '/en/players/17695062/Emile-Smith-Rowe',\n",
       " '/en/country/ENG/England-Football',\n",
       " '/en/players/17695062/matchlogs/2022-2023/gca/Emile-Smith-Rowe-Match-Logs',\n",
       " '/en/players/839c14e1/Cedric-Soares',\n",
       " '/en/country/POR/Portugal-Football',\n",
       " '/en/players/839c14e1/matchlogs/2022-2023/gca/Cedric-Soares-Match-Logs',\n",
       " '/en/players/d79a8c87/Rob-Holding',\n",
       " '/en/country/ENG/England-Football',\n",
       " '/en/players/d79a8c87/matchlogs/2022-2023/gca/Rob-Holding-Match-Logs',\n",
       " '/en/players/59878425/Marquinhos',\n",
       " '/en/country/BRA/Brazil-Football',\n",
       " '/en/players/59878425/matchlogs/2022-2023/gca/Marquinhos-Match-Logs',\n",
       " '/en/players/7f94982c/Ethan-Nwaneri',\n",
       " '/en/country/ENG/England-Football',\n",
       " '/en/players/7f94982c/matchlogs/2022-2023/gca/Ethan-Nwaneri-Match-Logs',\n",
       " '#coverage',\n",
       " '/en/expected-goals-model-explained/',\n",
       " 'https://www.statsperform.com/opta/',\n",
       " '/en/expected-goals-model-explained/#comps',\n",
       " '/en/players/67ac5bb8/Gabriel-Dos-Santos',\n",
       " '/en/country/BRA/Brazil-Football',\n",
       " '/en/players/67ac5bb8/matchlogs/2022-2023/defense/Gabriel-Dos-Santos-Match-Logs',\n",
       " '/en/players/466fb2c5/Aaron-Ramsdale',\n",
       " '/en/country/ENG/England-Football',\n",
       " '/en/players/466fb2c5/matchlogs/2022-2023/defense/Aaron-Ramsdale-Match-Logs',\n",
       " '/en/players/972aeb2a/William-Saliba',\n",
       " '/en/country/FRA/France-Football',\n",
       " '/en/players/972aeb2a/matchlogs/2022-2023/defense/William-Saliba-Match-Logs',\n",
       " '/en/players/bc7dc64d/Bukayo-Saka',\n",
       " '/en/country/ENG/England-Football',\n",
       " '/en/players/bc7dc64d/matchlogs/2022-2023/defense/Bukayo-Saka-Match-Logs',\n",
       " '/en/players/e61b8aee/Granit-Xhaka',\n",
       " '/en/country/SUI/Switzerland-Football',\n",
       " '/en/players/e61b8aee/matchlogs/2022-2023/defense/Granit-Xhaka-Match-Logs',\n",
       " '/en/players/79300479/Martin-Odegaard',\n",
       " '/en/country/NOR/Norway-Football',\n",
       " '/en/players/79300479/matchlogs/2022-2023/defense/Martin-Odegaard-Match-Logs',\n",
       " '/en/players/48a5a5d6/Martinelli',\n",
       " '/en/country/BRA/Brazil-Football',\n",
       " '/en/players/48a5a5d6/matchlogs/2022-2023/defense/Martinelli-Match-Logs',\n",
       " '/en/players/35e413f1/Ben-White',\n",
       " '/en/country/ENG/England-Football',\n",
       " '/en/players/35e413f1/matchlogs/2022-2023/defense/Ben-White-Match-Logs',\n",
       " '/en/players/529f49ab/Thomas-Partey',\n",
       " '/en/country/GHA/Ghana-Football',\n",
       " '/en/players/529f49ab/matchlogs/2022-2023/defense/Thomas-Partey-Match-Logs',\n",
       " '/en/players/51cf8561/Oleksandr-Zinchenko',\n",
       " '/en/country/UKR/Ukraine-Football',\n",
       " '/en/players/51cf8561/matchlogs/2022-2023/defense/Oleksandr-Zinchenko-Match-Logs',\n",
       " '/en/players/b66315ae/Gabriel-Jesus',\n",
       " '/en/country/BRA/Brazil-Football',\n",
       " '/en/players/b66315ae/matchlogs/2022-2023/defense/Gabriel-Jesus-Match-Logs',\n",
       " '/en/players/a53649b7/Eddie-Nketiah',\n",
       " '/en/country/ENG/England-Football',\n",
       " '/en/players/a53649b7/matchlogs/2022-2023/defense/Eddie-Nketiah-Match-Logs',\n",
       " '/en/players/b3af9be1/Takehiro-Tomiyasu',\n",
       " '/en/country/JPN/Japan-Football',\n",
       " '/en/players/b3af9be1/matchlogs/2022-2023/defense/Takehiro-Tomiyasu-Match-Logs',\n",
       " '/en/players/fce2302c/Kieran-Tierney',\n",
       " '/en/country/SCO/Scotland-Football',\n",
       " '/en/players/fce2302c/matchlogs/2022-2023/defense/Kieran-Tierney-Match-Logs',\n",
       " '/en/players/45db685d/Jorginho',\n",
       " '/en/country/ITA/Italy-Football',\n",
       " '/en/players/45db685d/matchlogs/2022-2023/defense/Jorginho-Match-Logs',\n",
       " '/en/players/1b4f1169/Albert-Sambi-Lokonga',\n",
       " '/en/country/BEL/Belgium-Football',\n",
       " '/en/players/1b4f1169/matchlogs/2022-2023/defense/Albert-Sambi-Lokonga-Match-Logs',\n",
       " '/en/players/6412cc03/Fabio-Vieira',\n",
       " '/en/country/POR/Portugal-Football',\n",
       " '/en/players/6412cc03/matchlogs/2022-2023/defense/Fabio-Vieira-Match-Logs',\n",
       " '/en/players/38ceb24a/Leandro-Trossard',\n",
       " '/en/country/BEL/Belgium-Football',\n",
       " '/en/players/38ceb24a/matchlogs/2022-2023/defense/Leandro-Trossard-Match-Logs',\n",
       " '/en/players/47a34c4f/Mohamed-Elneny',\n",
       " '/en/country/EGY/Egypt-Football',\n",
       " '/en/players/47a34c4f/matchlogs/2022-2023/defense/Mohamed-Elneny-Match-Logs',\n",
       " '/en/players/c5bdb6e3/Reiss-Nelson',\n",
       " '/en/country/ENG/England-Football',\n",
       " '/en/players/c5bdb6e3/matchlogs/2022-2023/defense/Reiss-Nelson-Match-Logs',\n",
       " '/en/players/17695062/Emile-Smith-Rowe',\n",
       " '/en/country/ENG/England-Football',\n",
       " '/en/players/17695062/matchlogs/2022-2023/defense/Emile-Smith-Rowe-Match-Logs',\n",
       " '/en/players/839c14e1/Cedric-Soares',\n",
       " '/en/country/POR/Portugal-Football',\n",
       " '/en/players/839c14e1/matchlogs/2022-2023/defense/Cedric-Soares-Match-Logs',\n",
       " '/en/players/d79a8c87/Rob-Holding',\n",
       " '/en/country/ENG/England-Football',\n",
       " '/en/players/d79a8c87/matchlogs/2022-2023/defense/Rob-Holding-Match-Logs',\n",
       " '/en/players/59878425/Marquinhos',\n",
       " '/en/country/BRA/Brazil-Football',\n",
       " '/en/players/59878425/matchlogs/2022-2023/defense/Marquinhos-Match-Logs',\n",
       " '/en/players/7f94982c/Ethan-Nwaneri',\n",
       " '/en/country/ENG/England-Football',\n",
       " '/en/players/7f94982c/matchlogs/2022-2023/defense/Ethan-Nwaneri-Match-Logs',\n",
       " '#coverage',\n",
       " '/en/expected-goals-model-explained/',\n",
       " 'https://www.statsperform.com/opta/',\n",
       " '/en/expected-goals-model-explained/#comps',\n",
       " '/en/players/67ac5bb8/Gabriel-Dos-Santos',\n",
       " '/en/country/BRA/Brazil-Football',\n",
       " '/en/players/67ac5bb8/matchlogs/2022-2023/possession/Gabriel-Dos-Santos-Match-Logs',\n",
       " '/en/players/466fb2c5/Aaron-Ramsdale',\n",
       " '/en/country/ENG/England-Football',\n",
       " '/en/players/466fb2c5/matchlogs/2022-2023/possession/Aaron-Ramsdale-Match-Logs',\n",
       " '/en/players/972aeb2a/William-Saliba',\n",
       " '/en/country/FRA/France-Football',\n",
       " '/en/players/972aeb2a/matchlogs/2022-2023/possession/William-Saliba-Match-Logs',\n",
       " '/en/players/bc7dc64d/Bukayo-Saka',\n",
       " '/en/country/ENG/England-Football',\n",
       " '/en/players/bc7dc64d/matchlogs/2022-2023/possession/Bukayo-Saka-Match-Logs',\n",
       " '/en/players/e61b8aee/Granit-Xhaka',\n",
       " '/en/country/SUI/Switzerland-Football',\n",
       " '/en/players/e61b8aee/matchlogs/2022-2023/possession/Granit-Xhaka-Match-Logs',\n",
       " '/en/players/79300479/Martin-Odegaard',\n",
       " '/en/country/NOR/Norway-Football',\n",
       " '/en/players/79300479/matchlogs/2022-2023/possession/Martin-Odegaard-Match-Logs',\n",
       " '/en/players/48a5a5d6/Martinelli',\n",
       " '/en/country/BRA/Brazil-Football',\n",
       " '/en/players/48a5a5d6/matchlogs/2022-2023/possession/Martinelli-Match-Logs',\n",
       " '/en/players/35e413f1/Ben-White',\n",
       " '/en/country/ENG/England-Football',\n",
       " '/en/players/35e413f1/matchlogs/2022-2023/possession/Ben-White-Match-Logs',\n",
       " '/en/players/529f49ab/Thomas-Partey',\n",
       " '/en/country/GHA/Ghana-Football',\n",
       " '/en/players/529f49ab/matchlogs/2022-2023/possession/Thomas-Partey-Match-Logs',\n",
       " '/en/players/51cf8561/Oleksandr-Zinchenko',\n",
       " '/en/country/UKR/Ukraine-Football',\n",
       " '/en/players/51cf8561/matchlogs/2022-2023/possession/Oleksandr-Zinchenko-Match-Logs',\n",
       " '/en/players/b66315ae/Gabriel-Jesus',\n",
       " '/en/country/BRA/Brazil-Football',\n",
       " '/en/players/b66315ae/matchlogs/2022-2023/possession/Gabriel-Jesus-Match-Logs',\n",
       " '/en/players/a53649b7/Eddie-Nketiah',\n",
       " '/en/country/ENG/England-Football',\n",
       " '/en/players/a53649b7/matchlogs/2022-2023/possession/Eddie-Nketiah-Match-Logs',\n",
       " '/en/players/b3af9be1/Takehiro-Tomiyasu',\n",
       " '/en/country/JPN/Japan-Football',\n",
       " '/en/players/b3af9be1/matchlogs/2022-2023/possession/Takehiro-Tomiyasu-Match-Logs',\n",
       " '/en/players/fce2302c/Kieran-Tierney',\n",
       " '/en/country/SCO/Scotland-Football',\n",
       " '/en/players/fce2302c/matchlogs/2022-2023/possession/Kieran-Tierney-Match-Logs',\n",
       " '/en/players/45db685d/Jorginho',\n",
       " '/en/country/ITA/Italy-Football',\n",
       " '/en/players/45db685d/matchlogs/2022-2023/possession/Jorginho-Match-Logs',\n",
       " '/en/players/1b4f1169/Albert-Sambi-Lokonga',\n",
       " '/en/country/BEL/Belgium-Football',\n",
       " '/en/players/1b4f1169/matchlogs/2022-2023/possession/Albert-Sambi-Lokonga-Match-Logs',\n",
       " '/en/players/6412cc03/Fabio-Vieira',\n",
       " '/en/country/POR/Portugal-Football',\n",
       " '/en/players/6412cc03/matchlogs/2022-2023/possession/Fabio-Vieira-Match-Logs',\n",
       " '/en/players/38ceb24a/Leandro-Trossard',\n",
       " '/en/country/BEL/Belgium-Football',\n",
       " '/en/players/38ceb24a/matchlogs/2022-2023/possession/Leandro-Trossard-Match-Logs',\n",
       " '/en/players/47a34c4f/Mohamed-Elneny',\n",
       " '/en/country/EGY/Egypt-Football',\n",
       " '/en/players/47a34c4f/matchlogs/2022-2023/possession/Mohamed-Elneny-Match-Logs',\n",
       " '/en/players/c5bdb6e3/Reiss-Nelson',\n",
       " '/en/country/ENG/England-Football',\n",
       " '/en/players/c5bdb6e3/matchlogs/2022-2023/possession/Reiss-Nelson-Match-Logs',\n",
       " ...]"
      ]
     },
     "execution_count": 37,
     "metadata": {},
     "output_type": "execute_result"
    }
   ],
   "source": [
    "shots"
   ]
  },
  {
   "cell_type": "code",
   "execution_count": 39,
   "id": "f943860c",
   "metadata": {},
   "outputs": [],
   "source": [
    "shots = [t for t in shots if t and 'all_comps/shooting/' in t] \n",
    "#This finds all the shooting links in the list of 4 \"href\"s but returns duplicate values."
   ]
  },
  {
   "cell_type": "code",
   "execution_count": 40,
   "id": "2a483c57",
   "metadata": {},
   "outputs": [],
   "source": [
    "data = requests.get(f\"https://fbref.com{shots[0]}\") \n",
    "#To complete the links for shooting stats"
   ]
  },
  {
   "cell_type": "code",
   "execution_count": 42,
   "id": "d2be6e67",
   "metadata": {},
   "outputs": [],
   "source": [
    "shooting = pd.read_html(data.text, match=\"Shooting\")[0] #Returns Arsenal's shooting data as a table"
   ]
  },
  {
   "cell_type": "code",
   "execution_count": 43,
   "id": "911223f7",
   "metadata": {},
   "outputs": [
    {
     "data": {
      "text/html": [
       "<div>\n",
       "<style scoped>\n",
       "    .dataframe tbody tr th:only-of-type {\n",
       "        vertical-align: middle;\n",
       "    }\n",
       "\n",
       "    .dataframe tbody tr th {\n",
       "        vertical-align: top;\n",
       "    }\n",
       "\n",
       "    .dataframe thead tr th {\n",
       "        text-align: left;\n",
       "    }\n",
       "</style>\n",
       "<table border=\"1\" class=\"dataframe\">\n",
       "  <thead>\n",
       "    <tr>\n",
       "      <th></th>\n",
       "      <th colspan=\"10\" halign=\"left\">For Arsenal</th>\n",
       "      <th>...</th>\n",
       "      <th colspan=\"4\" halign=\"left\">Standard</th>\n",
       "      <th colspan=\"5\" halign=\"left\">Expected</th>\n",
       "      <th>Unnamed: 25_level_0</th>\n",
       "    </tr>\n",
       "    <tr>\n",
       "      <th></th>\n",
       "      <th>Date</th>\n",
       "      <th>Time</th>\n",
       "      <th>Comp</th>\n",
       "      <th>Round</th>\n",
       "      <th>Day</th>\n",
       "      <th>Venue</th>\n",
       "      <th>Result</th>\n",
       "      <th>GF</th>\n",
       "      <th>GA</th>\n",
       "      <th>Opponent</th>\n",
       "      <th>...</th>\n",
       "      <th>Dist</th>\n",
       "      <th>FK</th>\n",
       "      <th>PK</th>\n",
       "      <th>PKatt</th>\n",
       "      <th>xG</th>\n",
       "      <th>npxG</th>\n",
       "      <th>npxG/Sh</th>\n",
       "      <th>G-xG</th>\n",
       "      <th>np:G-xG</th>\n",
       "      <th>Match Report</th>\n",
       "    </tr>\n",
       "  </thead>\n",
       "  <tbody>\n",
       "    <tr>\n",
       "      <th>0</th>\n",
       "      <td>2022-08-05</td>\n",
       "      <td>20:00</td>\n",
       "      <td>Premier League</td>\n",
       "      <td>Matchweek 1</td>\n",
       "      <td>Fri</td>\n",
       "      <td>Away</td>\n",
       "      <td>W</td>\n",
       "      <td>2</td>\n",
       "      <td>0</td>\n",
       "      <td>Crystal Palace</td>\n",
       "      <td>...</td>\n",
       "      <td>14.6</td>\n",
       "      <td>1.0</td>\n",
       "      <td>0</td>\n",
       "      <td>0</td>\n",
       "      <td>1.0</td>\n",
       "      <td>1.0</td>\n",
       "      <td>0.10</td>\n",
       "      <td>0.0</td>\n",
       "      <td>0.0</td>\n",
       "      <td>Match Report</td>\n",
       "    </tr>\n",
       "    <tr>\n",
       "      <th>1</th>\n",
       "      <td>2022-08-13</td>\n",
       "      <td>15:00</td>\n",
       "      <td>Premier League</td>\n",
       "      <td>Matchweek 2</td>\n",
       "      <td>Sat</td>\n",
       "      <td>Home</td>\n",
       "      <td>W</td>\n",
       "      <td>4</td>\n",
       "      <td>2</td>\n",
       "      <td>Leicester City</td>\n",
       "      <td>...</td>\n",
       "      <td>13.0</td>\n",
       "      <td>0.0</td>\n",
       "      <td>0</td>\n",
       "      <td>0</td>\n",
       "      <td>2.7</td>\n",
       "      <td>2.7</td>\n",
       "      <td>0.16</td>\n",
       "      <td>1.3</td>\n",
       "      <td>1.3</td>\n",
       "      <td>Match Report</td>\n",
       "    </tr>\n",
       "    <tr>\n",
       "      <th>2</th>\n",
       "      <td>2022-08-20</td>\n",
       "      <td>17:30</td>\n",
       "      <td>Premier League</td>\n",
       "      <td>Matchweek 3</td>\n",
       "      <td>Sat</td>\n",
       "      <td>Away</td>\n",
       "      <td>W</td>\n",
       "      <td>3</td>\n",
       "      <td>0</td>\n",
       "      <td>Bournemouth</td>\n",
       "      <td>...</td>\n",
       "      <td>14.8</td>\n",
       "      <td>0.0</td>\n",
       "      <td>0</td>\n",
       "      <td>0</td>\n",
       "      <td>1.3</td>\n",
       "      <td>1.3</td>\n",
       "      <td>0.10</td>\n",
       "      <td>1.7</td>\n",
       "      <td>1.7</td>\n",
       "      <td>Match Report</td>\n",
       "    </tr>\n",
       "    <tr>\n",
       "      <th>3</th>\n",
       "      <td>2022-08-27</td>\n",
       "      <td>17:30</td>\n",
       "      <td>Premier League</td>\n",
       "      <td>Matchweek 4</td>\n",
       "      <td>Sat</td>\n",
       "      <td>Home</td>\n",
       "      <td>W</td>\n",
       "      <td>2</td>\n",
       "      <td>1</td>\n",
       "      <td>Fulham</td>\n",
       "      <td>...</td>\n",
       "      <td>15.5</td>\n",
       "      <td>1.0</td>\n",
       "      <td>0</td>\n",
       "      <td>0</td>\n",
       "      <td>2.6</td>\n",
       "      <td>2.6</td>\n",
       "      <td>0.12</td>\n",
       "      <td>-0.6</td>\n",
       "      <td>-0.6</td>\n",
       "      <td>Match Report</td>\n",
       "    </tr>\n",
       "    <tr>\n",
       "      <th>4</th>\n",
       "      <td>2022-08-31</td>\n",
       "      <td>19:30</td>\n",
       "      <td>Premier League</td>\n",
       "      <td>Matchweek 5</td>\n",
       "      <td>Wed</td>\n",
       "      <td>Home</td>\n",
       "      <td>W</td>\n",
       "      <td>2</td>\n",
       "      <td>1</td>\n",
       "      <td>Aston Villa</td>\n",
       "      <td>...</td>\n",
       "      <td>16.3</td>\n",
       "      <td>1.0</td>\n",
       "      <td>0</td>\n",
       "      <td>0</td>\n",
       "      <td>2.4</td>\n",
       "      <td>2.4</td>\n",
       "      <td>0.12</td>\n",
       "      <td>-0.4</td>\n",
       "      <td>-0.4</td>\n",
       "      <td>Match Report</td>\n",
       "    </tr>\n",
       "  </tbody>\n",
       "</table>\n",
       "<p>5 rows × 26 columns</p>\n",
       "</div>"
      ],
      "text/plain": [
       "  For Arsenal                                                              \\\n",
       "         Date   Time            Comp        Round  Day Venue Result GF GA   \n",
       "0  2022-08-05  20:00  Premier League  Matchweek 1  Fri  Away      W  2  0   \n",
       "1  2022-08-13  15:00  Premier League  Matchweek 2  Sat  Home      W  4  2   \n",
       "2  2022-08-20  17:30  Premier League  Matchweek 3  Sat  Away      W  3  0   \n",
       "3  2022-08-27  17:30  Premier League  Matchweek 4  Sat  Home      W  2  1   \n",
       "4  2022-08-31  19:30  Premier League  Matchweek 5  Wed  Home      W  2  1   \n",
       "\n",
       "                   ... Standard               Expected                    \\\n",
       "         Opponent  ...     Dist   FK PK PKatt       xG npxG npxG/Sh G-xG   \n",
       "0  Crystal Palace  ...     14.6  1.0  0     0      1.0  1.0    0.10  0.0   \n",
       "1  Leicester City  ...     13.0  0.0  0     0      2.7  2.7    0.16  1.3   \n",
       "2     Bournemouth  ...     14.8  0.0  0     0      1.3  1.3    0.10  1.7   \n",
       "3          Fulham  ...     15.5  1.0  0     0      2.6  2.6    0.12 -0.6   \n",
       "4     Aston Villa  ...     16.3  1.0  0     0      2.4  2.4    0.12 -0.4   \n",
       "\n",
       "          Unnamed: 25_level_0  \n",
       "  np:G-xG        Match Report  \n",
       "0     0.0        Match Report  \n",
       "1     1.3        Match Report  \n",
       "2     1.7        Match Report  \n",
       "3    -0.6        Match Report  \n",
       "4    -0.4        Match Report  \n",
       "\n",
       "[5 rows x 26 columns]"
      ]
     },
     "execution_count": 43,
     "metadata": {},
     "output_type": "execute_result"
    }
   ],
   "source": [
    "shooting.head() # returns the first 5 rows"
   ]
  },
  {
   "cell_type": "code",
   "execution_count": 44,
   "id": "93347586",
   "metadata": {},
   "outputs": [],
   "source": [
    "shooting.columns = shooting.columns.droplevel()\n",
    "#To get rid of the multi-level index which prevents us from making calculations"
   ]
  },
  {
   "cell_type": "code",
   "execution_count": 45,
   "id": "7d4fb31c",
   "metadata": {},
   "outputs": [
    {
     "data": {
      "text/html": [
       "<div>\n",
       "<style scoped>\n",
       "    .dataframe tbody tr th:only-of-type {\n",
       "        vertical-align: middle;\n",
       "    }\n",
       "\n",
       "    .dataframe tbody tr th {\n",
       "        vertical-align: top;\n",
       "    }\n",
       "\n",
       "    .dataframe thead th {\n",
       "        text-align: right;\n",
       "    }\n",
       "</style>\n",
       "<table border=\"1\" class=\"dataframe\">\n",
       "  <thead>\n",
       "    <tr style=\"text-align: right;\">\n",
       "      <th></th>\n",
       "      <th>Date</th>\n",
       "      <th>Time</th>\n",
       "      <th>Comp</th>\n",
       "      <th>Round</th>\n",
       "      <th>Day</th>\n",
       "      <th>Venue</th>\n",
       "      <th>Result</th>\n",
       "      <th>GF</th>\n",
       "      <th>GA</th>\n",
       "      <th>Opponent</th>\n",
       "      <th>...</th>\n",
       "      <th>Dist</th>\n",
       "      <th>FK</th>\n",
       "      <th>PK</th>\n",
       "      <th>PKatt</th>\n",
       "      <th>xG</th>\n",
       "      <th>npxG</th>\n",
       "      <th>npxG/Sh</th>\n",
       "      <th>G-xG</th>\n",
       "      <th>np:G-xG</th>\n",
       "      <th>Match Report</th>\n",
       "    </tr>\n",
       "  </thead>\n",
       "  <tbody>\n",
       "    <tr>\n",
       "      <th>0</th>\n",
       "      <td>2022-08-05</td>\n",
       "      <td>20:00</td>\n",
       "      <td>Premier League</td>\n",
       "      <td>Matchweek 1</td>\n",
       "      <td>Fri</td>\n",
       "      <td>Away</td>\n",
       "      <td>W</td>\n",
       "      <td>2</td>\n",
       "      <td>0</td>\n",
       "      <td>Crystal Palace</td>\n",
       "      <td>...</td>\n",
       "      <td>14.6</td>\n",
       "      <td>1.0</td>\n",
       "      <td>0</td>\n",
       "      <td>0</td>\n",
       "      <td>1.0</td>\n",
       "      <td>1.0</td>\n",
       "      <td>0.10</td>\n",
       "      <td>0.0</td>\n",
       "      <td>0.0</td>\n",
       "      <td>Match Report</td>\n",
       "    </tr>\n",
       "    <tr>\n",
       "      <th>1</th>\n",
       "      <td>2022-08-13</td>\n",
       "      <td>15:00</td>\n",
       "      <td>Premier League</td>\n",
       "      <td>Matchweek 2</td>\n",
       "      <td>Sat</td>\n",
       "      <td>Home</td>\n",
       "      <td>W</td>\n",
       "      <td>4</td>\n",
       "      <td>2</td>\n",
       "      <td>Leicester City</td>\n",
       "      <td>...</td>\n",
       "      <td>13.0</td>\n",
       "      <td>0.0</td>\n",
       "      <td>0</td>\n",
       "      <td>0</td>\n",
       "      <td>2.7</td>\n",
       "      <td>2.7</td>\n",
       "      <td>0.16</td>\n",
       "      <td>1.3</td>\n",
       "      <td>1.3</td>\n",
       "      <td>Match Report</td>\n",
       "    </tr>\n",
       "    <tr>\n",
       "      <th>2</th>\n",
       "      <td>2022-08-20</td>\n",
       "      <td>17:30</td>\n",
       "      <td>Premier League</td>\n",
       "      <td>Matchweek 3</td>\n",
       "      <td>Sat</td>\n",
       "      <td>Away</td>\n",
       "      <td>W</td>\n",
       "      <td>3</td>\n",
       "      <td>0</td>\n",
       "      <td>Bournemouth</td>\n",
       "      <td>...</td>\n",
       "      <td>14.8</td>\n",
       "      <td>0.0</td>\n",
       "      <td>0</td>\n",
       "      <td>0</td>\n",
       "      <td>1.3</td>\n",
       "      <td>1.3</td>\n",
       "      <td>0.10</td>\n",
       "      <td>1.7</td>\n",
       "      <td>1.7</td>\n",
       "      <td>Match Report</td>\n",
       "    </tr>\n",
       "    <tr>\n",
       "      <th>3</th>\n",
       "      <td>2022-08-27</td>\n",
       "      <td>17:30</td>\n",
       "      <td>Premier League</td>\n",
       "      <td>Matchweek 4</td>\n",
       "      <td>Sat</td>\n",
       "      <td>Home</td>\n",
       "      <td>W</td>\n",
       "      <td>2</td>\n",
       "      <td>1</td>\n",
       "      <td>Fulham</td>\n",
       "      <td>...</td>\n",
       "      <td>15.5</td>\n",
       "      <td>1.0</td>\n",
       "      <td>0</td>\n",
       "      <td>0</td>\n",
       "      <td>2.6</td>\n",
       "      <td>2.6</td>\n",
       "      <td>0.12</td>\n",
       "      <td>-0.6</td>\n",
       "      <td>-0.6</td>\n",
       "      <td>Match Report</td>\n",
       "    </tr>\n",
       "    <tr>\n",
       "      <th>4</th>\n",
       "      <td>2022-08-31</td>\n",
       "      <td>19:30</td>\n",
       "      <td>Premier League</td>\n",
       "      <td>Matchweek 5</td>\n",
       "      <td>Wed</td>\n",
       "      <td>Home</td>\n",
       "      <td>W</td>\n",
       "      <td>2</td>\n",
       "      <td>1</td>\n",
       "      <td>Aston Villa</td>\n",
       "      <td>...</td>\n",
       "      <td>16.3</td>\n",
       "      <td>1.0</td>\n",
       "      <td>0</td>\n",
       "      <td>0</td>\n",
       "      <td>2.4</td>\n",
       "      <td>2.4</td>\n",
       "      <td>0.12</td>\n",
       "      <td>-0.4</td>\n",
       "      <td>-0.4</td>\n",
       "      <td>Match Report</td>\n",
       "    </tr>\n",
       "  </tbody>\n",
       "</table>\n",
       "<p>5 rows × 26 columns</p>\n",
       "</div>"
      ],
      "text/plain": [
       "         Date   Time            Comp        Round  Day Venue Result  GF  GA  \\\n",
       "0  2022-08-05  20:00  Premier League  Matchweek 1  Fri  Away      W   2   0   \n",
       "1  2022-08-13  15:00  Premier League  Matchweek 2  Sat  Home      W   4   2   \n",
       "2  2022-08-20  17:30  Premier League  Matchweek 3  Sat  Away      W   3   0   \n",
       "3  2022-08-27  17:30  Premier League  Matchweek 4  Sat  Home      W   2   1   \n",
       "4  2022-08-31  19:30  Premier League  Matchweek 5  Wed  Home      W   2   1   \n",
       "\n",
       "         Opponent  ...  Dist   FK  PK  PKatt   xG  npxG  npxG/Sh  G-xG  \\\n",
       "0  Crystal Palace  ...  14.6  1.0   0      0  1.0   1.0     0.10   0.0   \n",
       "1  Leicester City  ...  13.0  0.0   0      0  2.7   2.7     0.16   1.3   \n",
       "2     Bournemouth  ...  14.8  0.0   0      0  1.3   1.3     0.10   1.7   \n",
       "3          Fulham  ...  15.5  1.0   0      0  2.6   2.6     0.12  -0.6   \n",
       "4     Aston Villa  ...  16.3  1.0   0      0  2.4   2.4     0.12  -0.4   \n",
       "\n",
       "   np:G-xG  Match Report  \n",
       "0      0.0  Match Report  \n",
       "1      1.3  Match Report  \n",
       "2      1.7  Match Report  \n",
       "3     -0.6  Match Report  \n",
       "4     -0.4  Match Report  \n",
       "\n",
       "[5 rows x 26 columns]"
      ]
     },
     "execution_count": 45,
     "metadata": {},
     "output_type": "execute_result"
    }
   ],
   "source": [
    "shooting.head()"
   ]
  },
  {
   "cell_type": "code",
   "execution_count": 46,
   "id": "df64a260",
   "metadata": {},
   "outputs": [],
   "source": [
    "team_data = matches[0].merge(shooting[[\"Date\",\"Sh\",\"SoT\",\"Dist\",\"FK\",\"PK\",\"PKatt\"]], on=\"Date\")\n",
    "## To merge the shooting stats table with the match stats table on the \"Date\" column"
   ]
  },
  {
   "cell_type": "code",
   "execution_count": 47,
   "id": "7dd1f6fe",
   "metadata": {
    "scrolled": true
   },
   "outputs": [
    {
     "data": {
      "text/html": [
       "<div>\n",
       "<style scoped>\n",
       "    .dataframe tbody tr th:only-of-type {\n",
       "        vertical-align: middle;\n",
       "    }\n",
       "\n",
       "    .dataframe tbody tr th {\n",
       "        vertical-align: top;\n",
       "    }\n",
       "\n",
       "    .dataframe thead th {\n",
       "        text-align: right;\n",
       "    }\n",
       "</style>\n",
       "<table border=\"1\" class=\"dataframe\">\n",
       "  <thead>\n",
       "    <tr style=\"text-align: right;\">\n",
       "      <th></th>\n",
       "      <th>Date</th>\n",
       "      <th>Time</th>\n",
       "      <th>Comp</th>\n",
       "      <th>Round</th>\n",
       "      <th>Day</th>\n",
       "      <th>Venue</th>\n",
       "      <th>Result</th>\n",
       "      <th>GF</th>\n",
       "      <th>GA</th>\n",
       "      <th>Opponent</th>\n",
       "      <th>...</th>\n",
       "      <th>Formation</th>\n",
       "      <th>Referee</th>\n",
       "      <th>Match Report</th>\n",
       "      <th>Notes</th>\n",
       "      <th>Sh</th>\n",
       "      <th>SoT</th>\n",
       "      <th>Dist</th>\n",
       "      <th>FK</th>\n",
       "      <th>PK</th>\n",
       "      <th>PKatt</th>\n",
       "    </tr>\n",
       "  </thead>\n",
       "  <tbody>\n",
       "    <tr>\n",
       "      <th>0</th>\n",
       "      <td>2022-08-05</td>\n",
       "      <td>20:00</td>\n",
       "      <td>Premier League</td>\n",
       "      <td>Matchweek 1</td>\n",
       "      <td>Fri</td>\n",
       "      <td>Away</td>\n",
       "      <td>W</td>\n",
       "      <td>2.0</td>\n",
       "      <td>0.0</td>\n",
       "      <td>Crystal Palace</td>\n",
       "      <td>...</td>\n",
       "      <td>4-3-3</td>\n",
       "      <td>Anthony Taylor</td>\n",
       "      <td>Match Report</td>\n",
       "      <td>NaN</td>\n",
       "      <td>10</td>\n",
       "      <td>2</td>\n",
       "      <td>14.6</td>\n",
       "      <td>1.0</td>\n",
       "      <td>0</td>\n",
       "      <td>0</td>\n",
       "    </tr>\n",
       "    <tr>\n",
       "      <th>1</th>\n",
       "      <td>2022-08-13</td>\n",
       "      <td>15:00</td>\n",
       "      <td>Premier League</td>\n",
       "      <td>Matchweek 2</td>\n",
       "      <td>Sat</td>\n",
       "      <td>Home</td>\n",
       "      <td>W</td>\n",
       "      <td>4.0</td>\n",
       "      <td>2.0</td>\n",
       "      <td>Leicester City</td>\n",
       "      <td>...</td>\n",
       "      <td>4-3-3</td>\n",
       "      <td>Darren England</td>\n",
       "      <td>Match Report</td>\n",
       "      <td>NaN</td>\n",
       "      <td>19</td>\n",
       "      <td>7</td>\n",
       "      <td>13.0</td>\n",
       "      <td>0.0</td>\n",
       "      <td>0</td>\n",
       "      <td>0</td>\n",
       "    </tr>\n",
       "    <tr>\n",
       "      <th>2</th>\n",
       "      <td>2022-08-20</td>\n",
       "      <td>17:30</td>\n",
       "      <td>Premier League</td>\n",
       "      <td>Matchweek 3</td>\n",
       "      <td>Sat</td>\n",
       "      <td>Away</td>\n",
       "      <td>W</td>\n",
       "      <td>3.0</td>\n",
       "      <td>0.0</td>\n",
       "      <td>Bournemouth</td>\n",
       "      <td>...</td>\n",
       "      <td>4-3-3</td>\n",
       "      <td>Craig Pawson</td>\n",
       "      <td>Match Report</td>\n",
       "      <td>NaN</td>\n",
       "      <td>14</td>\n",
       "      <td>6</td>\n",
       "      <td>14.8</td>\n",
       "      <td>0.0</td>\n",
       "      <td>0</td>\n",
       "      <td>0</td>\n",
       "    </tr>\n",
       "    <tr>\n",
       "      <th>3</th>\n",
       "      <td>2022-08-27</td>\n",
       "      <td>17:30</td>\n",
       "      <td>Premier League</td>\n",
       "      <td>Matchweek 4</td>\n",
       "      <td>Sat</td>\n",
       "      <td>Home</td>\n",
       "      <td>W</td>\n",
       "      <td>2.0</td>\n",
       "      <td>1.0</td>\n",
       "      <td>Fulham</td>\n",
       "      <td>...</td>\n",
       "      <td>4-3-3</td>\n",
       "      <td>Jarred Gillett</td>\n",
       "      <td>Match Report</td>\n",
       "      <td>NaN</td>\n",
       "      <td>22</td>\n",
       "      <td>8</td>\n",
       "      <td>15.5</td>\n",
       "      <td>1.0</td>\n",
       "      <td>0</td>\n",
       "      <td>0</td>\n",
       "    </tr>\n",
       "    <tr>\n",
       "      <th>4</th>\n",
       "      <td>2022-08-31</td>\n",
       "      <td>19:30</td>\n",
       "      <td>Premier League</td>\n",
       "      <td>Matchweek 5</td>\n",
       "      <td>Wed</td>\n",
       "      <td>Home</td>\n",
       "      <td>W</td>\n",
       "      <td>2.0</td>\n",
       "      <td>1.0</td>\n",
       "      <td>Aston Villa</td>\n",
       "      <td>...</td>\n",
       "      <td>4-3-3</td>\n",
       "      <td>Robert Jones</td>\n",
       "      <td>Match Report</td>\n",
       "      <td>NaN</td>\n",
       "      <td>22</td>\n",
       "      <td>8</td>\n",
       "      <td>16.3</td>\n",
       "      <td>1.0</td>\n",
       "      <td>0</td>\n",
       "      <td>0</td>\n",
       "    </tr>\n",
       "  </tbody>\n",
       "</table>\n",
       "<p>5 rows × 25 columns</p>\n",
       "</div>"
      ],
      "text/plain": [
       "         Date   Time            Comp        Round  Day Venue Result   GF   GA  \\\n",
       "0  2022-08-05  20:00  Premier League  Matchweek 1  Fri  Away      W  2.0  0.0   \n",
       "1  2022-08-13  15:00  Premier League  Matchweek 2  Sat  Home      W  4.0  2.0   \n",
       "2  2022-08-20  17:30  Premier League  Matchweek 3  Sat  Away      W  3.0  0.0   \n",
       "3  2022-08-27  17:30  Premier League  Matchweek 4  Sat  Home      W  2.0  1.0   \n",
       "4  2022-08-31  19:30  Premier League  Matchweek 5  Wed  Home      W  2.0  1.0   \n",
       "\n",
       "         Opponent  ...  Formation         Referee  Match Report  Notes  Sh  \\\n",
       "0  Crystal Palace  ...      4-3-3  Anthony Taylor  Match Report    NaN  10   \n",
       "1  Leicester City  ...      4-3-3  Darren England  Match Report    NaN  19   \n",
       "2     Bournemouth  ...      4-3-3    Craig Pawson  Match Report    NaN  14   \n",
       "3          Fulham  ...      4-3-3  Jarred Gillett  Match Report    NaN  22   \n",
       "4     Aston Villa  ...      4-3-3    Robert Jones  Match Report    NaN  22   \n",
       "\n",
       "  SoT  Dist   FK  PK  PKatt  \n",
       "0   2  14.6  1.0   0      0  \n",
       "1   7  13.0  0.0   0      0  \n",
       "2   6  14.8  0.0   0      0  \n",
       "3   8  15.5  1.0   0      0  \n",
       "4   8  16.3  1.0   0      0  \n",
       "\n",
       "[5 rows x 25 columns]"
      ]
     },
     "execution_count": 47,
     "metadata": {},
     "output_type": "execute_result"
    }
   ],
   "source": [
    "team_data.head()"
   ]
  },
  {
   "cell_type": "code",
   "execution_count": 48,
   "id": "ee1effb0",
   "metadata": {},
   "outputs": [
    {
     "data": {
      "text/plain": [
       "(32, 25)"
      ]
     },
     "execution_count": 48,
     "metadata": {},
     "output_type": "execute_result"
    }
   ],
   "source": [
    "team_data.shape"
   ]
  },
  {
   "cell_type": "markdown",
   "id": "013e2a62",
   "metadata": {},
   "source": [
    "### Scraping at a Larger Scale over Multiple Seasons"
   ]
  },
  {
   "cell_type": "code",
   "execution_count": 49,
   "id": "4b964635",
   "metadata": {},
   "outputs": [],
   "source": [
    "years = list(range(2022,2020, -1)) #Creates a list starting from 2023 and ending at 2022"
   ]
  },
  {
   "cell_type": "code",
   "execution_count": 53,
   "id": "88b21966",
   "metadata": {},
   "outputs": [
    {
     "data": {
      "text/plain": [
       "[2022, 2021]"
      ]
     },
     "execution_count": 53,
     "metadata": {},
     "output_type": "execute_result"
    }
   ],
   "source": [
    "years "
   ]
  },
  {
   "cell_type": "code",
   "execution_count": 54,
   "id": "5e3a87fb",
   "metadata": {},
   "outputs": [],
   "source": [
    "all_matches = []"
   ]
  },
  {
   "cell_type": "code",
   "execution_count": 52,
   "id": "587b1d54",
   "metadata": {},
   "outputs": [],
   "source": [
    "standings_url = 'https://fbref.com/en/comps/9/Premier-League-Stats'"
   ]
  },
  {
   "cell_type": "code",
   "execution_count": 55,
   "id": "1f76a3c8",
   "metadata": {},
   "outputs": [],
   "source": [
    "for year in years: #To gather information based on the years in our list\n",
    "    data = requests.get(standings_url)\n",
    "    soup = BeautifulSoup(data.text)\n",
    "    standings_table = soup.select('table.stats_table')[0]\n",
    "    #Selects the first HTML table element with the CSS class name \"stats_table\"\n",
    "    links = [l.get(\"href\") for l in standings_table.find_all('a')]\n",
    "    #List comprehension to get the 'href' in my standings_table\n",
    "    squads = [l for l in links if '/squads/' in l]\n",
    "    #List comprehension to get the links with 'squads' in it\n",
    "    team_urls = [f\"https://fbref.com{l}\" for l in squads]\n",
    "    #list comprehension to turn the links from relative to absolute links\n",
    "    previous_season = soup.select(\"a.prev\")[0].get(\"href\")\n",
    "    #To get the Href link for the previous season\n",
    "    standings_url = f\"http://fbref.com/{previous_season}\"\n",
    "    #To complete the url\n",
    "    for team_url in team_urls:\n",
    "        team_name = team_url.split(\"/\")[-1].replace(\"-Stats\",\"\").replace(\"-\",\" \")\n",
    "        #To remove any extra characters from the team url and returns the team name \n",
    "        data = requests.get(team_url)\n",
    "        matches = pd.read_html(data.text, match=\"Scores & Fixtures\")[0]\n",
    "        #This gives me the first table (Scores and Fixtures as opposed to multiple tables!)\n",
    "        \n",
    "        soup = BeautifulSoup(data.text)\n",
    "        tot_shots = [s.get(\"href\") for s in soup.find_all('a')]\n",
    "        total_shots = [t for t in tot_shots if t and 'all_comps/shooting/' in t]\n",
    "        #To get the shooting stats table url\n",
    "        data = requests.get(f\"https://fbref.com{total_shots[0]}\")\n",
    "        shooting = pd.read_html(data.text, match=\"Shooting\")[0]\n",
    "        #To get the table for Shooting stats\n",
    "        shooting.columns = shooting.columns.droplevel()\n",
    "        #This removes the top row as it is unnecesary\n",
    "        try:\n",
    "            team_data = matches.merge(shooting[[\"Date\",\"Sh\",\"SoT\",\"Dist\",\"FK\",\"PK\",\"PKatt\"]], on=\"Date\")\n",
    "        #This code takes a subset of the shooting DataFrame, containing \n",
    "        #only the \"Date\" and certain shooting statistics columns, and merges it with the matches \n",
    "        \n",
    "        except ValueError:\n",
    "            continue\n",
    "         #If the merge fails for any reason, such as if the \"Date\" or \"shooting stats do not exist in one or both of the DataFrames, \n",
    "         #a ValueError will be raised.\n",
    "            \n",
    "            \n",
    "        team_data = team_data[team_data[\"Comp\"] == \"Premier League\"]\n",
    "        #Only shows values in the \"Comp\" column where Premier League is the \"Competition\"\n",
    "        \n",
    "        team_data[\"Season\"] = year\n",
    "        #Specifies what season a match strat is from\n",
    "        team_data[\"Team\"] = team_name\n",
    "        #This shows what team the data refers to in the table\n",
    "        all_matches.append(team_data)\n",
    "        time.sleep(4)\n",
    "    "
   ]
  },
  {
   "cell_type": "code",
   "execution_count": 56,
   "id": "856e2341",
   "metadata": {},
   "outputs": [],
   "source": [
    "matches_df = pd.concat(all_matches)\n",
    "#This concatenates my list of DataFrames horizontally into one single DataFrame"
   ]
  },
  {
   "cell_type": "code",
   "execution_count": 556,
   "id": "307b7a85",
   "metadata": {
    "scrolled": false
   },
   "outputs": [
    {
     "data": {
      "text/html": [
       "<div>\n",
       "<style scoped>\n",
       "    .dataframe tbody tr th:only-of-type {\n",
       "        vertical-align: middle;\n",
       "    }\n",
       "\n",
       "    .dataframe tbody tr th {\n",
       "        vertical-align: top;\n",
       "    }\n",
       "\n",
       "    .dataframe thead th {\n",
       "        text-align: right;\n",
       "    }\n",
       "</style>\n",
       "<table border=\"1\" class=\"dataframe\">\n",
       "  <thead>\n",
       "    <tr style=\"text-align: right;\">\n",
       "      <th></th>\n",
       "      <th>Date</th>\n",
       "      <th>Time</th>\n",
       "      <th>Comp</th>\n",
       "      <th>Round</th>\n",
       "      <th>Day</th>\n",
       "      <th>Venue</th>\n",
       "      <th>Result</th>\n",
       "      <th>GF</th>\n",
       "      <th>GA</th>\n",
       "      <th>Opponent</th>\n",
       "      <th>...</th>\n",
       "      <th>Match Report</th>\n",
       "      <th>Notes</th>\n",
       "      <th>Sh</th>\n",
       "      <th>SoT</th>\n",
       "      <th>Dist</th>\n",
       "      <th>FK</th>\n",
       "      <th>PK</th>\n",
       "      <th>PKatt</th>\n",
       "      <th>Season</th>\n",
       "      <th>Team</th>\n",
       "    </tr>\n",
       "  </thead>\n",
       "  <tbody>\n",
       "    <tr>\n",
       "      <th>0</th>\n",
       "      <td>2022-08-05</td>\n",
       "      <td>20:00</td>\n",
       "      <td>Premier League</td>\n",
       "      <td>Matchweek 1</td>\n",
       "      <td>Fri</td>\n",
       "      <td>Away</td>\n",
       "      <td>W</td>\n",
       "      <td>2.0</td>\n",
       "      <td>0.0</td>\n",
       "      <td>Crystal Palace</td>\n",
       "      <td>...</td>\n",
       "      <td>Match Report</td>\n",
       "      <td>NaN</td>\n",
       "      <td>10.0</td>\n",
       "      <td>2.0</td>\n",
       "      <td>14.6</td>\n",
       "      <td>1.0</td>\n",
       "      <td>0.0</td>\n",
       "      <td>0.0</td>\n",
       "      <td>2022</td>\n",
       "      <td>Arsenal</td>\n",
       "    </tr>\n",
       "    <tr>\n",
       "      <th>1</th>\n",
       "      <td>2022-08-13</td>\n",
       "      <td>15:00</td>\n",
       "      <td>Premier League</td>\n",
       "      <td>Matchweek 2</td>\n",
       "      <td>Sat</td>\n",
       "      <td>Home</td>\n",
       "      <td>W</td>\n",
       "      <td>4.0</td>\n",
       "      <td>2.0</td>\n",
       "      <td>Leicester City</td>\n",
       "      <td>...</td>\n",
       "      <td>Match Report</td>\n",
       "      <td>NaN</td>\n",
       "      <td>19.0</td>\n",
       "      <td>7.0</td>\n",
       "      <td>13.0</td>\n",
       "      <td>0.0</td>\n",
       "      <td>0.0</td>\n",
       "      <td>0.0</td>\n",
       "      <td>2022</td>\n",
       "      <td>Arsenal</td>\n",
       "    </tr>\n",
       "    <tr>\n",
       "      <th>2</th>\n",
       "      <td>2022-08-20</td>\n",
       "      <td>17:30</td>\n",
       "      <td>Premier League</td>\n",
       "      <td>Matchweek 3</td>\n",
       "      <td>Sat</td>\n",
       "      <td>Away</td>\n",
       "      <td>W</td>\n",
       "      <td>3.0</td>\n",
       "      <td>0.0</td>\n",
       "      <td>Bournemouth</td>\n",
       "      <td>...</td>\n",
       "      <td>Match Report</td>\n",
       "      <td>NaN</td>\n",
       "      <td>14.0</td>\n",
       "      <td>6.0</td>\n",
       "      <td>14.8</td>\n",
       "      <td>0.0</td>\n",
       "      <td>0.0</td>\n",
       "      <td>0.0</td>\n",
       "      <td>2022</td>\n",
       "      <td>Arsenal</td>\n",
       "    </tr>\n",
       "    <tr>\n",
       "      <th>3</th>\n",
       "      <td>2022-08-27</td>\n",
       "      <td>17:30</td>\n",
       "      <td>Premier League</td>\n",
       "      <td>Matchweek 4</td>\n",
       "      <td>Sat</td>\n",
       "      <td>Home</td>\n",
       "      <td>W</td>\n",
       "      <td>2.0</td>\n",
       "      <td>1.0</td>\n",
       "      <td>Fulham</td>\n",
       "      <td>...</td>\n",
       "      <td>Match Report</td>\n",
       "      <td>NaN</td>\n",
       "      <td>22.0</td>\n",
       "      <td>8.0</td>\n",
       "      <td>15.5</td>\n",
       "      <td>1.0</td>\n",
       "      <td>0.0</td>\n",
       "      <td>0.0</td>\n",
       "      <td>2022</td>\n",
       "      <td>Arsenal</td>\n",
       "    </tr>\n",
       "    <tr>\n",
       "      <th>4</th>\n",
       "      <td>2022-08-31</td>\n",
       "      <td>19:30</td>\n",
       "      <td>Premier League</td>\n",
       "      <td>Matchweek 5</td>\n",
       "      <td>Wed</td>\n",
       "      <td>Home</td>\n",
       "      <td>W</td>\n",
       "      <td>2.0</td>\n",
       "      <td>1.0</td>\n",
       "      <td>Aston Villa</td>\n",
       "      <td>...</td>\n",
       "      <td>Match Report</td>\n",
       "      <td>NaN</td>\n",
       "      <td>22.0</td>\n",
       "      <td>8.0</td>\n",
       "      <td>16.3</td>\n",
       "      <td>1.0</td>\n",
       "      <td>0.0</td>\n",
       "      <td>0.0</td>\n",
       "      <td>2022</td>\n",
       "      <td>Arsenal</td>\n",
       "    </tr>\n",
       "    <tr>\n",
       "      <th>5</th>\n",
       "      <td>2022-09-04</td>\n",
       "      <td>16:30</td>\n",
       "      <td>Premier League</td>\n",
       "      <td>Matchweek 6</td>\n",
       "      <td>Sun</td>\n",
       "      <td>Away</td>\n",
       "      <td>L</td>\n",
       "      <td>1.0</td>\n",
       "      <td>3.0</td>\n",
       "      <td>Manchester Utd</td>\n",
       "      <td>...</td>\n",
       "      <td>Match Report</td>\n",
       "      <td>NaN</td>\n",
       "      <td>16.0</td>\n",
       "      <td>3.0</td>\n",
       "      <td>18.6</td>\n",
       "      <td>1.0</td>\n",
       "      <td>0.0</td>\n",
       "      <td>0.0</td>\n",
       "      <td>2022</td>\n",
       "      <td>Arsenal</td>\n",
       "    </tr>\n",
       "    <tr>\n",
       "      <th>7</th>\n",
       "      <td>2022-09-18</td>\n",
       "      <td>12:00</td>\n",
       "      <td>Premier League</td>\n",
       "      <td>Matchweek 8</td>\n",
       "      <td>Sun</td>\n",
       "      <td>Away</td>\n",
       "      <td>W</td>\n",
       "      <td>3.0</td>\n",
       "      <td>0.0</td>\n",
       "      <td>Brentford</td>\n",
       "      <td>...</td>\n",
       "      <td>Match Report</td>\n",
       "      <td>NaN</td>\n",
       "      <td>13.0</td>\n",
       "      <td>7.0</td>\n",
       "      <td>18.2</td>\n",
       "      <td>0.0</td>\n",
       "      <td>0.0</td>\n",
       "      <td>0.0</td>\n",
       "      <td>2022</td>\n",
       "      <td>Arsenal</td>\n",
       "    </tr>\n",
       "    <tr>\n",
       "      <th>8</th>\n",
       "      <td>2022-10-01</td>\n",
       "      <td>12:30</td>\n",
       "      <td>Premier League</td>\n",
       "      <td>Matchweek 9</td>\n",
       "      <td>Sat</td>\n",
       "      <td>Home</td>\n",
       "      <td>W</td>\n",
       "      <td>3.0</td>\n",
       "      <td>1.0</td>\n",
       "      <td>Tottenham</td>\n",
       "      <td>...</td>\n",
       "      <td>Match Report</td>\n",
       "      <td>NaN</td>\n",
       "      <td>22.0</td>\n",
       "      <td>9.0</td>\n",
       "      <td>18.6</td>\n",
       "      <td>1.0</td>\n",
       "      <td>0.0</td>\n",
       "      <td>0.0</td>\n",
       "      <td>2022</td>\n",
       "      <td>Arsenal</td>\n",
       "    </tr>\n",
       "    <tr>\n",
       "      <th>10</th>\n",
       "      <td>2022-10-09</td>\n",
       "      <td>16:30</td>\n",
       "      <td>Premier League</td>\n",
       "      <td>Matchweek 10</td>\n",
       "      <td>Sun</td>\n",
       "      <td>Home</td>\n",
       "      <td>W</td>\n",
       "      <td>3.0</td>\n",
       "      <td>2.0</td>\n",
       "      <td>Liverpool</td>\n",
       "      <td>...</td>\n",
       "      <td>Match Report</td>\n",
       "      <td>NaN</td>\n",
       "      <td>10.0</td>\n",
       "      <td>6.0</td>\n",
       "      <td>14.3</td>\n",
       "      <td>0.0</td>\n",
       "      <td>1.0</td>\n",
       "      <td>1.0</td>\n",
       "      <td>2022</td>\n",
       "      <td>Arsenal</td>\n",
       "    </tr>\n",
       "    <tr>\n",
       "      <th>12</th>\n",
       "      <td>2022-10-16</td>\n",
       "      <td>14:00</td>\n",
       "      <td>Premier League</td>\n",
       "      <td>Matchweek 11</td>\n",
       "      <td>Sun</td>\n",
       "      <td>Away</td>\n",
       "      <td>W</td>\n",
       "      <td>1.0</td>\n",
       "      <td>0.0</td>\n",
       "      <td>Leeds United</td>\n",
       "      <td>...</td>\n",
       "      <td>Match Report</td>\n",
       "      <td>NaN</td>\n",
       "      <td>9.0</td>\n",
       "      <td>4.0</td>\n",
       "      <td>16.6</td>\n",
       "      <td>1.0</td>\n",
       "      <td>0.0</td>\n",
       "      <td>0.0</td>\n",
       "      <td>2022</td>\n",
       "      <td>Arsenal</td>\n",
       "    </tr>\n",
       "    <tr>\n",
       "      <th>14</th>\n",
       "      <td>2022-10-23</td>\n",
       "      <td>14:00</td>\n",
       "      <td>Premier League</td>\n",
       "      <td>Matchweek 13</td>\n",
       "      <td>Sun</td>\n",
       "      <td>Away</td>\n",
       "      <td>D</td>\n",
       "      <td>1.0</td>\n",
       "      <td>1.0</td>\n",
       "      <td>Southampton</td>\n",
       "      <td>...</td>\n",
       "      <td>Match Report</td>\n",
       "      <td>NaN</td>\n",
       "      <td>12.0</td>\n",
       "      <td>3.0</td>\n",
       "      <td>17.2</td>\n",
       "      <td>0.0</td>\n",
       "      <td>0.0</td>\n",
       "      <td>0.0</td>\n",
       "      <td>2022</td>\n",
       "      <td>Arsenal</td>\n",
       "    </tr>\n",
       "    <tr>\n",
       "      <th>16</th>\n",
       "      <td>2022-10-30</td>\n",
       "      <td>14:00</td>\n",
       "      <td>Premier League</td>\n",
       "      <td>Matchweek 14</td>\n",
       "      <td>Sun</td>\n",
       "      <td>Home</td>\n",
       "      <td>W</td>\n",
       "      <td>5.0</td>\n",
       "      <td>0.0</td>\n",
       "      <td>Nott'ham Forest</td>\n",
       "      <td>...</td>\n",
       "      <td>Match Report</td>\n",
       "      <td>NaN</td>\n",
       "      <td>24.0</td>\n",
       "      <td>9.0</td>\n",
       "      <td>16.0</td>\n",
       "      <td>1.0</td>\n",
       "      <td>0.0</td>\n",
       "      <td>0.0</td>\n",
       "      <td>2022</td>\n",
       "      <td>Arsenal</td>\n",
       "    </tr>\n",
       "    <tr>\n",
       "      <th>18</th>\n",
       "      <td>2022-11-06</td>\n",
       "      <td>12:00</td>\n",
       "      <td>Premier League</td>\n",
       "      <td>Matchweek 15</td>\n",
       "      <td>Sun</td>\n",
       "      <td>Away</td>\n",
       "      <td>W</td>\n",
       "      <td>1.0</td>\n",
       "      <td>0.0</td>\n",
       "      <td>Chelsea</td>\n",
       "      <td>...</td>\n",
       "      <td>Match Report</td>\n",
       "      <td>NaN</td>\n",
       "      <td>14.0</td>\n",
       "      <td>2.0</td>\n",
       "      <td>14.5</td>\n",
       "      <td>0.0</td>\n",
       "      <td>0.0</td>\n",
       "      <td>0.0</td>\n",
       "      <td>2022</td>\n",
       "      <td>Arsenal</td>\n",
       "    </tr>\n",
       "    <tr>\n",
       "      <th>20</th>\n",
       "      <td>2022-11-12</td>\n",
       "      <td>19:45</td>\n",
       "      <td>Premier League</td>\n",
       "      <td>Matchweek 16</td>\n",
       "      <td>Sat</td>\n",
       "      <td>Away</td>\n",
       "      <td>W</td>\n",
       "      <td>2.0</td>\n",
       "      <td>0.0</td>\n",
       "      <td>Wolves</td>\n",
       "      <td>...</td>\n",
       "      <td>Match Report</td>\n",
       "      <td>NaN</td>\n",
       "      <td>14.0</td>\n",
       "      <td>3.0</td>\n",
       "      <td>13.7</td>\n",
       "      <td>0.0</td>\n",
       "      <td>0.0</td>\n",
       "      <td>0.0</td>\n",
       "      <td>2022</td>\n",
       "      <td>Arsenal</td>\n",
       "    </tr>\n",
       "    <tr>\n",
       "      <th>21</th>\n",
       "      <td>2022-12-26</td>\n",
       "      <td>20:00</td>\n",
       "      <td>Premier League</td>\n",
       "      <td>Matchweek 17</td>\n",
       "      <td>Mon</td>\n",
       "      <td>Home</td>\n",
       "      <td>W</td>\n",
       "      <td>3.0</td>\n",
       "      <td>1.0</td>\n",
       "      <td>West Ham</td>\n",
       "      <td>...</td>\n",
       "      <td>Match Report</td>\n",
       "      <td>NaN</td>\n",
       "      <td>16.0</td>\n",
       "      <td>5.0</td>\n",
       "      <td>18.2</td>\n",
       "      <td>1.0</td>\n",
       "      <td>0.0</td>\n",
       "      <td>0.0</td>\n",
       "      <td>2022</td>\n",
       "      <td>Arsenal</td>\n",
       "    </tr>\n",
       "    <tr>\n",
       "      <th>22</th>\n",
       "      <td>2022-12-31</td>\n",
       "      <td>17:30</td>\n",
       "      <td>Premier League</td>\n",
       "      <td>Matchweek 18</td>\n",
       "      <td>Sat</td>\n",
       "      <td>Away</td>\n",
       "      <td>W</td>\n",
       "      <td>4.0</td>\n",
       "      <td>2.0</td>\n",
       "      <td>Brighton</td>\n",
       "      <td>...</td>\n",
       "      <td>Match Report</td>\n",
       "      <td>NaN</td>\n",
       "      <td>14.0</td>\n",
       "      <td>7.0</td>\n",
       "      <td>11.2</td>\n",
       "      <td>0.0</td>\n",
       "      <td>0.0</td>\n",
       "      <td>0.0</td>\n",
       "      <td>2022</td>\n",
       "      <td>Arsenal</td>\n",
       "    </tr>\n",
       "    <tr>\n",
       "      <th>23</th>\n",
       "      <td>2023-01-03</td>\n",
       "      <td>19:45</td>\n",
       "      <td>Premier League</td>\n",
       "      <td>Matchweek 19</td>\n",
       "      <td>Tue</td>\n",
       "      <td>Home</td>\n",
       "      <td>D</td>\n",
       "      <td>0.0</td>\n",
       "      <td>0.0</td>\n",
       "      <td>Newcastle Utd</td>\n",
       "      <td>...</td>\n",
       "      <td>Match Report</td>\n",
       "      <td>NaN</td>\n",
       "      <td>17.0</td>\n",
       "      <td>4.0</td>\n",
       "      <td>17.0</td>\n",
       "      <td>0.0</td>\n",
       "      <td>0.0</td>\n",
       "      <td>0.0</td>\n",
       "      <td>2022</td>\n",
       "      <td>Arsenal</td>\n",
       "    </tr>\n",
       "    <tr>\n",
       "      <th>25</th>\n",
       "      <td>2023-01-15</td>\n",
       "      <td>16:30</td>\n",
       "      <td>Premier League</td>\n",
       "      <td>Matchweek 20</td>\n",
       "      <td>Sun</td>\n",
       "      <td>Away</td>\n",
       "      <td>W</td>\n",
       "      <td>2.0</td>\n",
       "      <td>0.0</td>\n",
       "      <td>Tottenham</td>\n",
       "      <td>...</td>\n",
       "      <td>Match Report</td>\n",
       "      <td>NaN</td>\n",
       "      <td>14.0</td>\n",
       "      <td>5.0</td>\n",
       "      <td>17.9</td>\n",
       "      <td>2.0</td>\n",
       "      <td>0.0</td>\n",
       "      <td>0.0</td>\n",
       "      <td>2022</td>\n",
       "      <td>Arsenal</td>\n",
       "    </tr>\n",
       "    <tr>\n",
       "      <th>26</th>\n",
       "      <td>2023-01-22</td>\n",
       "      <td>16:30</td>\n",
       "      <td>Premier League</td>\n",
       "      <td>Matchweek 21</td>\n",
       "      <td>Sun</td>\n",
       "      <td>Home</td>\n",
       "      <td>W</td>\n",
       "      <td>3.0</td>\n",
       "      <td>2.0</td>\n",
       "      <td>Manchester Utd</td>\n",
       "      <td>...</td>\n",
       "      <td>Match Report</td>\n",
       "      <td>NaN</td>\n",
       "      <td>25.0</td>\n",
       "      <td>5.0</td>\n",
       "      <td>14.2</td>\n",
       "      <td>0.0</td>\n",
       "      <td>0.0</td>\n",
       "      <td>0.0</td>\n",
       "      <td>2022</td>\n",
       "      <td>Arsenal</td>\n",
       "    </tr>\n",
       "    <tr>\n",
       "      <th>28</th>\n",
       "      <td>2023-02-04</td>\n",
       "      <td>12:30</td>\n",
       "      <td>Premier League</td>\n",
       "      <td>Matchweek 22</td>\n",
       "      <td>Sat</td>\n",
       "      <td>Away</td>\n",
       "      <td>L</td>\n",
       "      <td>0.0</td>\n",
       "      <td>1.0</td>\n",
       "      <td>Everton</td>\n",
       "      <td>...</td>\n",
       "      <td>Match Report</td>\n",
       "      <td>NaN</td>\n",
       "      <td>15.0</td>\n",
       "      <td>2.0</td>\n",
       "      <td>17.6</td>\n",
       "      <td>0.0</td>\n",
       "      <td>0.0</td>\n",
       "      <td>0.0</td>\n",
       "      <td>2022</td>\n",
       "      <td>Arsenal</td>\n",
       "    </tr>\n",
       "    <tr>\n",
       "      <th>29</th>\n",
       "      <td>2023-02-11</td>\n",
       "      <td>15:00</td>\n",
       "      <td>Premier League</td>\n",
       "      <td>Matchweek 23</td>\n",
       "      <td>Sat</td>\n",
       "      <td>Home</td>\n",
       "      <td>D</td>\n",
       "      <td>1.0</td>\n",
       "      <td>1.0</td>\n",
       "      <td>Brentford</td>\n",
       "      <td>...</td>\n",
       "      <td>Match Report</td>\n",
       "      <td>NaN</td>\n",
       "      <td>23.0</td>\n",
       "      <td>7.0</td>\n",
       "      <td>19.6</td>\n",
       "      <td>0.0</td>\n",
       "      <td>0.0</td>\n",
       "      <td>0.0</td>\n",
       "      <td>2022</td>\n",
       "      <td>Arsenal</td>\n",
       "    </tr>\n",
       "    <tr>\n",
       "      <th>30</th>\n",
       "      <td>2023-02-15</td>\n",
       "      <td>19:30</td>\n",
       "      <td>Premier League</td>\n",
       "      <td>Matchweek 12</td>\n",
       "      <td>Wed</td>\n",
       "      <td>Home</td>\n",
       "      <td>L</td>\n",
       "      <td>1.0</td>\n",
       "      <td>3.0</td>\n",
       "      <td>Manchester City</td>\n",
       "      <td>...</td>\n",
       "      <td>Match Report</td>\n",
       "      <td>NaN</td>\n",
       "      <td>9.0</td>\n",
       "      <td>0.0</td>\n",
       "      <td>19.3</td>\n",
       "      <td>0.0</td>\n",
       "      <td>1.0</td>\n",
       "      <td>1.0</td>\n",
       "      <td>2022</td>\n",
       "      <td>Arsenal</td>\n",
       "    </tr>\n",
       "    <tr>\n",
       "      <th>31</th>\n",
       "      <td>2023-02-18</td>\n",
       "      <td>12:30</td>\n",
       "      <td>Premier League</td>\n",
       "      <td>Matchweek 24</td>\n",
       "      <td>Sat</td>\n",
       "      <td>Away</td>\n",
       "      <td>W</td>\n",
       "      <td>4.0</td>\n",
       "      <td>2.0</td>\n",
       "      <td>Aston Villa</td>\n",
       "      <td>...</td>\n",
       "      <td>Match Report</td>\n",
       "      <td>NaN</td>\n",
       "      <td>20.0</td>\n",
       "      <td>5.0</td>\n",
       "      <td>15.7</td>\n",
       "      <td>0.0</td>\n",
       "      <td>0.0</td>\n",
       "      <td>0.0</td>\n",
       "      <td>2022</td>\n",
       "      <td>Arsenal</td>\n",
       "    </tr>\n",
       "    <tr>\n",
       "      <th>1</th>\n",
       "      <td>2022-08-07</td>\n",
       "      <td>16:30</td>\n",
       "      <td>Premier League</td>\n",
       "      <td>Matchweek 1</td>\n",
       "      <td>Sun</td>\n",
       "      <td>Away</td>\n",
       "      <td>W</td>\n",
       "      <td>2.0</td>\n",
       "      <td>0.0</td>\n",
       "      <td>West Ham</td>\n",
       "      <td>...</td>\n",
       "      <td>Match Report</td>\n",
       "      <td>NaN</td>\n",
       "      <td>13.0</td>\n",
       "      <td>1.0</td>\n",
       "      <td>18.7</td>\n",
       "      <td>1.0</td>\n",
       "      <td>1.0</td>\n",
       "      <td>1.0</td>\n",
       "      <td>2022</td>\n",
       "      <td>Manchester City</td>\n",
       "    </tr>\n",
       "    <tr>\n",
       "      <th>2</th>\n",
       "      <td>2022-08-13</td>\n",
       "      <td>15:00</td>\n",
       "      <td>Premier League</td>\n",
       "      <td>Matchweek 2</td>\n",
       "      <td>Sat</td>\n",
       "      <td>Home</td>\n",
       "      <td>W</td>\n",
       "      <td>4.0</td>\n",
       "      <td>0.0</td>\n",
       "      <td>Bournemouth</td>\n",
       "      <td>...</td>\n",
       "      <td>Match Report</td>\n",
       "      <td>NaN</td>\n",
       "      <td>19.0</td>\n",
       "      <td>7.0</td>\n",
       "      <td>17.5</td>\n",
       "      <td>0.0</td>\n",
       "      <td>0.0</td>\n",
       "      <td>0.0</td>\n",
       "      <td>2022</td>\n",
       "      <td>Manchester City</td>\n",
       "    </tr>\n",
       "    <tr>\n",
       "      <th>3</th>\n",
       "      <td>2022-08-21</td>\n",
       "      <td>16:30</td>\n",
       "      <td>Premier League</td>\n",
       "      <td>Matchweek 3</td>\n",
       "      <td>Sun</td>\n",
       "      <td>Away</td>\n",
       "      <td>D</td>\n",
       "      <td>3.0</td>\n",
       "      <td>3.0</td>\n",
       "      <td>Newcastle Utd</td>\n",
       "      <td>...</td>\n",
       "      <td>Match Report</td>\n",
       "      <td>NaN</td>\n",
       "      <td>21.0</td>\n",
       "      <td>10.0</td>\n",
       "      <td>16.2</td>\n",
       "      <td>1.0</td>\n",
       "      <td>0.0</td>\n",
       "      <td>0.0</td>\n",
       "      <td>2022</td>\n",
       "      <td>Manchester City</td>\n",
       "    </tr>\n",
       "    <tr>\n",
       "      <th>4</th>\n",
       "      <td>2022-08-27</td>\n",
       "      <td>15:00</td>\n",
       "      <td>Premier League</td>\n",
       "      <td>Matchweek 4</td>\n",
       "      <td>Sat</td>\n",
       "      <td>Home</td>\n",
       "      <td>W</td>\n",
       "      <td>4.0</td>\n",
       "      <td>2.0</td>\n",
       "      <td>Crystal Palace</td>\n",
       "      <td>...</td>\n",
       "      <td>Match Report</td>\n",
       "      <td>NaN</td>\n",
       "      <td>18.0</td>\n",
       "      <td>5.0</td>\n",
       "      <td>14.1</td>\n",
       "      <td>0.0</td>\n",
       "      <td>0.0</td>\n",
       "      <td>0.0</td>\n",
       "      <td>2022</td>\n",
       "      <td>Manchester City</td>\n",
       "    </tr>\n",
       "    <tr>\n",
       "      <th>5</th>\n",
       "      <td>2022-08-31</td>\n",
       "      <td>19:30</td>\n",
       "      <td>Premier League</td>\n",
       "      <td>Matchweek 5</td>\n",
       "      <td>Wed</td>\n",
       "      <td>Home</td>\n",
       "      <td>W</td>\n",
       "      <td>6.0</td>\n",
       "      <td>0.0</td>\n",
       "      <td>Nott'ham Forest</td>\n",
       "      <td>...</td>\n",
       "      <td>Match Report</td>\n",
       "      <td>NaN</td>\n",
       "      <td>17.0</td>\n",
       "      <td>9.0</td>\n",
       "      <td>14.8</td>\n",
       "      <td>0.0</td>\n",
       "      <td>0.0</td>\n",
       "      <td>0.0</td>\n",
       "      <td>2022</td>\n",
       "      <td>Manchester City</td>\n",
       "    </tr>\n",
       "    <tr>\n",
       "      <th>6</th>\n",
       "      <td>2022-09-03</td>\n",
       "      <td>17:30</td>\n",
       "      <td>Premier League</td>\n",
       "      <td>Matchweek 6</td>\n",
       "      <td>Sat</td>\n",
       "      <td>Away</td>\n",
       "      <td>D</td>\n",
       "      <td>1.0</td>\n",
       "      <td>1.0</td>\n",
       "      <td>Aston Villa</td>\n",
       "      <td>...</td>\n",
       "      <td>Match Report</td>\n",
       "      <td>NaN</td>\n",
       "      <td>13.0</td>\n",
       "      <td>4.0</td>\n",
       "      <td>16.8</td>\n",
       "      <td>1.0</td>\n",
       "      <td>0.0</td>\n",
       "      <td>0.0</td>\n",
       "      <td>2022</td>\n",
       "      <td>Manchester City</td>\n",
       "    </tr>\n",
       "    <tr>\n",
       "      <th>9</th>\n",
       "      <td>2022-09-17</td>\n",
       "      <td>12:30</td>\n",
       "      <td>Premier League</td>\n",
       "      <td>Matchweek 8</td>\n",
       "      <td>Sat</td>\n",
       "      <td>Away</td>\n",
       "      <td>W</td>\n",
       "      <td>3.0</td>\n",
       "      <td>0.0</td>\n",
       "      <td>Wolves</td>\n",
       "      <td>...</td>\n",
       "      <td>Match Report</td>\n",
       "      <td>NaN</td>\n",
       "      <td>16.0</td>\n",
       "      <td>7.0</td>\n",
       "      <td>19.4</td>\n",
       "      <td>0.0</td>\n",
       "      <td>0.0</td>\n",
       "      <td>0.0</td>\n",
       "      <td>2022</td>\n",
       "      <td>Manchester City</td>\n",
       "    </tr>\n",
       "    <tr>\n",
       "      <th>10</th>\n",
       "      <td>2022-10-02</td>\n",
       "      <td>14:00</td>\n",
       "      <td>Premier League</td>\n",
       "      <td>Matchweek 9</td>\n",
       "      <td>Sun</td>\n",
       "      <td>Home</td>\n",
       "      <td>W</td>\n",
       "      <td>6.0</td>\n",
       "      <td>3.0</td>\n",
       "      <td>Manchester Utd</td>\n",
       "      <td>...</td>\n",
       "      <td>Match Report</td>\n",
       "      <td>NaN</td>\n",
       "      <td>22.0</td>\n",
       "      <td>9.0</td>\n",
       "      <td>14.2</td>\n",
       "      <td>1.0</td>\n",
       "      <td>0.0</td>\n",
       "      <td>0.0</td>\n",
       "      <td>2022</td>\n",
       "      <td>Manchester City</td>\n",
       "    </tr>\n",
       "    <tr>\n",
       "      <th>12</th>\n",
       "      <td>2022-10-08</td>\n",
       "      <td>15:00</td>\n",
       "      <td>Premier League</td>\n",
       "      <td>Matchweek 10</td>\n",
       "      <td>Sat</td>\n",
       "      <td>Home</td>\n",
       "      <td>W</td>\n",
       "      <td>4.0</td>\n",
       "      <td>0.0</td>\n",
       "      <td>Southampton</td>\n",
       "      <td>...</td>\n",
       "      <td>Match Report</td>\n",
       "      <td>NaN</td>\n",
       "      <td>21.0</td>\n",
       "      <td>8.0</td>\n",
       "      <td>13.9</td>\n",
       "      <td>0.0</td>\n",
       "      <td>0.0</td>\n",
       "      <td>0.0</td>\n",
       "      <td>2022</td>\n",
       "      <td>Manchester City</td>\n",
       "    </tr>\n",
       "    <tr>\n",
       "      <th>14</th>\n",
       "      <td>2022-10-16</td>\n",
       "      <td>16:30</td>\n",
       "      <td>Premier League</td>\n",
       "      <td>Matchweek 11</td>\n",
       "      <td>Sun</td>\n",
       "      <td>Away</td>\n",
       "      <td>L</td>\n",
       "      <td>0.0</td>\n",
       "      <td>1.0</td>\n",
       "      <td>Liverpool</td>\n",
       "      <td>...</td>\n",
       "      <td>Match Report</td>\n",
       "      <td>NaN</td>\n",
       "      <td>16.0</td>\n",
       "      <td>6.0</td>\n",
       "      <td>18.4</td>\n",
       "      <td>0.0</td>\n",
       "      <td>0.0</td>\n",
       "      <td>0.0</td>\n",
       "      <td>2022</td>\n",
       "      <td>Manchester City</td>\n",
       "    </tr>\n",
       "    <tr>\n",
       "      <th>15</th>\n",
       "      <td>2022-10-22</td>\n",
       "      <td>15:00</td>\n",
       "      <td>Premier League</td>\n",
       "      <td>Matchweek 13</td>\n",
       "      <td>Sat</td>\n",
       "      <td>Home</td>\n",
       "      <td>W</td>\n",
       "      <td>3.0</td>\n",
       "      <td>1.0</td>\n",
       "      <td>Brighton</td>\n",
       "      <td>...</td>\n",
       "      <td>Match Report</td>\n",
       "      <td>NaN</td>\n",
       "      <td>9.0</td>\n",
       "      <td>3.0</td>\n",
       "      <td>15.0</td>\n",
       "      <td>0.0</td>\n",
       "      <td>1.0</td>\n",
       "      <td>1.0</td>\n",
       "      <td>2022</td>\n",
       "      <td>Manchester City</td>\n",
       "    </tr>\n",
       "    <tr>\n",
       "      <th>17</th>\n",
       "      <td>2022-10-29</td>\n",
       "      <td>12:30</td>\n",
       "      <td>Premier League</td>\n",
       "      <td>Matchweek 14</td>\n",
       "      <td>Sat</td>\n",
       "      <td>Away</td>\n",
       "      <td>W</td>\n",
       "      <td>1.0</td>\n",
       "      <td>0.0</td>\n",
       "      <td>Leicester City</td>\n",
       "      <td>...</td>\n",
       "      <td>Match Report</td>\n",
       "      <td>NaN</td>\n",
       "      <td>15.0</td>\n",
       "      <td>5.0</td>\n",
       "      <td>20.8</td>\n",
       "      <td>1.0</td>\n",
       "      <td>0.0</td>\n",
       "      <td>0.0</td>\n",
       "      <td>2022</td>\n",
       "      <td>Manchester City</td>\n",
       "    </tr>\n",
       "    <tr>\n",
       "      <th>19</th>\n",
       "      <td>2022-11-05</td>\n",
       "      <td>15:00</td>\n",
       "      <td>Premier League</td>\n",
       "      <td>Matchweek 15</td>\n",
       "      <td>Sat</td>\n",
       "      <td>Home</td>\n",
       "      <td>W</td>\n",
       "      <td>2.0</td>\n",
       "      <td>1.0</td>\n",
       "      <td>Fulham</td>\n",
       "      <td>...</td>\n",
       "      <td>Match Report</td>\n",
       "      <td>NaN</td>\n",
       "      <td>15.0</td>\n",
       "      <td>4.0</td>\n",
       "      <td>18.1</td>\n",
       "      <td>1.0</td>\n",
       "      <td>1.0</td>\n",
       "      <td>1.0</td>\n",
       "      <td>2022</td>\n",
       "      <td>Manchester City</td>\n",
       "    </tr>\n",
       "    <tr>\n",
       "      <th>21</th>\n",
       "      <td>2022-11-12</td>\n",
       "      <td>12:30</td>\n",
       "      <td>Premier League</td>\n",
       "      <td>Matchweek 16</td>\n",
       "      <td>Sat</td>\n",
       "      <td>Home</td>\n",
       "      <td>L</td>\n",
       "      <td>1.0</td>\n",
       "      <td>2.0</td>\n",
       "      <td>Brentford</td>\n",
       "      <td>...</td>\n",
       "      <td>Match Report</td>\n",
       "      <td>NaN</td>\n",
       "      <td>29.0</td>\n",
       "      <td>6.0</td>\n",
       "      <td>20.9</td>\n",
       "      <td>0.0</td>\n",
       "      <td>0.0</td>\n",
       "      <td>0.0</td>\n",
       "      <td>2022</td>\n",
       "      <td>Manchester City</td>\n",
       "    </tr>\n",
       "    <tr>\n",
       "      <th>23</th>\n",
       "      <td>2022-12-28</td>\n",
       "      <td>20:00</td>\n",
       "      <td>Premier League</td>\n",
       "      <td>Matchweek 17</td>\n",
       "      <td>Wed</td>\n",
       "      <td>Away</td>\n",
       "      <td>W</td>\n",
       "      <td>3.0</td>\n",
       "      <td>1.0</td>\n",
       "      <td>Leeds United</td>\n",
       "      <td>...</td>\n",
       "      <td>Match Report</td>\n",
       "      <td>NaN</td>\n",
       "      <td>26.0</td>\n",
       "      <td>9.0</td>\n",
       "      <td>16.0</td>\n",
       "      <td>0.0</td>\n",
       "      <td>0.0</td>\n",
       "      <td>0.0</td>\n",
       "      <td>2022</td>\n",
       "      <td>Manchester City</td>\n",
       "    </tr>\n",
       "    <tr>\n",
       "      <th>24</th>\n",
       "      <td>2022-12-31</td>\n",
       "      <td>15:00</td>\n",
       "      <td>Premier League</td>\n",
       "      <td>Matchweek 18</td>\n",
       "      <td>Sat</td>\n",
       "      <td>Home</td>\n",
       "      <td>D</td>\n",
       "      <td>1.0</td>\n",
       "      <td>1.0</td>\n",
       "      <td>Everton</td>\n",
       "      <td>...</td>\n",
       "      <td>Match Report</td>\n",
       "      <td>NaN</td>\n",
       "      <td>16.0</td>\n",
       "      <td>3.0</td>\n",
       "      <td>15.4</td>\n",
       "      <td>0.0</td>\n",
       "      <td>0.0</td>\n",
       "      <td>0.0</td>\n",
       "      <td>2022</td>\n",
       "      <td>Manchester City</td>\n",
       "    </tr>\n",
       "    <tr>\n",
       "      <th>25</th>\n",
       "      <td>2023-01-05</td>\n",
       "      <td>20:00</td>\n",
       "      <td>Premier League</td>\n",
       "      <td>Matchweek 19</td>\n",
       "      <td>Thu</td>\n",
       "      <td>Away</td>\n",
       "      <td>W</td>\n",
       "      <td>1.0</td>\n",
       "      <td>0.0</td>\n",
       "      <td>Chelsea</td>\n",
       "      <td>...</td>\n",
       "      <td>Match Report</td>\n",
       "      <td>NaN</td>\n",
       "      <td>12.0</td>\n",
       "      <td>3.0</td>\n",
       "      <td>16.0</td>\n",
       "      <td>0.0</td>\n",
       "      <td>0.0</td>\n",
       "      <td>0.0</td>\n",
       "      <td>2022</td>\n",
       "      <td>Manchester City</td>\n",
       "    </tr>\n",
       "    <tr>\n",
       "      <th>28</th>\n",
       "      <td>2023-01-14</td>\n",
       "      <td>12:30</td>\n",
       "      <td>Premier League</td>\n",
       "      <td>Matchweek 20</td>\n",
       "      <td>Sat</td>\n",
       "      <td>Away</td>\n",
       "      <td>L</td>\n",
       "      <td>1.0</td>\n",
       "      <td>2.0</td>\n",
       "      <td>Manchester Utd</td>\n",
       "      <td>...</td>\n",
       "      <td>Match Report</td>\n",
       "      <td>NaN</td>\n",
       "      <td>5.0</td>\n",
       "      <td>1.0</td>\n",
       "      <td>19.2</td>\n",
       "      <td>0.0</td>\n",
       "      <td>0.0</td>\n",
       "      <td>0.0</td>\n",
       "      <td>2022</td>\n",
       "      <td>Manchester City</td>\n",
       "    </tr>\n",
       "    <tr>\n",
       "      <th>29</th>\n",
       "      <td>2023-01-19</td>\n",
       "      <td>20:00</td>\n",
       "      <td>Premier League</td>\n",
       "      <td>Matchweek 7</td>\n",
       "      <td>Thu</td>\n",
       "      <td>Home</td>\n",
       "      <td>W</td>\n",
       "      <td>4.0</td>\n",
       "      <td>2.0</td>\n",
       "      <td>Tottenham</td>\n",
       "      <td>...</td>\n",
       "      <td>Match Report</td>\n",
       "      <td>NaN</td>\n",
       "      <td>16.0</td>\n",
       "      <td>6.0</td>\n",
       "      <td>16.3</td>\n",
       "      <td>1.0</td>\n",
       "      <td>0.0</td>\n",
       "      <td>0.0</td>\n",
       "      <td>2022</td>\n",
       "      <td>Manchester City</td>\n",
       "    </tr>\n",
       "    <tr>\n",
       "      <th>30</th>\n",
       "      <td>2023-01-22</td>\n",
       "      <td>14:00</td>\n",
       "      <td>Premier League</td>\n",
       "      <td>Matchweek 21</td>\n",
       "      <td>Sun</td>\n",
       "      <td>Home</td>\n",
       "      <td>W</td>\n",
       "      <td>3.0</td>\n",
       "      <td>0.0</td>\n",
       "      <td>Wolves</td>\n",
       "      <td>...</td>\n",
       "      <td>Match Report</td>\n",
       "      <td>NaN</td>\n",
       "      <td>12.0</td>\n",
       "      <td>5.0</td>\n",
       "      <td>14.8</td>\n",
       "      <td>0.0</td>\n",
       "      <td>1.0</td>\n",
       "      <td>1.0</td>\n",
       "      <td>2022</td>\n",
       "      <td>Manchester City</td>\n",
       "    </tr>\n",
       "    <tr>\n",
       "      <th>32</th>\n",
       "      <td>2023-02-05</td>\n",
       "      <td>16:30</td>\n",
       "      <td>Premier League</td>\n",
       "      <td>Matchweek 22</td>\n",
       "      <td>Sun</td>\n",
       "      <td>Away</td>\n",
       "      <td>L</td>\n",
       "      <td>0.0</td>\n",
       "      <td>1.0</td>\n",
       "      <td>Tottenham</td>\n",
       "      <td>...</td>\n",
       "      <td>Match Report</td>\n",
       "      <td>NaN</td>\n",
       "      <td>15.0</td>\n",
       "      <td>5.0</td>\n",
       "      <td>17.7</td>\n",
       "      <td>1.0</td>\n",
       "      <td>0.0</td>\n",
       "      <td>0.0</td>\n",
       "      <td>2022</td>\n",
       "      <td>Manchester City</td>\n",
       "    </tr>\n",
       "    <tr>\n",
       "      <th>33</th>\n",
       "      <td>2023-02-12</td>\n",
       "      <td>16:30</td>\n",
       "      <td>Premier League</td>\n",
       "      <td>Matchweek 23</td>\n",
       "      <td>Sun</td>\n",
       "      <td>Home</td>\n",
       "      <td>W</td>\n",
       "      <td>3.0</td>\n",
       "      <td>1.0</td>\n",
       "      <td>Aston Villa</td>\n",
       "      <td>...</td>\n",
       "      <td>Match Report</td>\n",
       "      <td>NaN</td>\n",
       "      <td>16.0</td>\n",
       "      <td>7.0</td>\n",
       "      <td>15.4</td>\n",
       "      <td>1.0</td>\n",
       "      <td>1.0</td>\n",
       "      <td>1.0</td>\n",
       "      <td>2022</td>\n",
       "      <td>Manchester City</td>\n",
       "    </tr>\n",
       "    <tr>\n",
       "      <th>34</th>\n",
       "      <td>2023-02-15</td>\n",
       "      <td>19:30</td>\n",
       "      <td>Premier League</td>\n",
       "      <td>Matchweek 12</td>\n",
       "      <td>Wed</td>\n",
       "      <td>Away</td>\n",
       "      <td>W</td>\n",
       "      <td>3.0</td>\n",
       "      <td>1.0</td>\n",
       "      <td>Arsenal</td>\n",
       "      <td>...</td>\n",
       "      <td>Match Report</td>\n",
       "      <td>NaN</td>\n",
       "      <td>9.0</td>\n",
       "      <td>5.0</td>\n",
       "      <td>12.5</td>\n",
       "      <td>0.0</td>\n",
       "      <td>0.0</td>\n",
       "      <td>0.0</td>\n",
       "      <td>2022</td>\n",
       "      <td>Manchester City</td>\n",
       "    </tr>\n",
       "    <tr>\n",
       "      <th>35</th>\n",
       "      <td>2023-02-18</td>\n",
       "      <td>15:00</td>\n",
       "      <td>Premier League</td>\n",
       "      <td>Matchweek 24</td>\n",
       "      <td>Sat</td>\n",
       "      <td>Away</td>\n",
       "      <td>D</td>\n",
       "      <td>1.0</td>\n",
       "      <td>1.0</td>\n",
       "      <td>Nott'ham Forest</td>\n",
       "      <td>...</td>\n",
       "      <td>Match Report</td>\n",
       "      <td>NaN</td>\n",
       "      <td>23.0</td>\n",
       "      <td>6.0</td>\n",
       "      <td>17.9</td>\n",
       "      <td>2.0</td>\n",
       "      <td>0.0</td>\n",
       "      <td>0.0</td>\n",
       "      <td>2022</td>\n",
       "      <td>Manchester City</td>\n",
       "    </tr>\n",
       "    <tr>\n",
       "      <th>0</th>\n",
       "      <td>2022-08-07</td>\n",
       "      <td>14:00</td>\n",
       "      <td>Premier League</td>\n",
       "      <td>Matchweek 1</td>\n",
       "      <td>Sun</td>\n",
       "      <td>Home</td>\n",
       "      <td>L</td>\n",
       "      <td>1.0</td>\n",
       "      <td>2.0</td>\n",
       "      <td>Brighton</td>\n",
       "      <td>...</td>\n",
       "      <td>Match Report</td>\n",
       "      <td>NaN</td>\n",
       "      <td>17.0</td>\n",
       "      <td>5.0</td>\n",
       "      <td>15.5</td>\n",
       "      <td>0.0</td>\n",
       "      <td>0.0</td>\n",
       "      <td>0.0</td>\n",
       "      <td>2022</td>\n",
       "      <td>Manchester United</td>\n",
       "    </tr>\n",
       "    <tr>\n",
       "      <th>1</th>\n",
       "      <td>2022-08-13</td>\n",
       "      <td>17:30</td>\n",
       "      <td>Premier League</td>\n",
       "      <td>Matchweek 2</td>\n",
       "      <td>Sat</td>\n",
       "      <td>Away</td>\n",
       "      <td>L</td>\n",
       "      <td>0.0</td>\n",
       "      <td>4.0</td>\n",
       "      <td>Brentford</td>\n",
       "      <td>...</td>\n",
       "      <td>Match Report</td>\n",
       "      <td>NaN</td>\n",
       "      <td>15.0</td>\n",
       "      <td>4.0</td>\n",
       "      <td>19.6</td>\n",
       "      <td>0.0</td>\n",
       "      <td>0.0</td>\n",
       "      <td>0.0</td>\n",
       "      <td>2022</td>\n",
       "      <td>Manchester United</td>\n",
       "    </tr>\n",
       "    <tr>\n",
       "      <th>2</th>\n",
       "      <td>2022-08-22</td>\n",
       "      <td>20:00</td>\n",
       "      <td>Premier League</td>\n",
       "      <td>Matchweek 3</td>\n",
       "      <td>Mon</td>\n",
       "      <td>Home</td>\n",
       "      <td>W</td>\n",
       "      <td>2.0</td>\n",
       "      <td>1.0</td>\n",
       "      <td>Liverpool</td>\n",
       "      <td>...</td>\n",
       "      <td>Match Report</td>\n",
       "      <td>NaN</td>\n",
       "      <td>13.0</td>\n",
       "      <td>5.0</td>\n",
       "      <td>19.5</td>\n",
       "      <td>2.0</td>\n",
       "      <td>0.0</td>\n",
       "      <td>0.0</td>\n",
       "      <td>2022</td>\n",
       "      <td>Manchester United</td>\n",
       "    </tr>\n",
       "  </tbody>\n",
       "</table>\n",
       "<p>50 rows × 27 columns</p>\n",
       "</div>"
      ],
      "text/plain": [
       "          Date   Time            Comp         Round  Day Venue Result   GF  \\\n",
       "0   2022-08-05  20:00  Premier League   Matchweek 1  Fri  Away      W  2.0   \n",
       "1   2022-08-13  15:00  Premier League   Matchweek 2  Sat  Home      W  4.0   \n",
       "2   2022-08-20  17:30  Premier League   Matchweek 3  Sat  Away      W  3.0   \n",
       "3   2022-08-27  17:30  Premier League   Matchweek 4  Sat  Home      W  2.0   \n",
       "4   2022-08-31  19:30  Premier League   Matchweek 5  Wed  Home      W  2.0   \n",
       "5   2022-09-04  16:30  Premier League   Matchweek 6  Sun  Away      L  1.0   \n",
       "7   2022-09-18  12:00  Premier League   Matchweek 8  Sun  Away      W  3.0   \n",
       "8   2022-10-01  12:30  Premier League   Matchweek 9  Sat  Home      W  3.0   \n",
       "10  2022-10-09  16:30  Premier League  Matchweek 10  Sun  Home      W  3.0   \n",
       "12  2022-10-16  14:00  Premier League  Matchweek 11  Sun  Away      W  1.0   \n",
       "14  2022-10-23  14:00  Premier League  Matchweek 13  Sun  Away      D  1.0   \n",
       "16  2022-10-30  14:00  Premier League  Matchweek 14  Sun  Home      W  5.0   \n",
       "18  2022-11-06  12:00  Premier League  Matchweek 15  Sun  Away      W  1.0   \n",
       "20  2022-11-12  19:45  Premier League  Matchweek 16  Sat  Away      W  2.0   \n",
       "21  2022-12-26  20:00  Premier League  Matchweek 17  Mon  Home      W  3.0   \n",
       "22  2022-12-31  17:30  Premier League  Matchweek 18  Sat  Away      W  4.0   \n",
       "23  2023-01-03  19:45  Premier League  Matchweek 19  Tue  Home      D  0.0   \n",
       "25  2023-01-15  16:30  Premier League  Matchweek 20  Sun  Away      W  2.0   \n",
       "26  2023-01-22  16:30  Premier League  Matchweek 21  Sun  Home      W  3.0   \n",
       "28  2023-02-04  12:30  Premier League  Matchweek 22  Sat  Away      L  0.0   \n",
       "29  2023-02-11  15:00  Premier League  Matchweek 23  Sat  Home      D  1.0   \n",
       "30  2023-02-15  19:30  Premier League  Matchweek 12  Wed  Home      L  1.0   \n",
       "31  2023-02-18  12:30  Premier League  Matchweek 24  Sat  Away      W  4.0   \n",
       "1   2022-08-07  16:30  Premier League   Matchweek 1  Sun  Away      W  2.0   \n",
       "2   2022-08-13  15:00  Premier League   Matchweek 2  Sat  Home      W  4.0   \n",
       "3   2022-08-21  16:30  Premier League   Matchweek 3  Sun  Away      D  3.0   \n",
       "4   2022-08-27  15:00  Premier League   Matchweek 4  Sat  Home      W  4.0   \n",
       "5   2022-08-31  19:30  Premier League   Matchweek 5  Wed  Home      W  6.0   \n",
       "6   2022-09-03  17:30  Premier League   Matchweek 6  Sat  Away      D  1.0   \n",
       "9   2022-09-17  12:30  Premier League   Matchweek 8  Sat  Away      W  3.0   \n",
       "10  2022-10-02  14:00  Premier League   Matchweek 9  Sun  Home      W  6.0   \n",
       "12  2022-10-08  15:00  Premier League  Matchweek 10  Sat  Home      W  4.0   \n",
       "14  2022-10-16  16:30  Premier League  Matchweek 11  Sun  Away      L  0.0   \n",
       "15  2022-10-22  15:00  Premier League  Matchweek 13  Sat  Home      W  3.0   \n",
       "17  2022-10-29  12:30  Premier League  Matchweek 14  Sat  Away      W  1.0   \n",
       "19  2022-11-05  15:00  Premier League  Matchweek 15  Sat  Home      W  2.0   \n",
       "21  2022-11-12  12:30  Premier League  Matchweek 16  Sat  Home      L  1.0   \n",
       "23  2022-12-28  20:00  Premier League  Matchweek 17  Wed  Away      W  3.0   \n",
       "24  2022-12-31  15:00  Premier League  Matchweek 18  Sat  Home      D  1.0   \n",
       "25  2023-01-05  20:00  Premier League  Matchweek 19  Thu  Away      W  1.0   \n",
       "28  2023-01-14  12:30  Premier League  Matchweek 20  Sat  Away      L  1.0   \n",
       "29  2023-01-19  20:00  Premier League   Matchweek 7  Thu  Home      W  4.0   \n",
       "30  2023-01-22  14:00  Premier League  Matchweek 21  Sun  Home      W  3.0   \n",
       "32  2023-02-05  16:30  Premier League  Matchweek 22  Sun  Away      L  0.0   \n",
       "33  2023-02-12  16:30  Premier League  Matchweek 23  Sun  Home      W  3.0   \n",
       "34  2023-02-15  19:30  Premier League  Matchweek 12  Wed  Away      W  3.0   \n",
       "35  2023-02-18  15:00  Premier League  Matchweek 24  Sat  Away      D  1.0   \n",
       "0   2022-08-07  14:00  Premier League   Matchweek 1  Sun  Home      L  1.0   \n",
       "1   2022-08-13  17:30  Premier League   Matchweek 2  Sat  Away      L  0.0   \n",
       "2   2022-08-22  20:00  Premier League   Matchweek 3  Mon  Home      W  2.0   \n",
       "\n",
       "     GA         Opponent  ...  Match Report  Notes    Sh   SoT  Dist   FK  \\\n",
       "0   0.0   Crystal Palace  ...  Match Report    NaN  10.0   2.0  14.6  1.0   \n",
       "1   2.0   Leicester City  ...  Match Report    NaN  19.0   7.0  13.0  0.0   \n",
       "2   0.0      Bournemouth  ...  Match Report    NaN  14.0   6.0  14.8  0.0   \n",
       "3   1.0           Fulham  ...  Match Report    NaN  22.0   8.0  15.5  1.0   \n",
       "4   1.0      Aston Villa  ...  Match Report    NaN  22.0   8.0  16.3  1.0   \n",
       "5   3.0   Manchester Utd  ...  Match Report    NaN  16.0   3.0  18.6  1.0   \n",
       "7   0.0        Brentford  ...  Match Report    NaN  13.0   7.0  18.2  0.0   \n",
       "8   1.0        Tottenham  ...  Match Report    NaN  22.0   9.0  18.6  1.0   \n",
       "10  2.0        Liverpool  ...  Match Report    NaN  10.0   6.0  14.3  0.0   \n",
       "12  0.0     Leeds United  ...  Match Report    NaN   9.0   4.0  16.6  1.0   \n",
       "14  1.0      Southampton  ...  Match Report    NaN  12.0   3.0  17.2  0.0   \n",
       "16  0.0  Nott'ham Forest  ...  Match Report    NaN  24.0   9.0  16.0  1.0   \n",
       "18  0.0          Chelsea  ...  Match Report    NaN  14.0   2.0  14.5  0.0   \n",
       "20  0.0           Wolves  ...  Match Report    NaN  14.0   3.0  13.7  0.0   \n",
       "21  1.0         West Ham  ...  Match Report    NaN  16.0   5.0  18.2  1.0   \n",
       "22  2.0         Brighton  ...  Match Report    NaN  14.0   7.0  11.2  0.0   \n",
       "23  0.0    Newcastle Utd  ...  Match Report    NaN  17.0   4.0  17.0  0.0   \n",
       "25  0.0        Tottenham  ...  Match Report    NaN  14.0   5.0  17.9  2.0   \n",
       "26  2.0   Manchester Utd  ...  Match Report    NaN  25.0   5.0  14.2  0.0   \n",
       "28  1.0          Everton  ...  Match Report    NaN  15.0   2.0  17.6  0.0   \n",
       "29  1.0        Brentford  ...  Match Report    NaN  23.0   7.0  19.6  0.0   \n",
       "30  3.0  Manchester City  ...  Match Report    NaN   9.0   0.0  19.3  0.0   \n",
       "31  2.0      Aston Villa  ...  Match Report    NaN  20.0   5.0  15.7  0.0   \n",
       "1   0.0         West Ham  ...  Match Report    NaN  13.0   1.0  18.7  1.0   \n",
       "2   0.0      Bournemouth  ...  Match Report    NaN  19.0   7.0  17.5  0.0   \n",
       "3   3.0    Newcastle Utd  ...  Match Report    NaN  21.0  10.0  16.2  1.0   \n",
       "4   2.0   Crystal Palace  ...  Match Report    NaN  18.0   5.0  14.1  0.0   \n",
       "5   0.0  Nott'ham Forest  ...  Match Report    NaN  17.0   9.0  14.8  0.0   \n",
       "6   1.0      Aston Villa  ...  Match Report    NaN  13.0   4.0  16.8  1.0   \n",
       "9   0.0           Wolves  ...  Match Report    NaN  16.0   7.0  19.4  0.0   \n",
       "10  3.0   Manchester Utd  ...  Match Report    NaN  22.0   9.0  14.2  1.0   \n",
       "12  0.0      Southampton  ...  Match Report    NaN  21.0   8.0  13.9  0.0   \n",
       "14  1.0        Liverpool  ...  Match Report    NaN  16.0   6.0  18.4  0.0   \n",
       "15  1.0         Brighton  ...  Match Report    NaN   9.0   3.0  15.0  0.0   \n",
       "17  0.0   Leicester City  ...  Match Report    NaN  15.0   5.0  20.8  1.0   \n",
       "19  1.0           Fulham  ...  Match Report    NaN  15.0   4.0  18.1  1.0   \n",
       "21  2.0        Brentford  ...  Match Report    NaN  29.0   6.0  20.9  0.0   \n",
       "23  1.0     Leeds United  ...  Match Report    NaN  26.0   9.0  16.0  0.0   \n",
       "24  1.0          Everton  ...  Match Report    NaN  16.0   3.0  15.4  0.0   \n",
       "25  0.0          Chelsea  ...  Match Report    NaN  12.0   3.0  16.0  0.0   \n",
       "28  2.0   Manchester Utd  ...  Match Report    NaN   5.0   1.0  19.2  0.0   \n",
       "29  2.0        Tottenham  ...  Match Report    NaN  16.0   6.0  16.3  1.0   \n",
       "30  0.0           Wolves  ...  Match Report    NaN  12.0   5.0  14.8  0.0   \n",
       "32  1.0        Tottenham  ...  Match Report    NaN  15.0   5.0  17.7  1.0   \n",
       "33  1.0      Aston Villa  ...  Match Report    NaN  16.0   7.0  15.4  1.0   \n",
       "34  1.0          Arsenal  ...  Match Report    NaN   9.0   5.0  12.5  0.0   \n",
       "35  1.0  Nott'ham Forest  ...  Match Report    NaN  23.0   6.0  17.9  2.0   \n",
       "0   2.0         Brighton  ...  Match Report    NaN  17.0   5.0  15.5  0.0   \n",
       "1   4.0        Brentford  ...  Match Report    NaN  15.0   4.0  19.6  0.0   \n",
       "2   1.0        Liverpool  ...  Match Report    NaN  13.0   5.0  19.5  2.0   \n",
       "\n",
       "     PK PKatt Season               Team  \n",
       "0   0.0   0.0   2022            Arsenal  \n",
       "1   0.0   0.0   2022            Arsenal  \n",
       "2   0.0   0.0   2022            Arsenal  \n",
       "3   0.0   0.0   2022            Arsenal  \n",
       "4   0.0   0.0   2022            Arsenal  \n",
       "5   0.0   0.0   2022            Arsenal  \n",
       "7   0.0   0.0   2022            Arsenal  \n",
       "8   0.0   0.0   2022            Arsenal  \n",
       "10  1.0   1.0   2022            Arsenal  \n",
       "12  0.0   0.0   2022            Arsenal  \n",
       "14  0.0   0.0   2022            Arsenal  \n",
       "16  0.0   0.0   2022            Arsenal  \n",
       "18  0.0   0.0   2022            Arsenal  \n",
       "20  0.0   0.0   2022            Arsenal  \n",
       "21  0.0   0.0   2022            Arsenal  \n",
       "22  0.0   0.0   2022            Arsenal  \n",
       "23  0.0   0.0   2022            Arsenal  \n",
       "25  0.0   0.0   2022            Arsenal  \n",
       "26  0.0   0.0   2022            Arsenal  \n",
       "28  0.0   0.0   2022            Arsenal  \n",
       "29  0.0   0.0   2022            Arsenal  \n",
       "30  1.0   1.0   2022            Arsenal  \n",
       "31  0.0   0.0   2022            Arsenal  \n",
       "1   1.0   1.0   2022    Manchester City  \n",
       "2   0.0   0.0   2022    Manchester City  \n",
       "3   0.0   0.0   2022    Manchester City  \n",
       "4   0.0   0.0   2022    Manchester City  \n",
       "5   0.0   0.0   2022    Manchester City  \n",
       "6   0.0   0.0   2022    Manchester City  \n",
       "9   0.0   0.0   2022    Manchester City  \n",
       "10  0.0   0.0   2022    Manchester City  \n",
       "12  0.0   0.0   2022    Manchester City  \n",
       "14  0.0   0.0   2022    Manchester City  \n",
       "15  1.0   1.0   2022    Manchester City  \n",
       "17  0.0   0.0   2022    Manchester City  \n",
       "19  1.0   1.0   2022    Manchester City  \n",
       "21  0.0   0.0   2022    Manchester City  \n",
       "23  0.0   0.0   2022    Manchester City  \n",
       "24  0.0   0.0   2022    Manchester City  \n",
       "25  0.0   0.0   2022    Manchester City  \n",
       "28  0.0   0.0   2022    Manchester City  \n",
       "29  0.0   0.0   2022    Manchester City  \n",
       "30  1.0   1.0   2022    Manchester City  \n",
       "32  0.0   0.0   2022    Manchester City  \n",
       "33  1.0   1.0   2022    Manchester City  \n",
       "34  0.0   0.0   2022    Manchester City  \n",
       "35  0.0   0.0   2022    Manchester City  \n",
       "0   0.0   0.0   2022  Manchester United  \n",
       "1   0.0   0.0   2022  Manchester United  \n",
       "2   0.0   0.0   2022  Manchester United  \n",
       "\n",
       "[50 rows x 27 columns]"
      ]
     },
     "execution_count": 556,
     "metadata": {},
     "output_type": "execute_result"
    }
   ],
   "source": [
    "matches_df.head(50)"
   ]
  },
  {
   "cell_type": "code",
   "execution_count": 60,
   "id": "493c37bf",
   "metadata": {},
   "outputs": [],
   "source": [
    "matches_df.to_csv(\"matches_premier.csv\")\n",
    "# This converts my DataFrame to a CSV file"
   ]
  },
  {
   "cell_type": "markdown",
   "id": "bc5c503e",
   "metadata": {},
   "source": [
    "## Data Inspection and Clean-up"
   ]
  },
  {
   "cell_type": "code",
   "execution_count": 89,
   "id": "8ca929ea",
   "metadata": {},
   "outputs": [
    {
     "data": {
      "text/plain": [
       "(1222, 28)"
      ]
     },
     "execution_count": 89,
     "metadata": {},
     "output_type": "execute_result"
    }
   ],
   "source": [
    "matches_pr = pd.read_csv(\".\\matches_premier.csv\")\n",
    "matches_pr.shape"
   ]
  },
  {
   "cell_type": "code",
   "execution_count": 90,
   "id": "ed508e7e",
   "metadata": {},
   "outputs": [
    {
     "name": "stdout",
     "output_type": "stream",
     "text": [
      "Number of duplicated rows:  0\n"
     ]
    }
   ],
   "source": [
    "#count the number of duplicated rows if any exist\n",
    "num_duplicated = matches_pr.duplicated().sum()\n",
    "\n",
    "print(\"Number of duplicated rows: \", num_duplicated)"
   ]
  },
  {
   "cell_type": "code",
   "execution_count": 91,
   "id": "7e04247e",
   "metadata": {
    "collapsed": true
   },
   "outputs": [
    {
     "data": {
      "text/html": [
       "<div>\n",
       "<style scoped>\n",
       "    .dataframe tbody tr th:only-of-type {\n",
       "        vertical-align: middle;\n",
       "    }\n",
       "\n",
       "    .dataframe tbody tr th {\n",
       "        vertical-align: top;\n",
       "    }\n",
       "\n",
       "    .dataframe thead th {\n",
       "        text-align: right;\n",
       "    }\n",
       "</style>\n",
       "<table border=\"1\" class=\"dataframe\">\n",
       "  <thead>\n",
       "    <tr style=\"text-align: right;\">\n",
       "      <th></th>\n",
       "      <th>Unnamed: 0</th>\n",
       "      <th>Date</th>\n",
       "      <th>Time</th>\n",
       "      <th>Comp</th>\n",
       "      <th>Round</th>\n",
       "      <th>Day</th>\n",
       "      <th>Venue</th>\n",
       "      <th>Result</th>\n",
       "      <th>GF</th>\n",
       "      <th>GA</th>\n",
       "      <th>...</th>\n",
       "      <th>Match Report</th>\n",
       "      <th>Notes</th>\n",
       "      <th>Sh</th>\n",
       "      <th>SoT</th>\n",
       "      <th>Dist</th>\n",
       "      <th>FK</th>\n",
       "      <th>PK</th>\n",
       "      <th>PKatt</th>\n",
       "      <th>Season</th>\n",
       "      <th>Team</th>\n",
       "    </tr>\n",
       "  </thead>\n",
       "  <tbody>\n",
       "    <tr>\n",
       "      <th>0</th>\n",
       "      <td>0</td>\n",
       "      <td>2022-08-05</td>\n",
       "      <td>20:00</td>\n",
       "      <td>Premier League</td>\n",
       "      <td>Matchweek 1</td>\n",
       "      <td>Fri</td>\n",
       "      <td>Away</td>\n",
       "      <td>W</td>\n",
       "      <td>2.0</td>\n",
       "      <td>0.0</td>\n",
       "      <td>...</td>\n",
       "      <td>Match Report</td>\n",
       "      <td>NaN</td>\n",
       "      <td>10.0</td>\n",
       "      <td>2.0</td>\n",
       "      <td>14.6</td>\n",
       "      <td>1.0</td>\n",
       "      <td>0.0</td>\n",
       "      <td>0.0</td>\n",
       "      <td>2022</td>\n",
       "      <td>Arsenal</td>\n",
       "    </tr>\n",
       "    <tr>\n",
       "      <th>1</th>\n",
       "      <td>1</td>\n",
       "      <td>2022-08-13</td>\n",
       "      <td>15:00</td>\n",
       "      <td>Premier League</td>\n",
       "      <td>Matchweek 2</td>\n",
       "      <td>Sat</td>\n",
       "      <td>Home</td>\n",
       "      <td>W</td>\n",
       "      <td>4.0</td>\n",
       "      <td>2.0</td>\n",
       "      <td>...</td>\n",
       "      <td>Match Report</td>\n",
       "      <td>NaN</td>\n",
       "      <td>19.0</td>\n",
       "      <td>7.0</td>\n",
       "      <td>13.0</td>\n",
       "      <td>0.0</td>\n",
       "      <td>0.0</td>\n",
       "      <td>0.0</td>\n",
       "      <td>2022</td>\n",
       "      <td>Arsenal</td>\n",
       "    </tr>\n",
       "    <tr>\n",
       "      <th>2</th>\n",
       "      <td>2</td>\n",
       "      <td>2022-08-20</td>\n",
       "      <td>17:30</td>\n",
       "      <td>Premier League</td>\n",
       "      <td>Matchweek 3</td>\n",
       "      <td>Sat</td>\n",
       "      <td>Away</td>\n",
       "      <td>W</td>\n",
       "      <td>3.0</td>\n",
       "      <td>0.0</td>\n",
       "      <td>...</td>\n",
       "      <td>Match Report</td>\n",
       "      <td>NaN</td>\n",
       "      <td>14.0</td>\n",
       "      <td>6.0</td>\n",
       "      <td>14.8</td>\n",
       "      <td>0.0</td>\n",
       "      <td>0.0</td>\n",
       "      <td>0.0</td>\n",
       "      <td>2022</td>\n",
       "      <td>Arsenal</td>\n",
       "    </tr>\n",
       "    <tr>\n",
       "      <th>3</th>\n",
       "      <td>3</td>\n",
       "      <td>2022-08-27</td>\n",
       "      <td>17:30</td>\n",
       "      <td>Premier League</td>\n",
       "      <td>Matchweek 4</td>\n",
       "      <td>Sat</td>\n",
       "      <td>Home</td>\n",
       "      <td>W</td>\n",
       "      <td>2.0</td>\n",
       "      <td>1.0</td>\n",
       "      <td>...</td>\n",
       "      <td>Match Report</td>\n",
       "      <td>NaN</td>\n",
       "      <td>22.0</td>\n",
       "      <td>8.0</td>\n",
       "      <td>15.5</td>\n",
       "      <td>1.0</td>\n",
       "      <td>0.0</td>\n",
       "      <td>0.0</td>\n",
       "      <td>2022</td>\n",
       "      <td>Arsenal</td>\n",
       "    </tr>\n",
       "    <tr>\n",
       "      <th>4</th>\n",
       "      <td>4</td>\n",
       "      <td>2022-08-31</td>\n",
       "      <td>19:30</td>\n",
       "      <td>Premier League</td>\n",
       "      <td>Matchweek 5</td>\n",
       "      <td>Wed</td>\n",
       "      <td>Home</td>\n",
       "      <td>W</td>\n",
       "      <td>2.0</td>\n",
       "      <td>1.0</td>\n",
       "      <td>...</td>\n",
       "      <td>Match Report</td>\n",
       "      <td>NaN</td>\n",
       "      <td>22.0</td>\n",
       "      <td>8.0</td>\n",
       "      <td>16.3</td>\n",
       "      <td>1.0</td>\n",
       "      <td>0.0</td>\n",
       "      <td>0.0</td>\n",
       "      <td>2022</td>\n",
       "      <td>Arsenal</td>\n",
       "    </tr>\n",
       "  </tbody>\n",
       "</table>\n",
       "<p>5 rows × 28 columns</p>\n",
       "</div>"
      ],
      "text/plain": [
       "   Unnamed: 0        Date   Time            Comp        Round  Day Venue  \\\n",
       "0           0  2022-08-05  20:00  Premier League  Matchweek 1  Fri  Away   \n",
       "1           1  2022-08-13  15:00  Premier League  Matchweek 2  Sat  Home   \n",
       "2           2  2022-08-20  17:30  Premier League  Matchweek 3  Sat  Away   \n",
       "3           3  2022-08-27  17:30  Premier League  Matchweek 4  Sat  Home   \n",
       "4           4  2022-08-31  19:30  Premier League  Matchweek 5  Wed  Home   \n",
       "\n",
       "  Result   GF   GA  ...  Match Report  Notes    Sh  SoT  Dist   FK   PK PKatt  \\\n",
       "0      W  2.0  0.0  ...  Match Report    NaN  10.0  2.0  14.6  1.0  0.0   0.0   \n",
       "1      W  4.0  2.0  ...  Match Report    NaN  19.0  7.0  13.0  0.0  0.0   0.0   \n",
       "2      W  3.0  0.0  ...  Match Report    NaN  14.0  6.0  14.8  0.0  0.0   0.0   \n",
       "3      W  2.0  1.0  ...  Match Report    NaN  22.0  8.0  15.5  1.0  0.0   0.0   \n",
       "4      W  2.0  1.0  ...  Match Report    NaN  22.0  8.0  16.3  1.0  0.0   0.0   \n",
       "\n",
       "  Season     Team  \n",
       "0   2022  Arsenal  \n",
       "1   2022  Arsenal  \n",
       "2   2022  Arsenal  \n",
       "3   2022  Arsenal  \n",
       "4   2022  Arsenal  \n",
       "\n",
       "[5 rows x 28 columns]"
      ]
     },
     "execution_count": 91,
     "metadata": {},
     "output_type": "execute_result"
    }
   ],
   "source": [
    "#Inspect the data and its columns\n",
    "matches_pr.head()"
   ]
  },
  {
   "cell_type": "code",
   "execution_count": 103,
   "id": "5fe6ce78",
   "metadata": {
    "collapsed": true
   },
   "outputs": [
    {
     "name": "stdout",
     "output_type": "stream",
     "text": [
      "<class 'pandas.core.frame.DataFrame'>\n",
      "RangeIndex: 1222 entries, 0 to 1221\n",
      "Data columns (total 25 columns):\n",
      " #   Column      Non-Null Count  Dtype         \n",
      "---  ------      --------------  -----         \n",
      " 0   Date        1222 non-null   datetime64[ns]\n",
      " 1   Time        1222 non-null   object        \n",
      " 2   Comp        1222 non-null   object        \n",
      " 3   Round       1222 non-null   object        \n",
      " 4   Day         1222 non-null   object        \n",
      " 5   Venue       1222 non-null   object        \n",
      " 6   Result      1222 non-null   object        \n",
      " 7   GF          1222 non-null   float64       \n",
      " 8   GA          1222 non-null   float64       \n",
      " 9   Opponent    1222 non-null   object        \n",
      " 10  xG          1222 non-null   float64       \n",
      " 11  xGA         1222 non-null   float64       \n",
      " 12  Poss        1222 non-null   float64       \n",
      " 13  Attendance  1218 non-null   float64       \n",
      " 14  Captain     1222 non-null   object        \n",
      " 15  Formation   1222 non-null   object        \n",
      " 16  Referee     1222 non-null   object        \n",
      " 17  Sh          1222 non-null   float64       \n",
      " 18  SoT         1222 non-null   float64       \n",
      " 19  Dist        1222 non-null   float64       \n",
      " 20  FK          1222 non-null   float64       \n",
      " 21  PK          1222 non-null   float64       \n",
      " 22  PKatt       1222 non-null   float64       \n",
      " 23  Season      1222 non-null   int64         \n",
      " 24  Team        1222 non-null   object        \n",
      "dtypes: datetime64[ns](1), float64(12), int64(1), object(11)\n",
      "memory usage: 238.8+ KB\n"
     ]
    }
   ],
   "source": [
    "#The format of our datetime is wrong based on my inspection, the 'match report', \n",
    "#'unnamed: 0' and, 'Notes' columns serve no purpose\n",
    "matches_pr.info()"
   ]
  },
  {
   "cell_type": "code",
   "execution_count": 93,
   "id": "f6b54716",
   "metadata": {},
   "outputs": [],
   "source": [
    "#I need to convert the date column to a datetime\n",
    "import datetime as dt\n",
    "matches_pr['Date'] = matches_pr['Date'].apply(pd.to_datetime, errors='coerce')"
   ]
  },
  {
   "cell_type": "code",
   "execution_count": 94,
   "id": "6bc452b6",
   "metadata": {},
   "outputs": [],
   "source": [
    "#I also need to remove the unnamed column as it serves no purpose\n",
    "matches_pr = matches_pr.drop('Unnamed: 0', axis=1)"
   ]
  },
  {
   "cell_type": "code",
   "execution_count": 104,
   "id": "49a4d751",
   "metadata": {
    "collapsed": true
   },
   "outputs": [
    {
     "data": {
      "text/html": [
       "<div>\n",
       "<style scoped>\n",
       "    .dataframe tbody tr th:only-of-type {\n",
       "        vertical-align: middle;\n",
       "    }\n",
       "\n",
       "    .dataframe tbody tr th {\n",
       "        vertical-align: top;\n",
       "    }\n",
       "\n",
       "    .dataframe thead th {\n",
       "        text-align: right;\n",
       "    }\n",
       "</style>\n",
       "<table border=\"1\" class=\"dataframe\">\n",
       "  <thead>\n",
       "    <tr style=\"text-align: right;\">\n",
       "      <th></th>\n",
       "      <th>Date</th>\n",
       "      <th>Time</th>\n",
       "      <th>Comp</th>\n",
       "      <th>Round</th>\n",
       "      <th>Day</th>\n",
       "      <th>Venue</th>\n",
       "      <th>Result</th>\n",
       "      <th>GF</th>\n",
       "      <th>GA</th>\n",
       "      <th>Opponent</th>\n",
       "      <th>...</th>\n",
       "      <th>Formation</th>\n",
       "      <th>Referee</th>\n",
       "      <th>Sh</th>\n",
       "      <th>SoT</th>\n",
       "      <th>Dist</th>\n",
       "      <th>FK</th>\n",
       "      <th>PK</th>\n",
       "      <th>PKatt</th>\n",
       "      <th>Season</th>\n",
       "      <th>Team</th>\n",
       "    </tr>\n",
       "  </thead>\n",
       "  <tbody>\n",
       "    <tr>\n",
       "      <th>0</th>\n",
       "      <td>2022-08-05</td>\n",
       "      <td>20:00</td>\n",
       "      <td>Premier League</td>\n",
       "      <td>Matchweek 1</td>\n",
       "      <td>Fri</td>\n",
       "      <td>Away</td>\n",
       "      <td>W</td>\n",
       "      <td>2.0</td>\n",
       "      <td>0.0</td>\n",
       "      <td>Crystal Palace</td>\n",
       "      <td>...</td>\n",
       "      <td>4-3-3</td>\n",
       "      <td>Anthony Taylor</td>\n",
       "      <td>10.0</td>\n",
       "      <td>2.0</td>\n",
       "      <td>14.6</td>\n",
       "      <td>1.0</td>\n",
       "      <td>0.0</td>\n",
       "      <td>0.0</td>\n",
       "      <td>2022</td>\n",
       "      <td>Arsenal</td>\n",
       "    </tr>\n",
       "    <tr>\n",
       "      <th>1</th>\n",
       "      <td>2022-08-13</td>\n",
       "      <td>15:00</td>\n",
       "      <td>Premier League</td>\n",
       "      <td>Matchweek 2</td>\n",
       "      <td>Sat</td>\n",
       "      <td>Home</td>\n",
       "      <td>W</td>\n",
       "      <td>4.0</td>\n",
       "      <td>2.0</td>\n",
       "      <td>Leicester City</td>\n",
       "      <td>...</td>\n",
       "      <td>4-3-3</td>\n",
       "      <td>Darren England</td>\n",
       "      <td>19.0</td>\n",
       "      <td>7.0</td>\n",
       "      <td>13.0</td>\n",
       "      <td>0.0</td>\n",
       "      <td>0.0</td>\n",
       "      <td>0.0</td>\n",
       "      <td>2022</td>\n",
       "      <td>Arsenal</td>\n",
       "    </tr>\n",
       "    <tr>\n",
       "      <th>2</th>\n",
       "      <td>2022-08-20</td>\n",
       "      <td>17:30</td>\n",
       "      <td>Premier League</td>\n",
       "      <td>Matchweek 3</td>\n",
       "      <td>Sat</td>\n",
       "      <td>Away</td>\n",
       "      <td>W</td>\n",
       "      <td>3.0</td>\n",
       "      <td>0.0</td>\n",
       "      <td>Bournemouth</td>\n",
       "      <td>...</td>\n",
       "      <td>4-3-3</td>\n",
       "      <td>Craig Pawson</td>\n",
       "      <td>14.0</td>\n",
       "      <td>6.0</td>\n",
       "      <td>14.8</td>\n",
       "      <td>0.0</td>\n",
       "      <td>0.0</td>\n",
       "      <td>0.0</td>\n",
       "      <td>2022</td>\n",
       "      <td>Arsenal</td>\n",
       "    </tr>\n",
       "    <tr>\n",
       "      <th>3</th>\n",
       "      <td>2022-08-27</td>\n",
       "      <td>17:30</td>\n",
       "      <td>Premier League</td>\n",
       "      <td>Matchweek 4</td>\n",
       "      <td>Sat</td>\n",
       "      <td>Home</td>\n",
       "      <td>W</td>\n",
       "      <td>2.0</td>\n",
       "      <td>1.0</td>\n",
       "      <td>Fulham</td>\n",
       "      <td>...</td>\n",
       "      <td>4-3-3</td>\n",
       "      <td>Jarred Gillett</td>\n",
       "      <td>22.0</td>\n",
       "      <td>8.0</td>\n",
       "      <td>15.5</td>\n",
       "      <td>1.0</td>\n",
       "      <td>0.0</td>\n",
       "      <td>0.0</td>\n",
       "      <td>2022</td>\n",
       "      <td>Arsenal</td>\n",
       "    </tr>\n",
       "    <tr>\n",
       "      <th>4</th>\n",
       "      <td>2022-08-31</td>\n",
       "      <td>19:30</td>\n",
       "      <td>Premier League</td>\n",
       "      <td>Matchweek 5</td>\n",
       "      <td>Wed</td>\n",
       "      <td>Home</td>\n",
       "      <td>W</td>\n",
       "      <td>2.0</td>\n",
       "      <td>1.0</td>\n",
       "      <td>Aston Villa</td>\n",
       "      <td>...</td>\n",
       "      <td>4-3-3</td>\n",
       "      <td>Robert Jones</td>\n",
       "      <td>22.0</td>\n",
       "      <td>8.0</td>\n",
       "      <td>16.3</td>\n",
       "      <td>1.0</td>\n",
       "      <td>0.0</td>\n",
       "      <td>0.0</td>\n",
       "      <td>2022</td>\n",
       "      <td>Arsenal</td>\n",
       "    </tr>\n",
       "  </tbody>\n",
       "</table>\n",
       "<p>5 rows × 25 columns</p>\n",
       "</div>"
      ],
      "text/plain": [
       "        Date   Time            Comp        Round  Day Venue Result   GF   GA  \\\n",
       "0 2022-08-05  20:00  Premier League  Matchweek 1  Fri  Away      W  2.0  0.0   \n",
       "1 2022-08-13  15:00  Premier League  Matchweek 2  Sat  Home      W  4.0  2.0   \n",
       "2 2022-08-20  17:30  Premier League  Matchweek 3  Sat  Away      W  3.0  0.0   \n",
       "3 2022-08-27  17:30  Premier League  Matchweek 4  Sat  Home      W  2.0  1.0   \n",
       "4 2022-08-31  19:30  Premier League  Matchweek 5  Wed  Home      W  2.0  1.0   \n",
       "\n",
       "         Opponent  ...  Formation         Referee    Sh  SoT  Dist   FK   PK  \\\n",
       "0  Crystal Palace  ...      4-3-3  Anthony Taylor  10.0  2.0  14.6  1.0  0.0   \n",
       "1  Leicester City  ...      4-3-3  Darren England  19.0  7.0  13.0  0.0  0.0   \n",
       "2     Bournemouth  ...      4-3-3    Craig Pawson  14.0  6.0  14.8  0.0  0.0   \n",
       "3          Fulham  ...      4-3-3  Jarred Gillett  22.0  8.0  15.5  1.0  0.0   \n",
       "4     Aston Villa  ...      4-3-3    Robert Jones  22.0  8.0  16.3  1.0  0.0   \n",
       "\n",
       "   PKatt  Season     Team  \n",
       "0    0.0    2022  Arsenal  \n",
       "1    0.0    2022  Arsenal  \n",
       "2    0.0    2022  Arsenal  \n",
       "3    0.0    2022  Arsenal  \n",
       "4    0.0    2022  Arsenal  \n",
       "\n",
       "[5 rows x 25 columns]"
      ]
     },
     "execution_count": 104,
     "metadata": {},
     "output_type": "execute_result"
    }
   ],
   "source": [
    "matches_pr.head()"
   ]
  },
  {
   "cell_type": "code",
   "execution_count": 101,
   "id": "67bc025c",
   "metadata": {},
   "outputs": [],
   "source": [
    "#The 'Match Report' and 'Notes' columns also serve no purpose\n",
    "matches_pr = matches_pr.drop(['Match Report','Notes'], axis=1)"
   ]
  },
  {
   "cell_type": "code",
   "execution_count": 549,
   "id": "412c9687",
   "metadata": {},
   "outputs": [
    {
     "data": {
      "text/plain": [
       "23"
      ]
     },
     "execution_count": 549,
     "metadata": {},
     "output_type": "execute_result"
    }
   ],
   "source": [
    "#To make sure all teams from the 2021 and 2022 season are accounted for. There should be 23 teams.\n",
    "len(matches_pr['Team'].unique())"
   ]
  },
  {
   "cell_type": "code",
   "execution_count": 102,
   "id": "4657d5e9",
   "metadata": {},
   "outputs": [
    {
     "data": {
      "text/html": [
       "<div>\n",
       "<style scoped>\n",
       "    .dataframe tbody tr th:only-of-type {\n",
       "        vertical-align: middle;\n",
       "    }\n",
       "\n",
       "    .dataframe tbody tr th {\n",
       "        vertical-align: top;\n",
       "    }\n",
       "\n",
       "    .dataframe thead th {\n",
       "        text-align: right;\n",
       "    }\n",
       "</style>\n",
       "<table border=\"1\" class=\"dataframe\">\n",
       "  <thead>\n",
       "    <tr style=\"text-align: right;\">\n",
       "      <th></th>\n",
       "      <th>Time</th>\n",
       "      <th>Comp</th>\n",
       "      <th>Round</th>\n",
       "      <th>Day</th>\n",
       "      <th>Venue</th>\n",
       "      <th>Result</th>\n",
       "      <th>Opponent</th>\n",
       "      <th>Captain</th>\n",
       "      <th>Formation</th>\n",
       "      <th>Referee</th>\n",
       "      <th>Team</th>\n",
       "    </tr>\n",
       "  </thead>\n",
       "  <tbody>\n",
       "    <tr>\n",
       "      <th>0</th>\n",
       "      <td>20:00</td>\n",
       "      <td>Premier League</td>\n",
       "      <td>Matchweek 1</td>\n",
       "      <td>Fri</td>\n",
       "      <td>Away</td>\n",
       "      <td>W</td>\n",
       "      <td>Crystal Palace</td>\n",
       "      <td>Martin Ødegaard</td>\n",
       "      <td>4-3-3</td>\n",
       "      <td>Anthony Taylor</td>\n",
       "      <td>Arsenal</td>\n",
       "    </tr>\n",
       "    <tr>\n",
       "      <th>1</th>\n",
       "      <td>15:00</td>\n",
       "      <td>Premier League</td>\n",
       "      <td>Matchweek 2</td>\n",
       "      <td>Sat</td>\n",
       "      <td>Home</td>\n",
       "      <td>W</td>\n",
       "      <td>Leicester City</td>\n",
       "      <td>Martin Ødegaard</td>\n",
       "      <td>4-3-3</td>\n",
       "      <td>Darren England</td>\n",
       "      <td>Arsenal</td>\n",
       "    </tr>\n",
       "    <tr>\n",
       "      <th>2</th>\n",
       "      <td>17:30</td>\n",
       "      <td>Premier League</td>\n",
       "      <td>Matchweek 3</td>\n",
       "      <td>Sat</td>\n",
       "      <td>Away</td>\n",
       "      <td>W</td>\n",
       "      <td>Bournemouth</td>\n",
       "      <td>Martin Ødegaard</td>\n",
       "      <td>4-3-3</td>\n",
       "      <td>Craig Pawson</td>\n",
       "      <td>Arsenal</td>\n",
       "    </tr>\n",
       "    <tr>\n",
       "      <th>3</th>\n",
       "      <td>17:30</td>\n",
       "      <td>Premier League</td>\n",
       "      <td>Matchweek 4</td>\n",
       "      <td>Sat</td>\n",
       "      <td>Home</td>\n",
       "      <td>W</td>\n",
       "      <td>Fulham</td>\n",
       "      <td>Martin Ødegaard</td>\n",
       "      <td>4-3-3</td>\n",
       "      <td>Jarred Gillett</td>\n",
       "      <td>Arsenal</td>\n",
       "    </tr>\n",
       "    <tr>\n",
       "      <th>4</th>\n",
       "      <td>19:30</td>\n",
       "      <td>Premier League</td>\n",
       "      <td>Matchweek 5</td>\n",
       "      <td>Wed</td>\n",
       "      <td>Home</td>\n",
       "      <td>W</td>\n",
       "      <td>Aston Villa</td>\n",
       "      <td>Martin Ødegaard</td>\n",
       "      <td>4-3-3</td>\n",
       "      <td>Robert Jones</td>\n",
       "      <td>Arsenal</td>\n",
       "    </tr>\n",
       "  </tbody>\n",
       "</table>\n",
       "</div>"
      ],
      "text/plain": [
       "    Time            Comp        Round  Day Venue Result        Opponent  \\\n",
       "0  20:00  Premier League  Matchweek 1  Fri  Away      W  Crystal Palace   \n",
       "1  15:00  Premier League  Matchweek 2  Sat  Home      W  Leicester City   \n",
       "2  17:30  Premier League  Matchweek 3  Sat  Away      W     Bournemouth   \n",
       "3  17:30  Premier League  Matchweek 4  Sat  Home      W          Fulham   \n",
       "4  19:30  Premier League  Matchweek 5  Wed  Home      W     Aston Villa   \n",
       "\n",
       "           Captain Formation         Referee     Team  \n",
       "0  Martin Ødegaard     4-3-3  Anthony Taylor  Arsenal  \n",
       "1  Martin Ødegaard     4-3-3  Darren England  Arsenal  \n",
       "2  Martin Ødegaard     4-3-3    Craig Pawson  Arsenal  \n",
       "3  Martin Ødegaard     4-3-3  Jarred Gillett  Arsenal  \n",
       "4  Martin Ødegaard     4-3-3    Robert Jones  Arsenal  "
      ]
     },
     "execution_count": 102,
     "metadata": {},
     "output_type": "execute_result"
    }
   ],
   "source": [
    "#To inspect the object type columns\n",
    "matches_pr.select_dtypes(include=['object']).head()"
   ]
  },
  {
   "cell_type": "code",
   "execution_count": 105,
   "id": "505cd131",
   "metadata": {},
   "outputs": [
    {
     "data": {
      "text/html": [
       "<div>\n",
       "<style scoped>\n",
       "    .dataframe tbody tr th:only-of-type {\n",
       "        vertical-align: middle;\n",
       "    }\n",
       "\n",
       "    .dataframe tbody tr th {\n",
       "        vertical-align: top;\n",
       "    }\n",
       "\n",
       "    .dataframe thead th {\n",
       "        text-align: right;\n",
       "    }\n",
       "</style>\n",
       "<table border=\"1\" class=\"dataframe\">\n",
       "  <thead>\n",
       "    <tr style=\"text-align: right;\">\n",
       "      <th></th>\n",
       "      <th>GF</th>\n",
       "      <th>GA</th>\n",
       "      <th>xG</th>\n",
       "      <th>xGA</th>\n",
       "      <th>Poss</th>\n",
       "      <th>Attendance</th>\n",
       "      <th>Sh</th>\n",
       "      <th>SoT</th>\n",
       "      <th>Dist</th>\n",
       "      <th>FK</th>\n",
       "      <th>PK</th>\n",
       "      <th>PKatt</th>\n",
       "      <th>Season</th>\n",
       "    </tr>\n",
       "  </thead>\n",
       "  <tbody>\n",
       "    <tr>\n",
       "      <th>0</th>\n",
       "      <td>2.0</td>\n",
       "      <td>0.0</td>\n",
       "      <td>1.0</td>\n",
       "      <td>1.2</td>\n",
       "      <td>44.0</td>\n",
       "      <td>25286.0</td>\n",
       "      <td>10.0</td>\n",
       "      <td>2.0</td>\n",
       "      <td>14.6</td>\n",
       "      <td>1.0</td>\n",
       "      <td>0.0</td>\n",
       "      <td>0.0</td>\n",
       "      <td>2022</td>\n",
       "    </tr>\n",
       "    <tr>\n",
       "      <th>1</th>\n",
       "      <td>4.0</td>\n",
       "      <td>2.0</td>\n",
       "      <td>2.7</td>\n",
       "      <td>0.5</td>\n",
       "      <td>50.0</td>\n",
       "      <td>60033.0</td>\n",
       "      <td>19.0</td>\n",
       "      <td>7.0</td>\n",
       "      <td>13.0</td>\n",
       "      <td>0.0</td>\n",
       "      <td>0.0</td>\n",
       "      <td>0.0</td>\n",
       "      <td>2022</td>\n",
       "    </tr>\n",
       "    <tr>\n",
       "      <th>2</th>\n",
       "      <td>3.0</td>\n",
       "      <td>0.0</td>\n",
       "      <td>1.3</td>\n",
       "      <td>0.3</td>\n",
       "      <td>57.0</td>\n",
       "      <td>10423.0</td>\n",
       "      <td>14.0</td>\n",
       "      <td>6.0</td>\n",
       "      <td>14.8</td>\n",
       "      <td>0.0</td>\n",
       "      <td>0.0</td>\n",
       "      <td>0.0</td>\n",
       "      <td>2022</td>\n",
       "    </tr>\n",
       "    <tr>\n",
       "      <th>3</th>\n",
       "      <td>2.0</td>\n",
       "      <td>1.0</td>\n",
       "      <td>2.6</td>\n",
       "      <td>0.8</td>\n",
       "      <td>71.0</td>\n",
       "      <td>60164.0</td>\n",
       "      <td>22.0</td>\n",
       "      <td>8.0</td>\n",
       "      <td>15.5</td>\n",
       "      <td>1.0</td>\n",
       "      <td>0.0</td>\n",
       "      <td>0.0</td>\n",
       "      <td>2022</td>\n",
       "    </tr>\n",
       "    <tr>\n",
       "      <th>4</th>\n",
       "      <td>2.0</td>\n",
       "      <td>1.0</td>\n",
       "      <td>2.4</td>\n",
       "      <td>0.4</td>\n",
       "      <td>59.0</td>\n",
       "      <td>60012.0</td>\n",
       "      <td>22.0</td>\n",
       "      <td>8.0</td>\n",
       "      <td>16.3</td>\n",
       "      <td>1.0</td>\n",
       "      <td>0.0</td>\n",
       "      <td>0.0</td>\n",
       "      <td>2022</td>\n",
       "    </tr>\n",
       "  </tbody>\n",
       "</table>\n",
       "</div>"
      ],
      "text/plain": [
       "    GF   GA   xG  xGA  Poss  Attendance    Sh  SoT  Dist   FK   PK  PKatt  \\\n",
       "0  2.0  0.0  1.0  1.2  44.0     25286.0  10.0  2.0  14.6  1.0  0.0    0.0   \n",
       "1  4.0  2.0  2.7  0.5  50.0     60033.0  19.0  7.0  13.0  0.0  0.0    0.0   \n",
       "2  3.0  0.0  1.3  0.3  57.0     10423.0  14.0  6.0  14.8  0.0  0.0    0.0   \n",
       "3  2.0  1.0  2.6  0.8  71.0     60164.0  22.0  8.0  15.5  1.0  0.0    0.0   \n",
       "4  2.0  1.0  2.4  0.4  59.0     60012.0  22.0  8.0  16.3  1.0  0.0    0.0   \n",
       "\n",
       "   Season  \n",
       "0    2022  \n",
       "1    2022  \n",
       "2    2022  \n",
       "3    2022  \n",
       "4    2022  "
      ]
     },
     "execution_count": 105,
     "metadata": {},
     "output_type": "execute_result"
    }
   ],
   "source": [
    "#To inspect the number type columns\n",
    "matches_pr.select_dtypes(include=[np.number]).head()"
   ]
  },
  {
   "cell_type": "markdown",
   "id": "32fd95f7",
   "metadata": {},
   "source": [
    "## Data Analysis and Visualization\n",
    "#### 1. Goal-scoring efficiency: I need to compare the number of shots taken by each team with the number of goals they have scored to determine the efficiency of their shooting. This will help me identify which teams are more effective at converting their chances into goals."
   ]
  },
  {
   "cell_type": "code",
   "execution_count": 210,
   "id": "b2c12c25",
   "metadata": {},
   "outputs": [
    {
     "data": {
      "text/html": [
       "<div>\n",
       "<style scoped>\n",
       "    .dataframe tbody tr th:only-of-type {\n",
       "        vertical-align: middle;\n",
       "    }\n",
       "\n",
       "    .dataframe tbody tr th {\n",
       "        vertical-align: top;\n",
       "    }\n",
       "\n",
       "    .dataframe thead th {\n",
       "        text-align: right;\n",
       "    }\n",
       "</style>\n",
       "<table border=\"1\" class=\"dataframe\">\n",
       "  <thead>\n",
       "    <tr style=\"text-align: right;\">\n",
       "      <th></th>\n",
       "      <th>Date</th>\n",
       "      <th>Time</th>\n",
       "      <th>Comp</th>\n",
       "      <th>Round</th>\n",
       "      <th>Day</th>\n",
       "      <th>Venue</th>\n",
       "      <th>Result</th>\n",
       "      <th>GF</th>\n",
       "      <th>GA</th>\n",
       "      <th>Opponent</th>\n",
       "      <th>...</th>\n",
       "      <th>Referee</th>\n",
       "      <th>Sh</th>\n",
       "      <th>SoT</th>\n",
       "      <th>Dist</th>\n",
       "      <th>FK</th>\n",
       "      <th>PK</th>\n",
       "      <th>PKatt</th>\n",
       "      <th>Season</th>\n",
       "      <th>Team</th>\n",
       "      <th>Sh_Accuracy</th>\n",
       "    </tr>\n",
       "  </thead>\n",
       "  <tbody>\n",
       "    <tr>\n",
       "      <th>0</th>\n",
       "      <td>2022-08-05</td>\n",
       "      <td>20:00</td>\n",
       "      <td>Premier League</td>\n",
       "      <td>Matchweek 1</td>\n",
       "      <td>Fri</td>\n",
       "      <td>Away</td>\n",
       "      <td>W</td>\n",
       "      <td>2.0</td>\n",
       "      <td>0.0</td>\n",
       "      <td>Crystal Palace</td>\n",
       "      <td>...</td>\n",
       "      <td>Anthony Taylor</td>\n",
       "      <td>10.0</td>\n",
       "      <td>2.0</td>\n",
       "      <td>14.6</td>\n",
       "      <td>1.0</td>\n",
       "      <td>0.0</td>\n",
       "      <td>0.0</td>\n",
       "      <td>2022</td>\n",
       "      <td>Arsenal</td>\n",
       "      <td>20.0</td>\n",
       "    </tr>\n",
       "    <tr>\n",
       "      <th>1</th>\n",
       "      <td>2022-08-13</td>\n",
       "      <td>15:00</td>\n",
       "      <td>Premier League</td>\n",
       "      <td>Matchweek 2</td>\n",
       "      <td>Sat</td>\n",
       "      <td>Home</td>\n",
       "      <td>W</td>\n",
       "      <td>4.0</td>\n",
       "      <td>2.0</td>\n",
       "      <td>Leicester City</td>\n",
       "      <td>...</td>\n",
       "      <td>Darren England</td>\n",
       "      <td>19.0</td>\n",
       "      <td>7.0</td>\n",
       "      <td>13.0</td>\n",
       "      <td>0.0</td>\n",
       "      <td>0.0</td>\n",
       "      <td>0.0</td>\n",
       "      <td>2022</td>\n",
       "      <td>Arsenal</td>\n",
       "      <td>37.0</td>\n",
       "    </tr>\n",
       "    <tr>\n",
       "      <th>2</th>\n",
       "      <td>2022-08-20</td>\n",
       "      <td>17:30</td>\n",
       "      <td>Premier League</td>\n",
       "      <td>Matchweek 3</td>\n",
       "      <td>Sat</td>\n",
       "      <td>Away</td>\n",
       "      <td>W</td>\n",
       "      <td>3.0</td>\n",
       "      <td>0.0</td>\n",
       "      <td>Bournemouth</td>\n",
       "      <td>...</td>\n",
       "      <td>Craig Pawson</td>\n",
       "      <td>14.0</td>\n",
       "      <td>6.0</td>\n",
       "      <td>14.8</td>\n",
       "      <td>0.0</td>\n",
       "      <td>0.0</td>\n",
       "      <td>0.0</td>\n",
       "      <td>2022</td>\n",
       "      <td>Arsenal</td>\n",
       "      <td>43.0</td>\n",
       "    </tr>\n",
       "    <tr>\n",
       "      <th>3</th>\n",
       "      <td>2022-08-27</td>\n",
       "      <td>17:30</td>\n",
       "      <td>Premier League</td>\n",
       "      <td>Matchweek 4</td>\n",
       "      <td>Sat</td>\n",
       "      <td>Home</td>\n",
       "      <td>W</td>\n",
       "      <td>2.0</td>\n",
       "      <td>1.0</td>\n",
       "      <td>Fulham</td>\n",
       "      <td>...</td>\n",
       "      <td>Jarred Gillett</td>\n",
       "      <td>22.0</td>\n",
       "      <td>8.0</td>\n",
       "      <td>15.5</td>\n",
       "      <td>1.0</td>\n",
       "      <td>0.0</td>\n",
       "      <td>0.0</td>\n",
       "      <td>2022</td>\n",
       "      <td>Arsenal</td>\n",
       "      <td>36.0</td>\n",
       "    </tr>\n",
       "    <tr>\n",
       "      <th>4</th>\n",
       "      <td>2022-08-31</td>\n",
       "      <td>19:30</td>\n",
       "      <td>Premier League</td>\n",
       "      <td>Matchweek 5</td>\n",
       "      <td>Wed</td>\n",
       "      <td>Home</td>\n",
       "      <td>W</td>\n",
       "      <td>2.0</td>\n",
       "      <td>1.0</td>\n",
       "      <td>Aston Villa</td>\n",
       "      <td>...</td>\n",
       "      <td>Robert Jones</td>\n",
       "      <td>22.0</td>\n",
       "      <td>8.0</td>\n",
       "      <td>16.3</td>\n",
       "      <td>1.0</td>\n",
       "      <td>0.0</td>\n",
       "      <td>0.0</td>\n",
       "      <td>2022</td>\n",
       "      <td>Arsenal</td>\n",
       "      <td>36.0</td>\n",
       "    </tr>\n",
       "  </tbody>\n",
       "</table>\n",
       "<p>5 rows × 26 columns</p>\n",
       "</div>"
      ],
      "text/plain": [
       "        Date   Time            Comp        Round  Day Venue Result   GF   GA  \\\n",
       "0 2022-08-05  20:00  Premier League  Matchweek 1  Fri  Away      W  2.0  0.0   \n",
       "1 2022-08-13  15:00  Premier League  Matchweek 2  Sat  Home      W  4.0  2.0   \n",
       "2 2022-08-20  17:30  Premier League  Matchweek 3  Sat  Away      W  3.0  0.0   \n",
       "3 2022-08-27  17:30  Premier League  Matchweek 4  Sat  Home      W  2.0  1.0   \n",
       "4 2022-08-31  19:30  Premier League  Matchweek 5  Wed  Home      W  2.0  1.0   \n",
       "\n",
       "         Opponent  ...         Referee    Sh  SoT  Dist   FK   PK PKatt  \\\n",
       "0  Crystal Palace  ...  Anthony Taylor  10.0  2.0  14.6  1.0  0.0   0.0   \n",
       "1  Leicester City  ...  Darren England  19.0  7.0  13.0  0.0  0.0   0.0   \n",
       "2     Bournemouth  ...    Craig Pawson  14.0  6.0  14.8  0.0  0.0   0.0   \n",
       "3          Fulham  ...  Jarred Gillett  22.0  8.0  15.5  1.0  0.0   0.0   \n",
       "4     Aston Villa  ...    Robert Jones  22.0  8.0  16.3  1.0  0.0   0.0   \n",
       "\n",
       "   Season     Team  Sh_Accuracy  \n",
       "0    2022  Arsenal         20.0  \n",
       "1    2022  Arsenal         37.0  \n",
       "2    2022  Arsenal         43.0  \n",
       "3    2022  Arsenal         36.0  \n",
       "4    2022  Arsenal         36.0  \n",
       "\n",
       "[5 rows x 26 columns]"
      ]
     },
     "execution_count": 210,
     "metadata": {},
     "output_type": "execute_result"
    }
   ],
   "source": [
    "matches_pr.head()"
   ]
  },
  {
   "cell_type": "code",
   "execution_count": 185,
   "id": "7df338c8",
   "metadata": {
    "collapsed": true
   },
   "outputs": [
    {
     "data": {
      "text/html": [
       "<div>\n",
       "<style scoped>\n",
       "    .dataframe tbody tr th:only-of-type {\n",
       "        vertical-align: middle;\n",
       "    }\n",
       "\n",
       "    .dataframe tbody tr th {\n",
       "        vertical-align: top;\n",
       "    }\n",
       "\n",
       "    .dataframe thead th {\n",
       "        text-align: right;\n",
       "    }\n",
       "</style>\n",
       "<table border=\"1\" class=\"dataframe\">\n",
       "  <thead>\n",
       "    <tr style=\"text-align: right;\">\n",
       "      <th></th>\n",
       "      <th>GA</th>\n",
       "      <th>GF</th>\n",
       "      <th>Sh</th>\n",
       "      <th>SoT</th>\n",
       "      <th>xG</th>\n",
       "      <th>xGA</th>\n",
       "    </tr>\n",
       "    <tr>\n",
       "      <th>Team</th>\n",
       "      <th></th>\n",
       "      <th></th>\n",
       "      <th></th>\n",
       "      <th></th>\n",
       "      <th></th>\n",
       "      <th></th>\n",
       "    </tr>\n",
       "  </thead>\n",
       "  <tbody>\n",
       "    <tr>\n",
       "      <th>Arsenal</th>\n",
       "      <td>23.0</td>\n",
       "      <td>51.0</td>\n",
       "      <td>374.0</td>\n",
       "      <td>117.0</td>\n",
       "      <td>44.0</td>\n",
       "      <td>22.9</td>\n",
       "    </tr>\n",
       "    <tr>\n",
       "      <th>Aston Villa</th>\n",
       "      <td>38.0</td>\n",
       "      <td>28.0</td>\n",
       "      <td>259.0</td>\n",
       "      <td>90.0</td>\n",
       "      <td>27.1</td>\n",
       "      <td>35.8</td>\n",
       "    </tr>\n",
       "    <tr>\n",
       "      <th>Bournemouth</th>\n",
       "      <td>44.0</td>\n",
       "      <td>21.0</td>\n",
       "      <td>195.0</td>\n",
       "      <td>70.0</td>\n",
       "      <td>18.8</td>\n",
       "      <td>37.8</td>\n",
       "    </tr>\n",
       "    <tr>\n",
       "      <th>Brentford</th>\n",
       "      <td>30.0</td>\n",
       "      <td>37.0</td>\n",
       "      <td>232.0</td>\n",
       "      <td>88.0</td>\n",
       "      <td>32.5</td>\n",
       "      <td>29.3</td>\n",
       "    </tr>\n",
       "    <tr>\n",
       "      <th>Brighton and Hove Albion</th>\n",
       "      <td>29.0</td>\n",
       "      <td>39.0</td>\n",
       "      <td>314.0</td>\n",
       "      <td>118.0</td>\n",
       "      <td>35.9</td>\n",
       "      <td>26.4</td>\n",
       "    </tr>\n",
       "    <tr>\n",
       "      <th>Chelsea</th>\n",
       "      <td>23.0</td>\n",
       "      <td>23.0</td>\n",
       "      <td>271.0</td>\n",
       "      <td>88.0</td>\n",
       "      <td>28.0</td>\n",
       "      <td>29.1</td>\n",
       "    </tr>\n",
       "    <tr>\n",
       "      <th>Crystal Palace</th>\n",
       "      <td>31.0</td>\n",
       "      <td>21.0</td>\n",
       "      <td>242.0</td>\n",
       "      <td>81.0</td>\n",
       "      <td>21.8</td>\n",
       "      <td>32.8</td>\n",
       "    </tr>\n",
       "    <tr>\n",
       "      <th>Everton</th>\n",
       "      <td>30.0</td>\n",
       "      <td>17.0</td>\n",
       "      <td>230.0</td>\n",
       "      <td>75.0</td>\n",
       "      <td>23.9</td>\n",
       "      <td>37.0</td>\n",
       "    </tr>\n",
       "    <tr>\n",
       "      <th>Fulham</th>\n",
       "      <td>30.0</td>\n",
       "      <td>35.0</td>\n",
       "      <td>271.0</td>\n",
       "      <td>89.0</td>\n",
       "      <td>30.9</td>\n",
       "      <td>39.5</td>\n",
       "    </tr>\n",
       "    <tr>\n",
       "      <th>Leeds United</th>\n",
       "      <td>39.0</td>\n",
       "      <td>28.0</td>\n",
       "      <td>278.0</td>\n",
       "      <td>85.0</td>\n",
       "      <td>29.7</td>\n",
       "      <td>34.6</td>\n",
       "    </tr>\n",
       "    <tr>\n",
       "      <th>Leicester City</th>\n",
       "      <td>41.0</td>\n",
       "      <td>36.0</td>\n",
       "      <td>255.0</td>\n",
       "      <td>92.0</td>\n",
       "      <td>28.2</td>\n",
       "      <td>39.0</td>\n",
       "    </tr>\n",
       "    <tr>\n",
       "      <th>Liverpool</th>\n",
       "      <td>28.0</td>\n",
       "      <td>38.0</td>\n",
       "      <td>364.0</td>\n",
       "      <td>126.0</td>\n",
       "      <td>39.9</td>\n",
       "      <td>31.4</td>\n",
       "    </tr>\n",
       "    <tr>\n",
       "      <th>Manchester City</th>\n",
       "      <td>24.0</td>\n",
       "      <td>60.0</td>\n",
       "      <td>394.0</td>\n",
       "      <td>134.0</td>\n",
       "      <td>50.5</td>\n",
       "      <td>20.1</td>\n",
       "    </tr>\n",
       "    <tr>\n",
       "      <th>Manchester United</th>\n",
       "      <td>28.0</td>\n",
       "      <td>41.0</td>\n",
       "      <td>345.0</td>\n",
       "      <td>124.0</td>\n",
       "      <td>38.7</td>\n",
       "      <td>28.5</td>\n",
       "    </tr>\n",
       "    <tr>\n",
       "      <th>Newcastle United</th>\n",
       "      <td>15.0</td>\n",
       "      <td>35.0</td>\n",
       "      <td>324.0</td>\n",
       "      <td>109.0</td>\n",
       "      <td>37.2</td>\n",
       "      <td>22.8</td>\n",
       "    </tr>\n",
       "    <tr>\n",
       "      <th>Nottingham Forest</th>\n",
       "      <td>38.0</td>\n",
       "      <td>18.0</td>\n",
       "      <td>231.0</td>\n",
       "      <td>65.0</td>\n",
       "      <td>25.3</td>\n",
       "      <td>35.4</td>\n",
       "    </tr>\n",
       "    <tr>\n",
       "      <th>Southampton</th>\n",
       "      <td>40.0</td>\n",
       "      <td>19.0</td>\n",
       "      <td>263.0</td>\n",
       "      <td>81.0</td>\n",
       "      <td>22.4</td>\n",
       "      <td>30.7</td>\n",
       "    </tr>\n",
       "    <tr>\n",
       "      <th>Tottenham Hotspur</th>\n",
       "      <td>35.0</td>\n",
       "      <td>44.0</td>\n",
       "      <td>328.0</td>\n",
       "      <td>123.0</td>\n",
       "      <td>34.7</td>\n",
       "      <td>28.6</td>\n",
       "    </tr>\n",
       "    <tr>\n",
       "      <th>West Ham United</th>\n",
       "      <td>29.0</td>\n",
       "      <td>19.0</td>\n",
       "      <td>293.0</td>\n",
       "      <td>73.0</td>\n",
       "      <td>28.4</td>\n",
       "      <td>26.0</td>\n",
       "    </tr>\n",
       "    <tr>\n",
       "      <th>Wolverhampton Wanderers</th>\n",
       "      <td>32.0</td>\n",
       "      <td>17.0</td>\n",
       "      <td>267.0</td>\n",
       "      <td>71.0</td>\n",
       "      <td>22.9</td>\n",
       "      <td>33.1</td>\n",
       "    </tr>\n",
       "  </tbody>\n",
       "</table>\n",
       "</div>"
      ],
      "text/plain": [
       "                            GA    GF     Sh    SoT    xG   xGA\n",
       "Team                                                          \n",
       "Arsenal                   23.0  51.0  374.0  117.0  44.0  22.9\n",
       "Aston Villa               38.0  28.0  259.0   90.0  27.1  35.8\n",
       "Bournemouth               44.0  21.0  195.0   70.0  18.8  37.8\n",
       "Brentford                 30.0  37.0  232.0   88.0  32.5  29.3\n",
       "Brighton and Hove Albion  29.0  39.0  314.0  118.0  35.9  26.4\n",
       "Chelsea                   23.0  23.0  271.0   88.0  28.0  29.1\n",
       "Crystal Palace            31.0  21.0  242.0   81.0  21.8  32.8\n",
       "Everton                   30.0  17.0  230.0   75.0  23.9  37.0\n",
       "Fulham                    30.0  35.0  271.0   89.0  30.9  39.5\n",
       "Leeds United              39.0  28.0  278.0   85.0  29.7  34.6\n",
       "Leicester City            41.0  36.0  255.0   92.0  28.2  39.0\n",
       "Liverpool                 28.0  38.0  364.0  126.0  39.9  31.4\n",
       "Manchester City           24.0  60.0  394.0  134.0  50.5  20.1\n",
       "Manchester United         28.0  41.0  345.0  124.0  38.7  28.5\n",
       "Newcastle United          15.0  35.0  324.0  109.0  37.2  22.8\n",
       "Nottingham Forest         38.0  18.0  231.0   65.0  25.3  35.4\n",
       "Southampton               40.0  19.0  263.0   81.0  22.4  30.7\n",
       "Tottenham Hotspur         35.0  44.0  328.0  123.0  34.7  28.6\n",
       "West Ham United           29.0  19.0  293.0   73.0  28.4  26.0\n",
       "Wolverhampton Wanderers   32.0  17.0  267.0   71.0  22.9  33.1"
      ]
     },
     "execution_count": 185,
     "metadata": {},
     "output_type": "execute_result"
    }
   ],
   "source": [
    "#To do this, I would need a pivot table to show the shooting stats for each season\n",
    "#first, my condition\n",
    "matches_2022 = matches_pr[matches_pr['Season'] == 2022]\n",
    "#Now my table, using the condition created\n",
    "shootin_stats_22 = (matches_2022.pivot_table(['Sh','SoT','GA','GF','xG','xGA'],\n",
    "                    index=['Team'],aggfunc= 'sum'))\n",
    "shootin_stats_22\n",
    "#This table shows me the shooting stats for each team in the 2022 season"
   ]
  },
  {
   "cell_type": "code",
   "execution_count": 211,
   "id": "237f1d09",
   "metadata": {},
   "outputs": [
    {
     "data": {
      "text/html": [
       "<div>\n",
       "<style scoped>\n",
       "    .dataframe tbody tr th:only-of-type {\n",
       "        vertical-align: middle;\n",
       "    }\n",
       "\n",
       "    .dataframe tbody tr th {\n",
       "        vertical-align: top;\n",
       "    }\n",
       "\n",
       "    .dataframe thead th {\n",
       "        text-align: right;\n",
       "    }\n",
       "</style>\n",
       "<table border=\"1\" class=\"dataframe\">\n",
       "  <thead>\n",
       "    <tr style=\"text-align: right;\">\n",
       "      <th></th>\n",
       "      <th>GA</th>\n",
       "      <th>GF</th>\n",
       "      <th>Sh</th>\n",
       "      <th>SoT</th>\n",
       "      <th>xG</th>\n",
       "      <th>xGA</th>\n",
       "      <th>Efficiency</th>\n",
       "    </tr>\n",
       "    <tr>\n",
       "      <th>Team</th>\n",
       "      <th></th>\n",
       "      <th></th>\n",
       "      <th></th>\n",
       "      <th></th>\n",
       "      <th></th>\n",
       "      <th></th>\n",
       "      <th></th>\n",
       "    </tr>\n",
       "  </thead>\n",
       "  <tbody>\n",
       "    <tr>\n",
       "      <th>Arsenal</th>\n",
       "      <td>23.0</td>\n",
       "      <td>51.0</td>\n",
       "      <td>374.0</td>\n",
       "      <td>117.0</td>\n",
       "      <td>44.0</td>\n",
       "      <td>22.9</td>\n",
       "      <td>0.435897</td>\n",
       "    </tr>\n",
       "    <tr>\n",
       "      <th>Aston Villa</th>\n",
       "      <td>38.0</td>\n",
       "      <td>28.0</td>\n",
       "      <td>259.0</td>\n",
       "      <td>90.0</td>\n",
       "      <td>27.1</td>\n",
       "      <td>35.8</td>\n",
       "      <td>0.311111</td>\n",
       "    </tr>\n",
       "    <tr>\n",
       "      <th>Bournemouth</th>\n",
       "      <td>44.0</td>\n",
       "      <td>21.0</td>\n",
       "      <td>195.0</td>\n",
       "      <td>70.0</td>\n",
       "      <td>18.8</td>\n",
       "      <td>37.8</td>\n",
       "      <td>0.300000</td>\n",
       "    </tr>\n",
       "    <tr>\n",
       "      <th>Brentford</th>\n",
       "      <td>30.0</td>\n",
       "      <td>37.0</td>\n",
       "      <td>232.0</td>\n",
       "      <td>88.0</td>\n",
       "      <td>32.5</td>\n",
       "      <td>29.3</td>\n",
       "      <td>0.420455</td>\n",
       "    </tr>\n",
       "    <tr>\n",
       "      <th>Brighton and Hove Albion</th>\n",
       "      <td>29.0</td>\n",
       "      <td>39.0</td>\n",
       "      <td>314.0</td>\n",
       "      <td>118.0</td>\n",
       "      <td>35.9</td>\n",
       "      <td>26.4</td>\n",
       "      <td>0.330508</td>\n",
       "    </tr>\n",
       "    <tr>\n",
       "      <th>Chelsea</th>\n",
       "      <td>23.0</td>\n",
       "      <td>23.0</td>\n",
       "      <td>271.0</td>\n",
       "      <td>88.0</td>\n",
       "      <td>28.0</td>\n",
       "      <td>29.1</td>\n",
       "      <td>0.261364</td>\n",
       "    </tr>\n",
       "    <tr>\n",
       "      <th>Crystal Palace</th>\n",
       "      <td>31.0</td>\n",
       "      <td>21.0</td>\n",
       "      <td>242.0</td>\n",
       "      <td>81.0</td>\n",
       "      <td>21.8</td>\n",
       "      <td>32.8</td>\n",
       "      <td>0.259259</td>\n",
       "    </tr>\n",
       "    <tr>\n",
       "      <th>Everton</th>\n",
       "      <td>30.0</td>\n",
       "      <td>17.0</td>\n",
       "      <td>230.0</td>\n",
       "      <td>75.0</td>\n",
       "      <td>23.9</td>\n",
       "      <td>37.0</td>\n",
       "      <td>0.226667</td>\n",
       "    </tr>\n",
       "    <tr>\n",
       "      <th>Fulham</th>\n",
       "      <td>30.0</td>\n",
       "      <td>35.0</td>\n",
       "      <td>271.0</td>\n",
       "      <td>89.0</td>\n",
       "      <td>30.9</td>\n",
       "      <td>39.5</td>\n",
       "      <td>0.393258</td>\n",
       "    </tr>\n",
       "    <tr>\n",
       "      <th>Leeds United</th>\n",
       "      <td>39.0</td>\n",
       "      <td>28.0</td>\n",
       "      <td>278.0</td>\n",
       "      <td>85.0</td>\n",
       "      <td>29.7</td>\n",
       "      <td>34.6</td>\n",
       "      <td>0.329412</td>\n",
       "    </tr>\n",
       "    <tr>\n",
       "      <th>Leicester City</th>\n",
       "      <td>41.0</td>\n",
       "      <td>36.0</td>\n",
       "      <td>255.0</td>\n",
       "      <td>92.0</td>\n",
       "      <td>28.2</td>\n",
       "      <td>39.0</td>\n",
       "      <td>0.391304</td>\n",
       "    </tr>\n",
       "    <tr>\n",
       "      <th>Liverpool</th>\n",
       "      <td>28.0</td>\n",
       "      <td>38.0</td>\n",
       "      <td>364.0</td>\n",
       "      <td>126.0</td>\n",
       "      <td>39.9</td>\n",
       "      <td>31.4</td>\n",
       "      <td>0.301587</td>\n",
       "    </tr>\n",
       "    <tr>\n",
       "      <th>Manchester City</th>\n",
       "      <td>24.0</td>\n",
       "      <td>60.0</td>\n",
       "      <td>394.0</td>\n",
       "      <td>134.0</td>\n",
       "      <td>50.5</td>\n",
       "      <td>20.1</td>\n",
       "      <td>0.447761</td>\n",
       "    </tr>\n",
       "    <tr>\n",
       "      <th>Manchester United</th>\n",
       "      <td>28.0</td>\n",
       "      <td>41.0</td>\n",
       "      <td>345.0</td>\n",
       "      <td>124.0</td>\n",
       "      <td>38.7</td>\n",
       "      <td>28.5</td>\n",
       "      <td>0.330645</td>\n",
       "    </tr>\n",
       "    <tr>\n",
       "      <th>Newcastle United</th>\n",
       "      <td>15.0</td>\n",
       "      <td>35.0</td>\n",
       "      <td>324.0</td>\n",
       "      <td>109.0</td>\n",
       "      <td>37.2</td>\n",
       "      <td>22.8</td>\n",
       "      <td>0.321101</td>\n",
       "    </tr>\n",
       "    <tr>\n",
       "      <th>Nottingham Forest</th>\n",
       "      <td>38.0</td>\n",
       "      <td>18.0</td>\n",
       "      <td>231.0</td>\n",
       "      <td>65.0</td>\n",
       "      <td>25.3</td>\n",
       "      <td>35.4</td>\n",
       "      <td>0.276923</td>\n",
       "    </tr>\n",
       "    <tr>\n",
       "      <th>Southampton</th>\n",
       "      <td>40.0</td>\n",
       "      <td>19.0</td>\n",
       "      <td>263.0</td>\n",
       "      <td>81.0</td>\n",
       "      <td>22.4</td>\n",
       "      <td>30.7</td>\n",
       "      <td>0.234568</td>\n",
       "    </tr>\n",
       "    <tr>\n",
       "      <th>Tottenham Hotspur</th>\n",
       "      <td>35.0</td>\n",
       "      <td>44.0</td>\n",
       "      <td>328.0</td>\n",
       "      <td>123.0</td>\n",
       "      <td>34.7</td>\n",
       "      <td>28.6</td>\n",
       "      <td>0.357724</td>\n",
       "    </tr>\n",
       "    <tr>\n",
       "      <th>West Ham United</th>\n",
       "      <td>29.0</td>\n",
       "      <td>19.0</td>\n",
       "      <td>293.0</td>\n",
       "      <td>73.0</td>\n",
       "      <td>28.4</td>\n",
       "      <td>26.0</td>\n",
       "      <td>0.260274</td>\n",
       "    </tr>\n",
       "    <tr>\n",
       "      <th>Wolverhampton Wanderers</th>\n",
       "      <td>32.0</td>\n",
       "      <td>17.0</td>\n",
       "      <td>267.0</td>\n",
       "      <td>71.0</td>\n",
       "      <td>22.9</td>\n",
       "      <td>33.1</td>\n",
       "      <td>0.239437</td>\n",
       "    </tr>\n",
       "  </tbody>\n",
       "</table>\n",
       "</div>"
      ],
      "text/plain": [
       "                            GA    GF     Sh    SoT    xG   xGA  Efficiency\n",
       "Team                                                                      \n",
       "Arsenal                   23.0  51.0  374.0  117.0  44.0  22.9    0.435897\n",
       "Aston Villa               38.0  28.0  259.0   90.0  27.1  35.8    0.311111\n",
       "Bournemouth               44.0  21.0  195.0   70.0  18.8  37.8    0.300000\n",
       "Brentford                 30.0  37.0  232.0   88.0  32.5  29.3    0.420455\n",
       "Brighton and Hove Albion  29.0  39.0  314.0  118.0  35.9  26.4    0.330508\n",
       "Chelsea                   23.0  23.0  271.0   88.0  28.0  29.1    0.261364\n",
       "Crystal Palace            31.0  21.0  242.0   81.0  21.8  32.8    0.259259\n",
       "Everton                   30.0  17.0  230.0   75.0  23.9  37.0    0.226667\n",
       "Fulham                    30.0  35.0  271.0   89.0  30.9  39.5    0.393258\n",
       "Leeds United              39.0  28.0  278.0   85.0  29.7  34.6    0.329412\n",
       "Leicester City            41.0  36.0  255.0   92.0  28.2  39.0    0.391304\n",
       "Liverpool                 28.0  38.0  364.0  126.0  39.9  31.4    0.301587\n",
       "Manchester City           24.0  60.0  394.0  134.0  50.5  20.1    0.447761\n",
       "Manchester United         28.0  41.0  345.0  124.0  38.7  28.5    0.330645\n",
       "Newcastle United          15.0  35.0  324.0  109.0  37.2  22.8    0.321101\n",
       "Nottingham Forest         38.0  18.0  231.0   65.0  25.3  35.4    0.276923\n",
       "Southampton               40.0  19.0  263.0   81.0  22.4  30.7    0.234568\n",
       "Tottenham Hotspur         35.0  44.0  328.0  123.0  34.7  28.6    0.357724\n",
       "West Ham United           29.0  19.0  293.0   73.0  28.4  26.0    0.260274\n",
       "Wolverhampton Wanderers   32.0  17.0  267.0   71.0  22.9  33.1    0.239437"
      ]
     },
     "execution_count": 211,
     "metadata": {},
     "output_type": "execute_result"
    }
   ],
   "source": [
    "#To show what teams are clinal, I need an efficiency column\n",
    "shootin_stats_22['Efficiency'] = shootin_stats_22['GF'] / shootin_stats_22['SoT']\n",
    "shootin_stats_22"
   ]
  },
  {
   "cell_type": "code",
   "execution_count": 562,
   "id": "b6feff31",
   "metadata": {},
   "outputs": [
    {
     "data": {
      "application/vnd.plotly.v1+json": {
       "config": {
        "plotlyServerURL": "https://plotly.com"
       },
       "data": [
        {
         "marker": {
          "color": [
           0.4358974358974359,
           0.3111111111111111,
           0.3,
           0.42045454545454547,
           0.3305084745762712,
           0.26136363636363635,
           0.25925925925925924,
           0.22666666666666666,
           0.39325842696629215,
           0.32941176470588235,
           0.391304347826087,
           0.30158730158730157,
           0.44776119402985076,
           0.33064516129032256,
           0.3211009174311927,
           0.27692307692307694,
           0.2345679012345679,
           0.35772357723577236,
           0.2602739726027397,
           0.23943661971830985
          ],
          "colorscale": [
           [
            0,
            "rgb(41, 24, 107)"
           ],
           [
            0.09090909090909091,
            "rgb(42, 35, 160)"
           ],
           [
            0.18181818181818182,
            "rgb(15, 71, 153)"
           ],
           [
            0.2727272727272727,
            "rgb(18, 95, 142)"
           ],
           [
            0.36363636363636365,
            "rgb(38, 116, 137)"
           ],
           [
            0.45454545454545453,
            "rgb(53, 136, 136)"
           ],
           [
            0.5454545454545454,
            "rgb(65, 157, 133)"
           ],
           [
            0.6363636363636364,
            "rgb(81, 178, 124)"
           ],
           [
            0.7272727272727273,
            "rgb(111, 198, 107)"
           ],
           [
            0.8181818181818182,
            "rgb(160, 214, 91)"
           ],
           [
            0.9090909090909091,
            "rgb(212, 225, 112)"
           ],
           [
            1,
            "rgb(253, 238, 153)"
           ]
          ],
          "showscale": true,
          "size": [
           17.435897435897438,
           12.444444444444445,
           12,
           16.81818181818182,
           13.220338983050848,
           10.454545454545453,
           10.37037037037037,
           9.066666666666666,
           15.730337078651687,
           13.176470588235293,
           15.652173913043478,
           12.063492063492063,
           17.910447761194032,
           13.225806451612902,
           12.844036697247708,
           11.076923076923077,
           9.382716049382715,
           14.308943089430894,
           10.410958904109588,
           9.577464788732394
          ]
         },
         "mode": "markers",
         "text": [
          "Arsenal",
          "Aston Villa",
          "Bournemouth",
          "Brentford",
          "Brighton and Hove Albion",
          "Chelsea",
          "Crystal Palace",
          "Everton",
          "Fulham",
          "Leeds United",
          "Leicester City",
          "Liverpool",
          "Manchester City",
          "Manchester United",
          "Newcastle United",
          "Nottingham Forest",
          "Southampton",
          "Tottenham Hotspur",
          "West Ham United",
          "Wolverhampton Wanderers"
         ],
         "type": "scatter",
         "x": [
          117,
          90,
          70,
          88,
          118,
          88,
          81,
          75,
          89,
          85,
          92,
          126,
          134,
          124,
          109,
          65,
          81,
          123,
          73,
          71
         ],
         "y": [
          51,
          28,
          21,
          37,
          39,
          23,
          21,
          17,
          35,
          28,
          36,
          38,
          60,
          41,
          35,
          18,
          19,
          44,
          19,
          17
         ]
        }
       ],
       "layout": {
        "template": {
         "data": {
          "bar": [
           {
            "error_x": {
             "color": "#2a3f5f"
            },
            "error_y": {
             "color": "#2a3f5f"
            },
            "marker": {
             "line": {
              "color": "#E5ECF6",
              "width": 0.5
             },
             "pattern": {
              "fillmode": "overlay",
              "size": 10,
              "solidity": 0.2
             }
            },
            "type": "bar"
           }
          ],
          "barpolar": [
           {
            "marker": {
             "line": {
              "color": "#E5ECF6",
              "width": 0.5
             },
             "pattern": {
              "fillmode": "overlay",
              "size": 10,
              "solidity": 0.2
             }
            },
            "type": "barpolar"
           }
          ],
          "carpet": [
           {
            "aaxis": {
             "endlinecolor": "#2a3f5f",
             "gridcolor": "white",
             "linecolor": "white",
             "minorgridcolor": "white",
             "startlinecolor": "#2a3f5f"
            },
            "baxis": {
             "endlinecolor": "#2a3f5f",
             "gridcolor": "white",
             "linecolor": "white",
             "minorgridcolor": "white",
             "startlinecolor": "#2a3f5f"
            },
            "type": "carpet"
           }
          ],
          "choropleth": [
           {
            "colorbar": {
             "outlinewidth": 0,
             "ticks": ""
            },
            "type": "choropleth"
           }
          ],
          "contour": [
           {
            "colorbar": {
             "outlinewidth": 0,
             "ticks": ""
            },
            "colorscale": [
             [
              0,
              "#0d0887"
             ],
             [
              0.1111111111111111,
              "#46039f"
             ],
             [
              0.2222222222222222,
              "#7201a8"
             ],
             [
              0.3333333333333333,
              "#9c179e"
             ],
             [
              0.4444444444444444,
              "#bd3786"
             ],
             [
              0.5555555555555556,
              "#d8576b"
             ],
             [
              0.6666666666666666,
              "#ed7953"
             ],
             [
              0.7777777777777778,
              "#fb9f3a"
             ],
             [
              0.8888888888888888,
              "#fdca26"
             ],
             [
              1,
              "#f0f921"
             ]
            ],
            "type": "contour"
           }
          ],
          "contourcarpet": [
           {
            "colorbar": {
             "outlinewidth": 0,
             "ticks": ""
            },
            "type": "contourcarpet"
           }
          ],
          "heatmap": [
           {
            "colorbar": {
             "outlinewidth": 0,
             "ticks": ""
            },
            "colorscale": [
             [
              0,
              "#0d0887"
             ],
             [
              0.1111111111111111,
              "#46039f"
             ],
             [
              0.2222222222222222,
              "#7201a8"
             ],
             [
              0.3333333333333333,
              "#9c179e"
             ],
             [
              0.4444444444444444,
              "#bd3786"
             ],
             [
              0.5555555555555556,
              "#d8576b"
             ],
             [
              0.6666666666666666,
              "#ed7953"
             ],
             [
              0.7777777777777778,
              "#fb9f3a"
             ],
             [
              0.8888888888888888,
              "#fdca26"
             ],
             [
              1,
              "#f0f921"
             ]
            ],
            "type": "heatmap"
           }
          ],
          "heatmapgl": [
           {
            "colorbar": {
             "outlinewidth": 0,
             "ticks": ""
            },
            "colorscale": [
             [
              0,
              "#0d0887"
             ],
             [
              0.1111111111111111,
              "#46039f"
             ],
             [
              0.2222222222222222,
              "#7201a8"
             ],
             [
              0.3333333333333333,
              "#9c179e"
             ],
             [
              0.4444444444444444,
              "#bd3786"
             ],
             [
              0.5555555555555556,
              "#d8576b"
             ],
             [
              0.6666666666666666,
              "#ed7953"
             ],
             [
              0.7777777777777778,
              "#fb9f3a"
             ],
             [
              0.8888888888888888,
              "#fdca26"
             ],
             [
              1,
              "#f0f921"
             ]
            ],
            "type": "heatmapgl"
           }
          ],
          "histogram": [
           {
            "marker": {
             "pattern": {
              "fillmode": "overlay",
              "size": 10,
              "solidity": 0.2
             }
            },
            "type": "histogram"
           }
          ],
          "histogram2d": [
           {
            "colorbar": {
             "outlinewidth": 0,
             "ticks": ""
            },
            "colorscale": [
             [
              0,
              "#0d0887"
             ],
             [
              0.1111111111111111,
              "#46039f"
             ],
             [
              0.2222222222222222,
              "#7201a8"
             ],
             [
              0.3333333333333333,
              "#9c179e"
             ],
             [
              0.4444444444444444,
              "#bd3786"
             ],
             [
              0.5555555555555556,
              "#d8576b"
             ],
             [
              0.6666666666666666,
              "#ed7953"
             ],
             [
              0.7777777777777778,
              "#fb9f3a"
             ],
             [
              0.8888888888888888,
              "#fdca26"
             ],
             [
              1,
              "#f0f921"
             ]
            ],
            "type": "histogram2d"
           }
          ],
          "histogram2dcontour": [
           {
            "colorbar": {
             "outlinewidth": 0,
             "ticks": ""
            },
            "colorscale": [
             [
              0,
              "#0d0887"
             ],
             [
              0.1111111111111111,
              "#46039f"
             ],
             [
              0.2222222222222222,
              "#7201a8"
             ],
             [
              0.3333333333333333,
              "#9c179e"
             ],
             [
              0.4444444444444444,
              "#bd3786"
             ],
             [
              0.5555555555555556,
              "#d8576b"
             ],
             [
              0.6666666666666666,
              "#ed7953"
             ],
             [
              0.7777777777777778,
              "#fb9f3a"
             ],
             [
              0.8888888888888888,
              "#fdca26"
             ],
             [
              1,
              "#f0f921"
             ]
            ],
            "type": "histogram2dcontour"
           }
          ],
          "mesh3d": [
           {
            "colorbar": {
             "outlinewidth": 0,
             "ticks": ""
            },
            "type": "mesh3d"
           }
          ],
          "parcoords": [
           {
            "line": {
             "colorbar": {
              "outlinewidth": 0,
              "ticks": ""
             }
            },
            "type": "parcoords"
           }
          ],
          "pie": [
           {
            "automargin": true,
            "type": "pie"
           }
          ],
          "scatter": [
           {
            "fillpattern": {
             "fillmode": "overlay",
             "size": 10,
             "solidity": 0.2
            },
            "type": "scatter"
           }
          ],
          "scatter3d": [
           {
            "line": {
             "colorbar": {
              "outlinewidth": 0,
              "ticks": ""
             }
            },
            "marker": {
             "colorbar": {
              "outlinewidth": 0,
              "ticks": ""
             }
            },
            "type": "scatter3d"
           }
          ],
          "scattercarpet": [
           {
            "marker": {
             "colorbar": {
              "outlinewidth": 0,
              "ticks": ""
             }
            },
            "type": "scattercarpet"
           }
          ],
          "scattergeo": [
           {
            "marker": {
             "colorbar": {
              "outlinewidth": 0,
              "ticks": ""
             }
            },
            "type": "scattergeo"
           }
          ],
          "scattergl": [
           {
            "marker": {
             "colorbar": {
              "outlinewidth": 0,
              "ticks": ""
             }
            },
            "type": "scattergl"
           }
          ],
          "scattermapbox": [
           {
            "marker": {
             "colorbar": {
              "outlinewidth": 0,
              "ticks": ""
             }
            },
            "type": "scattermapbox"
           }
          ],
          "scatterpolar": [
           {
            "marker": {
             "colorbar": {
              "outlinewidth": 0,
              "ticks": ""
             }
            },
            "type": "scatterpolar"
           }
          ],
          "scatterpolargl": [
           {
            "marker": {
             "colorbar": {
              "outlinewidth": 0,
              "ticks": ""
             }
            },
            "type": "scatterpolargl"
           }
          ],
          "scatterternary": [
           {
            "marker": {
             "colorbar": {
              "outlinewidth": 0,
              "ticks": ""
             }
            },
            "type": "scatterternary"
           }
          ],
          "surface": [
           {
            "colorbar": {
             "outlinewidth": 0,
             "ticks": ""
            },
            "colorscale": [
             [
              0,
              "#0d0887"
             ],
             [
              0.1111111111111111,
              "#46039f"
             ],
             [
              0.2222222222222222,
              "#7201a8"
             ],
             [
              0.3333333333333333,
              "#9c179e"
             ],
             [
              0.4444444444444444,
              "#bd3786"
             ],
             [
              0.5555555555555556,
              "#d8576b"
             ],
             [
              0.6666666666666666,
              "#ed7953"
             ],
             [
              0.7777777777777778,
              "#fb9f3a"
             ],
             [
              0.8888888888888888,
              "#fdca26"
             ],
             [
              1,
              "#f0f921"
             ]
            ],
            "type": "surface"
           }
          ],
          "table": [
           {
            "cells": {
             "fill": {
              "color": "#EBF0F8"
             },
             "line": {
              "color": "white"
             }
            },
            "header": {
             "fill": {
              "color": "#C8D4E3"
             },
             "line": {
              "color": "white"
             }
            },
            "type": "table"
           }
          ]
         },
         "layout": {
          "annotationdefaults": {
           "arrowcolor": "#2a3f5f",
           "arrowhead": 0,
           "arrowwidth": 1
          },
          "autotypenumbers": "strict",
          "coloraxis": {
           "colorbar": {
            "outlinewidth": 0,
            "ticks": ""
           }
          },
          "colorscale": {
           "diverging": [
            [
             0,
             "#8e0152"
            ],
            [
             0.1,
             "#c51b7d"
            ],
            [
             0.2,
             "#de77ae"
            ],
            [
             0.3,
             "#f1b6da"
            ],
            [
             0.4,
             "#fde0ef"
            ],
            [
             0.5,
             "#f7f7f7"
            ],
            [
             0.6,
             "#e6f5d0"
            ],
            [
             0.7,
             "#b8e186"
            ],
            [
             0.8,
             "#7fbc41"
            ],
            [
             0.9,
             "#4d9221"
            ],
            [
             1,
             "#276419"
            ]
           ],
           "sequential": [
            [
             0,
             "#0d0887"
            ],
            [
             0.1111111111111111,
             "#46039f"
            ],
            [
             0.2222222222222222,
             "#7201a8"
            ],
            [
             0.3333333333333333,
             "#9c179e"
            ],
            [
             0.4444444444444444,
             "#bd3786"
            ],
            [
             0.5555555555555556,
             "#d8576b"
            ],
            [
             0.6666666666666666,
             "#ed7953"
            ],
            [
             0.7777777777777778,
             "#fb9f3a"
            ],
            [
             0.8888888888888888,
             "#fdca26"
            ],
            [
             1,
             "#f0f921"
            ]
           ],
           "sequentialminus": [
            [
             0,
             "#0d0887"
            ],
            [
             0.1111111111111111,
             "#46039f"
            ],
            [
             0.2222222222222222,
             "#7201a8"
            ],
            [
             0.3333333333333333,
             "#9c179e"
            ],
            [
             0.4444444444444444,
             "#bd3786"
            ],
            [
             0.5555555555555556,
             "#d8576b"
            ],
            [
             0.6666666666666666,
             "#ed7953"
            ],
            [
             0.7777777777777778,
             "#fb9f3a"
            ],
            [
             0.8888888888888888,
             "#fdca26"
            ],
            [
             1,
             "#f0f921"
            ]
           ]
          },
          "colorway": [
           "#636efa",
           "#EF553B",
           "#00cc96",
           "#ab63fa",
           "#FFA15A",
           "#19d3f3",
           "#FF6692",
           "#B6E880",
           "#FF97FF",
           "#FECB52"
          ],
          "font": {
           "color": "#2a3f5f"
          },
          "geo": {
           "bgcolor": "white",
           "lakecolor": "white",
           "landcolor": "#E5ECF6",
           "showlakes": true,
           "showland": true,
           "subunitcolor": "white"
          },
          "hoverlabel": {
           "align": "left"
          },
          "hovermode": "closest",
          "mapbox": {
           "style": "light"
          },
          "paper_bgcolor": "white",
          "plot_bgcolor": "#E5ECF6",
          "polar": {
           "angularaxis": {
            "gridcolor": "white",
            "linecolor": "white",
            "ticks": ""
           },
           "bgcolor": "#E5ECF6",
           "radialaxis": {
            "gridcolor": "white",
            "linecolor": "white",
            "ticks": ""
           }
          },
          "scene": {
           "xaxis": {
            "backgroundcolor": "#E5ECF6",
            "gridcolor": "white",
            "gridwidth": 2,
            "linecolor": "white",
            "showbackground": true,
            "ticks": "",
            "zerolinecolor": "white"
           },
           "yaxis": {
            "backgroundcolor": "#E5ECF6",
            "gridcolor": "white",
            "gridwidth": 2,
            "linecolor": "white",
            "showbackground": true,
            "ticks": "",
            "zerolinecolor": "white"
           },
           "zaxis": {
            "backgroundcolor": "#E5ECF6",
            "gridcolor": "white",
            "gridwidth": 2,
            "linecolor": "white",
            "showbackground": true,
            "ticks": "",
            "zerolinecolor": "white"
           }
          },
          "shapedefaults": {
           "line": {
            "color": "#2a3f5f"
           }
          },
          "ternary": {
           "aaxis": {
            "gridcolor": "white",
            "linecolor": "white",
            "ticks": ""
           },
           "baxis": {
            "gridcolor": "white",
            "linecolor": "white",
            "ticks": ""
           },
           "bgcolor": "#E5ECF6",
           "caxis": {
            "gridcolor": "white",
            "linecolor": "white",
            "ticks": ""
           }
          },
          "title": {
           "x": 0.05
          },
          "xaxis": {
           "automargin": true,
           "gridcolor": "white",
           "linecolor": "white",
           "ticks": "",
           "title": {
            "standoff": 15
           },
           "zerolinecolor": "white",
           "zerolinewidth": 2
          },
          "yaxis": {
           "automargin": true,
           "gridcolor": "white",
           "linecolor": "white",
           "ticks": "",
           "title": {
            "standoff": 15
           },
           "zerolinecolor": "white",
           "zerolinewidth": 2
          }
         }
        },
        "title": {
         "text": "Goals Scored vs. Shots on Target (2022 Season)"
        },
        "xaxis": {
         "title": {
          "text": "Shots on Target"
         }
        },
        "yaxis": {
         "title": {
          "text": "Goals Scored"
         }
        }
       }
      },
      "text/html": [
       "<div>                            <div id=\"803a3490-ed34-4909-bda9-970bd8940be5\" class=\"plotly-graph-div\" style=\"height:525px; width:100%;\"></div>            <script type=\"text/javascript\">                require([\"plotly\"], function(Plotly) {                    window.PLOTLYENV=window.PLOTLYENV || {};                                    if (document.getElementById(\"803a3490-ed34-4909-bda9-970bd8940be5\")) {                    Plotly.newPlot(                        \"803a3490-ed34-4909-bda9-970bd8940be5\",                        [{\"marker\":{\"color\":[0.4358974358974359,0.3111111111111111,0.3,0.42045454545454547,0.3305084745762712,0.26136363636363635,0.25925925925925924,0.22666666666666666,0.39325842696629215,0.32941176470588235,0.391304347826087,0.30158730158730157,0.44776119402985076,0.33064516129032256,0.3211009174311927,0.27692307692307694,0.2345679012345679,0.35772357723577236,0.2602739726027397,0.23943661971830985],\"colorscale\":[[0.0,\"rgb(41, 24, 107)\"],[0.09090909090909091,\"rgb(42, 35, 160)\"],[0.18181818181818182,\"rgb(15, 71, 153)\"],[0.2727272727272727,\"rgb(18, 95, 142)\"],[0.36363636363636365,\"rgb(38, 116, 137)\"],[0.45454545454545453,\"rgb(53, 136, 136)\"],[0.5454545454545454,\"rgb(65, 157, 133)\"],[0.6363636363636364,\"rgb(81, 178, 124)\"],[0.7272727272727273,\"rgb(111, 198, 107)\"],[0.8181818181818182,\"rgb(160, 214, 91)\"],[0.9090909090909091,\"rgb(212, 225, 112)\"],[1.0,\"rgb(253, 238, 153)\"]],\"showscale\":true,\"size\":[17.435897435897438,12.444444444444445,12.0,16.81818181818182,13.220338983050848,10.454545454545453,10.37037037037037,9.066666666666666,15.730337078651687,13.176470588235293,15.652173913043478,12.063492063492063,17.910447761194032,13.225806451612902,12.844036697247708,11.076923076923077,9.382716049382715,14.308943089430894,10.410958904109588,9.577464788732394]},\"mode\":\"markers\",\"text\":[\"Arsenal\",\"Aston Villa\",\"Bournemouth\",\"Brentford\",\"Brighton and Hove Albion\",\"Chelsea\",\"Crystal Palace\",\"Everton\",\"Fulham\",\"Leeds United\",\"Leicester City\",\"Liverpool\",\"Manchester City\",\"Manchester United\",\"Newcastle United\",\"Nottingham Forest\",\"Southampton\",\"Tottenham Hotspur\",\"West Ham United\",\"Wolverhampton Wanderers\"],\"x\":[117.0,90.0,70.0,88.0,118.0,88.0,81.0,75.0,89.0,85.0,92.0,126.0,134.0,124.0,109.0,65.0,81.0,123.0,73.0,71.0],\"y\":[51.0,28.0,21.0,37.0,39.0,23.0,21.0,17.0,35.0,28.0,36.0,38.0,60.0,41.0,35.0,18.0,19.0,44.0,19.0,17.0],\"type\":\"scatter\"}],                        {\"title\":{\"text\":\"Goals Scored vs. Shots on Target (2022 Season)\"},\"xaxis\":{\"title\":{\"text\":\"Shots on Target\"}},\"yaxis\":{\"title\":{\"text\":\"Goals Scored\"}},\"template\":{\"data\":{\"histogram2dcontour\":[{\"type\":\"histogram2dcontour\",\"colorbar\":{\"outlinewidth\":0,\"ticks\":\"\"},\"colorscale\":[[0.0,\"#0d0887\"],[0.1111111111111111,\"#46039f\"],[0.2222222222222222,\"#7201a8\"],[0.3333333333333333,\"#9c179e\"],[0.4444444444444444,\"#bd3786\"],[0.5555555555555556,\"#d8576b\"],[0.6666666666666666,\"#ed7953\"],[0.7777777777777778,\"#fb9f3a\"],[0.8888888888888888,\"#fdca26\"],[1.0,\"#f0f921\"]]}],\"choropleth\":[{\"type\":\"choropleth\",\"colorbar\":{\"outlinewidth\":0,\"ticks\":\"\"}}],\"histogram2d\":[{\"type\":\"histogram2d\",\"colorbar\":{\"outlinewidth\":0,\"ticks\":\"\"},\"colorscale\":[[0.0,\"#0d0887\"],[0.1111111111111111,\"#46039f\"],[0.2222222222222222,\"#7201a8\"],[0.3333333333333333,\"#9c179e\"],[0.4444444444444444,\"#bd3786\"],[0.5555555555555556,\"#d8576b\"],[0.6666666666666666,\"#ed7953\"],[0.7777777777777778,\"#fb9f3a\"],[0.8888888888888888,\"#fdca26\"],[1.0,\"#f0f921\"]]}],\"heatmap\":[{\"type\":\"heatmap\",\"colorbar\":{\"outlinewidth\":0,\"ticks\":\"\"},\"colorscale\":[[0.0,\"#0d0887\"],[0.1111111111111111,\"#46039f\"],[0.2222222222222222,\"#7201a8\"],[0.3333333333333333,\"#9c179e\"],[0.4444444444444444,\"#bd3786\"],[0.5555555555555556,\"#d8576b\"],[0.6666666666666666,\"#ed7953\"],[0.7777777777777778,\"#fb9f3a\"],[0.8888888888888888,\"#fdca26\"],[1.0,\"#f0f921\"]]}],\"heatmapgl\":[{\"type\":\"heatmapgl\",\"colorbar\":{\"outlinewidth\":0,\"ticks\":\"\"},\"colorscale\":[[0.0,\"#0d0887\"],[0.1111111111111111,\"#46039f\"],[0.2222222222222222,\"#7201a8\"],[0.3333333333333333,\"#9c179e\"],[0.4444444444444444,\"#bd3786\"],[0.5555555555555556,\"#d8576b\"],[0.6666666666666666,\"#ed7953\"],[0.7777777777777778,\"#fb9f3a\"],[0.8888888888888888,\"#fdca26\"],[1.0,\"#f0f921\"]]}],\"contourcarpet\":[{\"type\":\"contourcarpet\",\"colorbar\":{\"outlinewidth\":0,\"ticks\":\"\"}}],\"contour\":[{\"type\":\"contour\",\"colorbar\":{\"outlinewidth\":0,\"ticks\":\"\"},\"colorscale\":[[0.0,\"#0d0887\"],[0.1111111111111111,\"#46039f\"],[0.2222222222222222,\"#7201a8\"],[0.3333333333333333,\"#9c179e\"],[0.4444444444444444,\"#bd3786\"],[0.5555555555555556,\"#d8576b\"],[0.6666666666666666,\"#ed7953\"],[0.7777777777777778,\"#fb9f3a\"],[0.8888888888888888,\"#fdca26\"],[1.0,\"#f0f921\"]]}],\"surface\":[{\"type\":\"surface\",\"colorbar\":{\"outlinewidth\":0,\"ticks\":\"\"},\"colorscale\":[[0.0,\"#0d0887\"],[0.1111111111111111,\"#46039f\"],[0.2222222222222222,\"#7201a8\"],[0.3333333333333333,\"#9c179e\"],[0.4444444444444444,\"#bd3786\"],[0.5555555555555556,\"#d8576b\"],[0.6666666666666666,\"#ed7953\"],[0.7777777777777778,\"#fb9f3a\"],[0.8888888888888888,\"#fdca26\"],[1.0,\"#f0f921\"]]}],\"mesh3d\":[{\"type\":\"mesh3d\",\"colorbar\":{\"outlinewidth\":0,\"ticks\":\"\"}}],\"scatter\":[{\"fillpattern\":{\"fillmode\":\"overlay\",\"size\":10,\"solidity\":0.2},\"type\":\"scatter\"}],\"parcoords\":[{\"type\":\"parcoords\",\"line\":{\"colorbar\":{\"outlinewidth\":0,\"ticks\":\"\"}}}],\"scatterpolargl\":[{\"type\":\"scatterpolargl\",\"marker\":{\"colorbar\":{\"outlinewidth\":0,\"ticks\":\"\"}}}],\"bar\":[{\"error_x\":{\"color\":\"#2a3f5f\"},\"error_y\":{\"color\":\"#2a3f5f\"},\"marker\":{\"line\":{\"color\":\"#E5ECF6\",\"width\":0.5},\"pattern\":{\"fillmode\":\"overlay\",\"size\":10,\"solidity\":0.2}},\"type\":\"bar\"}],\"scattergeo\":[{\"type\":\"scattergeo\",\"marker\":{\"colorbar\":{\"outlinewidth\":0,\"ticks\":\"\"}}}],\"scatterpolar\":[{\"type\":\"scatterpolar\",\"marker\":{\"colorbar\":{\"outlinewidth\":0,\"ticks\":\"\"}}}],\"histogram\":[{\"marker\":{\"pattern\":{\"fillmode\":\"overlay\",\"size\":10,\"solidity\":0.2}},\"type\":\"histogram\"}],\"scattergl\":[{\"type\":\"scattergl\",\"marker\":{\"colorbar\":{\"outlinewidth\":0,\"ticks\":\"\"}}}],\"scatter3d\":[{\"type\":\"scatter3d\",\"line\":{\"colorbar\":{\"outlinewidth\":0,\"ticks\":\"\"}},\"marker\":{\"colorbar\":{\"outlinewidth\":0,\"ticks\":\"\"}}}],\"scattermapbox\":[{\"type\":\"scattermapbox\",\"marker\":{\"colorbar\":{\"outlinewidth\":0,\"ticks\":\"\"}}}],\"scatterternary\":[{\"type\":\"scatterternary\",\"marker\":{\"colorbar\":{\"outlinewidth\":0,\"ticks\":\"\"}}}],\"scattercarpet\":[{\"type\":\"scattercarpet\",\"marker\":{\"colorbar\":{\"outlinewidth\":0,\"ticks\":\"\"}}}],\"carpet\":[{\"aaxis\":{\"endlinecolor\":\"#2a3f5f\",\"gridcolor\":\"white\",\"linecolor\":\"white\",\"minorgridcolor\":\"white\",\"startlinecolor\":\"#2a3f5f\"},\"baxis\":{\"endlinecolor\":\"#2a3f5f\",\"gridcolor\":\"white\",\"linecolor\":\"white\",\"minorgridcolor\":\"white\",\"startlinecolor\":\"#2a3f5f\"},\"type\":\"carpet\"}],\"table\":[{\"cells\":{\"fill\":{\"color\":\"#EBF0F8\"},\"line\":{\"color\":\"white\"}},\"header\":{\"fill\":{\"color\":\"#C8D4E3\"},\"line\":{\"color\":\"white\"}},\"type\":\"table\"}],\"barpolar\":[{\"marker\":{\"line\":{\"color\":\"#E5ECF6\",\"width\":0.5},\"pattern\":{\"fillmode\":\"overlay\",\"size\":10,\"solidity\":0.2}},\"type\":\"barpolar\"}],\"pie\":[{\"automargin\":true,\"type\":\"pie\"}]},\"layout\":{\"autotypenumbers\":\"strict\",\"colorway\":[\"#636efa\",\"#EF553B\",\"#00cc96\",\"#ab63fa\",\"#FFA15A\",\"#19d3f3\",\"#FF6692\",\"#B6E880\",\"#FF97FF\",\"#FECB52\"],\"font\":{\"color\":\"#2a3f5f\"},\"hovermode\":\"closest\",\"hoverlabel\":{\"align\":\"left\"},\"paper_bgcolor\":\"white\",\"plot_bgcolor\":\"#E5ECF6\",\"polar\":{\"bgcolor\":\"#E5ECF6\",\"angularaxis\":{\"gridcolor\":\"white\",\"linecolor\":\"white\",\"ticks\":\"\"},\"radialaxis\":{\"gridcolor\":\"white\",\"linecolor\":\"white\",\"ticks\":\"\"}},\"ternary\":{\"bgcolor\":\"#E5ECF6\",\"aaxis\":{\"gridcolor\":\"white\",\"linecolor\":\"white\",\"ticks\":\"\"},\"baxis\":{\"gridcolor\":\"white\",\"linecolor\":\"white\",\"ticks\":\"\"},\"caxis\":{\"gridcolor\":\"white\",\"linecolor\":\"white\",\"ticks\":\"\"}},\"coloraxis\":{\"colorbar\":{\"outlinewidth\":0,\"ticks\":\"\"}},\"colorscale\":{\"sequential\":[[0.0,\"#0d0887\"],[0.1111111111111111,\"#46039f\"],[0.2222222222222222,\"#7201a8\"],[0.3333333333333333,\"#9c179e\"],[0.4444444444444444,\"#bd3786\"],[0.5555555555555556,\"#d8576b\"],[0.6666666666666666,\"#ed7953\"],[0.7777777777777778,\"#fb9f3a\"],[0.8888888888888888,\"#fdca26\"],[1.0,\"#f0f921\"]],\"sequentialminus\":[[0.0,\"#0d0887\"],[0.1111111111111111,\"#46039f\"],[0.2222222222222222,\"#7201a8\"],[0.3333333333333333,\"#9c179e\"],[0.4444444444444444,\"#bd3786\"],[0.5555555555555556,\"#d8576b\"],[0.6666666666666666,\"#ed7953\"],[0.7777777777777778,\"#fb9f3a\"],[0.8888888888888888,\"#fdca26\"],[1.0,\"#f0f921\"]],\"diverging\":[[0,\"#8e0152\"],[0.1,\"#c51b7d\"],[0.2,\"#de77ae\"],[0.3,\"#f1b6da\"],[0.4,\"#fde0ef\"],[0.5,\"#f7f7f7\"],[0.6,\"#e6f5d0\"],[0.7,\"#b8e186\"],[0.8,\"#7fbc41\"],[0.9,\"#4d9221\"],[1,\"#276419\"]]},\"xaxis\":{\"gridcolor\":\"white\",\"linecolor\":\"white\",\"ticks\":\"\",\"title\":{\"standoff\":15},\"zerolinecolor\":\"white\",\"automargin\":true,\"zerolinewidth\":2},\"yaxis\":{\"gridcolor\":\"white\",\"linecolor\":\"white\",\"ticks\":\"\",\"title\":{\"standoff\":15},\"zerolinecolor\":\"white\",\"automargin\":true,\"zerolinewidth\":2},\"scene\":{\"xaxis\":{\"backgroundcolor\":\"#E5ECF6\",\"gridcolor\":\"white\",\"linecolor\":\"white\",\"showbackground\":true,\"ticks\":\"\",\"zerolinecolor\":\"white\",\"gridwidth\":2},\"yaxis\":{\"backgroundcolor\":\"#E5ECF6\",\"gridcolor\":\"white\",\"linecolor\":\"white\",\"showbackground\":true,\"ticks\":\"\",\"zerolinecolor\":\"white\",\"gridwidth\":2},\"zaxis\":{\"backgroundcolor\":\"#E5ECF6\",\"gridcolor\":\"white\",\"linecolor\":\"white\",\"showbackground\":true,\"ticks\":\"\",\"zerolinecolor\":\"white\",\"gridwidth\":2}},\"shapedefaults\":{\"line\":{\"color\":\"#2a3f5f\"}},\"annotationdefaults\":{\"arrowcolor\":\"#2a3f5f\",\"arrowhead\":0,\"arrowwidth\":1},\"geo\":{\"bgcolor\":\"white\",\"landcolor\":\"#E5ECF6\",\"subunitcolor\":\"white\",\"showland\":true,\"showlakes\":true,\"lakecolor\":\"white\"},\"title\":{\"x\":0.05},\"mapbox\":{\"style\":\"light\"}}}},                        {\"responsive\": true}                    ).then(function(){\n",
       "                            \n",
       "var gd = document.getElementById('803a3490-ed34-4909-bda9-970bd8940be5');\n",
       "var x = new MutationObserver(function (mutations, observer) {{\n",
       "        var display = window.getComputedStyle(gd).display;\n",
       "        if (!display || display === 'none') {{\n",
       "            console.log([gd, 'removed!']);\n",
       "            Plotly.purge(gd);\n",
       "            observer.disconnect();\n",
       "        }}\n",
       "}});\n",
       "\n",
       "// Listen for the removal of the full notebook cells\n",
       "var notebookContainer = gd.closest('#notebook-container');\n",
       "if (notebookContainer) {{\n",
       "    x.observe(notebookContainer, {childList: true});\n",
       "}}\n",
       "\n",
       "// Listen for the clearing of the current output cell\n",
       "var outputEl = gd.closest('.output');\n",
       "if (outputEl) {{\n",
       "    x.observe(outputEl, {childList: true});\n",
       "}}\n",
       "\n",
       "                        })                };                });            </script>        </div>"
      ]
     },
     "metadata": {},
     "output_type": "display_data"
    },
    {
     "data": {
      "text/plain": [
       "'https://plotly.com/~Kvothe_v1/1/'"
      ]
     },
     "execution_count": 562,
     "metadata": {},
     "output_type": "execute_result"
    }
   ],
   "source": [
    "# For the scatter plot of shots on target vs. goals scored in the 2022 season, I need my data points and a layout\n",
    "trace_22 = go.Scatter(x=shootin_stats_22['SoT'], y=shootin_stats_22['GF'], mode='markers',\n",
    "                   text=shootin_stats_22.index.get_level_values('Team'),\n",
    "                   marker={'size': 40 * shootin_stats_22['Efficiency'],\n",
    "                           'color':shootin_stats_22['Efficiency'],'colorscale': 'haline', 'showscale':True})\n",
    "                            #To have the points vary based on efficiency\n",
    "\n",
    "# create a layout for the plot\n",
    "layout_22 = go.Layout(title='Goals Scored vs. Shots on Target (2022 Season)',\n",
    "                   xaxis={'title': 'Shots on Target'},\n",
    "                   yaxis={'title': 'Goals Scored'})\n",
    "\n",
    "# create a figure object\n",
    "shot_Stats_22 = go.Figure(data=[trace_22], layout=layout_22)\n",
    "shot_Stats_22.show()\n",
    "py.plot(shot_Stats_22, filename='ShotsvsGoals_Stats_22.html', auto_open=False)"
   ]
  },
  {
   "cell_type": "code",
   "execution_count": 216,
   "id": "810af251",
   "metadata": {},
   "outputs": [
    {
     "data": {
      "text/html": [
       "<div>\n",
       "<style scoped>\n",
       "    .dataframe tbody tr th:only-of-type {\n",
       "        vertical-align: middle;\n",
       "    }\n",
       "\n",
       "    .dataframe tbody tr th {\n",
       "        vertical-align: top;\n",
       "    }\n",
       "\n",
       "    .dataframe thead th {\n",
       "        text-align: right;\n",
       "    }\n",
       "</style>\n",
       "<table border=\"1\" class=\"dataframe\">\n",
       "  <thead>\n",
       "    <tr style=\"text-align: right;\">\n",
       "      <th></th>\n",
       "      <th>GA</th>\n",
       "      <th>GF</th>\n",
       "      <th>Sh</th>\n",
       "      <th>SoT</th>\n",
       "      <th>xG</th>\n",
       "      <th>xGA</th>\n",
       "      <th>Efficiency</th>\n",
       "    </tr>\n",
       "    <tr>\n",
       "      <th>Team</th>\n",
       "      <th></th>\n",
       "      <th></th>\n",
       "      <th></th>\n",
       "      <th></th>\n",
       "      <th></th>\n",
       "      <th></th>\n",
       "      <th></th>\n",
       "    </tr>\n",
       "  </thead>\n",
       "  <tbody>\n",
       "    <tr>\n",
       "      <th>Arsenal</th>\n",
       "      <td>48.0</td>\n",
       "      <td>61.0</td>\n",
       "      <td>581.0</td>\n",
       "      <td>186.0</td>\n",
       "      <td>60.4</td>\n",
       "      <td>45.6</td>\n",
       "      <td>0.327957</td>\n",
       "    </tr>\n",
       "    <tr>\n",
       "      <th>Aston Villa</th>\n",
       "      <td>54.0</td>\n",
       "      <td>52.0</td>\n",
       "      <td>461.0</td>\n",
       "      <td>159.0</td>\n",
       "      <td>43.9</td>\n",
       "      <td>49.2</td>\n",
       "      <td>0.327044</td>\n",
       "    </tr>\n",
       "    <tr>\n",
       "      <th>Brentford</th>\n",
       "      <td>56.0</td>\n",
       "      <td>48.0</td>\n",
       "      <td>436.0</td>\n",
       "      <td>141.0</td>\n",
       "      <td>45.8</td>\n",
       "      <td>48.4</td>\n",
       "      <td>0.340426</td>\n",
       "    </tr>\n",
       "    <tr>\n",
       "      <th>Brighton and Hove Albion</th>\n",
       "      <td>44.0</td>\n",
       "      <td>42.0</td>\n",
       "      <td>482.0</td>\n",
       "      <td>141.0</td>\n",
       "      <td>46.2</td>\n",
       "      <td>42.9</td>\n",
       "      <td>0.297872</td>\n",
       "    </tr>\n",
       "    <tr>\n",
       "      <th>Burnley</th>\n",
       "      <td>53.0</td>\n",
       "      <td>34.0</td>\n",
       "      <td>405.0</td>\n",
       "      <td>119.0</td>\n",
       "      <td>39.8</td>\n",
       "      <td>57.1</td>\n",
       "      <td>0.285714</td>\n",
       "    </tr>\n",
       "    <tr>\n",
       "      <th>Chelsea</th>\n",
       "      <td>33.0</td>\n",
       "      <td>76.0</td>\n",
       "      <td>583.0</td>\n",
       "      <td>200.0</td>\n",
       "      <td>63.2</td>\n",
       "      <td>32.9</td>\n",
       "      <td>0.380000</td>\n",
       "    </tr>\n",
       "    <tr>\n",
       "      <th>Crystal Palace</th>\n",
       "      <td>46.0</td>\n",
       "      <td>50.0</td>\n",
       "      <td>404.0</td>\n",
       "      <td>140.0</td>\n",
       "      <td>46.2</td>\n",
       "      <td>41.0</td>\n",
       "      <td>0.357143</td>\n",
       "    </tr>\n",
       "    <tr>\n",
       "      <th>Everton</th>\n",
       "      <td>66.0</td>\n",
       "      <td>43.0</td>\n",
       "      <td>430.0</td>\n",
       "      <td>130.0</td>\n",
       "      <td>41.4</td>\n",
       "      <td>55.2</td>\n",
       "      <td>0.330769</td>\n",
       "    </tr>\n",
       "    <tr>\n",
       "      <th>Leeds United</th>\n",
       "      <td>79.0</td>\n",
       "      <td>42.0</td>\n",
       "      <td>480.0</td>\n",
       "      <td>142.0</td>\n",
       "      <td>43.9</td>\n",
       "      <td>67.7</td>\n",
       "      <td>0.295775</td>\n",
       "    </tr>\n",
       "    <tr>\n",
       "      <th>Leicester City</th>\n",
       "      <td>59.0</td>\n",
       "      <td>62.0</td>\n",
       "      <td>433.0</td>\n",
       "      <td>164.0</td>\n",
       "      <td>48.2</td>\n",
       "      <td>59.3</td>\n",
       "      <td>0.378049</td>\n",
       "    </tr>\n",
       "    <tr>\n",
       "      <th>Liverpool</th>\n",
       "      <td>26.0</td>\n",
       "      <td>94.0</td>\n",
       "      <td>721.0</td>\n",
       "      <td>237.0</td>\n",
       "      <td>88.8</td>\n",
       "      <td>33.7</td>\n",
       "      <td>0.396624</td>\n",
       "    </tr>\n",
       "    <tr>\n",
       "      <th>Manchester City</th>\n",
       "      <td>26.0</td>\n",
       "      <td>99.0</td>\n",
       "      <td>704.0</td>\n",
       "      <td>237.0</td>\n",
       "      <td>88.6</td>\n",
       "      <td>24.8</td>\n",
       "      <td>0.417722</td>\n",
       "    </tr>\n",
       "    <tr>\n",
       "      <th>Manchester United</th>\n",
       "      <td>57.0</td>\n",
       "      <td>57.0</td>\n",
       "      <td>503.0</td>\n",
       "      <td>179.0</td>\n",
       "      <td>55.6</td>\n",
       "      <td>53.0</td>\n",
       "      <td>0.318436</td>\n",
       "    </tr>\n",
       "    <tr>\n",
       "      <th>Newcastle United</th>\n",
       "      <td>62.0</td>\n",
       "      <td>44.0</td>\n",
       "      <td>446.0</td>\n",
       "      <td>142.0</td>\n",
       "      <td>38.2</td>\n",
       "      <td>57.3</td>\n",
       "      <td>0.309859</td>\n",
       "    </tr>\n",
       "    <tr>\n",
       "      <th>Norwich City</th>\n",
       "      <td>84.0</td>\n",
       "      <td>23.0</td>\n",
       "      <td>370.0</td>\n",
       "      <td>104.0</td>\n",
       "      <td>32.4</td>\n",
       "      <td>75.5</td>\n",
       "      <td>0.221154</td>\n",
       "    </tr>\n",
       "    <tr>\n",
       "      <th>Southampton</th>\n",
       "      <td>67.0</td>\n",
       "      <td>43.0</td>\n",
       "      <td>478.0</td>\n",
       "      <td>161.0</td>\n",
       "      <td>44.7</td>\n",
       "      <td>59.8</td>\n",
       "      <td>0.267081</td>\n",
       "    </tr>\n",
       "    <tr>\n",
       "      <th>Tottenham Hotspur</th>\n",
       "      <td>40.0</td>\n",
       "      <td>69.0</td>\n",
       "      <td>486.0</td>\n",
       "      <td>185.0</td>\n",
       "      <td>61.2</td>\n",
       "      <td>39.5</td>\n",
       "      <td>0.372973</td>\n",
       "    </tr>\n",
       "    <tr>\n",
       "      <th>Watford</th>\n",
       "      <td>77.0</td>\n",
       "      <td>34.0</td>\n",
       "      <td>397.0</td>\n",
       "      <td>123.0</td>\n",
       "      <td>39.9</td>\n",
       "      <td>64.2</td>\n",
       "      <td>0.276423</td>\n",
       "    </tr>\n",
       "    <tr>\n",
       "      <th>West Ham United</th>\n",
       "      <td>51.0</td>\n",
       "      <td>60.0</td>\n",
       "      <td>443.0</td>\n",
       "      <td>142.0</td>\n",
       "      <td>51.4</td>\n",
       "      <td>53.5</td>\n",
       "      <td>0.422535</td>\n",
       "    </tr>\n",
       "    <tr>\n",
       "      <th>Wolverhampton Wanderers</th>\n",
       "      <td>43.0</td>\n",
       "      <td>38.0</td>\n",
       "      <td>401.0</td>\n",
       "      <td>133.0</td>\n",
       "      <td>37.5</td>\n",
       "      <td>56.7</td>\n",
       "      <td>0.285714</td>\n",
       "    </tr>\n",
       "  </tbody>\n",
       "</table>\n",
       "</div>"
      ],
      "text/plain": [
       "                            GA    GF     Sh    SoT    xG   xGA  Efficiency\n",
       "Team                                                                      \n",
       "Arsenal                   48.0  61.0  581.0  186.0  60.4  45.6    0.327957\n",
       "Aston Villa               54.0  52.0  461.0  159.0  43.9  49.2    0.327044\n",
       "Brentford                 56.0  48.0  436.0  141.0  45.8  48.4    0.340426\n",
       "Brighton and Hove Albion  44.0  42.0  482.0  141.0  46.2  42.9    0.297872\n",
       "Burnley                   53.0  34.0  405.0  119.0  39.8  57.1    0.285714\n",
       "Chelsea                   33.0  76.0  583.0  200.0  63.2  32.9    0.380000\n",
       "Crystal Palace            46.0  50.0  404.0  140.0  46.2  41.0    0.357143\n",
       "Everton                   66.0  43.0  430.0  130.0  41.4  55.2    0.330769\n",
       "Leeds United              79.0  42.0  480.0  142.0  43.9  67.7    0.295775\n",
       "Leicester City            59.0  62.0  433.0  164.0  48.2  59.3    0.378049\n",
       "Liverpool                 26.0  94.0  721.0  237.0  88.8  33.7    0.396624\n",
       "Manchester City           26.0  99.0  704.0  237.0  88.6  24.8    0.417722\n",
       "Manchester United         57.0  57.0  503.0  179.0  55.6  53.0    0.318436\n",
       "Newcastle United          62.0  44.0  446.0  142.0  38.2  57.3    0.309859\n",
       "Norwich City              84.0  23.0  370.0  104.0  32.4  75.5    0.221154\n",
       "Southampton               67.0  43.0  478.0  161.0  44.7  59.8    0.267081\n",
       "Tottenham Hotspur         40.0  69.0  486.0  185.0  61.2  39.5    0.372973\n",
       "Watford                   77.0  34.0  397.0  123.0  39.9  64.2    0.276423\n",
       "West Ham United           51.0  60.0  443.0  142.0  51.4  53.5    0.422535\n",
       "Wolverhampton Wanderers   43.0  38.0  401.0  133.0  37.5  56.7    0.285714"
      ]
     },
     "execution_count": 216,
     "metadata": {},
     "output_type": "execute_result"
    }
   ],
   "source": [
    "# Now to create a table based on the 2021 season\n",
    "matches_2021 = matches_pr[matches_pr['Season'] == 2021]\n",
    "shootin_stats_21 = (matches_2021.pivot_table(['Sh','SoT','GA','GF','xG','xGA'],\n",
    "                    index=['Team'],aggfunc= 'sum'))\n",
    "shootin_stats_21['Efficiency'] = shootin_stats_21['GF'] / shootin_stats_21['SoT']\n",
    "#To add the efficiency column to the 2021 table\n",
    "shootin_stats_21\n",
    "#This table shows me the shooting stats for each team in the 2021 season"
   ]
  },
  {
   "cell_type": "code",
   "execution_count": 563,
   "id": "be081a06",
   "metadata": {
    "scrolled": true
   },
   "outputs": [
    {
     "data": {
      "application/vnd.plotly.v1+json": {
       "config": {
        "plotlyServerURL": "https://plotly.com"
       },
       "data": [
        {
         "marker": {
          "color": [
           0.3279569892473118,
           0.3270440251572327,
           0.3404255319148936,
           0.2978723404255319,
           0.2857142857142857,
           0.38,
           0.35714285714285715,
           0.33076923076923076,
           0.29577464788732394,
           0.3780487804878049,
           0.39662447257383965,
           0.4177215189873418,
           0.31843575418994413,
           0.30985915492957744,
           0.22115384615384615,
           0.2670807453416149,
           0.372972972972973,
           0.2764227642276423,
           0.4225352112676056,
           0.2857142857142857
          ],
          "colorscale": [
           [
            0,
            "rgb(41, 24, 107)"
           ],
           [
            0.09090909090909091,
            "rgb(42, 35, 160)"
           ],
           [
            0.18181818181818182,
            "rgb(15, 71, 153)"
           ],
           [
            0.2727272727272727,
            "rgb(18, 95, 142)"
           ],
           [
            0.36363636363636365,
            "rgb(38, 116, 137)"
           ],
           [
            0.45454545454545453,
            "rgb(53, 136, 136)"
           ],
           [
            0.5454545454545454,
            "rgb(65, 157, 133)"
           ],
           [
            0.6363636363636364,
            "rgb(81, 178, 124)"
           ],
           [
            0.7272727272727273,
            "rgb(111, 198, 107)"
           ],
           [
            0.8181818181818182,
            "rgb(160, 214, 91)"
           ],
           [
            0.9090909090909091,
            "rgb(212, 225, 112)"
           ],
           [
            1,
            "rgb(253, 238, 153)"
           ]
          ],
          "showscale": true,
          "size": [
           11.478494623655914,
           11.446540880503145,
           11.914893617021276,
           10.425531914893616,
           10,
           13.3,
           12.5,
           11.576923076923077,
           10.352112676056338,
           13.231707317073171,
           13.881856540084387,
           14.620253164556962,
           11.145251396648044,
           10.84507042253521,
           7.740384615384615,
           9.347826086956522,
           13.054054054054054,
           9.67479674796748,
           14.788732394366196,
           10
          ]
         },
         "mode": "markers",
         "text": [
          "Arsenal",
          "Aston Villa",
          "Brentford",
          "Brighton and Hove Albion",
          "Burnley",
          "Chelsea",
          "Crystal Palace",
          "Everton",
          "Leeds United",
          "Leicester City",
          "Liverpool",
          "Manchester City",
          "Manchester United",
          "Newcastle United",
          "Norwich City",
          "Southampton",
          "Tottenham Hotspur",
          "Watford",
          "West Ham United",
          "Wolverhampton Wanderers"
         ],
         "type": "scatter",
         "x": [
          186,
          159,
          141,
          141,
          119,
          200,
          140,
          130,
          142,
          164,
          237,
          237,
          179,
          142,
          104,
          161,
          185,
          123,
          142,
          133
         ],
         "y": [
          61,
          52,
          48,
          42,
          34,
          76,
          50,
          43,
          42,
          62,
          94,
          99,
          57,
          44,
          23,
          43,
          69,
          34,
          60,
          38
         ]
        }
       ],
       "layout": {
        "template": {
         "data": {
          "bar": [
           {
            "error_x": {
             "color": "#2a3f5f"
            },
            "error_y": {
             "color": "#2a3f5f"
            },
            "marker": {
             "line": {
              "color": "#E5ECF6",
              "width": 0.5
             },
             "pattern": {
              "fillmode": "overlay",
              "size": 10,
              "solidity": 0.2
             }
            },
            "type": "bar"
           }
          ],
          "barpolar": [
           {
            "marker": {
             "line": {
              "color": "#E5ECF6",
              "width": 0.5
             },
             "pattern": {
              "fillmode": "overlay",
              "size": 10,
              "solidity": 0.2
             }
            },
            "type": "barpolar"
           }
          ],
          "carpet": [
           {
            "aaxis": {
             "endlinecolor": "#2a3f5f",
             "gridcolor": "white",
             "linecolor": "white",
             "minorgridcolor": "white",
             "startlinecolor": "#2a3f5f"
            },
            "baxis": {
             "endlinecolor": "#2a3f5f",
             "gridcolor": "white",
             "linecolor": "white",
             "minorgridcolor": "white",
             "startlinecolor": "#2a3f5f"
            },
            "type": "carpet"
           }
          ],
          "choropleth": [
           {
            "colorbar": {
             "outlinewidth": 0,
             "ticks": ""
            },
            "type": "choropleth"
           }
          ],
          "contour": [
           {
            "colorbar": {
             "outlinewidth": 0,
             "ticks": ""
            },
            "colorscale": [
             [
              0,
              "#0d0887"
             ],
             [
              0.1111111111111111,
              "#46039f"
             ],
             [
              0.2222222222222222,
              "#7201a8"
             ],
             [
              0.3333333333333333,
              "#9c179e"
             ],
             [
              0.4444444444444444,
              "#bd3786"
             ],
             [
              0.5555555555555556,
              "#d8576b"
             ],
             [
              0.6666666666666666,
              "#ed7953"
             ],
             [
              0.7777777777777778,
              "#fb9f3a"
             ],
             [
              0.8888888888888888,
              "#fdca26"
             ],
             [
              1,
              "#f0f921"
             ]
            ],
            "type": "contour"
           }
          ],
          "contourcarpet": [
           {
            "colorbar": {
             "outlinewidth": 0,
             "ticks": ""
            },
            "type": "contourcarpet"
           }
          ],
          "heatmap": [
           {
            "colorbar": {
             "outlinewidth": 0,
             "ticks": ""
            },
            "colorscale": [
             [
              0,
              "#0d0887"
             ],
             [
              0.1111111111111111,
              "#46039f"
             ],
             [
              0.2222222222222222,
              "#7201a8"
             ],
             [
              0.3333333333333333,
              "#9c179e"
             ],
             [
              0.4444444444444444,
              "#bd3786"
             ],
             [
              0.5555555555555556,
              "#d8576b"
             ],
             [
              0.6666666666666666,
              "#ed7953"
             ],
             [
              0.7777777777777778,
              "#fb9f3a"
             ],
             [
              0.8888888888888888,
              "#fdca26"
             ],
             [
              1,
              "#f0f921"
             ]
            ],
            "type": "heatmap"
           }
          ],
          "heatmapgl": [
           {
            "colorbar": {
             "outlinewidth": 0,
             "ticks": ""
            },
            "colorscale": [
             [
              0,
              "#0d0887"
             ],
             [
              0.1111111111111111,
              "#46039f"
             ],
             [
              0.2222222222222222,
              "#7201a8"
             ],
             [
              0.3333333333333333,
              "#9c179e"
             ],
             [
              0.4444444444444444,
              "#bd3786"
             ],
             [
              0.5555555555555556,
              "#d8576b"
             ],
             [
              0.6666666666666666,
              "#ed7953"
             ],
             [
              0.7777777777777778,
              "#fb9f3a"
             ],
             [
              0.8888888888888888,
              "#fdca26"
             ],
             [
              1,
              "#f0f921"
             ]
            ],
            "type": "heatmapgl"
           }
          ],
          "histogram": [
           {
            "marker": {
             "pattern": {
              "fillmode": "overlay",
              "size": 10,
              "solidity": 0.2
             }
            },
            "type": "histogram"
           }
          ],
          "histogram2d": [
           {
            "colorbar": {
             "outlinewidth": 0,
             "ticks": ""
            },
            "colorscale": [
             [
              0,
              "#0d0887"
             ],
             [
              0.1111111111111111,
              "#46039f"
             ],
             [
              0.2222222222222222,
              "#7201a8"
             ],
             [
              0.3333333333333333,
              "#9c179e"
             ],
             [
              0.4444444444444444,
              "#bd3786"
             ],
             [
              0.5555555555555556,
              "#d8576b"
             ],
             [
              0.6666666666666666,
              "#ed7953"
             ],
             [
              0.7777777777777778,
              "#fb9f3a"
             ],
             [
              0.8888888888888888,
              "#fdca26"
             ],
             [
              1,
              "#f0f921"
             ]
            ],
            "type": "histogram2d"
           }
          ],
          "histogram2dcontour": [
           {
            "colorbar": {
             "outlinewidth": 0,
             "ticks": ""
            },
            "colorscale": [
             [
              0,
              "#0d0887"
             ],
             [
              0.1111111111111111,
              "#46039f"
             ],
             [
              0.2222222222222222,
              "#7201a8"
             ],
             [
              0.3333333333333333,
              "#9c179e"
             ],
             [
              0.4444444444444444,
              "#bd3786"
             ],
             [
              0.5555555555555556,
              "#d8576b"
             ],
             [
              0.6666666666666666,
              "#ed7953"
             ],
             [
              0.7777777777777778,
              "#fb9f3a"
             ],
             [
              0.8888888888888888,
              "#fdca26"
             ],
             [
              1,
              "#f0f921"
             ]
            ],
            "type": "histogram2dcontour"
           }
          ],
          "mesh3d": [
           {
            "colorbar": {
             "outlinewidth": 0,
             "ticks": ""
            },
            "type": "mesh3d"
           }
          ],
          "parcoords": [
           {
            "line": {
             "colorbar": {
              "outlinewidth": 0,
              "ticks": ""
             }
            },
            "type": "parcoords"
           }
          ],
          "pie": [
           {
            "automargin": true,
            "type": "pie"
           }
          ],
          "scatter": [
           {
            "fillpattern": {
             "fillmode": "overlay",
             "size": 10,
             "solidity": 0.2
            },
            "type": "scatter"
           }
          ],
          "scatter3d": [
           {
            "line": {
             "colorbar": {
              "outlinewidth": 0,
              "ticks": ""
             }
            },
            "marker": {
             "colorbar": {
              "outlinewidth": 0,
              "ticks": ""
             }
            },
            "type": "scatter3d"
           }
          ],
          "scattercarpet": [
           {
            "marker": {
             "colorbar": {
              "outlinewidth": 0,
              "ticks": ""
             }
            },
            "type": "scattercarpet"
           }
          ],
          "scattergeo": [
           {
            "marker": {
             "colorbar": {
              "outlinewidth": 0,
              "ticks": ""
             }
            },
            "type": "scattergeo"
           }
          ],
          "scattergl": [
           {
            "marker": {
             "colorbar": {
              "outlinewidth": 0,
              "ticks": ""
             }
            },
            "type": "scattergl"
           }
          ],
          "scattermapbox": [
           {
            "marker": {
             "colorbar": {
              "outlinewidth": 0,
              "ticks": ""
             }
            },
            "type": "scattermapbox"
           }
          ],
          "scatterpolar": [
           {
            "marker": {
             "colorbar": {
              "outlinewidth": 0,
              "ticks": ""
             }
            },
            "type": "scatterpolar"
           }
          ],
          "scatterpolargl": [
           {
            "marker": {
             "colorbar": {
              "outlinewidth": 0,
              "ticks": ""
             }
            },
            "type": "scatterpolargl"
           }
          ],
          "scatterternary": [
           {
            "marker": {
             "colorbar": {
              "outlinewidth": 0,
              "ticks": ""
             }
            },
            "type": "scatterternary"
           }
          ],
          "surface": [
           {
            "colorbar": {
             "outlinewidth": 0,
             "ticks": ""
            },
            "colorscale": [
             [
              0,
              "#0d0887"
             ],
             [
              0.1111111111111111,
              "#46039f"
             ],
             [
              0.2222222222222222,
              "#7201a8"
             ],
             [
              0.3333333333333333,
              "#9c179e"
             ],
             [
              0.4444444444444444,
              "#bd3786"
             ],
             [
              0.5555555555555556,
              "#d8576b"
             ],
             [
              0.6666666666666666,
              "#ed7953"
             ],
             [
              0.7777777777777778,
              "#fb9f3a"
             ],
             [
              0.8888888888888888,
              "#fdca26"
             ],
             [
              1,
              "#f0f921"
             ]
            ],
            "type": "surface"
           }
          ],
          "table": [
           {
            "cells": {
             "fill": {
              "color": "#EBF0F8"
             },
             "line": {
              "color": "white"
             }
            },
            "header": {
             "fill": {
              "color": "#C8D4E3"
             },
             "line": {
              "color": "white"
             }
            },
            "type": "table"
           }
          ]
         },
         "layout": {
          "annotationdefaults": {
           "arrowcolor": "#2a3f5f",
           "arrowhead": 0,
           "arrowwidth": 1
          },
          "autotypenumbers": "strict",
          "coloraxis": {
           "colorbar": {
            "outlinewidth": 0,
            "ticks": ""
           }
          },
          "colorscale": {
           "diverging": [
            [
             0,
             "#8e0152"
            ],
            [
             0.1,
             "#c51b7d"
            ],
            [
             0.2,
             "#de77ae"
            ],
            [
             0.3,
             "#f1b6da"
            ],
            [
             0.4,
             "#fde0ef"
            ],
            [
             0.5,
             "#f7f7f7"
            ],
            [
             0.6,
             "#e6f5d0"
            ],
            [
             0.7,
             "#b8e186"
            ],
            [
             0.8,
             "#7fbc41"
            ],
            [
             0.9,
             "#4d9221"
            ],
            [
             1,
             "#276419"
            ]
           ],
           "sequential": [
            [
             0,
             "#0d0887"
            ],
            [
             0.1111111111111111,
             "#46039f"
            ],
            [
             0.2222222222222222,
             "#7201a8"
            ],
            [
             0.3333333333333333,
             "#9c179e"
            ],
            [
             0.4444444444444444,
             "#bd3786"
            ],
            [
             0.5555555555555556,
             "#d8576b"
            ],
            [
             0.6666666666666666,
             "#ed7953"
            ],
            [
             0.7777777777777778,
             "#fb9f3a"
            ],
            [
             0.8888888888888888,
             "#fdca26"
            ],
            [
             1,
             "#f0f921"
            ]
           ],
           "sequentialminus": [
            [
             0,
             "#0d0887"
            ],
            [
             0.1111111111111111,
             "#46039f"
            ],
            [
             0.2222222222222222,
             "#7201a8"
            ],
            [
             0.3333333333333333,
             "#9c179e"
            ],
            [
             0.4444444444444444,
             "#bd3786"
            ],
            [
             0.5555555555555556,
             "#d8576b"
            ],
            [
             0.6666666666666666,
             "#ed7953"
            ],
            [
             0.7777777777777778,
             "#fb9f3a"
            ],
            [
             0.8888888888888888,
             "#fdca26"
            ],
            [
             1,
             "#f0f921"
            ]
           ]
          },
          "colorway": [
           "#636efa",
           "#EF553B",
           "#00cc96",
           "#ab63fa",
           "#FFA15A",
           "#19d3f3",
           "#FF6692",
           "#B6E880",
           "#FF97FF",
           "#FECB52"
          ],
          "font": {
           "color": "#2a3f5f"
          },
          "geo": {
           "bgcolor": "white",
           "lakecolor": "white",
           "landcolor": "#E5ECF6",
           "showlakes": true,
           "showland": true,
           "subunitcolor": "white"
          },
          "hoverlabel": {
           "align": "left"
          },
          "hovermode": "closest",
          "mapbox": {
           "style": "light"
          },
          "paper_bgcolor": "white",
          "plot_bgcolor": "#E5ECF6",
          "polar": {
           "angularaxis": {
            "gridcolor": "white",
            "linecolor": "white",
            "ticks": ""
           },
           "bgcolor": "#E5ECF6",
           "radialaxis": {
            "gridcolor": "white",
            "linecolor": "white",
            "ticks": ""
           }
          },
          "scene": {
           "xaxis": {
            "backgroundcolor": "#E5ECF6",
            "gridcolor": "white",
            "gridwidth": 2,
            "linecolor": "white",
            "showbackground": true,
            "ticks": "",
            "zerolinecolor": "white"
           },
           "yaxis": {
            "backgroundcolor": "#E5ECF6",
            "gridcolor": "white",
            "gridwidth": 2,
            "linecolor": "white",
            "showbackground": true,
            "ticks": "",
            "zerolinecolor": "white"
           },
           "zaxis": {
            "backgroundcolor": "#E5ECF6",
            "gridcolor": "white",
            "gridwidth": 2,
            "linecolor": "white",
            "showbackground": true,
            "ticks": "",
            "zerolinecolor": "white"
           }
          },
          "shapedefaults": {
           "line": {
            "color": "#2a3f5f"
           }
          },
          "ternary": {
           "aaxis": {
            "gridcolor": "white",
            "linecolor": "white",
            "ticks": ""
           },
           "baxis": {
            "gridcolor": "white",
            "linecolor": "white",
            "ticks": ""
           },
           "bgcolor": "#E5ECF6",
           "caxis": {
            "gridcolor": "white",
            "linecolor": "white",
            "ticks": ""
           }
          },
          "title": {
           "x": 0.05
          },
          "xaxis": {
           "automargin": true,
           "gridcolor": "white",
           "linecolor": "white",
           "ticks": "",
           "title": {
            "standoff": 15
           },
           "zerolinecolor": "white",
           "zerolinewidth": 2
          },
          "yaxis": {
           "automargin": true,
           "gridcolor": "white",
           "linecolor": "white",
           "ticks": "",
           "title": {
            "standoff": 15
           },
           "zerolinecolor": "white",
           "zerolinewidth": 2
          }
         }
        },
        "title": {
         "text": "Goals Scored vs. Shots on Target (2021 Season)"
        },
        "xaxis": {
         "title": {
          "text": "Shots on Target"
         }
        },
        "yaxis": {
         "title": {
          "text": "Goals Scored"
         }
        }
       }
      },
      "text/html": [
       "<div>                            <div id=\"f898be68-d51d-4cfd-ae9b-8996ad157cc5\" class=\"plotly-graph-div\" style=\"height:525px; width:100%;\"></div>            <script type=\"text/javascript\">                require([\"plotly\"], function(Plotly) {                    window.PLOTLYENV=window.PLOTLYENV || {};                                    if (document.getElementById(\"f898be68-d51d-4cfd-ae9b-8996ad157cc5\")) {                    Plotly.newPlot(                        \"f898be68-d51d-4cfd-ae9b-8996ad157cc5\",                        [{\"marker\":{\"color\":[0.3279569892473118,0.3270440251572327,0.3404255319148936,0.2978723404255319,0.2857142857142857,0.38,0.35714285714285715,0.33076923076923076,0.29577464788732394,0.3780487804878049,0.39662447257383965,0.4177215189873418,0.31843575418994413,0.30985915492957744,0.22115384615384615,0.2670807453416149,0.372972972972973,0.2764227642276423,0.4225352112676056,0.2857142857142857],\"colorscale\":[[0.0,\"rgb(41, 24, 107)\"],[0.09090909090909091,\"rgb(42, 35, 160)\"],[0.18181818181818182,\"rgb(15, 71, 153)\"],[0.2727272727272727,\"rgb(18, 95, 142)\"],[0.36363636363636365,\"rgb(38, 116, 137)\"],[0.45454545454545453,\"rgb(53, 136, 136)\"],[0.5454545454545454,\"rgb(65, 157, 133)\"],[0.6363636363636364,\"rgb(81, 178, 124)\"],[0.7272727272727273,\"rgb(111, 198, 107)\"],[0.8181818181818182,\"rgb(160, 214, 91)\"],[0.9090909090909091,\"rgb(212, 225, 112)\"],[1.0,\"rgb(253, 238, 153)\"]],\"showscale\":true,\"size\":[11.478494623655914,11.446540880503145,11.914893617021276,10.425531914893616,10.0,13.3,12.5,11.576923076923077,10.352112676056338,13.231707317073171,13.881856540084387,14.620253164556962,11.145251396648044,10.84507042253521,7.740384615384615,9.347826086956522,13.054054054054054,9.67479674796748,14.788732394366196,10.0]},\"mode\":\"markers\",\"text\":[\"Arsenal\",\"Aston Villa\",\"Brentford\",\"Brighton and Hove Albion\",\"Burnley\",\"Chelsea\",\"Crystal Palace\",\"Everton\",\"Leeds United\",\"Leicester City\",\"Liverpool\",\"Manchester City\",\"Manchester United\",\"Newcastle United\",\"Norwich City\",\"Southampton\",\"Tottenham Hotspur\",\"Watford\",\"West Ham United\",\"Wolverhampton Wanderers\"],\"x\":[186.0,159.0,141.0,141.0,119.0,200.0,140.0,130.0,142.0,164.0,237.0,237.0,179.0,142.0,104.0,161.0,185.0,123.0,142.0,133.0],\"y\":[61.0,52.0,48.0,42.0,34.0,76.0,50.0,43.0,42.0,62.0,94.0,99.0,57.0,44.0,23.0,43.0,69.0,34.0,60.0,38.0],\"type\":\"scatter\"}],                        {\"title\":{\"text\":\"Goals Scored vs. Shots on Target (2021 Season)\"},\"xaxis\":{\"title\":{\"text\":\"Shots on Target\"}},\"yaxis\":{\"title\":{\"text\":\"Goals Scored\"}},\"template\":{\"data\":{\"histogram2dcontour\":[{\"type\":\"histogram2dcontour\",\"colorbar\":{\"outlinewidth\":0,\"ticks\":\"\"},\"colorscale\":[[0.0,\"#0d0887\"],[0.1111111111111111,\"#46039f\"],[0.2222222222222222,\"#7201a8\"],[0.3333333333333333,\"#9c179e\"],[0.4444444444444444,\"#bd3786\"],[0.5555555555555556,\"#d8576b\"],[0.6666666666666666,\"#ed7953\"],[0.7777777777777778,\"#fb9f3a\"],[0.8888888888888888,\"#fdca26\"],[1.0,\"#f0f921\"]]}],\"choropleth\":[{\"type\":\"choropleth\",\"colorbar\":{\"outlinewidth\":0,\"ticks\":\"\"}}],\"histogram2d\":[{\"type\":\"histogram2d\",\"colorbar\":{\"outlinewidth\":0,\"ticks\":\"\"},\"colorscale\":[[0.0,\"#0d0887\"],[0.1111111111111111,\"#46039f\"],[0.2222222222222222,\"#7201a8\"],[0.3333333333333333,\"#9c179e\"],[0.4444444444444444,\"#bd3786\"],[0.5555555555555556,\"#d8576b\"],[0.6666666666666666,\"#ed7953\"],[0.7777777777777778,\"#fb9f3a\"],[0.8888888888888888,\"#fdca26\"],[1.0,\"#f0f921\"]]}],\"heatmap\":[{\"type\":\"heatmap\",\"colorbar\":{\"outlinewidth\":0,\"ticks\":\"\"},\"colorscale\":[[0.0,\"#0d0887\"],[0.1111111111111111,\"#46039f\"],[0.2222222222222222,\"#7201a8\"],[0.3333333333333333,\"#9c179e\"],[0.4444444444444444,\"#bd3786\"],[0.5555555555555556,\"#d8576b\"],[0.6666666666666666,\"#ed7953\"],[0.7777777777777778,\"#fb9f3a\"],[0.8888888888888888,\"#fdca26\"],[1.0,\"#f0f921\"]]}],\"heatmapgl\":[{\"type\":\"heatmapgl\",\"colorbar\":{\"outlinewidth\":0,\"ticks\":\"\"},\"colorscale\":[[0.0,\"#0d0887\"],[0.1111111111111111,\"#46039f\"],[0.2222222222222222,\"#7201a8\"],[0.3333333333333333,\"#9c179e\"],[0.4444444444444444,\"#bd3786\"],[0.5555555555555556,\"#d8576b\"],[0.6666666666666666,\"#ed7953\"],[0.7777777777777778,\"#fb9f3a\"],[0.8888888888888888,\"#fdca26\"],[1.0,\"#f0f921\"]]}],\"contourcarpet\":[{\"type\":\"contourcarpet\",\"colorbar\":{\"outlinewidth\":0,\"ticks\":\"\"}}],\"contour\":[{\"type\":\"contour\",\"colorbar\":{\"outlinewidth\":0,\"ticks\":\"\"},\"colorscale\":[[0.0,\"#0d0887\"],[0.1111111111111111,\"#46039f\"],[0.2222222222222222,\"#7201a8\"],[0.3333333333333333,\"#9c179e\"],[0.4444444444444444,\"#bd3786\"],[0.5555555555555556,\"#d8576b\"],[0.6666666666666666,\"#ed7953\"],[0.7777777777777778,\"#fb9f3a\"],[0.8888888888888888,\"#fdca26\"],[1.0,\"#f0f921\"]]}],\"surface\":[{\"type\":\"surface\",\"colorbar\":{\"outlinewidth\":0,\"ticks\":\"\"},\"colorscale\":[[0.0,\"#0d0887\"],[0.1111111111111111,\"#46039f\"],[0.2222222222222222,\"#7201a8\"],[0.3333333333333333,\"#9c179e\"],[0.4444444444444444,\"#bd3786\"],[0.5555555555555556,\"#d8576b\"],[0.6666666666666666,\"#ed7953\"],[0.7777777777777778,\"#fb9f3a\"],[0.8888888888888888,\"#fdca26\"],[1.0,\"#f0f921\"]]}],\"mesh3d\":[{\"type\":\"mesh3d\",\"colorbar\":{\"outlinewidth\":0,\"ticks\":\"\"}}],\"scatter\":[{\"fillpattern\":{\"fillmode\":\"overlay\",\"size\":10,\"solidity\":0.2},\"type\":\"scatter\"}],\"parcoords\":[{\"type\":\"parcoords\",\"line\":{\"colorbar\":{\"outlinewidth\":0,\"ticks\":\"\"}}}],\"scatterpolargl\":[{\"type\":\"scatterpolargl\",\"marker\":{\"colorbar\":{\"outlinewidth\":0,\"ticks\":\"\"}}}],\"bar\":[{\"error_x\":{\"color\":\"#2a3f5f\"},\"error_y\":{\"color\":\"#2a3f5f\"},\"marker\":{\"line\":{\"color\":\"#E5ECF6\",\"width\":0.5},\"pattern\":{\"fillmode\":\"overlay\",\"size\":10,\"solidity\":0.2}},\"type\":\"bar\"}],\"scattergeo\":[{\"type\":\"scattergeo\",\"marker\":{\"colorbar\":{\"outlinewidth\":0,\"ticks\":\"\"}}}],\"scatterpolar\":[{\"type\":\"scatterpolar\",\"marker\":{\"colorbar\":{\"outlinewidth\":0,\"ticks\":\"\"}}}],\"histogram\":[{\"marker\":{\"pattern\":{\"fillmode\":\"overlay\",\"size\":10,\"solidity\":0.2}},\"type\":\"histogram\"}],\"scattergl\":[{\"type\":\"scattergl\",\"marker\":{\"colorbar\":{\"outlinewidth\":0,\"ticks\":\"\"}}}],\"scatter3d\":[{\"type\":\"scatter3d\",\"line\":{\"colorbar\":{\"outlinewidth\":0,\"ticks\":\"\"}},\"marker\":{\"colorbar\":{\"outlinewidth\":0,\"ticks\":\"\"}}}],\"scattermapbox\":[{\"type\":\"scattermapbox\",\"marker\":{\"colorbar\":{\"outlinewidth\":0,\"ticks\":\"\"}}}],\"scatterternary\":[{\"type\":\"scatterternary\",\"marker\":{\"colorbar\":{\"outlinewidth\":0,\"ticks\":\"\"}}}],\"scattercarpet\":[{\"type\":\"scattercarpet\",\"marker\":{\"colorbar\":{\"outlinewidth\":0,\"ticks\":\"\"}}}],\"carpet\":[{\"aaxis\":{\"endlinecolor\":\"#2a3f5f\",\"gridcolor\":\"white\",\"linecolor\":\"white\",\"minorgridcolor\":\"white\",\"startlinecolor\":\"#2a3f5f\"},\"baxis\":{\"endlinecolor\":\"#2a3f5f\",\"gridcolor\":\"white\",\"linecolor\":\"white\",\"minorgridcolor\":\"white\",\"startlinecolor\":\"#2a3f5f\"},\"type\":\"carpet\"}],\"table\":[{\"cells\":{\"fill\":{\"color\":\"#EBF0F8\"},\"line\":{\"color\":\"white\"}},\"header\":{\"fill\":{\"color\":\"#C8D4E3\"},\"line\":{\"color\":\"white\"}},\"type\":\"table\"}],\"barpolar\":[{\"marker\":{\"line\":{\"color\":\"#E5ECF6\",\"width\":0.5},\"pattern\":{\"fillmode\":\"overlay\",\"size\":10,\"solidity\":0.2}},\"type\":\"barpolar\"}],\"pie\":[{\"automargin\":true,\"type\":\"pie\"}]},\"layout\":{\"autotypenumbers\":\"strict\",\"colorway\":[\"#636efa\",\"#EF553B\",\"#00cc96\",\"#ab63fa\",\"#FFA15A\",\"#19d3f3\",\"#FF6692\",\"#B6E880\",\"#FF97FF\",\"#FECB52\"],\"font\":{\"color\":\"#2a3f5f\"},\"hovermode\":\"closest\",\"hoverlabel\":{\"align\":\"left\"},\"paper_bgcolor\":\"white\",\"plot_bgcolor\":\"#E5ECF6\",\"polar\":{\"bgcolor\":\"#E5ECF6\",\"angularaxis\":{\"gridcolor\":\"white\",\"linecolor\":\"white\",\"ticks\":\"\"},\"radialaxis\":{\"gridcolor\":\"white\",\"linecolor\":\"white\",\"ticks\":\"\"}},\"ternary\":{\"bgcolor\":\"#E5ECF6\",\"aaxis\":{\"gridcolor\":\"white\",\"linecolor\":\"white\",\"ticks\":\"\"},\"baxis\":{\"gridcolor\":\"white\",\"linecolor\":\"white\",\"ticks\":\"\"},\"caxis\":{\"gridcolor\":\"white\",\"linecolor\":\"white\",\"ticks\":\"\"}},\"coloraxis\":{\"colorbar\":{\"outlinewidth\":0,\"ticks\":\"\"}},\"colorscale\":{\"sequential\":[[0.0,\"#0d0887\"],[0.1111111111111111,\"#46039f\"],[0.2222222222222222,\"#7201a8\"],[0.3333333333333333,\"#9c179e\"],[0.4444444444444444,\"#bd3786\"],[0.5555555555555556,\"#d8576b\"],[0.6666666666666666,\"#ed7953\"],[0.7777777777777778,\"#fb9f3a\"],[0.8888888888888888,\"#fdca26\"],[1.0,\"#f0f921\"]],\"sequentialminus\":[[0.0,\"#0d0887\"],[0.1111111111111111,\"#46039f\"],[0.2222222222222222,\"#7201a8\"],[0.3333333333333333,\"#9c179e\"],[0.4444444444444444,\"#bd3786\"],[0.5555555555555556,\"#d8576b\"],[0.6666666666666666,\"#ed7953\"],[0.7777777777777778,\"#fb9f3a\"],[0.8888888888888888,\"#fdca26\"],[1.0,\"#f0f921\"]],\"diverging\":[[0,\"#8e0152\"],[0.1,\"#c51b7d\"],[0.2,\"#de77ae\"],[0.3,\"#f1b6da\"],[0.4,\"#fde0ef\"],[0.5,\"#f7f7f7\"],[0.6,\"#e6f5d0\"],[0.7,\"#b8e186\"],[0.8,\"#7fbc41\"],[0.9,\"#4d9221\"],[1,\"#276419\"]]},\"xaxis\":{\"gridcolor\":\"white\",\"linecolor\":\"white\",\"ticks\":\"\",\"title\":{\"standoff\":15},\"zerolinecolor\":\"white\",\"automargin\":true,\"zerolinewidth\":2},\"yaxis\":{\"gridcolor\":\"white\",\"linecolor\":\"white\",\"ticks\":\"\",\"title\":{\"standoff\":15},\"zerolinecolor\":\"white\",\"automargin\":true,\"zerolinewidth\":2},\"scene\":{\"xaxis\":{\"backgroundcolor\":\"#E5ECF6\",\"gridcolor\":\"white\",\"linecolor\":\"white\",\"showbackground\":true,\"ticks\":\"\",\"zerolinecolor\":\"white\",\"gridwidth\":2},\"yaxis\":{\"backgroundcolor\":\"#E5ECF6\",\"gridcolor\":\"white\",\"linecolor\":\"white\",\"showbackground\":true,\"ticks\":\"\",\"zerolinecolor\":\"white\",\"gridwidth\":2},\"zaxis\":{\"backgroundcolor\":\"#E5ECF6\",\"gridcolor\":\"white\",\"linecolor\":\"white\",\"showbackground\":true,\"ticks\":\"\",\"zerolinecolor\":\"white\",\"gridwidth\":2}},\"shapedefaults\":{\"line\":{\"color\":\"#2a3f5f\"}},\"annotationdefaults\":{\"arrowcolor\":\"#2a3f5f\",\"arrowhead\":0,\"arrowwidth\":1},\"geo\":{\"bgcolor\":\"white\",\"landcolor\":\"#E5ECF6\",\"subunitcolor\":\"white\",\"showland\":true,\"showlakes\":true,\"lakecolor\":\"white\"},\"title\":{\"x\":0.05},\"mapbox\":{\"style\":\"light\"}}}},                        {\"responsive\": true}                    ).then(function(){\n",
       "                            \n",
       "var gd = document.getElementById('f898be68-d51d-4cfd-ae9b-8996ad157cc5');\n",
       "var x = new MutationObserver(function (mutations, observer) {{\n",
       "        var display = window.getComputedStyle(gd).display;\n",
       "        if (!display || display === 'none') {{\n",
       "            console.log([gd, 'removed!']);\n",
       "            Plotly.purge(gd);\n",
       "            observer.disconnect();\n",
       "        }}\n",
       "}});\n",
       "\n",
       "// Listen for the removal of the full notebook cells\n",
       "var notebookContainer = gd.closest('#notebook-container');\n",
       "if (notebookContainer) {{\n",
       "    x.observe(notebookContainer, {childList: true});\n",
       "}}\n",
       "\n",
       "// Listen for the clearing of the current output cell\n",
       "var outputEl = gd.closest('.output');\n",
       "if (outputEl) {{\n",
       "    x.observe(outputEl, {childList: true});\n",
       "}}\n",
       "\n",
       "                        })                };                });            </script>        </div>"
      ]
     },
     "metadata": {},
     "output_type": "display_data"
    },
    {
     "data": {
      "text/plain": [
       "'https://plotly.com/~Kvothe_v1/3/'"
      ]
     },
     "execution_count": 563,
     "metadata": {},
     "output_type": "execute_result"
    }
   ],
   "source": [
    "# For the scatter plot of shots on target vs. goals scored in the 2021 season, \n",
    "# like the previous plot, I need my data points and a layout\n",
    "trace_21 = go.Scatter(x=shootin_stats_21['SoT'], y=shootin_stats_21['GF'], mode='markers',\n",
    "                   text=shootin_stats_21.index.get_level_values('Team'),\n",
    "                   marker={'size': 35 * shootin_stats_21['Efficiency'],\n",
    "                           'color':shootin_stats_21['Efficiency'],'colorscale': 'haline', 'showscale':True})\n",
    "                              #To have the points vary based on efficiency\n",
    "# To create a layout for the plot\n",
    "layout_21 = go.Layout(title='Goals Scored vs. Shots on Target (2021 Season)',\n",
    "                   xaxis={'title': 'Shots on Target'},\n",
    "                   yaxis={'title': 'Goals Scored'})\n",
    "\n",
    "# To show my chart\n",
    "shot_Stats_21 = go.Figure(data=[trace_21], layout=layout_21)\n",
    "shot_Stats_21.show()\n",
    "py.plot(shot_Stats_21, filename='ShotsvsGoals_Stats_21.html', auto_open=False)"
   ]
  },
  {
   "cell_type": "markdown",
   "id": "c624dc20",
   "metadata": {},
   "source": [
    "#### 2. Home vs. Away performance: I want to analyze the performance of each team at home and away to determine if there are any patterns or trends. This can help you identify which teams perform better at home or away."
   ]
  },
  {
   "cell_type": "code",
   "execution_count": 232,
   "id": "3926f26a",
   "metadata": {},
   "outputs": [],
   "source": [
    "#First we need our conditions for the 2021 season, home and then away\n",
    "away_condition = ((matches_pr['Venue'] == 'Away')&(matches_pr['Season'] == 2021))\n",
    "away_SS_21 = matches_pr[away_condition]"
   ]
  },
  {
   "cell_type": "code",
   "execution_count": 233,
   "id": "08d3802a",
   "metadata": {},
   "outputs": [],
   "source": [
    "home_condition = ((matches_pr['Venue'] == 'Home')&(matches_pr['Season'] == 2021))\n",
    "home_SS_21 = matches_pr[home_condition]"
   ]
  },
  {
   "cell_type": "code",
   "execution_count": 236,
   "id": "fe93c038",
   "metadata": {},
   "outputs": [],
   "source": [
    "#Now we need to create our tables with this created conditions\n",
    "away_shootin_stats_21 = (away_SS_21.pivot_table(['Sh','SoT','GA','GF','xG','xGA'],\n",
    "                    index=['Team'],aggfunc= 'sum'))\n",
    "away_shootin_stats_21['Efficiency'] = away_shootin_stats_21['GF'] / away_shootin_stats_21['SoT']"
   ]
  },
  {
   "cell_type": "code",
   "execution_count": 237,
   "id": "13d591b1",
   "metadata": {},
   "outputs": [],
   "source": [
    "home_shootin_stats_21 = (home_SS_21.pivot_table(['Sh','SoT','GA','GF','xG','xGA'],\n",
    "                    index=['Team'],aggfunc= 'sum'))\n",
    "home_shootin_stats_21['Efficiency'] = home_shootin_stats_21['GF'] / home_shootin_stats_21['SoT']"
   ]
  },
  {
   "cell_type": "code",
   "execution_count": 564,
   "id": "4c815b6f",
   "metadata": {},
   "outputs": [
    {
     "data": {
      "application/vnd.plotly.v1+json": {
       "config": {
        "plotlyServerURL": "https://plotly.com"
       },
       "data": [
        {
         "marker": {
          "color": [
           0.3291139240506329,
           0.3108108108108108,
           0.37142857142857144,
           0.2911392405063291,
           0.32653061224489793,
           0.42857142857142855,
           0.359375,
           0.2807017543859649,
           0.3108108108108108,
           0.3783783783783784,
           0.40540540540540543,
           0.35964912280701755,
           0.2976190476190476,
           0.2608695652173913,
           0.25,
           0.2597402597402597,
           0.3333333333333333,
           0.2982456140350877,
           0.4153846153846154,
           0.27692307692307694
          ],
          "colorscale": [
           [
            0,
            "rgb(41, 24, 107)"
           ],
           [
            0.09090909090909091,
            "rgb(42, 35, 160)"
           ],
           [
            0.18181818181818182,
            "rgb(15, 71, 153)"
           ],
           [
            0.2727272727272727,
            "rgb(18, 95, 142)"
           ],
           [
            0.36363636363636365,
            "rgb(38, 116, 137)"
           ],
           [
            0.45454545454545453,
            "rgb(53, 136, 136)"
           ],
           [
            0.5454545454545454,
            "rgb(65, 157, 133)"
           ],
           [
            0.6363636363636364,
            "rgb(81, 178, 124)"
           ],
           [
            0.7272727272727273,
            "rgb(111, 198, 107)"
           ],
           [
            0.8181818181818182,
            "rgb(160, 214, 91)"
           ],
           [
            0.9090909090909091,
            "rgb(212, 225, 112)"
           ],
           [
            1,
            "rgb(253, 238, 153)"
           ]
          ],
          "showscale": true,
          "size": [
           11.518987341772151,
           10.878378378378377,
           13,
           10.189873417721518,
           11.428571428571427,
           15,
           12.578125,
           9.82456140350877,
           10.878378378378377,
           13.243243243243244,
           14.18918918918919,
           12.587719298245615,
           10.416666666666666,
           9.130434782608695,
           8.75,
           9.09090909090909,
           11.666666666666666,
           10.43859649122807,
           14.53846153846154,
           9.692307692307693
          ]
         },
         "mode": "markers",
         "text": [
          "Arsenal",
          "Aston Villa",
          "Brentford",
          "Brighton and Hove Albion",
          "Burnley",
          "Chelsea",
          "Crystal Palace",
          "Everton",
          "Leeds United",
          "Leicester City",
          "Liverpool",
          "Manchester City",
          "Manchester United",
          "Newcastle United",
          "Norwich City",
          "Southampton",
          "Tottenham Hotspur",
          "Watford",
          "West Ham United",
          "Wolverhampton Wanderers"
         ],
         "type": "scatter",
         "x": [
          79,
          74,
          70,
          79,
          49,
          91,
          64,
          57,
          74,
          74,
          111,
          114,
          84,
          69,
          44,
          77,
          93,
          57,
          65,
          65
         ],
         "y": [
          26,
          23,
          26,
          23,
          16,
          39,
          23,
          16,
          23,
          28,
          45,
          41,
          25,
          18,
          11,
          20,
          31,
          17,
          27,
          18
         ]
        }
       ],
       "layout": {
        "template": {
         "data": {
          "bar": [
           {
            "error_x": {
             "color": "#2a3f5f"
            },
            "error_y": {
             "color": "#2a3f5f"
            },
            "marker": {
             "line": {
              "color": "#E5ECF6",
              "width": 0.5
             },
             "pattern": {
              "fillmode": "overlay",
              "size": 10,
              "solidity": 0.2
             }
            },
            "type": "bar"
           }
          ],
          "barpolar": [
           {
            "marker": {
             "line": {
              "color": "#E5ECF6",
              "width": 0.5
             },
             "pattern": {
              "fillmode": "overlay",
              "size": 10,
              "solidity": 0.2
             }
            },
            "type": "barpolar"
           }
          ],
          "carpet": [
           {
            "aaxis": {
             "endlinecolor": "#2a3f5f",
             "gridcolor": "white",
             "linecolor": "white",
             "minorgridcolor": "white",
             "startlinecolor": "#2a3f5f"
            },
            "baxis": {
             "endlinecolor": "#2a3f5f",
             "gridcolor": "white",
             "linecolor": "white",
             "minorgridcolor": "white",
             "startlinecolor": "#2a3f5f"
            },
            "type": "carpet"
           }
          ],
          "choropleth": [
           {
            "colorbar": {
             "outlinewidth": 0,
             "ticks": ""
            },
            "type": "choropleth"
           }
          ],
          "contour": [
           {
            "colorbar": {
             "outlinewidth": 0,
             "ticks": ""
            },
            "colorscale": [
             [
              0,
              "#0d0887"
             ],
             [
              0.1111111111111111,
              "#46039f"
             ],
             [
              0.2222222222222222,
              "#7201a8"
             ],
             [
              0.3333333333333333,
              "#9c179e"
             ],
             [
              0.4444444444444444,
              "#bd3786"
             ],
             [
              0.5555555555555556,
              "#d8576b"
             ],
             [
              0.6666666666666666,
              "#ed7953"
             ],
             [
              0.7777777777777778,
              "#fb9f3a"
             ],
             [
              0.8888888888888888,
              "#fdca26"
             ],
             [
              1,
              "#f0f921"
             ]
            ],
            "type": "contour"
           }
          ],
          "contourcarpet": [
           {
            "colorbar": {
             "outlinewidth": 0,
             "ticks": ""
            },
            "type": "contourcarpet"
           }
          ],
          "heatmap": [
           {
            "colorbar": {
             "outlinewidth": 0,
             "ticks": ""
            },
            "colorscale": [
             [
              0,
              "#0d0887"
             ],
             [
              0.1111111111111111,
              "#46039f"
             ],
             [
              0.2222222222222222,
              "#7201a8"
             ],
             [
              0.3333333333333333,
              "#9c179e"
             ],
             [
              0.4444444444444444,
              "#bd3786"
             ],
             [
              0.5555555555555556,
              "#d8576b"
             ],
             [
              0.6666666666666666,
              "#ed7953"
             ],
             [
              0.7777777777777778,
              "#fb9f3a"
             ],
             [
              0.8888888888888888,
              "#fdca26"
             ],
             [
              1,
              "#f0f921"
             ]
            ],
            "type": "heatmap"
           }
          ],
          "heatmapgl": [
           {
            "colorbar": {
             "outlinewidth": 0,
             "ticks": ""
            },
            "colorscale": [
             [
              0,
              "#0d0887"
             ],
             [
              0.1111111111111111,
              "#46039f"
             ],
             [
              0.2222222222222222,
              "#7201a8"
             ],
             [
              0.3333333333333333,
              "#9c179e"
             ],
             [
              0.4444444444444444,
              "#bd3786"
             ],
             [
              0.5555555555555556,
              "#d8576b"
             ],
             [
              0.6666666666666666,
              "#ed7953"
             ],
             [
              0.7777777777777778,
              "#fb9f3a"
             ],
             [
              0.8888888888888888,
              "#fdca26"
             ],
             [
              1,
              "#f0f921"
             ]
            ],
            "type": "heatmapgl"
           }
          ],
          "histogram": [
           {
            "marker": {
             "pattern": {
              "fillmode": "overlay",
              "size": 10,
              "solidity": 0.2
             }
            },
            "type": "histogram"
           }
          ],
          "histogram2d": [
           {
            "colorbar": {
             "outlinewidth": 0,
             "ticks": ""
            },
            "colorscale": [
             [
              0,
              "#0d0887"
             ],
             [
              0.1111111111111111,
              "#46039f"
             ],
             [
              0.2222222222222222,
              "#7201a8"
             ],
             [
              0.3333333333333333,
              "#9c179e"
             ],
             [
              0.4444444444444444,
              "#bd3786"
             ],
             [
              0.5555555555555556,
              "#d8576b"
             ],
             [
              0.6666666666666666,
              "#ed7953"
             ],
             [
              0.7777777777777778,
              "#fb9f3a"
             ],
             [
              0.8888888888888888,
              "#fdca26"
             ],
             [
              1,
              "#f0f921"
             ]
            ],
            "type": "histogram2d"
           }
          ],
          "histogram2dcontour": [
           {
            "colorbar": {
             "outlinewidth": 0,
             "ticks": ""
            },
            "colorscale": [
             [
              0,
              "#0d0887"
             ],
             [
              0.1111111111111111,
              "#46039f"
             ],
             [
              0.2222222222222222,
              "#7201a8"
             ],
             [
              0.3333333333333333,
              "#9c179e"
             ],
             [
              0.4444444444444444,
              "#bd3786"
             ],
             [
              0.5555555555555556,
              "#d8576b"
             ],
             [
              0.6666666666666666,
              "#ed7953"
             ],
             [
              0.7777777777777778,
              "#fb9f3a"
             ],
             [
              0.8888888888888888,
              "#fdca26"
             ],
             [
              1,
              "#f0f921"
             ]
            ],
            "type": "histogram2dcontour"
           }
          ],
          "mesh3d": [
           {
            "colorbar": {
             "outlinewidth": 0,
             "ticks": ""
            },
            "type": "mesh3d"
           }
          ],
          "parcoords": [
           {
            "line": {
             "colorbar": {
              "outlinewidth": 0,
              "ticks": ""
             }
            },
            "type": "parcoords"
           }
          ],
          "pie": [
           {
            "automargin": true,
            "type": "pie"
           }
          ],
          "scatter": [
           {
            "fillpattern": {
             "fillmode": "overlay",
             "size": 10,
             "solidity": 0.2
            },
            "type": "scatter"
           }
          ],
          "scatter3d": [
           {
            "line": {
             "colorbar": {
              "outlinewidth": 0,
              "ticks": ""
             }
            },
            "marker": {
             "colorbar": {
              "outlinewidth": 0,
              "ticks": ""
             }
            },
            "type": "scatter3d"
           }
          ],
          "scattercarpet": [
           {
            "marker": {
             "colorbar": {
              "outlinewidth": 0,
              "ticks": ""
             }
            },
            "type": "scattercarpet"
           }
          ],
          "scattergeo": [
           {
            "marker": {
             "colorbar": {
              "outlinewidth": 0,
              "ticks": ""
             }
            },
            "type": "scattergeo"
           }
          ],
          "scattergl": [
           {
            "marker": {
             "colorbar": {
              "outlinewidth": 0,
              "ticks": ""
             }
            },
            "type": "scattergl"
           }
          ],
          "scattermapbox": [
           {
            "marker": {
             "colorbar": {
              "outlinewidth": 0,
              "ticks": ""
             }
            },
            "type": "scattermapbox"
           }
          ],
          "scatterpolar": [
           {
            "marker": {
             "colorbar": {
              "outlinewidth": 0,
              "ticks": ""
             }
            },
            "type": "scatterpolar"
           }
          ],
          "scatterpolargl": [
           {
            "marker": {
             "colorbar": {
              "outlinewidth": 0,
              "ticks": ""
             }
            },
            "type": "scatterpolargl"
           }
          ],
          "scatterternary": [
           {
            "marker": {
             "colorbar": {
              "outlinewidth": 0,
              "ticks": ""
             }
            },
            "type": "scatterternary"
           }
          ],
          "surface": [
           {
            "colorbar": {
             "outlinewidth": 0,
             "ticks": ""
            },
            "colorscale": [
             [
              0,
              "#0d0887"
             ],
             [
              0.1111111111111111,
              "#46039f"
             ],
             [
              0.2222222222222222,
              "#7201a8"
             ],
             [
              0.3333333333333333,
              "#9c179e"
             ],
             [
              0.4444444444444444,
              "#bd3786"
             ],
             [
              0.5555555555555556,
              "#d8576b"
             ],
             [
              0.6666666666666666,
              "#ed7953"
             ],
             [
              0.7777777777777778,
              "#fb9f3a"
             ],
             [
              0.8888888888888888,
              "#fdca26"
             ],
             [
              1,
              "#f0f921"
             ]
            ],
            "type": "surface"
           }
          ],
          "table": [
           {
            "cells": {
             "fill": {
              "color": "#EBF0F8"
             },
             "line": {
              "color": "white"
             }
            },
            "header": {
             "fill": {
              "color": "#C8D4E3"
             },
             "line": {
              "color": "white"
             }
            },
            "type": "table"
           }
          ]
         },
         "layout": {
          "annotationdefaults": {
           "arrowcolor": "#2a3f5f",
           "arrowhead": 0,
           "arrowwidth": 1
          },
          "autotypenumbers": "strict",
          "coloraxis": {
           "colorbar": {
            "outlinewidth": 0,
            "ticks": ""
           }
          },
          "colorscale": {
           "diverging": [
            [
             0,
             "#8e0152"
            ],
            [
             0.1,
             "#c51b7d"
            ],
            [
             0.2,
             "#de77ae"
            ],
            [
             0.3,
             "#f1b6da"
            ],
            [
             0.4,
             "#fde0ef"
            ],
            [
             0.5,
             "#f7f7f7"
            ],
            [
             0.6,
             "#e6f5d0"
            ],
            [
             0.7,
             "#b8e186"
            ],
            [
             0.8,
             "#7fbc41"
            ],
            [
             0.9,
             "#4d9221"
            ],
            [
             1,
             "#276419"
            ]
           ],
           "sequential": [
            [
             0,
             "#0d0887"
            ],
            [
             0.1111111111111111,
             "#46039f"
            ],
            [
             0.2222222222222222,
             "#7201a8"
            ],
            [
             0.3333333333333333,
             "#9c179e"
            ],
            [
             0.4444444444444444,
             "#bd3786"
            ],
            [
             0.5555555555555556,
             "#d8576b"
            ],
            [
             0.6666666666666666,
             "#ed7953"
            ],
            [
             0.7777777777777778,
             "#fb9f3a"
            ],
            [
             0.8888888888888888,
             "#fdca26"
            ],
            [
             1,
             "#f0f921"
            ]
           ],
           "sequentialminus": [
            [
             0,
             "#0d0887"
            ],
            [
             0.1111111111111111,
             "#46039f"
            ],
            [
             0.2222222222222222,
             "#7201a8"
            ],
            [
             0.3333333333333333,
             "#9c179e"
            ],
            [
             0.4444444444444444,
             "#bd3786"
            ],
            [
             0.5555555555555556,
             "#d8576b"
            ],
            [
             0.6666666666666666,
             "#ed7953"
            ],
            [
             0.7777777777777778,
             "#fb9f3a"
            ],
            [
             0.8888888888888888,
             "#fdca26"
            ],
            [
             1,
             "#f0f921"
            ]
           ]
          },
          "colorway": [
           "#636efa",
           "#EF553B",
           "#00cc96",
           "#ab63fa",
           "#FFA15A",
           "#19d3f3",
           "#FF6692",
           "#B6E880",
           "#FF97FF",
           "#FECB52"
          ],
          "font": {
           "color": "#2a3f5f"
          },
          "geo": {
           "bgcolor": "white",
           "lakecolor": "white",
           "landcolor": "#E5ECF6",
           "showlakes": true,
           "showland": true,
           "subunitcolor": "white"
          },
          "hoverlabel": {
           "align": "left"
          },
          "hovermode": "closest",
          "mapbox": {
           "style": "light"
          },
          "paper_bgcolor": "white",
          "plot_bgcolor": "#E5ECF6",
          "polar": {
           "angularaxis": {
            "gridcolor": "white",
            "linecolor": "white",
            "ticks": ""
           },
           "bgcolor": "#E5ECF6",
           "radialaxis": {
            "gridcolor": "white",
            "linecolor": "white",
            "ticks": ""
           }
          },
          "scene": {
           "xaxis": {
            "backgroundcolor": "#E5ECF6",
            "gridcolor": "white",
            "gridwidth": 2,
            "linecolor": "white",
            "showbackground": true,
            "ticks": "",
            "zerolinecolor": "white"
           },
           "yaxis": {
            "backgroundcolor": "#E5ECF6",
            "gridcolor": "white",
            "gridwidth": 2,
            "linecolor": "white",
            "showbackground": true,
            "ticks": "",
            "zerolinecolor": "white"
           },
           "zaxis": {
            "backgroundcolor": "#E5ECF6",
            "gridcolor": "white",
            "gridwidth": 2,
            "linecolor": "white",
            "showbackground": true,
            "ticks": "",
            "zerolinecolor": "white"
           }
          },
          "shapedefaults": {
           "line": {
            "color": "#2a3f5f"
           }
          },
          "ternary": {
           "aaxis": {
            "gridcolor": "white",
            "linecolor": "white",
            "ticks": ""
           },
           "baxis": {
            "gridcolor": "white",
            "linecolor": "white",
            "ticks": ""
           },
           "bgcolor": "#E5ECF6",
           "caxis": {
            "gridcolor": "white",
            "linecolor": "white",
            "ticks": ""
           }
          },
          "title": {
           "x": 0.05
          },
          "xaxis": {
           "automargin": true,
           "gridcolor": "white",
           "linecolor": "white",
           "ticks": "",
           "title": {
            "standoff": 15
           },
           "zerolinecolor": "white",
           "zerolinewidth": 2
          },
          "yaxis": {
           "automargin": true,
           "gridcolor": "white",
           "linecolor": "white",
           "ticks": "",
           "title": {
            "standoff": 15
           },
           "zerolinecolor": "white",
           "zerolinewidth": 2
          }
         }
        },
        "title": {
         "text": "Goals Scored vs. Shots on Target away from Home (2021 Season)"
        },
        "xaxis": {
         "title": {
          "text": "Shots on Target"
         }
        },
        "yaxis": {
         "title": {
          "text": "Goals Scored"
         }
        }
       }
      },
      "text/html": [
       "<div>                            <div id=\"9c1e00e9-3237-4f31-a030-81f3fced81c2\" class=\"plotly-graph-div\" style=\"height:525px; width:100%;\"></div>            <script type=\"text/javascript\">                require([\"plotly\"], function(Plotly) {                    window.PLOTLYENV=window.PLOTLYENV || {};                                    if (document.getElementById(\"9c1e00e9-3237-4f31-a030-81f3fced81c2\")) {                    Plotly.newPlot(                        \"9c1e00e9-3237-4f31-a030-81f3fced81c2\",                        [{\"marker\":{\"color\":[0.3291139240506329,0.3108108108108108,0.37142857142857144,0.2911392405063291,0.32653061224489793,0.42857142857142855,0.359375,0.2807017543859649,0.3108108108108108,0.3783783783783784,0.40540540540540543,0.35964912280701755,0.2976190476190476,0.2608695652173913,0.25,0.2597402597402597,0.3333333333333333,0.2982456140350877,0.4153846153846154,0.27692307692307694],\"colorscale\":[[0.0,\"rgb(41, 24, 107)\"],[0.09090909090909091,\"rgb(42, 35, 160)\"],[0.18181818181818182,\"rgb(15, 71, 153)\"],[0.2727272727272727,\"rgb(18, 95, 142)\"],[0.36363636363636365,\"rgb(38, 116, 137)\"],[0.45454545454545453,\"rgb(53, 136, 136)\"],[0.5454545454545454,\"rgb(65, 157, 133)\"],[0.6363636363636364,\"rgb(81, 178, 124)\"],[0.7272727272727273,\"rgb(111, 198, 107)\"],[0.8181818181818182,\"rgb(160, 214, 91)\"],[0.9090909090909091,\"rgb(212, 225, 112)\"],[1.0,\"rgb(253, 238, 153)\"]],\"showscale\":true,\"size\":[11.518987341772151,10.878378378378377,13.0,10.189873417721518,11.428571428571427,15.0,12.578125,9.82456140350877,10.878378378378377,13.243243243243244,14.18918918918919,12.587719298245615,10.416666666666666,9.130434782608695,8.75,9.09090909090909,11.666666666666666,10.43859649122807,14.53846153846154,9.692307692307693]},\"mode\":\"markers\",\"text\":[\"Arsenal\",\"Aston Villa\",\"Brentford\",\"Brighton and Hove Albion\",\"Burnley\",\"Chelsea\",\"Crystal Palace\",\"Everton\",\"Leeds United\",\"Leicester City\",\"Liverpool\",\"Manchester City\",\"Manchester United\",\"Newcastle United\",\"Norwich City\",\"Southampton\",\"Tottenham Hotspur\",\"Watford\",\"West Ham United\",\"Wolverhampton Wanderers\"],\"x\":[79.0,74.0,70.0,79.0,49.0,91.0,64.0,57.0,74.0,74.0,111.0,114.0,84.0,69.0,44.0,77.0,93.0,57.0,65.0,65.0],\"y\":[26.0,23.0,26.0,23.0,16.0,39.0,23.0,16.0,23.0,28.0,45.0,41.0,25.0,18.0,11.0,20.0,31.0,17.0,27.0,18.0],\"type\":\"scatter\"}],                        {\"title\":{\"text\":\"Goals Scored vs. Shots on Target away from Home (2021 Season)\"},\"xaxis\":{\"title\":{\"text\":\"Shots on Target\"}},\"yaxis\":{\"title\":{\"text\":\"Goals Scored\"}},\"template\":{\"data\":{\"histogram2dcontour\":[{\"type\":\"histogram2dcontour\",\"colorbar\":{\"outlinewidth\":0,\"ticks\":\"\"},\"colorscale\":[[0.0,\"#0d0887\"],[0.1111111111111111,\"#46039f\"],[0.2222222222222222,\"#7201a8\"],[0.3333333333333333,\"#9c179e\"],[0.4444444444444444,\"#bd3786\"],[0.5555555555555556,\"#d8576b\"],[0.6666666666666666,\"#ed7953\"],[0.7777777777777778,\"#fb9f3a\"],[0.8888888888888888,\"#fdca26\"],[1.0,\"#f0f921\"]]}],\"choropleth\":[{\"type\":\"choropleth\",\"colorbar\":{\"outlinewidth\":0,\"ticks\":\"\"}}],\"histogram2d\":[{\"type\":\"histogram2d\",\"colorbar\":{\"outlinewidth\":0,\"ticks\":\"\"},\"colorscale\":[[0.0,\"#0d0887\"],[0.1111111111111111,\"#46039f\"],[0.2222222222222222,\"#7201a8\"],[0.3333333333333333,\"#9c179e\"],[0.4444444444444444,\"#bd3786\"],[0.5555555555555556,\"#d8576b\"],[0.6666666666666666,\"#ed7953\"],[0.7777777777777778,\"#fb9f3a\"],[0.8888888888888888,\"#fdca26\"],[1.0,\"#f0f921\"]]}],\"heatmap\":[{\"type\":\"heatmap\",\"colorbar\":{\"outlinewidth\":0,\"ticks\":\"\"},\"colorscale\":[[0.0,\"#0d0887\"],[0.1111111111111111,\"#46039f\"],[0.2222222222222222,\"#7201a8\"],[0.3333333333333333,\"#9c179e\"],[0.4444444444444444,\"#bd3786\"],[0.5555555555555556,\"#d8576b\"],[0.6666666666666666,\"#ed7953\"],[0.7777777777777778,\"#fb9f3a\"],[0.8888888888888888,\"#fdca26\"],[1.0,\"#f0f921\"]]}],\"heatmapgl\":[{\"type\":\"heatmapgl\",\"colorbar\":{\"outlinewidth\":0,\"ticks\":\"\"},\"colorscale\":[[0.0,\"#0d0887\"],[0.1111111111111111,\"#46039f\"],[0.2222222222222222,\"#7201a8\"],[0.3333333333333333,\"#9c179e\"],[0.4444444444444444,\"#bd3786\"],[0.5555555555555556,\"#d8576b\"],[0.6666666666666666,\"#ed7953\"],[0.7777777777777778,\"#fb9f3a\"],[0.8888888888888888,\"#fdca26\"],[1.0,\"#f0f921\"]]}],\"contourcarpet\":[{\"type\":\"contourcarpet\",\"colorbar\":{\"outlinewidth\":0,\"ticks\":\"\"}}],\"contour\":[{\"type\":\"contour\",\"colorbar\":{\"outlinewidth\":0,\"ticks\":\"\"},\"colorscale\":[[0.0,\"#0d0887\"],[0.1111111111111111,\"#46039f\"],[0.2222222222222222,\"#7201a8\"],[0.3333333333333333,\"#9c179e\"],[0.4444444444444444,\"#bd3786\"],[0.5555555555555556,\"#d8576b\"],[0.6666666666666666,\"#ed7953\"],[0.7777777777777778,\"#fb9f3a\"],[0.8888888888888888,\"#fdca26\"],[1.0,\"#f0f921\"]]}],\"surface\":[{\"type\":\"surface\",\"colorbar\":{\"outlinewidth\":0,\"ticks\":\"\"},\"colorscale\":[[0.0,\"#0d0887\"],[0.1111111111111111,\"#46039f\"],[0.2222222222222222,\"#7201a8\"],[0.3333333333333333,\"#9c179e\"],[0.4444444444444444,\"#bd3786\"],[0.5555555555555556,\"#d8576b\"],[0.6666666666666666,\"#ed7953\"],[0.7777777777777778,\"#fb9f3a\"],[0.8888888888888888,\"#fdca26\"],[1.0,\"#f0f921\"]]}],\"mesh3d\":[{\"type\":\"mesh3d\",\"colorbar\":{\"outlinewidth\":0,\"ticks\":\"\"}}],\"scatter\":[{\"fillpattern\":{\"fillmode\":\"overlay\",\"size\":10,\"solidity\":0.2},\"type\":\"scatter\"}],\"parcoords\":[{\"type\":\"parcoords\",\"line\":{\"colorbar\":{\"outlinewidth\":0,\"ticks\":\"\"}}}],\"scatterpolargl\":[{\"type\":\"scatterpolargl\",\"marker\":{\"colorbar\":{\"outlinewidth\":0,\"ticks\":\"\"}}}],\"bar\":[{\"error_x\":{\"color\":\"#2a3f5f\"},\"error_y\":{\"color\":\"#2a3f5f\"},\"marker\":{\"line\":{\"color\":\"#E5ECF6\",\"width\":0.5},\"pattern\":{\"fillmode\":\"overlay\",\"size\":10,\"solidity\":0.2}},\"type\":\"bar\"}],\"scattergeo\":[{\"type\":\"scattergeo\",\"marker\":{\"colorbar\":{\"outlinewidth\":0,\"ticks\":\"\"}}}],\"scatterpolar\":[{\"type\":\"scatterpolar\",\"marker\":{\"colorbar\":{\"outlinewidth\":0,\"ticks\":\"\"}}}],\"histogram\":[{\"marker\":{\"pattern\":{\"fillmode\":\"overlay\",\"size\":10,\"solidity\":0.2}},\"type\":\"histogram\"}],\"scattergl\":[{\"type\":\"scattergl\",\"marker\":{\"colorbar\":{\"outlinewidth\":0,\"ticks\":\"\"}}}],\"scatter3d\":[{\"type\":\"scatter3d\",\"line\":{\"colorbar\":{\"outlinewidth\":0,\"ticks\":\"\"}},\"marker\":{\"colorbar\":{\"outlinewidth\":0,\"ticks\":\"\"}}}],\"scattermapbox\":[{\"type\":\"scattermapbox\",\"marker\":{\"colorbar\":{\"outlinewidth\":0,\"ticks\":\"\"}}}],\"scatterternary\":[{\"type\":\"scatterternary\",\"marker\":{\"colorbar\":{\"outlinewidth\":0,\"ticks\":\"\"}}}],\"scattercarpet\":[{\"type\":\"scattercarpet\",\"marker\":{\"colorbar\":{\"outlinewidth\":0,\"ticks\":\"\"}}}],\"carpet\":[{\"aaxis\":{\"endlinecolor\":\"#2a3f5f\",\"gridcolor\":\"white\",\"linecolor\":\"white\",\"minorgridcolor\":\"white\",\"startlinecolor\":\"#2a3f5f\"},\"baxis\":{\"endlinecolor\":\"#2a3f5f\",\"gridcolor\":\"white\",\"linecolor\":\"white\",\"minorgridcolor\":\"white\",\"startlinecolor\":\"#2a3f5f\"},\"type\":\"carpet\"}],\"table\":[{\"cells\":{\"fill\":{\"color\":\"#EBF0F8\"},\"line\":{\"color\":\"white\"}},\"header\":{\"fill\":{\"color\":\"#C8D4E3\"},\"line\":{\"color\":\"white\"}},\"type\":\"table\"}],\"barpolar\":[{\"marker\":{\"line\":{\"color\":\"#E5ECF6\",\"width\":0.5},\"pattern\":{\"fillmode\":\"overlay\",\"size\":10,\"solidity\":0.2}},\"type\":\"barpolar\"}],\"pie\":[{\"automargin\":true,\"type\":\"pie\"}]},\"layout\":{\"autotypenumbers\":\"strict\",\"colorway\":[\"#636efa\",\"#EF553B\",\"#00cc96\",\"#ab63fa\",\"#FFA15A\",\"#19d3f3\",\"#FF6692\",\"#B6E880\",\"#FF97FF\",\"#FECB52\"],\"font\":{\"color\":\"#2a3f5f\"},\"hovermode\":\"closest\",\"hoverlabel\":{\"align\":\"left\"},\"paper_bgcolor\":\"white\",\"plot_bgcolor\":\"#E5ECF6\",\"polar\":{\"bgcolor\":\"#E5ECF6\",\"angularaxis\":{\"gridcolor\":\"white\",\"linecolor\":\"white\",\"ticks\":\"\"},\"radialaxis\":{\"gridcolor\":\"white\",\"linecolor\":\"white\",\"ticks\":\"\"}},\"ternary\":{\"bgcolor\":\"#E5ECF6\",\"aaxis\":{\"gridcolor\":\"white\",\"linecolor\":\"white\",\"ticks\":\"\"},\"baxis\":{\"gridcolor\":\"white\",\"linecolor\":\"white\",\"ticks\":\"\"},\"caxis\":{\"gridcolor\":\"white\",\"linecolor\":\"white\",\"ticks\":\"\"}},\"coloraxis\":{\"colorbar\":{\"outlinewidth\":0,\"ticks\":\"\"}},\"colorscale\":{\"sequential\":[[0.0,\"#0d0887\"],[0.1111111111111111,\"#46039f\"],[0.2222222222222222,\"#7201a8\"],[0.3333333333333333,\"#9c179e\"],[0.4444444444444444,\"#bd3786\"],[0.5555555555555556,\"#d8576b\"],[0.6666666666666666,\"#ed7953\"],[0.7777777777777778,\"#fb9f3a\"],[0.8888888888888888,\"#fdca26\"],[1.0,\"#f0f921\"]],\"sequentialminus\":[[0.0,\"#0d0887\"],[0.1111111111111111,\"#46039f\"],[0.2222222222222222,\"#7201a8\"],[0.3333333333333333,\"#9c179e\"],[0.4444444444444444,\"#bd3786\"],[0.5555555555555556,\"#d8576b\"],[0.6666666666666666,\"#ed7953\"],[0.7777777777777778,\"#fb9f3a\"],[0.8888888888888888,\"#fdca26\"],[1.0,\"#f0f921\"]],\"diverging\":[[0,\"#8e0152\"],[0.1,\"#c51b7d\"],[0.2,\"#de77ae\"],[0.3,\"#f1b6da\"],[0.4,\"#fde0ef\"],[0.5,\"#f7f7f7\"],[0.6,\"#e6f5d0\"],[0.7,\"#b8e186\"],[0.8,\"#7fbc41\"],[0.9,\"#4d9221\"],[1,\"#276419\"]]},\"xaxis\":{\"gridcolor\":\"white\",\"linecolor\":\"white\",\"ticks\":\"\",\"title\":{\"standoff\":15},\"zerolinecolor\":\"white\",\"automargin\":true,\"zerolinewidth\":2},\"yaxis\":{\"gridcolor\":\"white\",\"linecolor\":\"white\",\"ticks\":\"\",\"title\":{\"standoff\":15},\"zerolinecolor\":\"white\",\"automargin\":true,\"zerolinewidth\":2},\"scene\":{\"xaxis\":{\"backgroundcolor\":\"#E5ECF6\",\"gridcolor\":\"white\",\"linecolor\":\"white\",\"showbackground\":true,\"ticks\":\"\",\"zerolinecolor\":\"white\",\"gridwidth\":2},\"yaxis\":{\"backgroundcolor\":\"#E5ECF6\",\"gridcolor\":\"white\",\"linecolor\":\"white\",\"showbackground\":true,\"ticks\":\"\",\"zerolinecolor\":\"white\",\"gridwidth\":2},\"zaxis\":{\"backgroundcolor\":\"#E5ECF6\",\"gridcolor\":\"white\",\"linecolor\":\"white\",\"showbackground\":true,\"ticks\":\"\",\"zerolinecolor\":\"white\",\"gridwidth\":2}},\"shapedefaults\":{\"line\":{\"color\":\"#2a3f5f\"}},\"annotationdefaults\":{\"arrowcolor\":\"#2a3f5f\",\"arrowhead\":0,\"arrowwidth\":1},\"geo\":{\"bgcolor\":\"white\",\"landcolor\":\"#E5ECF6\",\"subunitcolor\":\"white\",\"showland\":true,\"showlakes\":true,\"lakecolor\":\"white\"},\"title\":{\"x\":0.05},\"mapbox\":{\"style\":\"light\"}}}},                        {\"responsive\": true}                    ).then(function(){\n",
       "                            \n",
       "var gd = document.getElementById('9c1e00e9-3237-4f31-a030-81f3fced81c2');\n",
       "var x = new MutationObserver(function (mutations, observer) {{\n",
       "        var display = window.getComputedStyle(gd).display;\n",
       "        if (!display || display === 'none') {{\n",
       "            console.log([gd, 'removed!']);\n",
       "            Plotly.purge(gd);\n",
       "            observer.disconnect();\n",
       "        }}\n",
       "}});\n",
       "\n",
       "// Listen for the removal of the full notebook cells\n",
       "var notebookContainer = gd.closest('#notebook-container');\n",
       "if (notebookContainer) {{\n",
       "    x.observe(notebookContainer, {childList: true});\n",
       "}}\n",
       "\n",
       "// Listen for the clearing of the current output cell\n",
       "var outputEl = gd.closest('.output');\n",
       "if (outputEl) {{\n",
       "    x.observe(outputEl, {childList: true});\n",
       "}}\n",
       "\n",
       "                        })                };                });            </script>        </div>"
      ]
     },
     "metadata": {},
     "output_type": "display_data"
    },
    {
     "data": {
      "text/plain": [
       "'https://plotly.com/~Kvothe_v1/5/'"
      ]
     },
     "execution_count": 564,
     "metadata": {},
     "output_type": "execute_result"
    }
   ],
   "source": [
    "# Now we just adjust the parameters of the previous scatter plot to show away numbers in the 2021 season\n",
    "away_21 = go.Scatter(x=away_shootin_stats_21['SoT'], y=away_shootin_stats_21['GF'], mode='markers',\n",
    "                   text=away_shootin_stats_21.index.get_level_values('Team'),\n",
    "                   marker={'size': 35 * away_shootin_stats_21['Efficiency'],\n",
    "                           'color':away_shootin_stats_21['Efficiency'],'colorscale': 'haline', 'showscale':True})\n",
    "                              #To have the points vary based on efficiency\n",
    "# create a layout for the plot\n",
    "away_layout_21 = go.Layout(title='Goals Scored vs. Shots on Target away from Home (2021 Season)',\n",
    "                   xaxis={'title': 'Shots on Target'},\n",
    "                   yaxis={'title': 'Goals Scored'})\n",
    "\n",
    "# To show our plot\n",
    "shot_AwayStats_21 = go.Figure(data=[away_21], layout=away_layout_21)\n",
    "shot_AwayStats_21.show()\n",
    "py.plot(shot_AwayStats_21, filename='ShotsvsGoals_Away_Stats_21.html', auto_open=False)"
   ]
  },
  {
   "cell_type": "code",
   "execution_count": 565,
   "id": "1a16883c",
   "metadata": {},
   "outputs": [
    {
     "data": {
      "application/vnd.plotly.v1+json": {
       "config": {
        "plotlyServerURL": "https://plotly.com"
       },
       "data": [
        {
         "marker": {
          "color": [
           0.32710280373831774,
           0.3411764705882353,
           0.30985915492957744,
           0.3064516129032258,
           0.2571428571428571,
           0.3394495412844037,
           0.35526315789473684,
           0.3698630136986301,
           0.27941176470588236,
           0.37777777777777777,
           0.3888888888888889,
           0.4715447154471545,
           0.3368421052631579,
           0.3561643835616438,
           0.2,
           0.27380952380952384,
           0.41304347826086957,
           0.25757575757575757,
           0.42857142857142855,
           0.29411764705882354
          ],
          "colorscale": [
           [
            0,
            "rgb(41, 24, 107)"
           ],
           [
            0.09090909090909091,
            "rgb(42, 35, 160)"
           ],
           [
            0.18181818181818182,
            "rgb(15, 71, 153)"
           ],
           [
            0.2727272727272727,
            "rgb(18, 95, 142)"
           ],
           [
            0.36363636363636365,
            "rgb(38, 116, 137)"
           ],
           [
            0.45454545454545453,
            "rgb(53, 136, 136)"
           ],
           [
            0.5454545454545454,
            "rgb(65, 157, 133)"
           ],
           [
            0.6363636363636364,
            "rgb(81, 178, 124)"
           ],
           [
            0.7272727272727273,
            "rgb(111, 198, 107)"
           ],
           [
            0.8181818181818182,
            "rgb(160, 214, 91)"
           ],
           [
            0.9090909090909091,
            "rgb(212, 225, 112)"
           ],
           [
            1,
            "rgb(253, 238, 153)"
           ]
          ],
          "showscale": true,
          "size": [
           11.448598130841122,
           11.941176470588236,
           10.84507042253521,
           10.725806451612904,
           9,
           11.880733944954128,
           12.43421052631579,
           12.945205479452055,
           9.779411764705882,
           13.222222222222221,
           13.61111111111111,
           16.504065040650406,
           11.789473684210526,
           12.465753424657533,
           7,
           9.583333333333334,
           14.456521739130435,
           9.015151515151516,
           15,
           10.294117647058824
          ]
         },
         "mode": "markers",
         "text": [
          "Arsenal",
          "Aston Villa",
          "Brentford",
          "Brighton and Hove Albion",
          "Burnley",
          "Chelsea",
          "Crystal Palace",
          "Everton",
          "Leeds United",
          "Leicester City",
          "Liverpool",
          "Manchester City",
          "Manchester United",
          "Newcastle United",
          "Norwich City",
          "Southampton",
          "Tottenham Hotspur",
          "Watford",
          "West Ham United",
          "Wolverhampton Wanderers"
         ],
         "type": "scatter",
         "x": [
          107,
          85,
          71,
          62,
          70,
          109,
          76,
          73,
          68,
          90,
          126,
          123,
          95,
          73,
          60,
          84,
          92,
          66,
          77,
          68
         ],
         "y": [
          35,
          29,
          22,
          19,
          18,
          37,
          27,
          27,
          19,
          34,
          49,
          58,
          32,
          26,
          12,
          23,
          38,
          17,
          33,
          20
         ]
        }
       ],
       "layout": {
        "template": {
         "data": {
          "bar": [
           {
            "error_x": {
             "color": "#2a3f5f"
            },
            "error_y": {
             "color": "#2a3f5f"
            },
            "marker": {
             "line": {
              "color": "#E5ECF6",
              "width": 0.5
             },
             "pattern": {
              "fillmode": "overlay",
              "size": 10,
              "solidity": 0.2
             }
            },
            "type": "bar"
           }
          ],
          "barpolar": [
           {
            "marker": {
             "line": {
              "color": "#E5ECF6",
              "width": 0.5
             },
             "pattern": {
              "fillmode": "overlay",
              "size": 10,
              "solidity": 0.2
             }
            },
            "type": "barpolar"
           }
          ],
          "carpet": [
           {
            "aaxis": {
             "endlinecolor": "#2a3f5f",
             "gridcolor": "white",
             "linecolor": "white",
             "minorgridcolor": "white",
             "startlinecolor": "#2a3f5f"
            },
            "baxis": {
             "endlinecolor": "#2a3f5f",
             "gridcolor": "white",
             "linecolor": "white",
             "minorgridcolor": "white",
             "startlinecolor": "#2a3f5f"
            },
            "type": "carpet"
           }
          ],
          "choropleth": [
           {
            "colorbar": {
             "outlinewidth": 0,
             "ticks": ""
            },
            "type": "choropleth"
           }
          ],
          "contour": [
           {
            "colorbar": {
             "outlinewidth": 0,
             "ticks": ""
            },
            "colorscale": [
             [
              0,
              "#0d0887"
             ],
             [
              0.1111111111111111,
              "#46039f"
             ],
             [
              0.2222222222222222,
              "#7201a8"
             ],
             [
              0.3333333333333333,
              "#9c179e"
             ],
             [
              0.4444444444444444,
              "#bd3786"
             ],
             [
              0.5555555555555556,
              "#d8576b"
             ],
             [
              0.6666666666666666,
              "#ed7953"
             ],
             [
              0.7777777777777778,
              "#fb9f3a"
             ],
             [
              0.8888888888888888,
              "#fdca26"
             ],
             [
              1,
              "#f0f921"
             ]
            ],
            "type": "contour"
           }
          ],
          "contourcarpet": [
           {
            "colorbar": {
             "outlinewidth": 0,
             "ticks": ""
            },
            "type": "contourcarpet"
           }
          ],
          "heatmap": [
           {
            "colorbar": {
             "outlinewidth": 0,
             "ticks": ""
            },
            "colorscale": [
             [
              0,
              "#0d0887"
             ],
             [
              0.1111111111111111,
              "#46039f"
             ],
             [
              0.2222222222222222,
              "#7201a8"
             ],
             [
              0.3333333333333333,
              "#9c179e"
             ],
             [
              0.4444444444444444,
              "#bd3786"
             ],
             [
              0.5555555555555556,
              "#d8576b"
             ],
             [
              0.6666666666666666,
              "#ed7953"
             ],
             [
              0.7777777777777778,
              "#fb9f3a"
             ],
             [
              0.8888888888888888,
              "#fdca26"
             ],
             [
              1,
              "#f0f921"
             ]
            ],
            "type": "heatmap"
           }
          ],
          "heatmapgl": [
           {
            "colorbar": {
             "outlinewidth": 0,
             "ticks": ""
            },
            "colorscale": [
             [
              0,
              "#0d0887"
             ],
             [
              0.1111111111111111,
              "#46039f"
             ],
             [
              0.2222222222222222,
              "#7201a8"
             ],
             [
              0.3333333333333333,
              "#9c179e"
             ],
             [
              0.4444444444444444,
              "#bd3786"
             ],
             [
              0.5555555555555556,
              "#d8576b"
             ],
             [
              0.6666666666666666,
              "#ed7953"
             ],
             [
              0.7777777777777778,
              "#fb9f3a"
             ],
             [
              0.8888888888888888,
              "#fdca26"
             ],
             [
              1,
              "#f0f921"
             ]
            ],
            "type": "heatmapgl"
           }
          ],
          "histogram": [
           {
            "marker": {
             "pattern": {
              "fillmode": "overlay",
              "size": 10,
              "solidity": 0.2
             }
            },
            "type": "histogram"
           }
          ],
          "histogram2d": [
           {
            "colorbar": {
             "outlinewidth": 0,
             "ticks": ""
            },
            "colorscale": [
             [
              0,
              "#0d0887"
             ],
             [
              0.1111111111111111,
              "#46039f"
             ],
             [
              0.2222222222222222,
              "#7201a8"
             ],
             [
              0.3333333333333333,
              "#9c179e"
             ],
             [
              0.4444444444444444,
              "#bd3786"
             ],
             [
              0.5555555555555556,
              "#d8576b"
             ],
             [
              0.6666666666666666,
              "#ed7953"
             ],
             [
              0.7777777777777778,
              "#fb9f3a"
             ],
             [
              0.8888888888888888,
              "#fdca26"
             ],
             [
              1,
              "#f0f921"
             ]
            ],
            "type": "histogram2d"
           }
          ],
          "histogram2dcontour": [
           {
            "colorbar": {
             "outlinewidth": 0,
             "ticks": ""
            },
            "colorscale": [
             [
              0,
              "#0d0887"
             ],
             [
              0.1111111111111111,
              "#46039f"
             ],
             [
              0.2222222222222222,
              "#7201a8"
             ],
             [
              0.3333333333333333,
              "#9c179e"
             ],
             [
              0.4444444444444444,
              "#bd3786"
             ],
             [
              0.5555555555555556,
              "#d8576b"
             ],
             [
              0.6666666666666666,
              "#ed7953"
             ],
             [
              0.7777777777777778,
              "#fb9f3a"
             ],
             [
              0.8888888888888888,
              "#fdca26"
             ],
             [
              1,
              "#f0f921"
             ]
            ],
            "type": "histogram2dcontour"
           }
          ],
          "mesh3d": [
           {
            "colorbar": {
             "outlinewidth": 0,
             "ticks": ""
            },
            "type": "mesh3d"
           }
          ],
          "parcoords": [
           {
            "line": {
             "colorbar": {
              "outlinewidth": 0,
              "ticks": ""
             }
            },
            "type": "parcoords"
           }
          ],
          "pie": [
           {
            "automargin": true,
            "type": "pie"
           }
          ],
          "scatter": [
           {
            "fillpattern": {
             "fillmode": "overlay",
             "size": 10,
             "solidity": 0.2
            },
            "type": "scatter"
           }
          ],
          "scatter3d": [
           {
            "line": {
             "colorbar": {
              "outlinewidth": 0,
              "ticks": ""
             }
            },
            "marker": {
             "colorbar": {
              "outlinewidth": 0,
              "ticks": ""
             }
            },
            "type": "scatter3d"
           }
          ],
          "scattercarpet": [
           {
            "marker": {
             "colorbar": {
              "outlinewidth": 0,
              "ticks": ""
             }
            },
            "type": "scattercarpet"
           }
          ],
          "scattergeo": [
           {
            "marker": {
             "colorbar": {
              "outlinewidth": 0,
              "ticks": ""
             }
            },
            "type": "scattergeo"
           }
          ],
          "scattergl": [
           {
            "marker": {
             "colorbar": {
              "outlinewidth": 0,
              "ticks": ""
             }
            },
            "type": "scattergl"
           }
          ],
          "scattermapbox": [
           {
            "marker": {
             "colorbar": {
              "outlinewidth": 0,
              "ticks": ""
             }
            },
            "type": "scattermapbox"
           }
          ],
          "scatterpolar": [
           {
            "marker": {
             "colorbar": {
              "outlinewidth": 0,
              "ticks": ""
             }
            },
            "type": "scatterpolar"
           }
          ],
          "scatterpolargl": [
           {
            "marker": {
             "colorbar": {
              "outlinewidth": 0,
              "ticks": ""
             }
            },
            "type": "scatterpolargl"
           }
          ],
          "scatterternary": [
           {
            "marker": {
             "colorbar": {
              "outlinewidth": 0,
              "ticks": ""
             }
            },
            "type": "scatterternary"
           }
          ],
          "surface": [
           {
            "colorbar": {
             "outlinewidth": 0,
             "ticks": ""
            },
            "colorscale": [
             [
              0,
              "#0d0887"
             ],
             [
              0.1111111111111111,
              "#46039f"
             ],
             [
              0.2222222222222222,
              "#7201a8"
             ],
             [
              0.3333333333333333,
              "#9c179e"
             ],
             [
              0.4444444444444444,
              "#bd3786"
             ],
             [
              0.5555555555555556,
              "#d8576b"
             ],
             [
              0.6666666666666666,
              "#ed7953"
             ],
             [
              0.7777777777777778,
              "#fb9f3a"
             ],
             [
              0.8888888888888888,
              "#fdca26"
             ],
             [
              1,
              "#f0f921"
             ]
            ],
            "type": "surface"
           }
          ],
          "table": [
           {
            "cells": {
             "fill": {
              "color": "#EBF0F8"
             },
             "line": {
              "color": "white"
             }
            },
            "header": {
             "fill": {
              "color": "#C8D4E3"
             },
             "line": {
              "color": "white"
             }
            },
            "type": "table"
           }
          ]
         },
         "layout": {
          "annotationdefaults": {
           "arrowcolor": "#2a3f5f",
           "arrowhead": 0,
           "arrowwidth": 1
          },
          "autotypenumbers": "strict",
          "coloraxis": {
           "colorbar": {
            "outlinewidth": 0,
            "ticks": ""
           }
          },
          "colorscale": {
           "diverging": [
            [
             0,
             "#8e0152"
            ],
            [
             0.1,
             "#c51b7d"
            ],
            [
             0.2,
             "#de77ae"
            ],
            [
             0.3,
             "#f1b6da"
            ],
            [
             0.4,
             "#fde0ef"
            ],
            [
             0.5,
             "#f7f7f7"
            ],
            [
             0.6,
             "#e6f5d0"
            ],
            [
             0.7,
             "#b8e186"
            ],
            [
             0.8,
             "#7fbc41"
            ],
            [
             0.9,
             "#4d9221"
            ],
            [
             1,
             "#276419"
            ]
           ],
           "sequential": [
            [
             0,
             "#0d0887"
            ],
            [
             0.1111111111111111,
             "#46039f"
            ],
            [
             0.2222222222222222,
             "#7201a8"
            ],
            [
             0.3333333333333333,
             "#9c179e"
            ],
            [
             0.4444444444444444,
             "#bd3786"
            ],
            [
             0.5555555555555556,
             "#d8576b"
            ],
            [
             0.6666666666666666,
             "#ed7953"
            ],
            [
             0.7777777777777778,
             "#fb9f3a"
            ],
            [
             0.8888888888888888,
             "#fdca26"
            ],
            [
             1,
             "#f0f921"
            ]
           ],
           "sequentialminus": [
            [
             0,
             "#0d0887"
            ],
            [
             0.1111111111111111,
             "#46039f"
            ],
            [
             0.2222222222222222,
             "#7201a8"
            ],
            [
             0.3333333333333333,
             "#9c179e"
            ],
            [
             0.4444444444444444,
             "#bd3786"
            ],
            [
             0.5555555555555556,
             "#d8576b"
            ],
            [
             0.6666666666666666,
             "#ed7953"
            ],
            [
             0.7777777777777778,
             "#fb9f3a"
            ],
            [
             0.8888888888888888,
             "#fdca26"
            ],
            [
             1,
             "#f0f921"
            ]
           ]
          },
          "colorway": [
           "#636efa",
           "#EF553B",
           "#00cc96",
           "#ab63fa",
           "#FFA15A",
           "#19d3f3",
           "#FF6692",
           "#B6E880",
           "#FF97FF",
           "#FECB52"
          ],
          "font": {
           "color": "#2a3f5f"
          },
          "geo": {
           "bgcolor": "white",
           "lakecolor": "white",
           "landcolor": "#E5ECF6",
           "showlakes": true,
           "showland": true,
           "subunitcolor": "white"
          },
          "hoverlabel": {
           "align": "left"
          },
          "hovermode": "closest",
          "mapbox": {
           "style": "light"
          },
          "paper_bgcolor": "white",
          "plot_bgcolor": "#E5ECF6",
          "polar": {
           "angularaxis": {
            "gridcolor": "white",
            "linecolor": "white",
            "ticks": ""
           },
           "bgcolor": "#E5ECF6",
           "radialaxis": {
            "gridcolor": "white",
            "linecolor": "white",
            "ticks": ""
           }
          },
          "scene": {
           "xaxis": {
            "backgroundcolor": "#E5ECF6",
            "gridcolor": "white",
            "gridwidth": 2,
            "linecolor": "white",
            "showbackground": true,
            "ticks": "",
            "zerolinecolor": "white"
           },
           "yaxis": {
            "backgroundcolor": "#E5ECF6",
            "gridcolor": "white",
            "gridwidth": 2,
            "linecolor": "white",
            "showbackground": true,
            "ticks": "",
            "zerolinecolor": "white"
           },
           "zaxis": {
            "backgroundcolor": "#E5ECF6",
            "gridcolor": "white",
            "gridwidth": 2,
            "linecolor": "white",
            "showbackground": true,
            "ticks": "",
            "zerolinecolor": "white"
           }
          },
          "shapedefaults": {
           "line": {
            "color": "#2a3f5f"
           }
          },
          "ternary": {
           "aaxis": {
            "gridcolor": "white",
            "linecolor": "white",
            "ticks": ""
           },
           "baxis": {
            "gridcolor": "white",
            "linecolor": "white",
            "ticks": ""
           },
           "bgcolor": "#E5ECF6",
           "caxis": {
            "gridcolor": "white",
            "linecolor": "white",
            "ticks": ""
           }
          },
          "title": {
           "x": 0.05
          },
          "xaxis": {
           "automargin": true,
           "gridcolor": "white",
           "linecolor": "white",
           "ticks": "",
           "title": {
            "standoff": 15
           },
           "zerolinecolor": "white",
           "zerolinewidth": 2
          },
          "yaxis": {
           "automargin": true,
           "gridcolor": "white",
           "linecolor": "white",
           "ticks": "",
           "title": {
            "standoff": 15
           },
           "zerolinecolor": "white",
           "zerolinewidth": 2
          }
         }
        },
        "title": {
         "text": "Goals Scored vs. Shots on Target at Home (2021 Season)"
        },
        "xaxis": {
         "title": {
          "text": "Shots on Target"
         }
        },
        "yaxis": {
         "title": {
          "text": "Goals Scored"
         }
        }
       }
      },
      "text/html": [
       "<div>                            <div id=\"0fc35bf0-a21f-4244-a32f-6462252c7242\" class=\"plotly-graph-div\" style=\"height:525px; width:100%;\"></div>            <script type=\"text/javascript\">                require([\"plotly\"], function(Plotly) {                    window.PLOTLYENV=window.PLOTLYENV || {};                                    if (document.getElementById(\"0fc35bf0-a21f-4244-a32f-6462252c7242\")) {                    Plotly.newPlot(                        \"0fc35bf0-a21f-4244-a32f-6462252c7242\",                        [{\"marker\":{\"color\":[0.32710280373831774,0.3411764705882353,0.30985915492957744,0.3064516129032258,0.2571428571428571,0.3394495412844037,0.35526315789473684,0.3698630136986301,0.27941176470588236,0.37777777777777777,0.3888888888888889,0.4715447154471545,0.3368421052631579,0.3561643835616438,0.2,0.27380952380952384,0.41304347826086957,0.25757575757575757,0.42857142857142855,0.29411764705882354],\"colorscale\":[[0.0,\"rgb(41, 24, 107)\"],[0.09090909090909091,\"rgb(42, 35, 160)\"],[0.18181818181818182,\"rgb(15, 71, 153)\"],[0.2727272727272727,\"rgb(18, 95, 142)\"],[0.36363636363636365,\"rgb(38, 116, 137)\"],[0.45454545454545453,\"rgb(53, 136, 136)\"],[0.5454545454545454,\"rgb(65, 157, 133)\"],[0.6363636363636364,\"rgb(81, 178, 124)\"],[0.7272727272727273,\"rgb(111, 198, 107)\"],[0.8181818181818182,\"rgb(160, 214, 91)\"],[0.9090909090909091,\"rgb(212, 225, 112)\"],[1.0,\"rgb(253, 238, 153)\"]],\"showscale\":true,\"size\":[11.448598130841122,11.941176470588236,10.84507042253521,10.725806451612904,9.0,11.880733944954128,12.43421052631579,12.945205479452055,9.779411764705882,13.222222222222221,13.61111111111111,16.504065040650406,11.789473684210526,12.465753424657533,7.0,9.583333333333334,14.456521739130435,9.015151515151516,15.0,10.294117647058824]},\"mode\":\"markers\",\"text\":[\"Arsenal\",\"Aston Villa\",\"Brentford\",\"Brighton and Hove Albion\",\"Burnley\",\"Chelsea\",\"Crystal Palace\",\"Everton\",\"Leeds United\",\"Leicester City\",\"Liverpool\",\"Manchester City\",\"Manchester United\",\"Newcastle United\",\"Norwich City\",\"Southampton\",\"Tottenham Hotspur\",\"Watford\",\"West Ham United\",\"Wolverhampton Wanderers\"],\"x\":[107.0,85.0,71.0,62.0,70.0,109.0,76.0,73.0,68.0,90.0,126.0,123.0,95.0,73.0,60.0,84.0,92.0,66.0,77.0,68.0],\"y\":[35.0,29.0,22.0,19.0,18.0,37.0,27.0,27.0,19.0,34.0,49.0,58.0,32.0,26.0,12.0,23.0,38.0,17.0,33.0,20.0],\"type\":\"scatter\"}],                        {\"title\":{\"text\":\"Goals Scored vs. Shots on Target at Home (2021 Season)\"},\"xaxis\":{\"title\":{\"text\":\"Shots on Target\"}},\"yaxis\":{\"title\":{\"text\":\"Goals Scored\"}},\"template\":{\"data\":{\"histogram2dcontour\":[{\"type\":\"histogram2dcontour\",\"colorbar\":{\"outlinewidth\":0,\"ticks\":\"\"},\"colorscale\":[[0.0,\"#0d0887\"],[0.1111111111111111,\"#46039f\"],[0.2222222222222222,\"#7201a8\"],[0.3333333333333333,\"#9c179e\"],[0.4444444444444444,\"#bd3786\"],[0.5555555555555556,\"#d8576b\"],[0.6666666666666666,\"#ed7953\"],[0.7777777777777778,\"#fb9f3a\"],[0.8888888888888888,\"#fdca26\"],[1.0,\"#f0f921\"]]}],\"choropleth\":[{\"type\":\"choropleth\",\"colorbar\":{\"outlinewidth\":0,\"ticks\":\"\"}}],\"histogram2d\":[{\"type\":\"histogram2d\",\"colorbar\":{\"outlinewidth\":0,\"ticks\":\"\"},\"colorscale\":[[0.0,\"#0d0887\"],[0.1111111111111111,\"#46039f\"],[0.2222222222222222,\"#7201a8\"],[0.3333333333333333,\"#9c179e\"],[0.4444444444444444,\"#bd3786\"],[0.5555555555555556,\"#d8576b\"],[0.6666666666666666,\"#ed7953\"],[0.7777777777777778,\"#fb9f3a\"],[0.8888888888888888,\"#fdca26\"],[1.0,\"#f0f921\"]]}],\"heatmap\":[{\"type\":\"heatmap\",\"colorbar\":{\"outlinewidth\":0,\"ticks\":\"\"},\"colorscale\":[[0.0,\"#0d0887\"],[0.1111111111111111,\"#46039f\"],[0.2222222222222222,\"#7201a8\"],[0.3333333333333333,\"#9c179e\"],[0.4444444444444444,\"#bd3786\"],[0.5555555555555556,\"#d8576b\"],[0.6666666666666666,\"#ed7953\"],[0.7777777777777778,\"#fb9f3a\"],[0.8888888888888888,\"#fdca26\"],[1.0,\"#f0f921\"]]}],\"heatmapgl\":[{\"type\":\"heatmapgl\",\"colorbar\":{\"outlinewidth\":0,\"ticks\":\"\"},\"colorscale\":[[0.0,\"#0d0887\"],[0.1111111111111111,\"#46039f\"],[0.2222222222222222,\"#7201a8\"],[0.3333333333333333,\"#9c179e\"],[0.4444444444444444,\"#bd3786\"],[0.5555555555555556,\"#d8576b\"],[0.6666666666666666,\"#ed7953\"],[0.7777777777777778,\"#fb9f3a\"],[0.8888888888888888,\"#fdca26\"],[1.0,\"#f0f921\"]]}],\"contourcarpet\":[{\"type\":\"contourcarpet\",\"colorbar\":{\"outlinewidth\":0,\"ticks\":\"\"}}],\"contour\":[{\"type\":\"contour\",\"colorbar\":{\"outlinewidth\":0,\"ticks\":\"\"},\"colorscale\":[[0.0,\"#0d0887\"],[0.1111111111111111,\"#46039f\"],[0.2222222222222222,\"#7201a8\"],[0.3333333333333333,\"#9c179e\"],[0.4444444444444444,\"#bd3786\"],[0.5555555555555556,\"#d8576b\"],[0.6666666666666666,\"#ed7953\"],[0.7777777777777778,\"#fb9f3a\"],[0.8888888888888888,\"#fdca26\"],[1.0,\"#f0f921\"]]}],\"surface\":[{\"type\":\"surface\",\"colorbar\":{\"outlinewidth\":0,\"ticks\":\"\"},\"colorscale\":[[0.0,\"#0d0887\"],[0.1111111111111111,\"#46039f\"],[0.2222222222222222,\"#7201a8\"],[0.3333333333333333,\"#9c179e\"],[0.4444444444444444,\"#bd3786\"],[0.5555555555555556,\"#d8576b\"],[0.6666666666666666,\"#ed7953\"],[0.7777777777777778,\"#fb9f3a\"],[0.8888888888888888,\"#fdca26\"],[1.0,\"#f0f921\"]]}],\"mesh3d\":[{\"type\":\"mesh3d\",\"colorbar\":{\"outlinewidth\":0,\"ticks\":\"\"}}],\"scatter\":[{\"fillpattern\":{\"fillmode\":\"overlay\",\"size\":10,\"solidity\":0.2},\"type\":\"scatter\"}],\"parcoords\":[{\"type\":\"parcoords\",\"line\":{\"colorbar\":{\"outlinewidth\":0,\"ticks\":\"\"}}}],\"scatterpolargl\":[{\"type\":\"scatterpolargl\",\"marker\":{\"colorbar\":{\"outlinewidth\":0,\"ticks\":\"\"}}}],\"bar\":[{\"error_x\":{\"color\":\"#2a3f5f\"},\"error_y\":{\"color\":\"#2a3f5f\"},\"marker\":{\"line\":{\"color\":\"#E5ECF6\",\"width\":0.5},\"pattern\":{\"fillmode\":\"overlay\",\"size\":10,\"solidity\":0.2}},\"type\":\"bar\"}],\"scattergeo\":[{\"type\":\"scattergeo\",\"marker\":{\"colorbar\":{\"outlinewidth\":0,\"ticks\":\"\"}}}],\"scatterpolar\":[{\"type\":\"scatterpolar\",\"marker\":{\"colorbar\":{\"outlinewidth\":0,\"ticks\":\"\"}}}],\"histogram\":[{\"marker\":{\"pattern\":{\"fillmode\":\"overlay\",\"size\":10,\"solidity\":0.2}},\"type\":\"histogram\"}],\"scattergl\":[{\"type\":\"scattergl\",\"marker\":{\"colorbar\":{\"outlinewidth\":0,\"ticks\":\"\"}}}],\"scatter3d\":[{\"type\":\"scatter3d\",\"line\":{\"colorbar\":{\"outlinewidth\":0,\"ticks\":\"\"}},\"marker\":{\"colorbar\":{\"outlinewidth\":0,\"ticks\":\"\"}}}],\"scattermapbox\":[{\"type\":\"scattermapbox\",\"marker\":{\"colorbar\":{\"outlinewidth\":0,\"ticks\":\"\"}}}],\"scatterternary\":[{\"type\":\"scatterternary\",\"marker\":{\"colorbar\":{\"outlinewidth\":0,\"ticks\":\"\"}}}],\"scattercarpet\":[{\"type\":\"scattercarpet\",\"marker\":{\"colorbar\":{\"outlinewidth\":0,\"ticks\":\"\"}}}],\"carpet\":[{\"aaxis\":{\"endlinecolor\":\"#2a3f5f\",\"gridcolor\":\"white\",\"linecolor\":\"white\",\"minorgridcolor\":\"white\",\"startlinecolor\":\"#2a3f5f\"},\"baxis\":{\"endlinecolor\":\"#2a3f5f\",\"gridcolor\":\"white\",\"linecolor\":\"white\",\"minorgridcolor\":\"white\",\"startlinecolor\":\"#2a3f5f\"},\"type\":\"carpet\"}],\"table\":[{\"cells\":{\"fill\":{\"color\":\"#EBF0F8\"},\"line\":{\"color\":\"white\"}},\"header\":{\"fill\":{\"color\":\"#C8D4E3\"},\"line\":{\"color\":\"white\"}},\"type\":\"table\"}],\"barpolar\":[{\"marker\":{\"line\":{\"color\":\"#E5ECF6\",\"width\":0.5},\"pattern\":{\"fillmode\":\"overlay\",\"size\":10,\"solidity\":0.2}},\"type\":\"barpolar\"}],\"pie\":[{\"automargin\":true,\"type\":\"pie\"}]},\"layout\":{\"autotypenumbers\":\"strict\",\"colorway\":[\"#636efa\",\"#EF553B\",\"#00cc96\",\"#ab63fa\",\"#FFA15A\",\"#19d3f3\",\"#FF6692\",\"#B6E880\",\"#FF97FF\",\"#FECB52\"],\"font\":{\"color\":\"#2a3f5f\"},\"hovermode\":\"closest\",\"hoverlabel\":{\"align\":\"left\"},\"paper_bgcolor\":\"white\",\"plot_bgcolor\":\"#E5ECF6\",\"polar\":{\"bgcolor\":\"#E5ECF6\",\"angularaxis\":{\"gridcolor\":\"white\",\"linecolor\":\"white\",\"ticks\":\"\"},\"radialaxis\":{\"gridcolor\":\"white\",\"linecolor\":\"white\",\"ticks\":\"\"}},\"ternary\":{\"bgcolor\":\"#E5ECF6\",\"aaxis\":{\"gridcolor\":\"white\",\"linecolor\":\"white\",\"ticks\":\"\"},\"baxis\":{\"gridcolor\":\"white\",\"linecolor\":\"white\",\"ticks\":\"\"},\"caxis\":{\"gridcolor\":\"white\",\"linecolor\":\"white\",\"ticks\":\"\"}},\"coloraxis\":{\"colorbar\":{\"outlinewidth\":0,\"ticks\":\"\"}},\"colorscale\":{\"sequential\":[[0.0,\"#0d0887\"],[0.1111111111111111,\"#46039f\"],[0.2222222222222222,\"#7201a8\"],[0.3333333333333333,\"#9c179e\"],[0.4444444444444444,\"#bd3786\"],[0.5555555555555556,\"#d8576b\"],[0.6666666666666666,\"#ed7953\"],[0.7777777777777778,\"#fb9f3a\"],[0.8888888888888888,\"#fdca26\"],[1.0,\"#f0f921\"]],\"sequentialminus\":[[0.0,\"#0d0887\"],[0.1111111111111111,\"#46039f\"],[0.2222222222222222,\"#7201a8\"],[0.3333333333333333,\"#9c179e\"],[0.4444444444444444,\"#bd3786\"],[0.5555555555555556,\"#d8576b\"],[0.6666666666666666,\"#ed7953\"],[0.7777777777777778,\"#fb9f3a\"],[0.8888888888888888,\"#fdca26\"],[1.0,\"#f0f921\"]],\"diverging\":[[0,\"#8e0152\"],[0.1,\"#c51b7d\"],[0.2,\"#de77ae\"],[0.3,\"#f1b6da\"],[0.4,\"#fde0ef\"],[0.5,\"#f7f7f7\"],[0.6,\"#e6f5d0\"],[0.7,\"#b8e186\"],[0.8,\"#7fbc41\"],[0.9,\"#4d9221\"],[1,\"#276419\"]]},\"xaxis\":{\"gridcolor\":\"white\",\"linecolor\":\"white\",\"ticks\":\"\",\"title\":{\"standoff\":15},\"zerolinecolor\":\"white\",\"automargin\":true,\"zerolinewidth\":2},\"yaxis\":{\"gridcolor\":\"white\",\"linecolor\":\"white\",\"ticks\":\"\",\"title\":{\"standoff\":15},\"zerolinecolor\":\"white\",\"automargin\":true,\"zerolinewidth\":2},\"scene\":{\"xaxis\":{\"backgroundcolor\":\"#E5ECF6\",\"gridcolor\":\"white\",\"linecolor\":\"white\",\"showbackground\":true,\"ticks\":\"\",\"zerolinecolor\":\"white\",\"gridwidth\":2},\"yaxis\":{\"backgroundcolor\":\"#E5ECF6\",\"gridcolor\":\"white\",\"linecolor\":\"white\",\"showbackground\":true,\"ticks\":\"\",\"zerolinecolor\":\"white\",\"gridwidth\":2},\"zaxis\":{\"backgroundcolor\":\"#E5ECF6\",\"gridcolor\":\"white\",\"linecolor\":\"white\",\"showbackground\":true,\"ticks\":\"\",\"zerolinecolor\":\"white\",\"gridwidth\":2}},\"shapedefaults\":{\"line\":{\"color\":\"#2a3f5f\"}},\"annotationdefaults\":{\"arrowcolor\":\"#2a3f5f\",\"arrowhead\":0,\"arrowwidth\":1},\"geo\":{\"bgcolor\":\"white\",\"landcolor\":\"#E5ECF6\",\"subunitcolor\":\"white\",\"showland\":true,\"showlakes\":true,\"lakecolor\":\"white\"},\"title\":{\"x\":0.05},\"mapbox\":{\"style\":\"light\"}}}},                        {\"responsive\": true}                    ).then(function(){\n",
       "                            \n",
       "var gd = document.getElementById('0fc35bf0-a21f-4244-a32f-6462252c7242');\n",
       "var x = new MutationObserver(function (mutations, observer) {{\n",
       "        var display = window.getComputedStyle(gd).display;\n",
       "        if (!display || display === 'none') {{\n",
       "            console.log([gd, 'removed!']);\n",
       "            Plotly.purge(gd);\n",
       "            observer.disconnect();\n",
       "        }}\n",
       "}});\n",
       "\n",
       "// Listen for the removal of the full notebook cells\n",
       "var notebookContainer = gd.closest('#notebook-container');\n",
       "if (notebookContainer) {{\n",
       "    x.observe(notebookContainer, {childList: true});\n",
       "}}\n",
       "\n",
       "// Listen for the clearing of the current output cell\n",
       "var outputEl = gd.closest('.output');\n",
       "if (outputEl) {{\n",
       "    x.observe(outputEl, {childList: true});\n",
       "}}\n",
       "\n",
       "                        })                };                });            </script>        </div>"
      ]
     },
     "metadata": {},
     "output_type": "display_data"
    },
    {
     "data": {
      "text/plain": [
       "'https://plotly.com/~Kvothe_v1/7/'"
      ]
     },
     "execution_count": 565,
     "metadata": {},
     "output_type": "execute_result"
    }
   ],
   "source": [
    "# Now we just adjust the parameters of the previous scatter plot to show home numbers in the 2021 season\n",
    "home_21 = go.Scatter(x=home_shootin_stats_21['SoT'], y=home_shootin_stats_21['GF'], mode='markers',\n",
    "                   text=home_shootin_stats_21.index.get_level_values('Team'),\n",
    "                   marker={'size': 35 * home_shootin_stats_21['Efficiency'],\n",
    "                           'color':home_shootin_stats_21['Efficiency'],'colorscale': 'haline', 'showscale':True})\n",
    "                              #To have the points vary based on efficiency\n",
    "# create a layout for the plot\n",
    "home_layout_21 = go.Layout(title='Goals Scored vs. Shots on Target at Home (2021 Season)',\n",
    "                   xaxis={'title': 'Shots on Target'},\n",
    "                   yaxis={'title': 'Goals Scored'})\n",
    "\n",
    "# To show our plot\n",
    "shot_HomeStats_21 = go.Figure(data=[home_21], layout=home_layout_21)\n",
    "shot_HomeStats_21.show()\n",
    "py.plot(shot_HomeStats_21, filename='ShotsvsGoals_Home_Stats_21.html', auto_open=False)"
   ]
  },
  {
   "cell_type": "code",
   "execution_count": 242,
   "id": "178bc9bc",
   "metadata": {},
   "outputs": [],
   "source": [
    "#Now we simply repeat the above steps for the 2022 season!\n",
    "away_condition2 = ((matches_pr['Venue'] == 'Away')&(matches_pr['Season'] == 2022))\n",
    "away_SS_22 = matches_pr[away_condition2]"
   ]
  },
  {
   "cell_type": "code",
   "execution_count": 243,
   "id": "521fd6ea",
   "metadata": {},
   "outputs": [],
   "source": [
    "home_condition2 = ((matches_pr['Venue'] == 'Home')&(matches_pr['Season'] == 2022))\n",
    "home_SS_22 = matches_pr[home_condition2]"
   ]
  },
  {
   "cell_type": "code",
   "execution_count": 244,
   "id": "8647b574",
   "metadata": {},
   "outputs": [],
   "source": [
    "away_shootin_stats_22 = (away_SS_22.pivot_table(['Sh','SoT','GA','GF','xG','xGA'],\n",
    "                    index=['Team'],aggfunc= 'sum'))\n",
    "away_shootin_stats_22['Efficiency'] = away_shootin_stats_22['GF'] / away_shootin_stats_22['SoT']"
   ]
  },
  {
   "cell_type": "code",
   "execution_count": 245,
   "id": "213b4ec0",
   "metadata": {},
   "outputs": [],
   "source": [
    "home_shootin_stats_22 = (home_SS_22.pivot_table(['Sh','SoT','GA','GF','xG','xGA'],\n",
    "                    index=['Team'],aggfunc= 'sum'))\n",
    "home_shootin_stats_22['Efficiency'] = home_shootin_stats_22['GF'] / home_shootin_stats_22['SoT']"
   ]
  },
  {
   "cell_type": "code",
   "execution_count": 566,
   "id": "bc4e0b8a",
   "metadata": {},
   "outputs": [
    {
     "data": {
      "application/vnd.plotly.v1+json": {
       "config": {
        "plotlyServerURL": "https://plotly.com"
       },
       "data": [
        {
         "marker": {
          "color": [
           0.4897959183673469,
           0.25,
           0.2777777777777778,
           0.3611111111111111,
           0.41509433962264153,
           0.19607843137254902,
           0.21951219512195122,
           0.20689655172413793,
           0.375,
           0.325,
           0.42,
           0.22807017543859648,
           0.3064516129032258,
           0.29310344827586204,
           0.32653061224489793,
           0.13636363636363635,
           0.25,
           0.39215686274509803,
           0.22580645161290322,
           0.22857142857142856
          ],
          "colorscale": [
           [
            0,
            "rgb(41, 24, 107)"
           ],
           [
            0.09090909090909091,
            "rgb(42, 35, 160)"
           ],
           [
            0.18181818181818182,
            "rgb(15, 71, 153)"
           ],
           [
            0.2727272727272727,
            "rgb(18, 95, 142)"
           ],
           [
            0.36363636363636365,
            "rgb(38, 116, 137)"
           ],
           [
            0.45454545454545453,
            "rgb(53, 136, 136)"
           ],
           [
            0.5454545454545454,
            "rgb(65, 157, 133)"
           ],
           [
            0.6363636363636364,
            "rgb(81, 178, 124)"
           ],
           [
            0.7272727272727273,
            "rgb(111, 198, 107)"
           ],
           [
            0.8181818181818182,
            "rgb(160, 214, 91)"
           ],
           [
            0.9090909090909091,
            "rgb(212, 225, 112)"
           ],
           [
            1,
            "rgb(253, 238, 153)"
           ]
          ],
          "showscale": true,
          "size": [
           17.142857142857142,
           8.75,
           9.722222222222223,
           12.63888888888889,
           14.528301886792454,
           6.862745098039215,
           7.682926829268292,
           7.241379310344827,
           13.125,
           11.375,
           14.7,
           7.982456140350877,
           10.725806451612904,
           10.25862068965517,
           11.428571428571427,
           4.7727272727272725,
           8.75,
           13.72549019607843,
           7.903225806451613,
           8
          ]
         },
         "mode": "markers",
         "text": [
          "Arsenal",
          "Aston Villa",
          "Bournemouth",
          "Brentford",
          "Brighton and Hove Albion",
          "Chelsea",
          "Crystal Palace",
          "Everton",
          "Fulham",
          "Leeds United",
          "Leicester City",
          "Liverpool",
          "Manchester City",
          "Manchester United",
          "Newcastle United",
          "Nottingham Forest",
          "Southampton",
          "Tottenham Hotspur",
          "West Ham United",
          "Wolverhampton Wanderers"
         ],
         "type": "scatter",
         "x": [
          49,
          36,
          36,
          36,
          53,
          51,
          41,
          29,
          40,
          40,
          50,
          57,
          62,
          58,
          49,
          22,
          36,
          51,
          31,
          35
         ],
         "y": [
          24,
          9,
          10,
          13,
          22,
          10,
          9,
          6,
          15,
          13,
          21,
          13,
          19,
          17,
          16,
          3,
          9,
          20,
          7,
          8
         ]
        }
       ],
       "layout": {
        "template": {
         "data": {
          "bar": [
           {
            "error_x": {
             "color": "#2a3f5f"
            },
            "error_y": {
             "color": "#2a3f5f"
            },
            "marker": {
             "line": {
              "color": "#E5ECF6",
              "width": 0.5
             },
             "pattern": {
              "fillmode": "overlay",
              "size": 10,
              "solidity": 0.2
             }
            },
            "type": "bar"
           }
          ],
          "barpolar": [
           {
            "marker": {
             "line": {
              "color": "#E5ECF6",
              "width": 0.5
             },
             "pattern": {
              "fillmode": "overlay",
              "size": 10,
              "solidity": 0.2
             }
            },
            "type": "barpolar"
           }
          ],
          "carpet": [
           {
            "aaxis": {
             "endlinecolor": "#2a3f5f",
             "gridcolor": "white",
             "linecolor": "white",
             "minorgridcolor": "white",
             "startlinecolor": "#2a3f5f"
            },
            "baxis": {
             "endlinecolor": "#2a3f5f",
             "gridcolor": "white",
             "linecolor": "white",
             "minorgridcolor": "white",
             "startlinecolor": "#2a3f5f"
            },
            "type": "carpet"
           }
          ],
          "choropleth": [
           {
            "colorbar": {
             "outlinewidth": 0,
             "ticks": ""
            },
            "type": "choropleth"
           }
          ],
          "contour": [
           {
            "colorbar": {
             "outlinewidth": 0,
             "ticks": ""
            },
            "colorscale": [
             [
              0,
              "#0d0887"
             ],
             [
              0.1111111111111111,
              "#46039f"
             ],
             [
              0.2222222222222222,
              "#7201a8"
             ],
             [
              0.3333333333333333,
              "#9c179e"
             ],
             [
              0.4444444444444444,
              "#bd3786"
             ],
             [
              0.5555555555555556,
              "#d8576b"
             ],
             [
              0.6666666666666666,
              "#ed7953"
             ],
             [
              0.7777777777777778,
              "#fb9f3a"
             ],
             [
              0.8888888888888888,
              "#fdca26"
             ],
             [
              1,
              "#f0f921"
             ]
            ],
            "type": "contour"
           }
          ],
          "contourcarpet": [
           {
            "colorbar": {
             "outlinewidth": 0,
             "ticks": ""
            },
            "type": "contourcarpet"
           }
          ],
          "heatmap": [
           {
            "colorbar": {
             "outlinewidth": 0,
             "ticks": ""
            },
            "colorscale": [
             [
              0,
              "#0d0887"
             ],
             [
              0.1111111111111111,
              "#46039f"
             ],
             [
              0.2222222222222222,
              "#7201a8"
             ],
             [
              0.3333333333333333,
              "#9c179e"
             ],
             [
              0.4444444444444444,
              "#bd3786"
             ],
             [
              0.5555555555555556,
              "#d8576b"
             ],
             [
              0.6666666666666666,
              "#ed7953"
             ],
             [
              0.7777777777777778,
              "#fb9f3a"
             ],
             [
              0.8888888888888888,
              "#fdca26"
             ],
             [
              1,
              "#f0f921"
             ]
            ],
            "type": "heatmap"
           }
          ],
          "heatmapgl": [
           {
            "colorbar": {
             "outlinewidth": 0,
             "ticks": ""
            },
            "colorscale": [
             [
              0,
              "#0d0887"
             ],
             [
              0.1111111111111111,
              "#46039f"
             ],
             [
              0.2222222222222222,
              "#7201a8"
             ],
             [
              0.3333333333333333,
              "#9c179e"
             ],
             [
              0.4444444444444444,
              "#bd3786"
             ],
             [
              0.5555555555555556,
              "#d8576b"
             ],
             [
              0.6666666666666666,
              "#ed7953"
             ],
             [
              0.7777777777777778,
              "#fb9f3a"
             ],
             [
              0.8888888888888888,
              "#fdca26"
             ],
             [
              1,
              "#f0f921"
             ]
            ],
            "type": "heatmapgl"
           }
          ],
          "histogram": [
           {
            "marker": {
             "pattern": {
              "fillmode": "overlay",
              "size": 10,
              "solidity": 0.2
             }
            },
            "type": "histogram"
           }
          ],
          "histogram2d": [
           {
            "colorbar": {
             "outlinewidth": 0,
             "ticks": ""
            },
            "colorscale": [
             [
              0,
              "#0d0887"
             ],
             [
              0.1111111111111111,
              "#46039f"
             ],
             [
              0.2222222222222222,
              "#7201a8"
             ],
             [
              0.3333333333333333,
              "#9c179e"
             ],
             [
              0.4444444444444444,
              "#bd3786"
             ],
             [
              0.5555555555555556,
              "#d8576b"
             ],
             [
              0.6666666666666666,
              "#ed7953"
             ],
             [
              0.7777777777777778,
              "#fb9f3a"
             ],
             [
              0.8888888888888888,
              "#fdca26"
             ],
             [
              1,
              "#f0f921"
             ]
            ],
            "type": "histogram2d"
           }
          ],
          "histogram2dcontour": [
           {
            "colorbar": {
             "outlinewidth": 0,
             "ticks": ""
            },
            "colorscale": [
             [
              0,
              "#0d0887"
             ],
             [
              0.1111111111111111,
              "#46039f"
             ],
             [
              0.2222222222222222,
              "#7201a8"
             ],
             [
              0.3333333333333333,
              "#9c179e"
             ],
             [
              0.4444444444444444,
              "#bd3786"
             ],
             [
              0.5555555555555556,
              "#d8576b"
             ],
             [
              0.6666666666666666,
              "#ed7953"
             ],
             [
              0.7777777777777778,
              "#fb9f3a"
             ],
             [
              0.8888888888888888,
              "#fdca26"
             ],
             [
              1,
              "#f0f921"
             ]
            ],
            "type": "histogram2dcontour"
           }
          ],
          "mesh3d": [
           {
            "colorbar": {
             "outlinewidth": 0,
             "ticks": ""
            },
            "type": "mesh3d"
           }
          ],
          "parcoords": [
           {
            "line": {
             "colorbar": {
              "outlinewidth": 0,
              "ticks": ""
             }
            },
            "type": "parcoords"
           }
          ],
          "pie": [
           {
            "automargin": true,
            "type": "pie"
           }
          ],
          "scatter": [
           {
            "fillpattern": {
             "fillmode": "overlay",
             "size": 10,
             "solidity": 0.2
            },
            "type": "scatter"
           }
          ],
          "scatter3d": [
           {
            "line": {
             "colorbar": {
              "outlinewidth": 0,
              "ticks": ""
             }
            },
            "marker": {
             "colorbar": {
              "outlinewidth": 0,
              "ticks": ""
             }
            },
            "type": "scatter3d"
           }
          ],
          "scattercarpet": [
           {
            "marker": {
             "colorbar": {
              "outlinewidth": 0,
              "ticks": ""
             }
            },
            "type": "scattercarpet"
           }
          ],
          "scattergeo": [
           {
            "marker": {
             "colorbar": {
              "outlinewidth": 0,
              "ticks": ""
             }
            },
            "type": "scattergeo"
           }
          ],
          "scattergl": [
           {
            "marker": {
             "colorbar": {
              "outlinewidth": 0,
              "ticks": ""
             }
            },
            "type": "scattergl"
           }
          ],
          "scattermapbox": [
           {
            "marker": {
             "colorbar": {
              "outlinewidth": 0,
              "ticks": ""
             }
            },
            "type": "scattermapbox"
           }
          ],
          "scatterpolar": [
           {
            "marker": {
             "colorbar": {
              "outlinewidth": 0,
              "ticks": ""
             }
            },
            "type": "scatterpolar"
           }
          ],
          "scatterpolargl": [
           {
            "marker": {
             "colorbar": {
              "outlinewidth": 0,
              "ticks": ""
             }
            },
            "type": "scatterpolargl"
           }
          ],
          "scatterternary": [
           {
            "marker": {
             "colorbar": {
              "outlinewidth": 0,
              "ticks": ""
             }
            },
            "type": "scatterternary"
           }
          ],
          "surface": [
           {
            "colorbar": {
             "outlinewidth": 0,
             "ticks": ""
            },
            "colorscale": [
             [
              0,
              "#0d0887"
             ],
             [
              0.1111111111111111,
              "#46039f"
             ],
             [
              0.2222222222222222,
              "#7201a8"
             ],
             [
              0.3333333333333333,
              "#9c179e"
             ],
             [
              0.4444444444444444,
              "#bd3786"
             ],
             [
              0.5555555555555556,
              "#d8576b"
             ],
             [
              0.6666666666666666,
              "#ed7953"
             ],
             [
              0.7777777777777778,
              "#fb9f3a"
             ],
             [
              0.8888888888888888,
              "#fdca26"
             ],
             [
              1,
              "#f0f921"
             ]
            ],
            "type": "surface"
           }
          ],
          "table": [
           {
            "cells": {
             "fill": {
              "color": "#EBF0F8"
             },
             "line": {
              "color": "white"
             }
            },
            "header": {
             "fill": {
              "color": "#C8D4E3"
             },
             "line": {
              "color": "white"
             }
            },
            "type": "table"
           }
          ]
         },
         "layout": {
          "annotationdefaults": {
           "arrowcolor": "#2a3f5f",
           "arrowhead": 0,
           "arrowwidth": 1
          },
          "autotypenumbers": "strict",
          "coloraxis": {
           "colorbar": {
            "outlinewidth": 0,
            "ticks": ""
           }
          },
          "colorscale": {
           "diverging": [
            [
             0,
             "#8e0152"
            ],
            [
             0.1,
             "#c51b7d"
            ],
            [
             0.2,
             "#de77ae"
            ],
            [
             0.3,
             "#f1b6da"
            ],
            [
             0.4,
             "#fde0ef"
            ],
            [
             0.5,
             "#f7f7f7"
            ],
            [
             0.6,
             "#e6f5d0"
            ],
            [
             0.7,
             "#b8e186"
            ],
            [
             0.8,
             "#7fbc41"
            ],
            [
             0.9,
             "#4d9221"
            ],
            [
             1,
             "#276419"
            ]
           ],
           "sequential": [
            [
             0,
             "#0d0887"
            ],
            [
             0.1111111111111111,
             "#46039f"
            ],
            [
             0.2222222222222222,
             "#7201a8"
            ],
            [
             0.3333333333333333,
             "#9c179e"
            ],
            [
             0.4444444444444444,
             "#bd3786"
            ],
            [
             0.5555555555555556,
             "#d8576b"
            ],
            [
             0.6666666666666666,
             "#ed7953"
            ],
            [
             0.7777777777777778,
             "#fb9f3a"
            ],
            [
             0.8888888888888888,
             "#fdca26"
            ],
            [
             1,
             "#f0f921"
            ]
           ],
           "sequentialminus": [
            [
             0,
             "#0d0887"
            ],
            [
             0.1111111111111111,
             "#46039f"
            ],
            [
             0.2222222222222222,
             "#7201a8"
            ],
            [
             0.3333333333333333,
             "#9c179e"
            ],
            [
             0.4444444444444444,
             "#bd3786"
            ],
            [
             0.5555555555555556,
             "#d8576b"
            ],
            [
             0.6666666666666666,
             "#ed7953"
            ],
            [
             0.7777777777777778,
             "#fb9f3a"
            ],
            [
             0.8888888888888888,
             "#fdca26"
            ],
            [
             1,
             "#f0f921"
            ]
           ]
          },
          "colorway": [
           "#636efa",
           "#EF553B",
           "#00cc96",
           "#ab63fa",
           "#FFA15A",
           "#19d3f3",
           "#FF6692",
           "#B6E880",
           "#FF97FF",
           "#FECB52"
          ],
          "font": {
           "color": "#2a3f5f"
          },
          "geo": {
           "bgcolor": "white",
           "lakecolor": "white",
           "landcolor": "#E5ECF6",
           "showlakes": true,
           "showland": true,
           "subunitcolor": "white"
          },
          "hoverlabel": {
           "align": "left"
          },
          "hovermode": "closest",
          "mapbox": {
           "style": "light"
          },
          "paper_bgcolor": "white",
          "plot_bgcolor": "#E5ECF6",
          "polar": {
           "angularaxis": {
            "gridcolor": "white",
            "linecolor": "white",
            "ticks": ""
           },
           "bgcolor": "#E5ECF6",
           "radialaxis": {
            "gridcolor": "white",
            "linecolor": "white",
            "ticks": ""
           }
          },
          "scene": {
           "xaxis": {
            "backgroundcolor": "#E5ECF6",
            "gridcolor": "white",
            "gridwidth": 2,
            "linecolor": "white",
            "showbackground": true,
            "ticks": "",
            "zerolinecolor": "white"
           },
           "yaxis": {
            "backgroundcolor": "#E5ECF6",
            "gridcolor": "white",
            "gridwidth": 2,
            "linecolor": "white",
            "showbackground": true,
            "ticks": "",
            "zerolinecolor": "white"
           },
           "zaxis": {
            "backgroundcolor": "#E5ECF6",
            "gridcolor": "white",
            "gridwidth": 2,
            "linecolor": "white",
            "showbackground": true,
            "ticks": "",
            "zerolinecolor": "white"
           }
          },
          "shapedefaults": {
           "line": {
            "color": "#2a3f5f"
           }
          },
          "ternary": {
           "aaxis": {
            "gridcolor": "white",
            "linecolor": "white",
            "ticks": ""
           },
           "baxis": {
            "gridcolor": "white",
            "linecolor": "white",
            "ticks": ""
           },
           "bgcolor": "#E5ECF6",
           "caxis": {
            "gridcolor": "white",
            "linecolor": "white",
            "ticks": ""
           }
          },
          "title": {
           "x": 0.05
          },
          "xaxis": {
           "automargin": true,
           "gridcolor": "white",
           "linecolor": "white",
           "ticks": "",
           "title": {
            "standoff": 15
           },
           "zerolinecolor": "white",
           "zerolinewidth": 2
          },
          "yaxis": {
           "automargin": true,
           "gridcolor": "white",
           "linecolor": "white",
           "ticks": "",
           "title": {
            "standoff": 15
           },
           "zerolinecolor": "white",
           "zerolinewidth": 2
          }
         }
        },
        "title": {
         "text": "Goals Scored vs. Shots on Target away from Home (2022 Season)"
        },
        "xaxis": {
         "title": {
          "text": "Shots on Target"
         }
        },
        "yaxis": {
         "title": {
          "text": "Goals Scored"
         }
        }
       }
      },
      "text/html": [
       "<div>                            <div id=\"5849a86c-3316-4d49-bc4b-dd1b47cee3a5\" class=\"plotly-graph-div\" style=\"height:525px; width:100%;\"></div>            <script type=\"text/javascript\">                require([\"plotly\"], function(Plotly) {                    window.PLOTLYENV=window.PLOTLYENV || {};                                    if (document.getElementById(\"5849a86c-3316-4d49-bc4b-dd1b47cee3a5\")) {                    Plotly.newPlot(                        \"5849a86c-3316-4d49-bc4b-dd1b47cee3a5\",                        [{\"marker\":{\"color\":[0.4897959183673469,0.25,0.2777777777777778,0.3611111111111111,0.41509433962264153,0.19607843137254902,0.21951219512195122,0.20689655172413793,0.375,0.325,0.42,0.22807017543859648,0.3064516129032258,0.29310344827586204,0.32653061224489793,0.13636363636363635,0.25,0.39215686274509803,0.22580645161290322,0.22857142857142856],\"colorscale\":[[0.0,\"rgb(41, 24, 107)\"],[0.09090909090909091,\"rgb(42, 35, 160)\"],[0.18181818181818182,\"rgb(15, 71, 153)\"],[0.2727272727272727,\"rgb(18, 95, 142)\"],[0.36363636363636365,\"rgb(38, 116, 137)\"],[0.45454545454545453,\"rgb(53, 136, 136)\"],[0.5454545454545454,\"rgb(65, 157, 133)\"],[0.6363636363636364,\"rgb(81, 178, 124)\"],[0.7272727272727273,\"rgb(111, 198, 107)\"],[0.8181818181818182,\"rgb(160, 214, 91)\"],[0.9090909090909091,\"rgb(212, 225, 112)\"],[1.0,\"rgb(253, 238, 153)\"]],\"showscale\":true,\"size\":[17.142857142857142,8.75,9.722222222222223,12.63888888888889,14.528301886792454,6.862745098039215,7.682926829268292,7.241379310344827,13.125,11.375,14.7,7.982456140350877,10.725806451612904,10.25862068965517,11.428571428571427,4.7727272727272725,8.75,13.72549019607843,7.903225806451613,8.0]},\"mode\":\"markers\",\"text\":[\"Arsenal\",\"Aston Villa\",\"Bournemouth\",\"Brentford\",\"Brighton and Hove Albion\",\"Chelsea\",\"Crystal Palace\",\"Everton\",\"Fulham\",\"Leeds United\",\"Leicester City\",\"Liverpool\",\"Manchester City\",\"Manchester United\",\"Newcastle United\",\"Nottingham Forest\",\"Southampton\",\"Tottenham Hotspur\",\"West Ham United\",\"Wolverhampton Wanderers\"],\"x\":[49.0,36.0,36.0,36.0,53.0,51.0,41.0,29.0,40.0,40.0,50.0,57.0,62.0,58.0,49.0,22.0,36.0,51.0,31.0,35.0],\"y\":[24.0,9.0,10.0,13.0,22.0,10.0,9.0,6.0,15.0,13.0,21.0,13.0,19.0,17.0,16.0,3.0,9.0,20.0,7.0,8.0],\"type\":\"scatter\"}],                        {\"title\":{\"text\":\"Goals Scored vs. Shots on Target away from Home (2022 Season)\"},\"xaxis\":{\"title\":{\"text\":\"Shots on Target\"}},\"yaxis\":{\"title\":{\"text\":\"Goals Scored\"}},\"template\":{\"data\":{\"histogram2dcontour\":[{\"type\":\"histogram2dcontour\",\"colorbar\":{\"outlinewidth\":0,\"ticks\":\"\"},\"colorscale\":[[0.0,\"#0d0887\"],[0.1111111111111111,\"#46039f\"],[0.2222222222222222,\"#7201a8\"],[0.3333333333333333,\"#9c179e\"],[0.4444444444444444,\"#bd3786\"],[0.5555555555555556,\"#d8576b\"],[0.6666666666666666,\"#ed7953\"],[0.7777777777777778,\"#fb9f3a\"],[0.8888888888888888,\"#fdca26\"],[1.0,\"#f0f921\"]]}],\"choropleth\":[{\"type\":\"choropleth\",\"colorbar\":{\"outlinewidth\":0,\"ticks\":\"\"}}],\"histogram2d\":[{\"type\":\"histogram2d\",\"colorbar\":{\"outlinewidth\":0,\"ticks\":\"\"},\"colorscale\":[[0.0,\"#0d0887\"],[0.1111111111111111,\"#46039f\"],[0.2222222222222222,\"#7201a8\"],[0.3333333333333333,\"#9c179e\"],[0.4444444444444444,\"#bd3786\"],[0.5555555555555556,\"#d8576b\"],[0.6666666666666666,\"#ed7953\"],[0.7777777777777778,\"#fb9f3a\"],[0.8888888888888888,\"#fdca26\"],[1.0,\"#f0f921\"]]}],\"heatmap\":[{\"type\":\"heatmap\",\"colorbar\":{\"outlinewidth\":0,\"ticks\":\"\"},\"colorscale\":[[0.0,\"#0d0887\"],[0.1111111111111111,\"#46039f\"],[0.2222222222222222,\"#7201a8\"],[0.3333333333333333,\"#9c179e\"],[0.4444444444444444,\"#bd3786\"],[0.5555555555555556,\"#d8576b\"],[0.6666666666666666,\"#ed7953\"],[0.7777777777777778,\"#fb9f3a\"],[0.8888888888888888,\"#fdca26\"],[1.0,\"#f0f921\"]]}],\"heatmapgl\":[{\"type\":\"heatmapgl\",\"colorbar\":{\"outlinewidth\":0,\"ticks\":\"\"},\"colorscale\":[[0.0,\"#0d0887\"],[0.1111111111111111,\"#46039f\"],[0.2222222222222222,\"#7201a8\"],[0.3333333333333333,\"#9c179e\"],[0.4444444444444444,\"#bd3786\"],[0.5555555555555556,\"#d8576b\"],[0.6666666666666666,\"#ed7953\"],[0.7777777777777778,\"#fb9f3a\"],[0.8888888888888888,\"#fdca26\"],[1.0,\"#f0f921\"]]}],\"contourcarpet\":[{\"type\":\"contourcarpet\",\"colorbar\":{\"outlinewidth\":0,\"ticks\":\"\"}}],\"contour\":[{\"type\":\"contour\",\"colorbar\":{\"outlinewidth\":0,\"ticks\":\"\"},\"colorscale\":[[0.0,\"#0d0887\"],[0.1111111111111111,\"#46039f\"],[0.2222222222222222,\"#7201a8\"],[0.3333333333333333,\"#9c179e\"],[0.4444444444444444,\"#bd3786\"],[0.5555555555555556,\"#d8576b\"],[0.6666666666666666,\"#ed7953\"],[0.7777777777777778,\"#fb9f3a\"],[0.8888888888888888,\"#fdca26\"],[1.0,\"#f0f921\"]]}],\"surface\":[{\"type\":\"surface\",\"colorbar\":{\"outlinewidth\":0,\"ticks\":\"\"},\"colorscale\":[[0.0,\"#0d0887\"],[0.1111111111111111,\"#46039f\"],[0.2222222222222222,\"#7201a8\"],[0.3333333333333333,\"#9c179e\"],[0.4444444444444444,\"#bd3786\"],[0.5555555555555556,\"#d8576b\"],[0.6666666666666666,\"#ed7953\"],[0.7777777777777778,\"#fb9f3a\"],[0.8888888888888888,\"#fdca26\"],[1.0,\"#f0f921\"]]}],\"mesh3d\":[{\"type\":\"mesh3d\",\"colorbar\":{\"outlinewidth\":0,\"ticks\":\"\"}}],\"scatter\":[{\"fillpattern\":{\"fillmode\":\"overlay\",\"size\":10,\"solidity\":0.2},\"type\":\"scatter\"}],\"parcoords\":[{\"type\":\"parcoords\",\"line\":{\"colorbar\":{\"outlinewidth\":0,\"ticks\":\"\"}}}],\"scatterpolargl\":[{\"type\":\"scatterpolargl\",\"marker\":{\"colorbar\":{\"outlinewidth\":0,\"ticks\":\"\"}}}],\"bar\":[{\"error_x\":{\"color\":\"#2a3f5f\"},\"error_y\":{\"color\":\"#2a3f5f\"},\"marker\":{\"line\":{\"color\":\"#E5ECF6\",\"width\":0.5},\"pattern\":{\"fillmode\":\"overlay\",\"size\":10,\"solidity\":0.2}},\"type\":\"bar\"}],\"scattergeo\":[{\"type\":\"scattergeo\",\"marker\":{\"colorbar\":{\"outlinewidth\":0,\"ticks\":\"\"}}}],\"scatterpolar\":[{\"type\":\"scatterpolar\",\"marker\":{\"colorbar\":{\"outlinewidth\":0,\"ticks\":\"\"}}}],\"histogram\":[{\"marker\":{\"pattern\":{\"fillmode\":\"overlay\",\"size\":10,\"solidity\":0.2}},\"type\":\"histogram\"}],\"scattergl\":[{\"type\":\"scattergl\",\"marker\":{\"colorbar\":{\"outlinewidth\":0,\"ticks\":\"\"}}}],\"scatter3d\":[{\"type\":\"scatter3d\",\"line\":{\"colorbar\":{\"outlinewidth\":0,\"ticks\":\"\"}},\"marker\":{\"colorbar\":{\"outlinewidth\":0,\"ticks\":\"\"}}}],\"scattermapbox\":[{\"type\":\"scattermapbox\",\"marker\":{\"colorbar\":{\"outlinewidth\":0,\"ticks\":\"\"}}}],\"scatterternary\":[{\"type\":\"scatterternary\",\"marker\":{\"colorbar\":{\"outlinewidth\":0,\"ticks\":\"\"}}}],\"scattercarpet\":[{\"type\":\"scattercarpet\",\"marker\":{\"colorbar\":{\"outlinewidth\":0,\"ticks\":\"\"}}}],\"carpet\":[{\"aaxis\":{\"endlinecolor\":\"#2a3f5f\",\"gridcolor\":\"white\",\"linecolor\":\"white\",\"minorgridcolor\":\"white\",\"startlinecolor\":\"#2a3f5f\"},\"baxis\":{\"endlinecolor\":\"#2a3f5f\",\"gridcolor\":\"white\",\"linecolor\":\"white\",\"minorgridcolor\":\"white\",\"startlinecolor\":\"#2a3f5f\"},\"type\":\"carpet\"}],\"table\":[{\"cells\":{\"fill\":{\"color\":\"#EBF0F8\"},\"line\":{\"color\":\"white\"}},\"header\":{\"fill\":{\"color\":\"#C8D4E3\"},\"line\":{\"color\":\"white\"}},\"type\":\"table\"}],\"barpolar\":[{\"marker\":{\"line\":{\"color\":\"#E5ECF6\",\"width\":0.5},\"pattern\":{\"fillmode\":\"overlay\",\"size\":10,\"solidity\":0.2}},\"type\":\"barpolar\"}],\"pie\":[{\"automargin\":true,\"type\":\"pie\"}]},\"layout\":{\"autotypenumbers\":\"strict\",\"colorway\":[\"#636efa\",\"#EF553B\",\"#00cc96\",\"#ab63fa\",\"#FFA15A\",\"#19d3f3\",\"#FF6692\",\"#B6E880\",\"#FF97FF\",\"#FECB52\"],\"font\":{\"color\":\"#2a3f5f\"},\"hovermode\":\"closest\",\"hoverlabel\":{\"align\":\"left\"},\"paper_bgcolor\":\"white\",\"plot_bgcolor\":\"#E5ECF6\",\"polar\":{\"bgcolor\":\"#E5ECF6\",\"angularaxis\":{\"gridcolor\":\"white\",\"linecolor\":\"white\",\"ticks\":\"\"},\"radialaxis\":{\"gridcolor\":\"white\",\"linecolor\":\"white\",\"ticks\":\"\"}},\"ternary\":{\"bgcolor\":\"#E5ECF6\",\"aaxis\":{\"gridcolor\":\"white\",\"linecolor\":\"white\",\"ticks\":\"\"},\"baxis\":{\"gridcolor\":\"white\",\"linecolor\":\"white\",\"ticks\":\"\"},\"caxis\":{\"gridcolor\":\"white\",\"linecolor\":\"white\",\"ticks\":\"\"}},\"coloraxis\":{\"colorbar\":{\"outlinewidth\":0,\"ticks\":\"\"}},\"colorscale\":{\"sequential\":[[0.0,\"#0d0887\"],[0.1111111111111111,\"#46039f\"],[0.2222222222222222,\"#7201a8\"],[0.3333333333333333,\"#9c179e\"],[0.4444444444444444,\"#bd3786\"],[0.5555555555555556,\"#d8576b\"],[0.6666666666666666,\"#ed7953\"],[0.7777777777777778,\"#fb9f3a\"],[0.8888888888888888,\"#fdca26\"],[1.0,\"#f0f921\"]],\"sequentialminus\":[[0.0,\"#0d0887\"],[0.1111111111111111,\"#46039f\"],[0.2222222222222222,\"#7201a8\"],[0.3333333333333333,\"#9c179e\"],[0.4444444444444444,\"#bd3786\"],[0.5555555555555556,\"#d8576b\"],[0.6666666666666666,\"#ed7953\"],[0.7777777777777778,\"#fb9f3a\"],[0.8888888888888888,\"#fdca26\"],[1.0,\"#f0f921\"]],\"diverging\":[[0,\"#8e0152\"],[0.1,\"#c51b7d\"],[0.2,\"#de77ae\"],[0.3,\"#f1b6da\"],[0.4,\"#fde0ef\"],[0.5,\"#f7f7f7\"],[0.6,\"#e6f5d0\"],[0.7,\"#b8e186\"],[0.8,\"#7fbc41\"],[0.9,\"#4d9221\"],[1,\"#276419\"]]},\"xaxis\":{\"gridcolor\":\"white\",\"linecolor\":\"white\",\"ticks\":\"\",\"title\":{\"standoff\":15},\"zerolinecolor\":\"white\",\"automargin\":true,\"zerolinewidth\":2},\"yaxis\":{\"gridcolor\":\"white\",\"linecolor\":\"white\",\"ticks\":\"\",\"title\":{\"standoff\":15},\"zerolinecolor\":\"white\",\"automargin\":true,\"zerolinewidth\":2},\"scene\":{\"xaxis\":{\"backgroundcolor\":\"#E5ECF6\",\"gridcolor\":\"white\",\"linecolor\":\"white\",\"showbackground\":true,\"ticks\":\"\",\"zerolinecolor\":\"white\",\"gridwidth\":2},\"yaxis\":{\"backgroundcolor\":\"#E5ECF6\",\"gridcolor\":\"white\",\"linecolor\":\"white\",\"showbackground\":true,\"ticks\":\"\",\"zerolinecolor\":\"white\",\"gridwidth\":2},\"zaxis\":{\"backgroundcolor\":\"#E5ECF6\",\"gridcolor\":\"white\",\"linecolor\":\"white\",\"showbackground\":true,\"ticks\":\"\",\"zerolinecolor\":\"white\",\"gridwidth\":2}},\"shapedefaults\":{\"line\":{\"color\":\"#2a3f5f\"}},\"annotationdefaults\":{\"arrowcolor\":\"#2a3f5f\",\"arrowhead\":0,\"arrowwidth\":1},\"geo\":{\"bgcolor\":\"white\",\"landcolor\":\"#E5ECF6\",\"subunitcolor\":\"white\",\"showland\":true,\"showlakes\":true,\"lakecolor\":\"white\"},\"title\":{\"x\":0.05},\"mapbox\":{\"style\":\"light\"}}}},                        {\"responsive\": true}                    ).then(function(){\n",
       "                            \n",
       "var gd = document.getElementById('5849a86c-3316-4d49-bc4b-dd1b47cee3a5');\n",
       "var x = new MutationObserver(function (mutations, observer) {{\n",
       "        var display = window.getComputedStyle(gd).display;\n",
       "        if (!display || display === 'none') {{\n",
       "            console.log([gd, 'removed!']);\n",
       "            Plotly.purge(gd);\n",
       "            observer.disconnect();\n",
       "        }}\n",
       "}});\n",
       "\n",
       "// Listen for the removal of the full notebook cells\n",
       "var notebookContainer = gd.closest('#notebook-container');\n",
       "if (notebookContainer) {{\n",
       "    x.observe(notebookContainer, {childList: true});\n",
       "}}\n",
       "\n",
       "// Listen for the clearing of the current output cell\n",
       "var outputEl = gd.closest('.output');\n",
       "if (outputEl) {{\n",
       "    x.observe(outputEl, {childList: true});\n",
       "}}\n",
       "\n",
       "                        })                };                });            </script>        </div>"
      ]
     },
     "metadata": {},
     "output_type": "display_data"
    },
    {
     "data": {
      "text/plain": [
       "'https://plotly.com/~Kvothe_v1/9/'"
      ]
     },
     "execution_count": 566,
     "metadata": {},
     "output_type": "execute_result"
    }
   ],
   "source": [
    "# For the 2022 season away stats\n",
    "away_22 = go.Scatter(x=away_shootin_stats_22['SoT'], y=away_shootin_stats_22['GF'], mode='markers',\n",
    "                   text=away_shootin_stats_22.index.get_level_values('Team'),\n",
    "                   marker={'size': 35 * away_shootin_stats_22['Efficiency'],\n",
    "                           'color':away_shootin_stats_22['Efficiency'],'colorscale': 'haline', 'showscale':True})\n",
    "                              #To have the points vary based on efficiency\n",
    "# create a layout for the plot\n",
    "away_layout_22 = go.Layout(title='Goals Scored vs. Shots on Target away from Home (2022 Season)',\n",
    "                   xaxis={'title': 'Shots on Target'},\n",
    "                   yaxis={'title': 'Goals Scored'})\n",
    "\n",
    "# create a figure object\n",
    "shot_AwayStats_22 = go.Figure(data=[away_22], layout=away_layout_22)\n",
    "shot_AwayStats_22.show()\n",
    "py.plot(shot_AwayStats_22, filename='ShotsvsGoals_Away_Stats_22.html', auto_open=False)"
   ]
  },
  {
   "cell_type": "code",
   "execution_count": 567,
   "id": "1a7ae8df",
   "metadata": {},
   "outputs": [
    {
     "data": {
      "application/vnd.plotly.v1+json": {
       "config": {
        "plotlyServerURL": "https://plotly.com"
       },
       "data": [
        {
         "marker": {
          "color": [
           0.39705882352941174,
           0.35185185185185186,
           0.3235294117647059,
           0.46153846153846156,
           0.26153846153846155,
           0.35135135135135137,
           0.3,
           0.2391304347826087,
           0.40816326530612246,
           0.3333333333333333,
           0.35714285714285715,
           0.36231884057971014,
           0.5694444444444444,
           0.36363636363636365,
           0.31666666666666665,
           0.3488372093023256,
           0.2222222222222222,
           0.3333333333333333,
           0.2857142857142857,
           0.25
          ],
          "colorscale": [
           [
            0,
            "rgb(41, 24, 107)"
           ],
           [
            0.09090909090909091,
            "rgb(42, 35, 160)"
           ],
           [
            0.18181818181818182,
            "rgb(15, 71, 153)"
           ],
           [
            0.2727272727272727,
            "rgb(18, 95, 142)"
           ],
           [
            0.36363636363636365,
            "rgb(38, 116, 137)"
           ],
           [
            0.45454545454545453,
            "rgb(53, 136, 136)"
           ],
           [
            0.5454545454545454,
            "rgb(65, 157, 133)"
           ],
           [
            0.6363636363636364,
            "rgb(81, 178, 124)"
           ],
           [
            0.7272727272727273,
            "rgb(111, 198, 107)"
           ],
           [
            0.8181818181818182,
            "rgb(160, 214, 91)"
           ],
           [
            0.9090909090909091,
            "rgb(212, 225, 112)"
           ],
           [
            1,
            "rgb(253, 238, 153)"
           ]
          ],
          "showscale": true,
          "size": [
           13.897058823529411,
           12.314814814814815,
           11.323529411764707,
           16.153846153846153,
           9.153846153846155,
           12.297297297297298,
           10.5,
           8.369565217391305,
           14.285714285714286,
           11.666666666666666,
           12.5,
           12.681159420289855,
           19.930555555555554,
           12.727272727272728,
           11.083333333333332,
           12.209302325581396,
           7.777777777777778,
           11.666666666666666,
           10,
           8.75
          ]
         },
         "mode": "markers",
         "text": [
          "Arsenal",
          "Aston Villa",
          "Bournemouth",
          "Brentford",
          "Brighton and Hove Albion",
          "Chelsea",
          "Crystal Palace",
          "Everton",
          "Fulham",
          "Leeds United",
          "Leicester City",
          "Liverpool",
          "Manchester City",
          "Manchester United",
          "Newcastle United",
          "Nottingham Forest",
          "Southampton",
          "Tottenham Hotspur",
          "West Ham United",
          "Wolverhampton Wanderers"
         ],
         "type": "scatter",
         "x": [
          68,
          54,
          34,
          52,
          65,
          37,
          40,
          46,
          49,
          45,
          42,
          69,
          72,
          66,
          60,
          43,
          45,
          72,
          42,
          36
         ],
         "y": [
          27,
          19,
          11,
          24,
          17,
          13,
          12,
          11,
          20,
          15,
          15,
          25,
          41,
          24,
          19,
          15,
          10,
          24,
          12,
          9
         ]
        }
       ],
       "layout": {
        "template": {
         "data": {
          "bar": [
           {
            "error_x": {
             "color": "#2a3f5f"
            },
            "error_y": {
             "color": "#2a3f5f"
            },
            "marker": {
             "line": {
              "color": "#E5ECF6",
              "width": 0.5
             },
             "pattern": {
              "fillmode": "overlay",
              "size": 10,
              "solidity": 0.2
             }
            },
            "type": "bar"
           }
          ],
          "barpolar": [
           {
            "marker": {
             "line": {
              "color": "#E5ECF6",
              "width": 0.5
             },
             "pattern": {
              "fillmode": "overlay",
              "size": 10,
              "solidity": 0.2
             }
            },
            "type": "barpolar"
           }
          ],
          "carpet": [
           {
            "aaxis": {
             "endlinecolor": "#2a3f5f",
             "gridcolor": "white",
             "linecolor": "white",
             "minorgridcolor": "white",
             "startlinecolor": "#2a3f5f"
            },
            "baxis": {
             "endlinecolor": "#2a3f5f",
             "gridcolor": "white",
             "linecolor": "white",
             "minorgridcolor": "white",
             "startlinecolor": "#2a3f5f"
            },
            "type": "carpet"
           }
          ],
          "choropleth": [
           {
            "colorbar": {
             "outlinewidth": 0,
             "ticks": ""
            },
            "type": "choropleth"
           }
          ],
          "contour": [
           {
            "colorbar": {
             "outlinewidth": 0,
             "ticks": ""
            },
            "colorscale": [
             [
              0,
              "#0d0887"
             ],
             [
              0.1111111111111111,
              "#46039f"
             ],
             [
              0.2222222222222222,
              "#7201a8"
             ],
             [
              0.3333333333333333,
              "#9c179e"
             ],
             [
              0.4444444444444444,
              "#bd3786"
             ],
             [
              0.5555555555555556,
              "#d8576b"
             ],
             [
              0.6666666666666666,
              "#ed7953"
             ],
             [
              0.7777777777777778,
              "#fb9f3a"
             ],
             [
              0.8888888888888888,
              "#fdca26"
             ],
             [
              1,
              "#f0f921"
             ]
            ],
            "type": "contour"
           }
          ],
          "contourcarpet": [
           {
            "colorbar": {
             "outlinewidth": 0,
             "ticks": ""
            },
            "type": "contourcarpet"
           }
          ],
          "heatmap": [
           {
            "colorbar": {
             "outlinewidth": 0,
             "ticks": ""
            },
            "colorscale": [
             [
              0,
              "#0d0887"
             ],
             [
              0.1111111111111111,
              "#46039f"
             ],
             [
              0.2222222222222222,
              "#7201a8"
             ],
             [
              0.3333333333333333,
              "#9c179e"
             ],
             [
              0.4444444444444444,
              "#bd3786"
             ],
             [
              0.5555555555555556,
              "#d8576b"
             ],
             [
              0.6666666666666666,
              "#ed7953"
             ],
             [
              0.7777777777777778,
              "#fb9f3a"
             ],
             [
              0.8888888888888888,
              "#fdca26"
             ],
             [
              1,
              "#f0f921"
             ]
            ],
            "type": "heatmap"
           }
          ],
          "heatmapgl": [
           {
            "colorbar": {
             "outlinewidth": 0,
             "ticks": ""
            },
            "colorscale": [
             [
              0,
              "#0d0887"
             ],
             [
              0.1111111111111111,
              "#46039f"
             ],
             [
              0.2222222222222222,
              "#7201a8"
             ],
             [
              0.3333333333333333,
              "#9c179e"
             ],
             [
              0.4444444444444444,
              "#bd3786"
             ],
             [
              0.5555555555555556,
              "#d8576b"
             ],
             [
              0.6666666666666666,
              "#ed7953"
             ],
             [
              0.7777777777777778,
              "#fb9f3a"
             ],
             [
              0.8888888888888888,
              "#fdca26"
             ],
             [
              1,
              "#f0f921"
             ]
            ],
            "type": "heatmapgl"
           }
          ],
          "histogram": [
           {
            "marker": {
             "pattern": {
              "fillmode": "overlay",
              "size": 10,
              "solidity": 0.2
             }
            },
            "type": "histogram"
           }
          ],
          "histogram2d": [
           {
            "colorbar": {
             "outlinewidth": 0,
             "ticks": ""
            },
            "colorscale": [
             [
              0,
              "#0d0887"
             ],
             [
              0.1111111111111111,
              "#46039f"
             ],
             [
              0.2222222222222222,
              "#7201a8"
             ],
             [
              0.3333333333333333,
              "#9c179e"
             ],
             [
              0.4444444444444444,
              "#bd3786"
             ],
             [
              0.5555555555555556,
              "#d8576b"
             ],
             [
              0.6666666666666666,
              "#ed7953"
             ],
             [
              0.7777777777777778,
              "#fb9f3a"
             ],
             [
              0.8888888888888888,
              "#fdca26"
             ],
             [
              1,
              "#f0f921"
             ]
            ],
            "type": "histogram2d"
           }
          ],
          "histogram2dcontour": [
           {
            "colorbar": {
             "outlinewidth": 0,
             "ticks": ""
            },
            "colorscale": [
             [
              0,
              "#0d0887"
             ],
             [
              0.1111111111111111,
              "#46039f"
             ],
             [
              0.2222222222222222,
              "#7201a8"
             ],
             [
              0.3333333333333333,
              "#9c179e"
             ],
             [
              0.4444444444444444,
              "#bd3786"
             ],
             [
              0.5555555555555556,
              "#d8576b"
             ],
             [
              0.6666666666666666,
              "#ed7953"
             ],
             [
              0.7777777777777778,
              "#fb9f3a"
             ],
             [
              0.8888888888888888,
              "#fdca26"
             ],
             [
              1,
              "#f0f921"
             ]
            ],
            "type": "histogram2dcontour"
           }
          ],
          "mesh3d": [
           {
            "colorbar": {
             "outlinewidth": 0,
             "ticks": ""
            },
            "type": "mesh3d"
           }
          ],
          "parcoords": [
           {
            "line": {
             "colorbar": {
              "outlinewidth": 0,
              "ticks": ""
             }
            },
            "type": "parcoords"
           }
          ],
          "pie": [
           {
            "automargin": true,
            "type": "pie"
           }
          ],
          "scatter": [
           {
            "fillpattern": {
             "fillmode": "overlay",
             "size": 10,
             "solidity": 0.2
            },
            "type": "scatter"
           }
          ],
          "scatter3d": [
           {
            "line": {
             "colorbar": {
              "outlinewidth": 0,
              "ticks": ""
             }
            },
            "marker": {
             "colorbar": {
              "outlinewidth": 0,
              "ticks": ""
             }
            },
            "type": "scatter3d"
           }
          ],
          "scattercarpet": [
           {
            "marker": {
             "colorbar": {
              "outlinewidth": 0,
              "ticks": ""
             }
            },
            "type": "scattercarpet"
           }
          ],
          "scattergeo": [
           {
            "marker": {
             "colorbar": {
              "outlinewidth": 0,
              "ticks": ""
             }
            },
            "type": "scattergeo"
           }
          ],
          "scattergl": [
           {
            "marker": {
             "colorbar": {
              "outlinewidth": 0,
              "ticks": ""
             }
            },
            "type": "scattergl"
           }
          ],
          "scattermapbox": [
           {
            "marker": {
             "colorbar": {
              "outlinewidth": 0,
              "ticks": ""
             }
            },
            "type": "scattermapbox"
           }
          ],
          "scatterpolar": [
           {
            "marker": {
             "colorbar": {
              "outlinewidth": 0,
              "ticks": ""
             }
            },
            "type": "scatterpolar"
           }
          ],
          "scatterpolargl": [
           {
            "marker": {
             "colorbar": {
              "outlinewidth": 0,
              "ticks": ""
             }
            },
            "type": "scatterpolargl"
           }
          ],
          "scatterternary": [
           {
            "marker": {
             "colorbar": {
              "outlinewidth": 0,
              "ticks": ""
             }
            },
            "type": "scatterternary"
           }
          ],
          "surface": [
           {
            "colorbar": {
             "outlinewidth": 0,
             "ticks": ""
            },
            "colorscale": [
             [
              0,
              "#0d0887"
             ],
             [
              0.1111111111111111,
              "#46039f"
             ],
             [
              0.2222222222222222,
              "#7201a8"
             ],
             [
              0.3333333333333333,
              "#9c179e"
             ],
             [
              0.4444444444444444,
              "#bd3786"
             ],
             [
              0.5555555555555556,
              "#d8576b"
             ],
             [
              0.6666666666666666,
              "#ed7953"
             ],
             [
              0.7777777777777778,
              "#fb9f3a"
             ],
             [
              0.8888888888888888,
              "#fdca26"
             ],
             [
              1,
              "#f0f921"
             ]
            ],
            "type": "surface"
           }
          ],
          "table": [
           {
            "cells": {
             "fill": {
              "color": "#EBF0F8"
             },
             "line": {
              "color": "white"
             }
            },
            "header": {
             "fill": {
              "color": "#C8D4E3"
             },
             "line": {
              "color": "white"
             }
            },
            "type": "table"
           }
          ]
         },
         "layout": {
          "annotationdefaults": {
           "arrowcolor": "#2a3f5f",
           "arrowhead": 0,
           "arrowwidth": 1
          },
          "autotypenumbers": "strict",
          "coloraxis": {
           "colorbar": {
            "outlinewidth": 0,
            "ticks": ""
           }
          },
          "colorscale": {
           "diverging": [
            [
             0,
             "#8e0152"
            ],
            [
             0.1,
             "#c51b7d"
            ],
            [
             0.2,
             "#de77ae"
            ],
            [
             0.3,
             "#f1b6da"
            ],
            [
             0.4,
             "#fde0ef"
            ],
            [
             0.5,
             "#f7f7f7"
            ],
            [
             0.6,
             "#e6f5d0"
            ],
            [
             0.7,
             "#b8e186"
            ],
            [
             0.8,
             "#7fbc41"
            ],
            [
             0.9,
             "#4d9221"
            ],
            [
             1,
             "#276419"
            ]
           ],
           "sequential": [
            [
             0,
             "#0d0887"
            ],
            [
             0.1111111111111111,
             "#46039f"
            ],
            [
             0.2222222222222222,
             "#7201a8"
            ],
            [
             0.3333333333333333,
             "#9c179e"
            ],
            [
             0.4444444444444444,
             "#bd3786"
            ],
            [
             0.5555555555555556,
             "#d8576b"
            ],
            [
             0.6666666666666666,
             "#ed7953"
            ],
            [
             0.7777777777777778,
             "#fb9f3a"
            ],
            [
             0.8888888888888888,
             "#fdca26"
            ],
            [
             1,
             "#f0f921"
            ]
           ],
           "sequentialminus": [
            [
             0,
             "#0d0887"
            ],
            [
             0.1111111111111111,
             "#46039f"
            ],
            [
             0.2222222222222222,
             "#7201a8"
            ],
            [
             0.3333333333333333,
             "#9c179e"
            ],
            [
             0.4444444444444444,
             "#bd3786"
            ],
            [
             0.5555555555555556,
             "#d8576b"
            ],
            [
             0.6666666666666666,
             "#ed7953"
            ],
            [
             0.7777777777777778,
             "#fb9f3a"
            ],
            [
             0.8888888888888888,
             "#fdca26"
            ],
            [
             1,
             "#f0f921"
            ]
           ]
          },
          "colorway": [
           "#636efa",
           "#EF553B",
           "#00cc96",
           "#ab63fa",
           "#FFA15A",
           "#19d3f3",
           "#FF6692",
           "#B6E880",
           "#FF97FF",
           "#FECB52"
          ],
          "font": {
           "color": "#2a3f5f"
          },
          "geo": {
           "bgcolor": "white",
           "lakecolor": "white",
           "landcolor": "#E5ECF6",
           "showlakes": true,
           "showland": true,
           "subunitcolor": "white"
          },
          "hoverlabel": {
           "align": "left"
          },
          "hovermode": "closest",
          "mapbox": {
           "style": "light"
          },
          "paper_bgcolor": "white",
          "plot_bgcolor": "#E5ECF6",
          "polar": {
           "angularaxis": {
            "gridcolor": "white",
            "linecolor": "white",
            "ticks": ""
           },
           "bgcolor": "#E5ECF6",
           "radialaxis": {
            "gridcolor": "white",
            "linecolor": "white",
            "ticks": ""
           }
          },
          "scene": {
           "xaxis": {
            "backgroundcolor": "#E5ECF6",
            "gridcolor": "white",
            "gridwidth": 2,
            "linecolor": "white",
            "showbackground": true,
            "ticks": "",
            "zerolinecolor": "white"
           },
           "yaxis": {
            "backgroundcolor": "#E5ECF6",
            "gridcolor": "white",
            "gridwidth": 2,
            "linecolor": "white",
            "showbackground": true,
            "ticks": "",
            "zerolinecolor": "white"
           },
           "zaxis": {
            "backgroundcolor": "#E5ECF6",
            "gridcolor": "white",
            "gridwidth": 2,
            "linecolor": "white",
            "showbackground": true,
            "ticks": "",
            "zerolinecolor": "white"
           }
          },
          "shapedefaults": {
           "line": {
            "color": "#2a3f5f"
           }
          },
          "ternary": {
           "aaxis": {
            "gridcolor": "white",
            "linecolor": "white",
            "ticks": ""
           },
           "baxis": {
            "gridcolor": "white",
            "linecolor": "white",
            "ticks": ""
           },
           "bgcolor": "#E5ECF6",
           "caxis": {
            "gridcolor": "white",
            "linecolor": "white",
            "ticks": ""
           }
          },
          "title": {
           "x": 0.05
          },
          "xaxis": {
           "automargin": true,
           "gridcolor": "white",
           "linecolor": "white",
           "ticks": "",
           "title": {
            "standoff": 15
           },
           "zerolinecolor": "white",
           "zerolinewidth": 2
          },
          "yaxis": {
           "automargin": true,
           "gridcolor": "white",
           "linecolor": "white",
           "ticks": "",
           "title": {
            "standoff": 15
           },
           "zerolinecolor": "white",
           "zerolinewidth": 2
          }
         }
        },
        "title": {
         "text": "Goals Scored vs. Shots on Target at Home (2022 Season)"
        },
        "xaxis": {
         "title": {
          "text": "Shots on Target"
         }
        },
        "yaxis": {
         "title": {
          "text": "Goals Scored"
         }
        }
       }
      },
      "text/html": [
       "<div>                            <div id=\"1c0b07f9-af8d-4cd1-a055-155aa665b17f\" class=\"plotly-graph-div\" style=\"height:525px; width:100%;\"></div>            <script type=\"text/javascript\">                require([\"plotly\"], function(Plotly) {                    window.PLOTLYENV=window.PLOTLYENV || {};                                    if (document.getElementById(\"1c0b07f9-af8d-4cd1-a055-155aa665b17f\")) {                    Plotly.newPlot(                        \"1c0b07f9-af8d-4cd1-a055-155aa665b17f\",                        [{\"marker\":{\"color\":[0.39705882352941174,0.35185185185185186,0.3235294117647059,0.46153846153846156,0.26153846153846155,0.35135135135135137,0.3,0.2391304347826087,0.40816326530612246,0.3333333333333333,0.35714285714285715,0.36231884057971014,0.5694444444444444,0.36363636363636365,0.31666666666666665,0.3488372093023256,0.2222222222222222,0.3333333333333333,0.2857142857142857,0.25],\"colorscale\":[[0.0,\"rgb(41, 24, 107)\"],[0.09090909090909091,\"rgb(42, 35, 160)\"],[0.18181818181818182,\"rgb(15, 71, 153)\"],[0.2727272727272727,\"rgb(18, 95, 142)\"],[0.36363636363636365,\"rgb(38, 116, 137)\"],[0.45454545454545453,\"rgb(53, 136, 136)\"],[0.5454545454545454,\"rgb(65, 157, 133)\"],[0.6363636363636364,\"rgb(81, 178, 124)\"],[0.7272727272727273,\"rgb(111, 198, 107)\"],[0.8181818181818182,\"rgb(160, 214, 91)\"],[0.9090909090909091,\"rgb(212, 225, 112)\"],[1.0,\"rgb(253, 238, 153)\"]],\"showscale\":true,\"size\":[13.897058823529411,12.314814814814815,11.323529411764707,16.153846153846153,9.153846153846155,12.297297297297298,10.5,8.369565217391305,14.285714285714286,11.666666666666666,12.5,12.681159420289855,19.930555555555554,12.727272727272728,11.083333333333332,12.209302325581396,7.777777777777778,11.666666666666666,10.0,8.75]},\"mode\":\"markers\",\"text\":[\"Arsenal\",\"Aston Villa\",\"Bournemouth\",\"Brentford\",\"Brighton and Hove Albion\",\"Chelsea\",\"Crystal Palace\",\"Everton\",\"Fulham\",\"Leeds United\",\"Leicester City\",\"Liverpool\",\"Manchester City\",\"Manchester United\",\"Newcastle United\",\"Nottingham Forest\",\"Southampton\",\"Tottenham Hotspur\",\"West Ham United\",\"Wolverhampton Wanderers\"],\"x\":[68.0,54.0,34.0,52.0,65.0,37.0,40.0,46.0,49.0,45.0,42.0,69.0,72.0,66.0,60.0,43.0,45.0,72.0,42.0,36.0],\"y\":[27.0,19.0,11.0,24.0,17.0,13.0,12.0,11.0,20.0,15.0,15.0,25.0,41.0,24.0,19.0,15.0,10.0,24.0,12.0,9.0],\"type\":\"scatter\"}],                        {\"title\":{\"text\":\"Goals Scored vs. Shots on Target at Home (2022 Season)\"},\"xaxis\":{\"title\":{\"text\":\"Shots on Target\"}},\"yaxis\":{\"title\":{\"text\":\"Goals Scored\"}},\"template\":{\"data\":{\"histogram2dcontour\":[{\"type\":\"histogram2dcontour\",\"colorbar\":{\"outlinewidth\":0,\"ticks\":\"\"},\"colorscale\":[[0.0,\"#0d0887\"],[0.1111111111111111,\"#46039f\"],[0.2222222222222222,\"#7201a8\"],[0.3333333333333333,\"#9c179e\"],[0.4444444444444444,\"#bd3786\"],[0.5555555555555556,\"#d8576b\"],[0.6666666666666666,\"#ed7953\"],[0.7777777777777778,\"#fb9f3a\"],[0.8888888888888888,\"#fdca26\"],[1.0,\"#f0f921\"]]}],\"choropleth\":[{\"type\":\"choropleth\",\"colorbar\":{\"outlinewidth\":0,\"ticks\":\"\"}}],\"histogram2d\":[{\"type\":\"histogram2d\",\"colorbar\":{\"outlinewidth\":0,\"ticks\":\"\"},\"colorscale\":[[0.0,\"#0d0887\"],[0.1111111111111111,\"#46039f\"],[0.2222222222222222,\"#7201a8\"],[0.3333333333333333,\"#9c179e\"],[0.4444444444444444,\"#bd3786\"],[0.5555555555555556,\"#d8576b\"],[0.6666666666666666,\"#ed7953\"],[0.7777777777777778,\"#fb9f3a\"],[0.8888888888888888,\"#fdca26\"],[1.0,\"#f0f921\"]]}],\"heatmap\":[{\"type\":\"heatmap\",\"colorbar\":{\"outlinewidth\":0,\"ticks\":\"\"},\"colorscale\":[[0.0,\"#0d0887\"],[0.1111111111111111,\"#46039f\"],[0.2222222222222222,\"#7201a8\"],[0.3333333333333333,\"#9c179e\"],[0.4444444444444444,\"#bd3786\"],[0.5555555555555556,\"#d8576b\"],[0.6666666666666666,\"#ed7953\"],[0.7777777777777778,\"#fb9f3a\"],[0.8888888888888888,\"#fdca26\"],[1.0,\"#f0f921\"]]}],\"heatmapgl\":[{\"type\":\"heatmapgl\",\"colorbar\":{\"outlinewidth\":0,\"ticks\":\"\"},\"colorscale\":[[0.0,\"#0d0887\"],[0.1111111111111111,\"#46039f\"],[0.2222222222222222,\"#7201a8\"],[0.3333333333333333,\"#9c179e\"],[0.4444444444444444,\"#bd3786\"],[0.5555555555555556,\"#d8576b\"],[0.6666666666666666,\"#ed7953\"],[0.7777777777777778,\"#fb9f3a\"],[0.8888888888888888,\"#fdca26\"],[1.0,\"#f0f921\"]]}],\"contourcarpet\":[{\"type\":\"contourcarpet\",\"colorbar\":{\"outlinewidth\":0,\"ticks\":\"\"}}],\"contour\":[{\"type\":\"contour\",\"colorbar\":{\"outlinewidth\":0,\"ticks\":\"\"},\"colorscale\":[[0.0,\"#0d0887\"],[0.1111111111111111,\"#46039f\"],[0.2222222222222222,\"#7201a8\"],[0.3333333333333333,\"#9c179e\"],[0.4444444444444444,\"#bd3786\"],[0.5555555555555556,\"#d8576b\"],[0.6666666666666666,\"#ed7953\"],[0.7777777777777778,\"#fb9f3a\"],[0.8888888888888888,\"#fdca26\"],[1.0,\"#f0f921\"]]}],\"surface\":[{\"type\":\"surface\",\"colorbar\":{\"outlinewidth\":0,\"ticks\":\"\"},\"colorscale\":[[0.0,\"#0d0887\"],[0.1111111111111111,\"#46039f\"],[0.2222222222222222,\"#7201a8\"],[0.3333333333333333,\"#9c179e\"],[0.4444444444444444,\"#bd3786\"],[0.5555555555555556,\"#d8576b\"],[0.6666666666666666,\"#ed7953\"],[0.7777777777777778,\"#fb9f3a\"],[0.8888888888888888,\"#fdca26\"],[1.0,\"#f0f921\"]]}],\"mesh3d\":[{\"type\":\"mesh3d\",\"colorbar\":{\"outlinewidth\":0,\"ticks\":\"\"}}],\"scatter\":[{\"fillpattern\":{\"fillmode\":\"overlay\",\"size\":10,\"solidity\":0.2},\"type\":\"scatter\"}],\"parcoords\":[{\"type\":\"parcoords\",\"line\":{\"colorbar\":{\"outlinewidth\":0,\"ticks\":\"\"}}}],\"scatterpolargl\":[{\"type\":\"scatterpolargl\",\"marker\":{\"colorbar\":{\"outlinewidth\":0,\"ticks\":\"\"}}}],\"bar\":[{\"error_x\":{\"color\":\"#2a3f5f\"},\"error_y\":{\"color\":\"#2a3f5f\"},\"marker\":{\"line\":{\"color\":\"#E5ECF6\",\"width\":0.5},\"pattern\":{\"fillmode\":\"overlay\",\"size\":10,\"solidity\":0.2}},\"type\":\"bar\"}],\"scattergeo\":[{\"type\":\"scattergeo\",\"marker\":{\"colorbar\":{\"outlinewidth\":0,\"ticks\":\"\"}}}],\"scatterpolar\":[{\"type\":\"scatterpolar\",\"marker\":{\"colorbar\":{\"outlinewidth\":0,\"ticks\":\"\"}}}],\"histogram\":[{\"marker\":{\"pattern\":{\"fillmode\":\"overlay\",\"size\":10,\"solidity\":0.2}},\"type\":\"histogram\"}],\"scattergl\":[{\"type\":\"scattergl\",\"marker\":{\"colorbar\":{\"outlinewidth\":0,\"ticks\":\"\"}}}],\"scatter3d\":[{\"type\":\"scatter3d\",\"line\":{\"colorbar\":{\"outlinewidth\":0,\"ticks\":\"\"}},\"marker\":{\"colorbar\":{\"outlinewidth\":0,\"ticks\":\"\"}}}],\"scattermapbox\":[{\"type\":\"scattermapbox\",\"marker\":{\"colorbar\":{\"outlinewidth\":0,\"ticks\":\"\"}}}],\"scatterternary\":[{\"type\":\"scatterternary\",\"marker\":{\"colorbar\":{\"outlinewidth\":0,\"ticks\":\"\"}}}],\"scattercarpet\":[{\"type\":\"scattercarpet\",\"marker\":{\"colorbar\":{\"outlinewidth\":0,\"ticks\":\"\"}}}],\"carpet\":[{\"aaxis\":{\"endlinecolor\":\"#2a3f5f\",\"gridcolor\":\"white\",\"linecolor\":\"white\",\"minorgridcolor\":\"white\",\"startlinecolor\":\"#2a3f5f\"},\"baxis\":{\"endlinecolor\":\"#2a3f5f\",\"gridcolor\":\"white\",\"linecolor\":\"white\",\"minorgridcolor\":\"white\",\"startlinecolor\":\"#2a3f5f\"},\"type\":\"carpet\"}],\"table\":[{\"cells\":{\"fill\":{\"color\":\"#EBF0F8\"},\"line\":{\"color\":\"white\"}},\"header\":{\"fill\":{\"color\":\"#C8D4E3\"},\"line\":{\"color\":\"white\"}},\"type\":\"table\"}],\"barpolar\":[{\"marker\":{\"line\":{\"color\":\"#E5ECF6\",\"width\":0.5},\"pattern\":{\"fillmode\":\"overlay\",\"size\":10,\"solidity\":0.2}},\"type\":\"barpolar\"}],\"pie\":[{\"automargin\":true,\"type\":\"pie\"}]},\"layout\":{\"autotypenumbers\":\"strict\",\"colorway\":[\"#636efa\",\"#EF553B\",\"#00cc96\",\"#ab63fa\",\"#FFA15A\",\"#19d3f3\",\"#FF6692\",\"#B6E880\",\"#FF97FF\",\"#FECB52\"],\"font\":{\"color\":\"#2a3f5f\"},\"hovermode\":\"closest\",\"hoverlabel\":{\"align\":\"left\"},\"paper_bgcolor\":\"white\",\"plot_bgcolor\":\"#E5ECF6\",\"polar\":{\"bgcolor\":\"#E5ECF6\",\"angularaxis\":{\"gridcolor\":\"white\",\"linecolor\":\"white\",\"ticks\":\"\"},\"radialaxis\":{\"gridcolor\":\"white\",\"linecolor\":\"white\",\"ticks\":\"\"}},\"ternary\":{\"bgcolor\":\"#E5ECF6\",\"aaxis\":{\"gridcolor\":\"white\",\"linecolor\":\"white\",\"ticks\":\"\"},\"baxis\":{\"gridcolor\":\"white\",\"linecolor\":\"white\",\"ticks\":\"\"},\"caxis\":{\"gridcolor\":\"white\",\"linecolor\":\"white\",\"ticks\":\"\"}},\"coloraxis\":{\"colorbar\":{\"outlinewidth\":0,\"ticks\":\"\"}},\"colorscale\":{\"sequential\":[[0.0,\"#0d0887\"],[0.1111111111111111,\"#46039f\"],[0.2222222222222222,\"#7201a8\"],[0.3333333333333333,\"#9c179e\"],[0.4444444444444444,\"#bd3786\"],[0.5555555555555556,\"#d8576b\"],[0.6666666666666666,\"#ed7953\"],[0.7777777777777778,\"#fb9f3a\"],[0.8888888888888888,\"#fdca26\"],[1.0,\"#f0f921\"]],\"sequentialminus\":[[0.0,\"#0d0887\"],[0.1111111111111111,\"#46039f\"],[0.2222222222222222,\"#7201a8\"],[0.3333333333333333,\"#9c179e\"],[0.4444444444444444,\"#bd3786\"],[0.5555555555555556,\"#d8576b\"],[0.6666666666666666,\"#ed7953\"],[0.7777777777777778,\"#fb9f3a\"],[0.8888888888888888,\"#fdca26\"],[1.0,\"#f0f921\"]],\"diverging\":[[0,\"#8e0152\"],[0.1,\"#c51b7d\"],[0.2,\"#de77ae\"],[0.3,\"#f1b6da\"],[0.4,\"#fde0ef\"],[0.5,\"#f7f7f7\"],[0.6,\"#e6f5d0\"],[0.7,\"#b8e186\"],[0.8,\"#7fbc41\"],[0.9,\"#4d9221\"],[1,\"#276419\"]]},\"xaxis\":{\"gridcolor\":\"white\",\"linecolor\":\"white\",\"ticks\":\"\",\"title\":{\"standoff\":15},\"zerolinecolor\":\"white\",\"automargin\":true,\"zerolinewidth\":2},\"yaxis\":{\"gridcolor\":\"white\",\"linecolor\":\"white\",\"ticks\":\"\",\"title\":{\"standoff\":15},\"zerolinecolor\":\"white\",\"automargin\":true,\"zerolinewidth\":2},\"scene\":{\"xaxis\":{\"backgroundcolor\":\"#E5ECF6\",\"gridcolor\":\"white\",\"linecolor\":\"white\",\"showbackground\":true,\"ticks\":\"\",\"zerolinecolor\":\"white\",\"gridwidth\":2},\"yaxis\":{\"backgroundcolor\":\"#E5ECF6\",\"gridcolor\":\"white\",\"linecolor\":\"white\",\"showbackground\":true,\"ticks\":\"\",\"zerolinecolor\":\"white\",\"gridwidth\":2},\"zaxis\":{\"backgroundcolor\":\"#E5ECF6\",\"gridcolor\":\"white\",\"linecolor\":\"white\",\"showbackground\":true,\"ticks\":\"\",\"zerolinecolor\":\"white\",\"gridwidth\":2}},\"shapedefaults\":{\"line\":{\"color\":\"#2a3f5f\"}},\"annotationdefaults\":{\"arrowcolor\":\"#2a3f5f\",\"arrowhead\":0,\"arrowwidth\":1},\"geo\":{\"bgcolor\":\"white\",\"landcolor\":\"#E5ECF6\",\"subunitcolor\":\"white\",\"showland\":true,\"showlakes\":true,\"lakecolor\":\"white\"},\"title\":{\"x\":0.05},\"mapbox\":{\"style\":\"light\"}}}},                        {\"responsive\": true}                    ).then(function(){\n",
       "                            \n",
       "var gd = document.getElementById('1c0b07f9-af8d-4cd1-a055-155aa665b17f');\n",
       "var x = new MutationObserver(function (mutations, observer) {{\n",
       "        var display = window.getComputedStyle(gd).display;\n",
       "        if (!display || display === 'none') {{\n",
       "            console.log([gd, 'removed!']);\n",
       "            Plotly.purge(gd);\n",
       "            observer.disconnect();\n",
       "        }}\n",
       "}});\n",
       "\n",
       "// Listen for the removal of the full notebook cells\n",
       "var notebookContainer = gd.closest('#notebook-container');\n",
       "if (notebookContainer) {{\n",
       "    x.observe(notebookContainer, {childList: true});\n",
       "}}\n",
       "\n",
       "// Listen for the clearing of the current output cell\n",
       "var outputEl = gd.closest('.output');\n",
       "if (outputEl) {{\n",
       "    x.observe(outputEl, {childList: true});\n",
       "}}\n",
       "\n",
       "                        })                };                });            </script>        </div>"
      ]
     },
     "metadata": {},
     "output_type": "display_data"
    },
    {
     "data": {
      "text/plain": [
       "'https://plotly.com/~Kvothe_v1/11/'"
      ]
     },
     "execution_count": 567,
     "metadata": {},
     "output_type": "execute_result"
    }
   ],
   "source": [
    "# For the 2022 season home stats\n",
    "home_22 = go.Scatter(x=home_shootin_stats_22['SoT'], y=home_shootin_stats_22['GF'], mode='markers',\n",
    "                   text=home_shootin_stats_22.index.get_level_values('Team'),\n",
    "                   marker={'size': 35 * home_shootin_stats_22['Efficiency'],\n",
    "                           'color':home_shootin_stats_22['Efficiency'], 'colorscale': 'haline', 'showscale':True})\n",
    "                              #To have the points vary based on efficiency\n",
    "# create a layout for the plot\n",
    "home_layout_22 = go.Layout(title='Goals Scored vs. Shots on Target at Home (2022 Season)',\n",
    "                   xaxis={'title': 'Shots on Target'},\n",
    "                   yaxis={'title': 'Goals Scored'})\n",
    "\n",
    "# create a figure object\n",
    "shot_HomeStats_22 = go.Figure(data=[home_22], layout=home_layout_22)\n",
    "shot_HomeStats_22.show()\n",
    "py.plot(shot_HomeStats_22, filename='ShotsvsGoals_Home_Stats_22.html', auto_open=False)"
   ]
  },
  {
   "cell_type": "markdown",
   "id": "5ecd4301",
   "metadata": {},
   "source": [
    "#### 3. Do referees award fouls too often? What referees award the most free kicks or penalties? What's the trend over the past two seasons? "
   ]
  },
  {
   "cell_type": "code",
   "execution_count": 250,
   "id": "cbba9b36",
   "metadata": {
    "collapsed": true
   },
   "outputs": [
    {
     "data": {
      "text/html": [
       "<div>\n",
       "<style scoped>\n",
       "    .dataframe tbody tr th:only-of-type {\n",
       "        vertical-align: middle;\n",
       "    }\n",
       "\n",
       "    .dataframe tbody tr th {\n",
       "        vertical-align: top;\n",
       "    }\n",
       "\n",
       "    .dataframe thead th {\n",
       "        text-align: right;\n",
       "    }\n",
       "</style>\n",
       "<table border=\"1\" class=\"dataframe\">\n",
       "  <thead>\n",
       "    <tr style=\"text-align: right;\">\n",
       "      <th></th>\n",
       "      <th>Date</th>\n",
       "      <th>Time</th>\n",
       "      <th>Comp</th>\n",
       "      <th>Round</th>\n",
       "      <th>Day</th>\n",
       "      <th>Venue</th>\n",
       "      <th>Result</th>\n",
       "      <th>GF</th>\n",
       "      <th>GA</th>\n",
       "      <th>Opponent</th>\n",
       "      <th>...</th>\n",
       "      <th>Referee</th>\n",
       "      <th>Sh</th>\n",
       "      <th>SoT</th>\n",
       "      <th>Dist</th>\n",
       "      <th>FK</th>\n",
       "      <th>PK</th>\n",
       "      <th>PKatt</th>\n",
       "      <th>Season</th>\n",
       "      <th>Team</th>\n",
       "      <th>Sh_Accuracy</th>\n",
       "    </tr>\n",
       "  </thead>\n",
       "  <tbody>\n",
       "    <tr>\n",
       "      <th>0</th>\n",
       "      <td>2022-08-05</td>\n",
       "      <td>20:00</td>\n",
       "      <td>Premier League</td>\n",
       "      <td>Matchweek 1</td>\n",
       "      <td>Fri</td>\n",
       "      <td>Away</td>\n",
       "      <td>W</td>\n",
       "      <td>2.0</td>\n",
       "      <td>0.0</td>\n",
       "      <td>Crystal Palace</td>\n",
       "      <td>...</td>\n",
       "      <td>Anthony Taylor</td>\n",
       "      <td>10.0</td>\n",
       "      <td>2.0</td>\n",
       "      <td>14.6</td>\n",
       "      <td>1.0</td>\n",
       "      <td>0.0</td>\n",
       "      <td>0.0</td>\n",
       "      <td>2022</td>\n",
       "      <td>Arsenal</td>\n",
       "      <td>20.0</td>\n",
       "    </tr>\n",
       "    <tr>\n",
       "      <th>1</th>\n",
       "      <td>2022-08-13</td>\n",
       "      <td>15:00</td>\n",
       "      <td>Premier League</td>\n",
       "      <td>Matchweek 2</td>\n",
       "      <td>Sat</td>\n",
       "      <td>Home</td>\n",
       "      <td>W</td>\n",
       "      <td>4.0</td>\n",
       "      <td>2.0</td>\n",
       "      <td>Leicester City</td>\n",
       "      <td>...</td>\n",
       "      <td>Darren England</td>\n",
       "      <td>19.0</td>\n",
       "      <td>7.0</td>\n",
       "      <td>13.0</td>\n",
       "      <td>0.0</td>\n",
       "      <td>0.0</td>\n",
       "      <td>0.0</td>\n",
       "      <td>2022</td>\n",
       "      <td>Arsenal</td>\n",
       "      <td>37.0</td>\n",
       "    </tr>\n",
       "    <tr>\n",
       "      <th>2</th>\n",
       "      <td>2022-08-20</td>\n",
       "      <td>17:30</td>\n",
       "      <td>Premier League</td>\n",
       "      <td>Matchweek 3</td>\n",
       "      <td>Sat</td>\n",
       "      <td>Away</td>\n",
       "      <td>W</td>\n",
       "      <td>3.0</td>\n",
       "      <td>0.0</td>\n",
       "      <td>Bournemouth</td>\n",
       "      <td>...</td>\n",
       "      <td>Craig Pawson</td>\n",
       "      <td>14.0</td>\n",
       "      <td>6.0</td>\n",
       "      <td>14.8</td>\n",
       "      <td>0.0</td>\n",
       "      <td>0.0</td>\n",
       "      <td>0.0</td>\n",
       "      <td>2022</td>\n",
       "      <td>Arsenal</td>\n",
       "      <td>43.0</td>\n",
       "    </tr>\n",
       "    <tr>\n",
       "      <th>3</th>\n",
       "      <td>2022-08-27</td>\n",
       "      <td>17:30</td>\n",
       "      <td>Premier League</td>\n",
       "      <td>Matchweek 4</td>\n",
       "      <td>Sat</td>\n",
       "      <td>Home</td>\n",
       "      <td>W</td>\n",
       "      <td>2.0</td>\n",
       "      <td>1.0</td>\n",
       "      <td>Fulham</td>\n",
       "      <td>...</td>\n",
       "      <td>Jarred Gillett</td>\n",
       "      <td>22.0</td>\n",
       "      <td>8.0</td>\n",
       "      <td>15.5</td>\n",
       "      <td>1.0</td>\n",
       "      <td>0.0</td>\n",
       "      <td>0.0</td>\n",
       "      <td>2022</td>\n",
       "      <td>Arsenal</td>\n",
       "      <td>36.0</td>\n",
       "    </tr>\n",
       "    <tr>\n",
       "      <th>4</th>\n",
       "      <td>2022-08-31</td>\n",
       "      <td>19:30</td>\n",
       "      <td>Premier League</td>\n",
       "      <td>Matchweek 5</td>\n",
       "      <td>Wed</td>\n",
       "      <td>Home</td>\n",
       "      <td>W</td>\n",
       "      <td>2.0</td>\n",
       "      <td>1.0</td>\n",
       "      <td>Aston Villa</td>\n",
       "      <td>...</td>\n",
       "      <td>Robert Jones</td>\n",
       "      <td>22.0</td>\n",
       "      <td>8.0</td>\n",
       "      <td>16.3</td>\n",
       "      <td>1.0</td>\n",
       "      <td>0.0</td>\n",
       "      <td>0.0</td>\n",
       "      <td>2022</td>\n",
       "      <td>Arsenal</td>\n",
       "      <td>36.0</td>\n",
       "    </tr>\n",
       "  </tbody>\n",
       "</table>\n",
       "<p>5 rows × 26 columns</p>\n",
       "</div>"
      ],
      "text/plain": [
       "        Date   Time            Comp        Round  Day Venue Result   GF   GA  \\\n",
       "0 2022-08-05  20:00  Premier League  Matchweek 1  Fri  Away      W  2.0  0.0   \n",
       "1 2022-08-13  15:00  Premier League  Matchweek 2  Sat  Home      W  4.0  2.0   \n",
       "2 2022-08-20  17:30  Premier League  Matchweek 3  Sat  Away      W  3.0  0.0   \n",
       "3 2022-08-27  17:30  Premier League  Matchweek 4  Sat  Home      W  2.0  1.0   \n",
       "4 2022-08-31  19:30  Premier League  Matchweek 5  Wed  Home      W  2.0  1.0   \n",
       "\n",
       "         Opponent  ...         Referee    Sh  SoT  Dist   FK   PK PKatt  \\\n",
       "0  Crystal Palace  ...  Anthony Taylor  10.0  2.0  14.6  1.0  0.0   0.0   \n",
       "1  Leicester City  ...  Darren England  19.0  7.0  13.0  0.0  0.0   0.0   \n",
       "2     Bournemouth  ...    Craig Pawson  14.0  6.0  14.8  0.0  0.0   0.0   \n",
       "3          Fulham  ...  Jarred Gillett  22.0  8.0  15.5  1.0  0.0   0.0   \n",
       "4     Aston Villa  ...    Robert Jones  22.0  8.0  16.3  1.0  0.0   0.0   \n",
       "\n",
       "   Season     Team  Sh_Accuracy  \n",
       "0    2022  Arsenal         20.0  \n",
       "1    2022  Arsenal         37.0  \n",
       "2    2022  Arsenal         43.0  \n",
       "3    2022  Arsenal         36.0  \n",
       "4    2022  Arsenal         36.0  \n",
       "\n",
       "[5 rows x 26 columns]"
      ]
     },
     "execution_count": 250,
     "metadata": {},
     "output_type": "execute_result"
    }
   ],
   "source": [
    "matches_pr.head()"
   ]
  },
  {
   "cell_type": "code",
   "execution_count": 253,
   "id": "ed96a665",
   "metadata": {},
   "outputs": [
    {
     "data": {
      "text/plain": [
       "Index(['Date', 'Time', 'Comp', 'Round', 'Day', 'Venue', 'Result', 'GF', 'GA',\n",
       "       'Opponent', 'xG', 'xGA', 'Poss', 'Attendance', 'Captain', 'Formation',\n",
       "       'Referee', 'Sh', 'SoT', 'Dist', 'FK', 'PK', 'PKatt', 'Season', 'Team',\n",
       "       'Sh_Accuracy'],\n",
       "      dtype='object')"
      ]
     },
     "execution_count": 253,
     "metadata": {},
     "output_type": "execute_result"
    }
   ],
   "source": [
    "matches_pr.columns"
   ]
  },
  {
   "cell_type": "code",
   "execution_count": 258,
   "id": "08ac0a87",
   "metadata": {},
   "outputs": [
    {
     "data": {
      "text/html": [
       "<div>\n",
       "<style scoped>\n",
       "    .dataframe tbody tr th:only-of-type {\n",
       "        vertical-align: middle;\n",
       "    }\n",
       "\n",
       "    .dataframe tbody tr th {\n",
       "        vertical-align: top;\n",
       "    }\n",
       "\n",
       "    .dataframe thead th {\n",
       "        text-align: right;\n",
       "    }\n",
       "</style>\n",
       "<table border=\"1\" class=\"dataframe\">\n",
       "  <thead>\n",
       "    <tr style=\"text-align: right;\">\n",
       "      <th></th>\n",
       "      <th>Referee</th>\n",
       "      <th>Team</th>\n",
       "      <th>Season</th>\n",
       "      <th>Result</th>\n",
       "      <th>FK</th>\n",
       "      <th>PK</th>\n",
       "      <th>PKatt</th>\n",
       "    </tr>\n",
       "  </thead>\n",
       "  <tbody>\n",
       "    <tr>\n",
       "      <th>0</th>\n",
       "      <td>Anthony Taylor</td>\n",
       "      <td>Arsenal</td>\n",
       "      <td>2022</td>\n",
       "      <td>W</td>\n",
       "      <td>1.0</td>\n",
       "      <td>0.0</td>\n",
       "      <td>0.0</td>\n",
       "    </tr>\n",
       "    <tr>\n",
       "      <th>1</th>\n",
       "      <td>Darren England</td>\n",
       "      <td>Arsenal</td>\n",
       "      <td>2022</td>\n",
       "      <td>W</td>\n",
       "      <td>0.0</td>\n",
       "      <td>0.0</td>\n",
       "      <td>0.0</td>\n",
       "    </tr>\n",
       "    <tr>\n",
       "      <th>2</th>\n",
       "      <td>Craig Pawson</td>\n",
       "      <td>Arsenal</td>\n",
       "      <td>2022</td>\n",
       "      <td>W</td>\n",
       "      <td>0.0</td>\n",
       "      <td>0.0</td>\n",
       "      <td>0.0</td>\n",
       "    </tr>\n",
       "    <tr>\n",
       "      <th>3</th>\n",
       "      <td>Jarred Gillett</td>\n",
       "      <td>Arsenal</td>\n",
       "      <td>2022</td>\n",
       "      <td>W</td>\n",
       "      <td>1.0</td>\n",
       "      <td>0.0</td>\n",
       "      <td>0.0</td>\n",
       "    </tr>\n",
       "    <tr>\n",
       "      <th>4</th>\n",
       "      <td>Robert Jones</td>\n",
       "      <td>Arsenal</td>\n",
       "      <td>2022</td>\n",
       "      <td>W</td>\n",
       "      <td>1.0</td>\n",
       "      <td>0.0</td>\n",
       "      <td>0.0</td>\n",
       "    </tr>\n",
       "    <tr>\n",
       "      <th>5</th>\n",
       "      <td>Paul Tierney</td>\n",
       "      <td>Arsenal</td>\n",
       "      <td>2022</td>\n",
       "      <td>L</td>\n",
       "      <td>1.0</td>\n",
       "      <td>0.0</td>\n",
       "      <td>0.0</td>\n",
       "    </tr>\n",
       "    <tr>\n",
       "      <th>6</th>\n",
       "      <td>David Coote</td>\n",
       "      <td>Arsenal</td>\n",
       "      <td>2022</td>\n",
       "      <td>W</td>\n",
       "      <td>0.0</td>\n",
       "      <td>0.0</td>\n",
       "      <td>0.0</td>\n",
       "    </tr>\n",
       "    <tr>\n",
       "      <th>7</th>\n",
       "      <td>Anthony Taylor</td>\n",
       "      <td>Arsenal</td>\n",
       "      <td>2022</td>\n",
       "      <td>W</td>\n",
       "      <td>1.0</td>\n",
       "      <td>0.0</td>\n",
       "      <td>0.0</td>\n",
       "    </tr>\n",
       "    <tr>\n",
       "      <th>8</th>\n",
       "      <td>Michael Oliver</td>\n",
       "      <td>Arsenal</td>\n",
       "      <td>2022</td>\n",
       "      <td>W</td>\n",
       "      <td>0.0</td>\n",
       "      <td>1.0</td>\n",
       "      <td>1.0</td>\n",
       "    </tr>\n",
       "    <tr>\n",
       "      <th>9</th>\n",
       "      <td>Chris Kavanagh</td>\n",
       "      <td>Arsenal</td>\n",
       "      <td>2022</td>\n",
       "      <td>W</td>\n",
       "      <td>1.0</td>\n",
       "      <td>0.0</td>\n",
       "      <td>0.0</td>\n",
       "    </tr>\n",
       "    <tr>\n",
       "      <th>10</th>\n",
       "      <td>Robert Jones</td>\n",
       "      <td>Arsenal</td>\n",
       "      <td>2022</td>\n",
       "      <td>D</td>\n",
       "      <td>0.0</td>\n",
       "      <td>0.0</td>\n",
       "      <td>0.0</td>\n",
       "    </tr>\n",
       "    <tr>\n",
       "      <th>11</th>\n",
       "      <td>Simon Hooper</td>\n",
       "      <td>Arsenal</td>\n",
       "      <td>2022</td>\n",
       "      <td>W</td>\n",
       "      <td>1.0</td>\n",
       "      <td>0.0</td>\n",
       "      <td>0.0</td>\n",
       "    </tr>\n",
       "    <tr>\n",
       "      <th>12</th>\n",
       "      <td>Michael Oliver</td>\n",
       "      <td>Arsenal</td>\n",
       "      <td>2022</td>\n",
       "      <td>W</td>\n",
       "      <td>0.0</td>\n",
       "      <td>0.0</td>\n",
       "      <td>0.0</td>\n",
       "    </tr>\n",
       "    <tr>\n",
       "      <th>13</th>\n",
       "      <td>Stuart Attwell</td>\n",
       "      <td>Arsenal</td>\n",
       "      <td>2022</td>\n",
       "      <td>W</td>\n",
       "      <td>0.0</td>\n",
       "      <td>0.0</td>\n",
       "      <td>0.0</td>\n",
       "    </tr>\n",
       "    <tr>\n",
       "      <th>14</th>\n",
       "      <td>Michael Oliver</td>\n",
       "      <td>Arsenal</td>\n",
       "      <td>2022</td>\n",
       "      <td>W</td>\n",
       "      <td>1.0</td>\n",
       "      <td>0.0</td>\n",
       "      <td>0.0</td>\n",
       "    </tr>\n",
       "    <tr>\n",
       "      <th>15</th>\n",
       "      <td>Anthony Taylor</td>\n",
       "      <td>Arsenal</td>\n",
       "      <td>2022</td>\n",
       "      <td>W</td>\n",
       "      <td>0.0</td>\n",
       "      <td>0.0</td>\n",
       "      <td>0.0</td>\n",
       "    </tr>\n",
       "    <tr>\n",
       "      <th>16</th>\n",
       "      <td>Andy Madley</td>\n",
       "      <td>Arsenal</td>\n",
       "      <td>2022</td>\n",
       "      <td>D</td>\n",
       "      <td>0.0</td>\n",
       "      <td>0.0</td>\n",
       "      <td>0.0</td>\n",
       "    </tr>\n",
       "    <tr>\n",
       "      <th>17</th>\n",
       "      <td>Craig Pawson</td>\n",
       "      <td>Arsenal</td>\n",
       "      <td>2022</td>\n",
       "      <td>W</td>\n",
       "      <td>2.0</td>\n",
       "      <td>0.0</td>\n",
       "      <td>0.0</td>\n",
       "    </tr>\n",
       "    <tr>\n",
       "      <th>18</th>\n",
       "      <td>Anthony Taylor</td>\n",
       "      <td>Arsenal</td>\n",
       "      <td>2022</td>\n",
       "      <td>W</td>\n",
       "      <td>0.0</td>\n",
       "      <td>0.0</td>\n",
       "      <td>0.0</td>\n",
       "    </tr>\n",
       "    <tr>\n",
       "      <th>19</th>\n",
       "      <td>David Coote</td>\n",
       "      <td>Arsenal</td>\n",
       "      <td>2022</td>\n",
       "      <td>L</td>\n",
       "      <td>0.0</td>\n",
       "      <td>0.0</td>\n",
       "      <td>0.0</td>\n",
       "    </tr>\n",
       "    <tr>\n",
       "      <th>20</th>\n",
       "      <td>Peter Bankes</td>\n",
       "      <td>Arsenal</td>\n",
       "      <td>2022</td>\n",
       "      <td>D</td>\n",
       "      <td>0.0</td>\n",
       "      <td>0.0</td>\n",
       "      <td>0.0</td>\n",
       "    </tr>\n",
       "    <tr>\n",
       "      <th>21</th>\n",
       "      <td>Anthony Taylor</td>\n",
       "      <td>Arsenal</td>\n",
       "      <td>2022</td>\n",
       "      <td>L</td>\n",
       "      <td>0.0</td>\n",
       "      <td>1.0</td>\n",
       "      <td>1.0</td>\n",
       "    </tr>\n",
       "    <tr>\n",
       "      <th>22</th>\n",
       "      <td>Simon Hooper</td>\n",
       "      <td>Arsenal</td>\n",
       "      <td>2022</td>\n",
       "      <td>W</td>\n",
       "      <td>0.0</td>\n",
       "      <td>0.0</td>\n",
       "      <td>0.0</td>\n",
       "    </tr>\n",
       "    <tr>\n",
       "      <th>23</th>\n",
       "      <td>Michael Oliver</td>\n",
       "      <td>Manchester City</td>\n",
       "      <td>2022</td>\n",
       "      <td>W</td>\n",
       "      <td>1.0</td>\n",
       "      <td>1.0</td>\n",
       "      <td>1.0</td>\n",
       "    </tr>\n",
       "    <tr>\n",
       "      <th>24</th>\n",
       "      <td>David Coote</td>\n",
       "      <td>Manchester City</td>\n",
       "      <td>2022</td>\n",
       "      <td>W</td>\n",
       "      <td>0.0</td>\n",
       "      <td>0.0</td>\n",
       "      <td>0.0</td>\n",
       "    </tr>\n",
       "    <tr>\n",
       "      <th>25</th>\n",
       "      <td>Jarred Gillett</td>\n",
       "      <td>Manchester City</td>\n",
       "      <td>2022</td>\n",
       "      <td>D</td>\n",
       "      <td>1.0</td>\n",
       "      <td>0.0</td>\n",
       "      <td>0.0</td>\n",
       "    </tr>\n",
       "    <tr>\n",
       "      <th>26</th>\n",
       "      <td>Darren England</td>\n",
       "      <td>Manchester City</td>\n",
       "      <td>2022</td>\n",
       "      <td>W</td>\n",
       "      <td>0.0</td>\n",
       "      <td>0.0</td>\n",
       "      <td>0.0</td>\n",
       "    </tr>\n",
       "    <tr>\n",
       "      <th>27</th>\n",
       "      <td>Paul Tierney</td>\n",
       "      <td>Manchester City</td>\n",
       "      <td>2022</td>\n",
       "      <td>W</td>\n",
       "      <td>0.0</td>\n",
       "      <td>0.0</td>\n",
       "      <td>0.0</td>\n",
       "    </tr>\n",
       "    <tr>\n",
       "      <th>28</th>\n",
       "      <td>Simon Hooper</td>\n",
       "      <td>Manchester City</td>\n",
       "      <td>2022</td>\n",
       "      <td>D</td>\n",
       "      <td>1.0</td>\n",
       "      <td>0.0</td>\n",
       "      <td>0.0</td>\n",
       "    </tr>\n",
       "    <tr>\n",
       "      <th>29</th>\n",
       "      <td>Anthony Taylor</td>\n",
       "      <td>Manchester City</td>\n",
       "      <td>2022</td>\n",
       "      <td>W</td>\n",
       "      <td>0.0</td>\n",
       "      <td>0.0</td>\n",
       "      <td>0.0</td>\n",
       "    </tr>\n",
       "    <tr>\n",
       "      <th>30</th>\n",
       "      <td>Michael Oliver</td>\n",
       "      <td>Manchester City</td>\n",
       "      <td>2022</td>\n",
       "      <td>W</td>\n",
       "      <td>1.0</td>\n",
       "      <td>0.0</td>\n",
       "      <td>0.0</td>\n",
       "    </tr>\n",
       "    <tr>\n",
       "      <th>31</th>\n",
       "      <td>Andy Madley</td>\n",
       "      <td>Manchester City</td>\n",
       "      <td>2022</td>\n",
       "      <td>W</td>\n",
       "      <td>0.0</td>\n",
       "      <td>0.0</td>\n",
       "      <td>0.0</td>\n",
       "    </tr>\n",
       "    <tr>\n",
       "      <th>32</th>\n",
       "      <td>Anthony Taylor</td>\n",
       "      <td>Manchester City</td>\n",
       "      <td>2022</td>\n",
       "      <td>L</td>\n",
       "      <td>0.0</td>\n",
       "      <td>0.0</td>\n",
       "      <td>0.0</td>\n",
       "    </tr>\n",
       "    <tr>\n",
       "      <th>33</th>\n",
       "      <td>Craig Pawson</td>\n",
       "      <td>Manchester City</td>\n",
       "      <td>2022</td>\n",
       "      <td>W</td>\n",
       "      <td>0.0</td>\n",
       "      <td>1.0</td>\n",
       "      <td>1.0</td>\n",
       "    </tr>\n",
       "    <tr>\n",
       "      <th>34</th>\n",
       "      <td>Robert Jones</td>\n",
       "      <td>Manchester City</td>\n",
       "      <td>2022</td>\n",
       "      <td>W</td>\n",
       "      <td>1.0</td>\n",
       "      <td>0.0</td>\n",
       "      <td>0.0</td>\n",
       "    </tr>\n",
       "    <tr>\n",
       "      <th>35</th>\n",
       "      <td>Darren England</td>\n",
       "      <td>Manchester City</td>\n",
       "      <td>2022</td>\n",
       "      <td>W</td>\n",
       "      <td>1.0</td>\n",
       "      <td>1.0</td>\n",
       "      <td>1.0</td>\n",
       "    </tr>\n",
       "    <tr>\n",
       "      <th>36</th>\n",
       "      <td>Peter Bankes</td>\n",
       "      <td>Manchester City</td>\n",
       "      <td>2022</td>\n",
       "      <td>L</td>\n",
       "      <td>0.0</td>\n",
       "      <td>0.0</td>\n",
       "      <td>0.0</td>\n",
       "    </tr>\n",
       "    <tr>\n",
       "      <th>37</th>\n",
       "      <td>Stuart Attwell</td>\n",
       "      <td>Manchester City</td>\n",
       "      <td>2022</td>\n",
       "      <td>W</td>\n",
       "      <td>0.0</td>\n",
       "      <td>0.0</td>\n",
       "      <td>0.0</td>\n",
       "    </tr>\n",
       "    <tr>\n",
       "      <th>38</th>\n",
       "      <td>Andy Madley</td>\n",
       "      <td>Manchester City</td>\n",
       "      <td>2022</td>\n",
       "      <td>D</td>\n",
       "      <td>0.0</td>\n",
       "      <td>0.0</td>\n",
       "      <td>0.0</td>\n",
       "    </tr>\n",
       "    <tr>\n",
       "      <th>39</th>\n",
       "      <td>Paul Tierney</td>\n",
       "      <td>Manchester City</td>\n",
       "      <td>2022</td>\n",
       "      <td>W</td>\n",
       "      <td>0.0</td>\n",
       "      <td>0.0</td>\n",
       "      <td>0.0</td>\n",
       "    </tr>\n",
       "    <tr>\n",
       "      <th>40</th>\n",
       "      <td>Stuart Attwell</td>\n",
       "      <td>Manchester City</td>\n",
       "      <td>2022</td>\n",
       "      <td>L</td>\n",
       "      <td>0.0</td>\n",
       "      <td>0.0</td>\n",
       "      <td>0.0</td>\n",
       "    </tr>\n",
       "    <tr>\n",
       "      <th>41</th>\n",
       "      <td>Simon Hooper</td>\n",
       "      <td>Manchester City</td>\n",
       "      <td>2022</td>\n",
       "      <td>W</td>\n",
       "      <td>1.0</td>\n",
       "      <td>0.0</td>\n",
       "      <td>0.0</td>\n",
       "    </tr>\n",
       "    <tr>\n",
       "      <th>42</th>\n",
       "      <td>David Coote</td>\n",
       "      <td>Manchester City</td>\n",
       "      <td>2022</td>\n",
       "      <td>W</td>\n",
       "      <td>0.0</td>\n",
       "      <td>1.0</td>\n",
       "      <td>1.0</td>\n",
       "    </tr>\n",
       "    <tr>\n",
       "      <th>43</th>\n",
       "      <td>Andy Madley</td>\n",
       "      <td>Manchester City</td>\n",
       "      <td>2022</td>\n",
       "      <td>L</td>\n",
       "      <td>1.0</td>\n",
       "      <td>0.0</td>\n",
       "      <td>0.0</td>\n",
       "    </tr>\n",
       "    <tr>\n",
       "      <th>44</th>\n",
       "      <td>Robert Jones</td>\n",
       "      <td>Manchester City</td>\n",
       "      <td>2022</td>\n",
       "      <td>W</td>\n",
       "      <td>1.0</td>\n",
       "      <td>1.0</td>\n",
       "      <td>1.0</td>\n",
       "    </tr>\n",
       "    <tr>\n",
       "      <th>45</th>\n",
       "      <td>Anthony Taylor</td>\n",
       "      <td>Manchester City</td>\n",
       "      <td>2022</td>\n",
       "      <td>W</td>\n",
       "      <td>0.0</td>\n",
       "      <td>0.0</td>\n",
       "      <td>0.0</td>\n",
       "    </tr>\n",
       "    <tr>\n",
       "      <th>46</th>\n",
       "      <td>Graham Scott</td>\n",
       "      <td>Manchester City</td>\n",
       "      <td>2022</td>\n",
       "      <td>D</td>\n",
       "      <td>2.0</td>\n",
       "      <td>0.0</td>\n",
       "      <td>0.0</td>\n",
       "    </tr>\n",
       "    <tr>\n",
       "      <th>47</th>\n",
       "      <td>Paul Tierney</td>\n",
       "      <td>Manchester United</td>\n",
       "      <td>2022</td>\n",
       "      <td>L</td>\n",
       "      <td>0.0</td>\n",
       "      <td>0.0</td>\n",
       "      <td>0.0</td>\n",
       "    </tr>\n",
       "    <tr>\n",
       "      <th>48</th>\n",
       "      <td>Stuart Attwell</td>\n",
       "      <td>Manchester United</td>\n",
       "      <td>2022</td>\n",
       "      <td>L</td>\n",
       "      <td>0.0</td>\n",
       "      <td>0.0</td>\n",
       "      <td>0.0</td>\n",
       "    </tr>\n",
       "    <tr>\n",
       "      <th>49</th>\n",
       "      <td>Michael Oliver</td>\n",
       "      <td>Manchester United</td>\n",
       "      <td>2022</td>\n",
       "      <td>W</td>\n",
       "      <td>2.0</td>\n",
       "      <td>0.0</td>\n",
       "      <td>0.0</td>\n",
       "    </tr>\n",
       "  </tbody>\n",
       "</table>\n",
       "</div>"
      ],
      "text/plain": [
       "           Referee               Team  Season Result   FK   PK  PKatt\n",
       "0   Anthony Taylor            Arsenal    2022      W  1.0  0.0    0.0\n",
       "1   Darren England            Arsenal    2022      W  0.0  0.0    0.0\n",
       "2     Craig Pawson            Arsenal    2022      W  0.0  0.0    0.0\n",
       "3   Jarred Gillett            Arsenal    2022      W  1.0  0.0    0.0\n",
       "4     Robert Jones            Arsenal    2022      W  1.0  0.0    0.0\n",
       "5     Paul Tierney            Arsenal    2022      L  1.0  0.0    0.0\n",
       "6      David Coote            Arsenal    2022      W  0.0  0.0    0.0\n",
       "7   Anthony Taylor            Arsenal    2022      W  1.0  0.0    0.0\n",
       "8   Michael Oliver            Arsenal    2022      W  0.0  1.0    1.0\n",
       "9   Chris Kavanagh            Arsenal    2022      W  1.0  0.0    0.0\n",
       "10    Robert Jones            Arsenal    2022      D  0.0  0.0    0.0\n",
       "11    Simon Hooper            Arsenal    2022      W  1.0  0.0    0.0\n",
       "12  Michael Oliver            Arsenal    2022      W  0.0  0.0    0.0\n",
       "13  Stuart Attwell            Arsenal    2022      W  0.0  0.0    0.0\n",
       "14  Michael Oliver            Arsenal    2022      W  1.0  0.0    0.0\n",
       "15  Anthony Taylor            Arsenal    2022      W  0.0  0.0    0.0\n",
       "16     Andy Madley            Arsenal    2022      D  0.0  0.0    0.0\n",
       "17    Craig Pawson            Arsenal    2022      W  2.0  0.0    0.0\n",
       "18  Anthony Taylor            Arsenal    2022      W  0.0  0.0    0.0\n",
       "19     David Coote            Arsenal    2022      L  0.0  0.0    0.0\n",
       "20    Peter Bankes            Arsenal    2022      D  0.0  0.0    0.0\n",
       "21  Anthony Taylor            Arsenal    2022      L  0.0  1.0    1.0\n",
       "22    Simon Hooper            Arsenal    2022      W  0.0  0.0    0.0\n",
       "23  Michael Oliver    Manchester City    2022      W  1.0  1.0    1.0\n",
       "24     David Coote    Manchester City    2022      W  0.0  0.0    0.0\n",
       "25  Jarred Gillett    Manchester City    2022      D  1.0  0.0    0.0\n",
       "26  Darren England    Manchester City    2022      W  0.0  0.0    0.0\n",
       "27    Paul Tierney    Manchester City    2022      W  0.0  0.0    0.0\n",
       "28    Simon Hooper    Manchester City    2022      D  1.0  0.0    0.0\n",
       "29  Anthony Taylor    Manchester City    2022      W  0.0  0.0    0.0\n",
       "30  Michael Oliver    Manchester City    2022      W  1.0  0.0    0.0\n",
       "31     Andy Madley    Manchester City    2022      W  0.0  0.0    0.0\n",
       "32  Anthony Taylor    Manchester City    2022      L  0.0  0.0    0.0\n",
       "33    Craig Pawson    Manchester City    2022      W  0.0  1.0    1.0\n",
       "34    Robert Jones    Manchester City    2022      W  1.0  0.0    0.0\n",
       "35  Darren England    Manchester City    2022      W  1.0  1.0    1.0\n",
       "36    Peter Bankes    Manchester City    2022      L  0.0  0.0    0.0\n",
       "37  Stuart Attwell    Manchester City    2022      W  0.0  0.0    0.0\n",
       "38     Andy Madley    Manchester City    2022      D  0.0  0.0    0.0\n",
       "39    Paul Tierney    Manchester City    2022      W  0.0  0.0    0.0\n",
       "40  Stuart Attwell    Manchester City    2022      L  0.0  0.0    0.0\n",
       "41    Simon Hooper    Manchester City    2022      W  1.0  0.0    0.0\n",
       "42     David Coote    Manchester City    2022      W  0.0  1.0    1.0\n",
       "43     Andy Madley    Manchester City    2022      L  1.0  0.0    0.0\n",
       "44    Robert Jones    Manchester City    2022      W  1.0  1.0    1.0\n",
       "45  Anthony Taylor    Manchester City    2022      W  0.0  0.0    0.0\n",
       "46    Graham Scott    Manchester City    2022      D  2.0  0.0    0.0\n",
       "47    Paul Tierney  Manchester United    2022      L  0.0  0.0    0.0\n",
       "48  Stuart Attwell  Manchester United    2022      L  0.0  0.0    0.0\n",
       "49  Michael Oliver  Manchester United    2022      W  2.0  0.0    0.0"
      ]
     },
     "execution_count": 258,
     "metadata": {},
     "output_type": "execute_result"
    }
   ],
   "source": [
    "matches_pr[['Referee','Team','Season','Result','FK','PK','PKatt']].head(50)"
   ]
  },
  {
   "cell_type": "code",
   "execution_count": 352,
   "id": "9b4e53aa",
   "metadata": {
    "scrolled": true
   },
   "outputs": [
    {
     "data": {
      "text/plain": [
       "25"
      ]
     },
     "execution_count": 352,
     "metadata": {},
     "output_type": "execute_result"
    }
   ],
   "source": [
    "referees = matches_pr.pivot_table(['Result','FK','PK','PKatt'], index=['Referee'], aggfunc= ['sum'])\n",
    "#To make the freekicks column more understandable, I changed the name\n",
    "#referees.rename(columns={'FK': 'FKatt'}, inplace=True)\n",
    "len(referees)"
   ]
  },
  {
   "cell_type": "code",
   "execution_count": 342,
   "id": "bf028fe6",
   "metadata": {},
   "outputs": [
    {
     "data": {
      "text/html": [
       "<div>\n",
       "<style scoped>\n",
       "    .dataframe tbody tr th:only-of-type {\n",
       "        vertical-align: middle;\n",
       "    }\n",
       "\n",
       "    .dataframe tbody tr th {\n",
       "        vertical-align: top;\n",
       "    }\n",
       "\n",
       "    .dataframe thead th {\n",
       "        text-align: right;\n",
       "    }\n",
       "</style>\n",
       "<table border=\"1\" class=\"dataframe\">\n",
       "  <thead>\n",
       "    <tr style=\"text-align: right;\">\n",
       "      <th></th>\n",
       "      <th>PKatt</th>\n",
       "    </tr>\n",
       "  </thead>\n",
       "  <tbody>\n",
       "    <tr>\n",
       "      <th>count</th>\n",
       "      <td>25.0</td>\n",
       "    </tr>\n",
       "    <tr>\n",
       "      <th>mean</th>\n",
       "      <td>6.0</td>\n",
       "    </tr>\n",
       "    <tr>\n",
       "      <th>std</th>\n",
       "      <td>4.0</td>\n",
       "    </tr>\n",
       "    <tr>\n",
       "      <th>min</th>\n",
       "      <td>0.0</td>\n",
       "    </tr>\n",
       "    <tr>\n",
       "      <th>25%</th>\n",
       "      <td>4.0</td>\n",
       "    </tr>\n",
       "    <tr>\n",
       "      <th>50%</th>\n",
       "      <td>6.0</td>\n",
       "    </tr>\n",
       "    <tr>\n",
       "      <th>75%</th>\n",
       "      <td>8.0</td>\n",
       "    </tr>\n",
       "    <tr>\n",
       "      <th>max</th>\n",
       "      <td>13.0</td>\n",
       "    </tr>\n",
       "  </tbody>\n",
       "</table>\n",
       "</div>"
      ],
      "text/plain": [
       "       PKatt\n",
       "count   25.0\n",
       "mean     6.0\n",
       "std      4.0\n",
       "min      0.0\n",
       "25%      4.0\n",
       "50%      6.0\n",
       "75%      8.0\n",
       "max     13.0"
      ]
     },
     "execution_count": 342,
     "metadata": {},
     "output_type": "execute_result"
    }
   ],
   "source": [
    "# Here I am getting the 25th and 75th quartiles\n",
    "#round(referees['sum'][['PKatt']].describe())\n",
    "round(referees['sum'][['FK']].describe())"
   ]
  },
  {
   "cell_type": "code",
   "execution_count": 568,
   "id": "09fab4a8",
   "metadata": {},
   "outputs": [
    {
     "data": {
      "application/vnd.plotly.v1+json": {
       "config": {
        "plotlyServerURL": "https://plotly.com"
       },
       "data": [
        {
         "marker": {
          "color": [
           8,
           6,
           8,
           6,
           5,
           4,
           4,
           7,
           7,
           7,
           5,
           4,
           7
          ],
          "colorscale": [
           [
            0,
            "rgb(252,251,253)"
           ],
           [
            0.125,
            "rgb(239,237,245)"
           ],
           [
            0.25,
            "rgb(218,218,235)"
           ],
           [
            0.375,
            "rgb(188,189,220)"
           ],
           [
            0.5,
            "rgb(158,154,200)"
           ],
           [
            0.625,
            "rgb(128,125,186)"
           ],
           [
            0.75,
            "rgb(106,81,163)"
           ],
           [
            0.875,
            "rgb(84,39,143)"
           ],
           [
            1,
            "rgb(63,0,125)"
           ]
          ],
          "showscale": true
         },
         "type": "bar",
         "x": [
          "Andre Marriner",
          "Andy Madley",
          "Anthony Taylor",
          "Chris Kavanagh",
          "Craig Pawson",
          "Darren Bond",
          "Darren England",
          "David Coote",
          "Graham Scott",
          "Jarred Gillett",
          "John Brooks",
          "Jonathan Moss",
          "Kevin Friend",
          "Martin Atkinson",
          "Michael Oliver",
          "Michael Salisbury",
          "Mike Dean",
          "Paul Tierney",
          "Peter Bankes",
          "Robert Jones",
          "Robert Madley",
          "Simon Hooper",
          "Stuart Attwell",
          "Thomas Bramall",
          "Tony Harrington"
         ],
         "y": [
          8,
          6,
          8,
          6,
          5,
          4,
          4,
          7,
          7,
          7,
          5,
          4,
          7
         ]
        }
       ],
       "layout": {
        "template": {
         "data": {
          "bar": [
           {
            "error_x": {
             "color": "#2a3f5f"
            },
            "error_y": {
             "color": "#2a3f5f"
            },
            "marker": {
             "line": {
              "color": "#E5ECF6",
              "width": 0.5
             },
             "pattern": {
              "fillmode": "overlay",
              "size": 10,
              "solidity": 0.2
             }
            },
            "type": "bar"
           }
          ],
          "barpolar": [
           {
            "marker": {
             "line": {
              "color": "#E5ECF6",
              "width": 0.5
             },
             "pattern": {
              "fillmode": "overlay",
              "size": 10,
              "solidity": 0.2
             }
            },
            "type": "barpolar"
           }
          ],
          "carpet": [
           {
            "aaxis": {
             "endlinecolor": "#2a3f5f",
             "gridcolor": "white",
             "linecolor": "white",
             "minorgridcolor": "white",
             "startlinecolor": "#2a3f5f"
            },
            "baxis": {
             "endlinecolor": "#2a3f5f",
             "gridcolor": "white",
             "linecolor": "white",
             "minorgridcolor": "white",
             "startlinecolor": "#2a3f5f"
            },
            "type": "carpet"
           }
          ],
          "choropleth": [
           {
            "colorbar": {
             "outlinewidth": 0,
             "ticks": ""
            },
            "type": "choropleth"
           }
          ],
          "contour": [
           {
            "colorbar": {
             "outlinewidth": 0,
             "ticks": ""
            },
            "colorscale": [
             [
              0,
              "#0d0887"
             ],
             [
              0.1111111111111111,
              "#46039f"
             ],
             [
              0.2222222222222222,
              "#7201a8"
             ],
             [
              0.3333333333333333,
              "#9c179e"
             ],
             [
              0.4444444444444444,
              "#bd3786"
             ],
             [
              0.5555555555555556,
              "#d8576b"
             ],
             [
              0.6666666666666666,
              "#ed7953"
             ],
             [
              0.7777777777777778,
              "#fb9f3a"
             ],
             [
              0.8888888888888888,
              "#fdca26"
             ],
             [
              1,
              "#f0f921"
             ]
            ],
            "type": "contour"
           }
          ],
          "contourcarpet": [
           {
            "colorbar": {
             "outlinewidth": 0,
             "ticks": ""
            },
            "type": "contourcarpet"
           }
          ],
          "heatmap": [
           {
            "colorbar": {
             "outlinewidth": 0,
             "ticks": ""
            },
            "colorscale": [
             [
              0,
              "#0d0887"
             ],
             [
              0.1111111111111111,
              "#46039f"
             ],
             [
              0.2222222222222222,
              "#7201a8"
             ],
             [
              0.3333333333333333,
              "#9c179e"
             ],
             [
              0.4444444444444444,
              "#bd3786"
             ],
             [
              0.5555555555555556,
              "#d8576b"
             ],
             [
              0.6666666666666666,
              "#ed7953"
             ],
             [
              0.7777777777777778,
              "#fb9f3a"
             ],
             [
              0.8888888888888888,
              "#fdca26"
             ],
             [
              1,
              "#f0f921"
             ]
            ],
            "type": "heatmap"
           }
          ],
          "heatmapgl": [
           {
            "colorbar": {
             "outlinewidth": 0,
             "ticks": ""
            },
            "colorscale": [
             [
              0,
              "#0d0887"
             ],
             [
              0.1111111111111111,
              "#46039f"
             ],
             [
              0.2222222222222222,
              "#7201a8"
             ],
             [
              0.3333333333333333,
              "#9c179e"
             ],
             [
              0.4444444444444444,
              "#bd3786"
             ],
             [
              0.5555555555555556,
              "#d8576b"
             ],
             [
              0.6666666666666666,
              "#ed7953"
             ],
             [
              0.7777777777777778,
              "#fb9f3a"
             ],
             [
              0.8888888888888888,
              "#fdca26"
             ],
             [
              1,
              "#f0f921"
             ]
            ],
            "type": "heatmapgl"
           }
          ],
          "histogram": [
           {
            "marker": {
             "pattern": {
              "fillmode": "overlay",
              "size": 10,
              "solidity": 0.2
             }
            },
            "type": "histogram"
           }
          ],
          "histogram2d": [
           {
            "colorbar": {
             "outlinewidth": 0,
             "ticks": ""
            },
            "colorscale": [
             [
              0,
              "#0d0887"
             ],
             [
              0.1111111111111111,
              "#46039f"
             ],
             [
              0.2222222222222222,
              "#7201a8"
             ],
             [
              0.3333333333333333,
              "#9c179e"
             ],
             [
              0.4444444444444444,
              "#bd3786"
             ],
             [
              0.5555555555555556,
              "#d8576b"
             ],
             [
              0.6666666666666666,
              "#ed7953"
             ],
             [
              0.7777777777777778,
              "#fb9f3a"
             ],
             [
              0.8888888888888888,
              "#fdca26"
             ],
             [
              1,
              "#f0f921"
             ]
            ],
            "type": "histogram2d"
           }
          ],
          "histogram2dcontour": [
           {
            "colorbar": {
             "outlinewidth": 0,
             "ticks": ""
            },
            "colorscale": [
             [
              0,
              "#0d0887"
             ],
             [
              0.1111111111111111,
              "#46039f"
             ],
             [
              0.2222222222222222,
              "#7201a8"
             ],
             [
              0.3333333333333333,
              "#9c179e"
             ],
             [
              0.4444444444444444,
              "#bd3786"
             ],
             [
              0.5555555555555556,
              "#d8576b"
             ],
             [
              0.6666666666666666,
              "#ed7953"
             ],
             [
              0.7777777777777778,
              "#fb9f3a"
             ],
             [
              0.8888888888888888,
              "#fdca26"
             ],
             [
              1,
              "#f0f921"
             ]
            ],
            "type": "histogram2dcontour"
           }
          ],
          "mesh3d": [
           {
            "colorbar": {
             "outlinewidth": 0,
             "ticks": ""
            },
            "type": "mesh3d"
           }
          ],
          "parcoords": [
           {
            "line": {
             "colorbar": {
              "outlinewidth": 0,
              "ticks": ""
             }
            },
            "type": "parcoords"
           }
          ],
          "pie": [
           {
            "automargin": true,
            "type": "pie"
           }
          ],
          "scatter": [
           {
            "fillpattern": {
             "fillmode": "overlay",
             "size": 10,
             "solidity": 0.2
            },
            "type": "scatter"
           }
          ],
          "scatter3d": [
           {
            "line": {
             "colorbar": {
              "outlinewidth": 0,
              "ticks": ""
             }
            },
            "marker": {
             "colorbar": {
              "outlinewidth": 0,
              "ticks": ""
             }
            },
            "type": "scatter3d"
           }
          ],
          "scattercarpet": [
           {
            "marker": {
             "colorbar": {
              "outlinewidth": 0,
              "ticks": ""
             }
            },
            "type": "scattercarpet"
           }
          ],
          "scattergeo": [
           {
            "marker": {
             "colorbar": {
              "outlinewidth": 0,
              "ticks": ""
             }
            },
            "type": "scattergeo"
           }
          ],
          "scattergl": [
           {
            "marker": {
             "colorbar": {
              "outlinewidth": 0,
              "ticks": ""
             }
            },
            "type": "scattergl"
           }
          ],
          "scattermapbox": [
           {
            "marker": {
             "colorbar": {
              "outlinewidth": 0,
              "ticks": ""
             }
            },
            "type": "scattermapbox"
           }
          ],
          "scatterpolar": [
           {
            "marker": {
             "colorbar": {
              "outlinewidth": 0,
              "ticks": ""
             }
            },
            "type": "scatterpolar"
           }
          ],
          "scatterpolargl": [
           {
            "marker": {
             "colorbar": {
              "outlinewidth": 0,
              "ticks": ""
             }
            },
            "type": "scatterpolargl"
           }
          ],
          "scatterternary": [
           {
            "marker": {
             "colorbar": {
              "outlinewidth": 0,
              "ticks": ""
             }
            },
            "type": "scatterternary"
           }
          ],
          "surface": [
           {
            "colorbar": {
             "outlinewidth": 0,
             "ticks": ""
            },
            "colorscale": [
             [
              0,
              "#0d0887"
             ],
             [
              0.1111111111111111,
              "#46039f"
             ],
             [
              0.2222222222222222,
              "#7201a8"
             ],
             [
              0.3333333333333333,
              "#9c179e"
             ],
             [
              0.4444444444444444,
              "#bd3786"
             ],
             [
              0.5555555555555556,
              "#d8576b"
             ],
             [
              0.6666666666666666,
              "#ed7953"
             ],
             [
              0.7777777777777778,
              "#fb9f3a"
             ],
             [
              0.8888888888888888,
              "#fdca26"
             ],
             [
              1,
              "#f0f921"
             ]
            ],
            "type": "surface"
           }
          ],
          "table": [
           {
            "cells": {
             "fill": {
              "color": "#EBF0F8"
             },
             "line": {
              "color": "white"
             }
            },
            "header": {
             "fill": {
              "color": "#C8D4E3"
             },
             "line": {
              "color": "white"
             }
            },
            "type": "table"
           }
          ]
         },
         "layout": {
          "annotationdefaults": {
           "arrowcolor": "#2a3f5f",
           "arrowhead": 0,
           "arrowwidth": 1
          },
          "autotypenumbers": "strict",
          "coloraxis": {
           "colorbar": {
            "outlinewidth": 0,
            "ticks": ""
           }
          },
          "colorscale": {
           "diverging": [
            [
             0,
             "#8e0152"
            ],
            [
             0.1,
             "#c51b7d"
            ],
            [
             0.2,
             "#de77ae"
            ],
            [
             0.3,
             "#f1b6da"
            ],
            [
             0.4,
             "#fde0ef"
            ],
            [
             0.5,
             "#f7f7f7"
            ],
            [
             0.6,
             "#e6f5d0"
            ],
            [
             0.7,
             "#b8e186"
            ],
            [
             0.8,
             "#7fbc41"
            ],
            [
             0.9,
             "#4d9221"
            ],
            [
             1,
             "#276419"
            ]
           ],
           "sequential": [
            [
             0,
             "#0d0887"
            ],
            [
             0.1111111111111111,
             "#46039f"
            ],
            [
             0.2222222222222222,
             "#7201a8"
            ],
            [
             0.3333333333333333,
             "#9c179e"
            ],
            [
             0.4444444444444444,
             "#bd3786"
            ],
            [
             0.5555555555555556,
             "#d8576b"
            ],
            [
             0.6666666666666666,
             "#ed7953"
            ],
            [
             0.7777777777777778,
             "#fb9f3a"
            ],
            [
             0.8888888888888888,
             "#fdca26"
            ],
            [
             1,
             "#f0f921"
            ]
           ],
           "sequentialminus": [
            [
             0,
             "#0d0887"
            ],
            [
             0.1111111111111111,
             "#46039f"
            ],
            [
             0.2222222222222222,
             "#7201a8"
            ],
            [
             0.3333333333333333,
             "#9c179e"
            ],
            [
             0.4444444444444444,
             "#bd3786"
            ],
            [
             0.5555555555555556,
             "#d8576b"
            ],
            [
             0.6666666666666666,
             "#ed7953"
            ],
            [
             0.7777777777777778,
             "#fb9f3a"
            ],
            [
             0.8888888888888888,
             "#fdca26"
            ],
            [
             1,
             "#f0f921"
            ]
           ]
          },
          "colorway": [
           "#636efa",
           "#EF553B",
           "#00cc96",
           "#ab63fa",
           "#FFA15A",
           "#19d3f3",
           "#FF6692",
           "#B6E880",
           "#FF97FF",
           "#FECB52"
          ],
          "font": {
           "color": "#2a3f5f"
          },
          "geo": {
           "bgcolor": "white",
           "lakecolor": "white",
           "landcolor": "#E5ECF6",
           "showlakes": true,
           "showland": true,
           "subunitcolor": "white"
          },
          "hoverlabel": {
           "align": "left"
          },
          "hovermode": "closest",
          "mapbox": {
           "style": "light"
          },
          "paper_bgcolor": "white",
          "plot_bgcolor": "#E5ECF6",
          "polar": {
           "angularaxis": {
            "gridcolor": "white",
            "linecolor": "white",
            "ticks": ""
           },
           "bgcolor": "#E5ECF6",
           "radialaxis": {
            "gridcolor": "white",
            "linecolor": "white",
            "ticks": ""
           }
          },
          "scene": {
           "xaxis": {
            "backgroundcolor": "#E5ECF6",
            "gridcolor": "white",
            "gridwidth": 2,
            "linecolor": "white",
            "showbackground": true,
            "ticks": "",
            "zerolinecolor": "white"
           },
           "yaxis": {
            "backgroundcolor": "#E5ECF6",
            "gridcolor": "white",
            "gridwidth": 2,
            "linecolor": "white",
            "showbackground": true,
            "ticks": "",
            "zerolinecolor": "white"
           },
           "zaxis": {
            "backgroundcolor": "#E5ECF6",
            "gridcolor": "white",
            "gridwidth": 2,
            "linecolor": "white",
            "showbackground": true,
            "ticks": "",
            "zerolinecolor": "white"
           }
          },
          "shapedefaults": {
           "line": {
            "color": "#2a3f5f"
           }
          },
          "ternary": {
           "aaxis": {
            "gridcolor": "white",
            "linecolor": "white",
            "ticks": ""
           },
           "baxis": {
            "gridcolor": "white",
            "linecolor": "white",
            "ticks": ""
           },
           "bgcolor": "#E5ECF6",
           "caxis": {
            "gridcolor": "white",
            "linecolor": "white",
            "ticks": ""
           }
          },
          "title": {
           "x": 0.05
          },
          "xaxis": {
           "automargin": true,
           "gridcolor": "white",
           "linecolor": "white",
           "ticks": "",
           "title": {
            "standoff": 15
           },
           "zerolinecolor": "white",
           "zerolinewidth": 2
          },
          "yaxis": {
           "automargin": true,
           "gridcolor": "white",
           "linecolor": "white",
           "ticks": "",
           "title": {
            "standoff": 15
           },
           "zerolinecolor": "white",
           "zerolinewidth": 2
          }
         }
        },
        "title": {
         "text": "Penalties Awarded"
        },
        "xaxis": {
         "title": {
          "text": "Penalties"
         }
        },
        "yaxis": {
         "title": {
          "text": "Referees"
         }
        }
       }
      },
      "text/html": [
       "<div>                            <div id=\"2f58a886-11bb-4d6a-b5aa-be2cf6dd8c08\" class=\"plotly-graph-div\" style=\"height:525px; width:100%;\"></div>            <script type=\"text/javascript\">                require([\"plotly\"], function(Plotly) {                    window.PLOTLYENV=window.PLOTLYENV || {};                                    if (document.getElementById(\"2f58a886-11bb-4d6a-b5aa-be2cf6dd8c08\")) {                    Plotly.newPlot(                        \"2f58a886-11bb-4d6a-b5aa-be2cf6dd8c08\",                        [{\"marker\":{\"color\":[8.0,6.0,8.0,6.0,5.0,4.0,4.0,7.0,7.0,7.0,5.0,4.0,7.0],\"colorscale\":[[0.0,\"rgb(252,251,253)\"],[0.125,\"rgb(239,237,245)\"],[0.25,\"rgb(218,218,235)\"],[0.375,\"rgb(188,189,220)\"],[0.5,\"rgb(158,154,200)\"],[0.625,\"rgb(128,125,186)\"],[0.75,\"rgb(106,81,163)\"],[0.875,\"rgb(84,39,143)\"],[1.0,\"rgb(63,0,125)\"]],\"showscale\":true},\"x\":[\"Andre Marriner\",\"Andy Madley\",\"Anthony Taylor\",\"Chris Kavanagh\",\"Craig Pawson\",\"Darren Bond\",\"Darren England\",\"David Coote\",\"Graham Scott\",\"Jarred Gillett\",\"John Brooks\",\"Jonathan Moss\",\"Kevin Friend\",\"Martin Atkinson\",\"Michael Oliver\",\"Michael Salisbury\",\"Mike Dean\",\"Paul Tierney\",\"Peter Bankes\",\"Robert Jones\",\"Robert Madley\",\"Simon Hooper\",\"Stuart Attwell\",\"Thomas Bramall\",\"Tony Harrington\"],\"y\":[8.0,6.0,8.0,6.0,5.0,4.0,4.0,7.0,7.0,7.0,5.0,4.0,7.0],\"type\":\"bar\"}],                        {\"template\":{\"data\":{\"histogram2dcontour\":[{\"type\":\"histogram2dcontour\",\"colorbar\":{\"outlinewidth\":0,\"ticks\":\"\"},\"colorscale\":[[0.0,\"#0d0887\"],[0.1111111111111111,\"#46039f\"],[0.2222222222222222,\"#7201a8\"],[0.3333333333333333,\"#9c179e\"],[0.4444444444444444,\"#bd3786\"],[0.5555555555555556,\"#d8576b\"],[0.6666666666666666,\"#ed7953\"],[0.7777777777777778,\"#fb9f3a\"],[0.8888888888888888,\"#fdca26\"],[1.0,\"#f0f921\"]]}],\"choropleth\":[{\"type\":\"choropleth\",\"colorbar\":{\"outlinewidth\":0,\"ticks\":\"\"}}],\"histogram2d\":[{\"type\":\"histogram2d\",\"colorbar\":{\"outlinewidth\":0,\"ticks\":\"\"},\"colorscale\":[[0.0,\"#0d0887\"],[0.1111111111111111,\"#46039f\"],[0.2222222222222222,\"#7201a8\"],[0.3333333333333333,\"#9c179e\"],[0.4444444444444444,\"#bd3786\"],[0.5555555555555556,\"#d8576b\"],[0.6666666666666666,\"#ed7953\"],[0.7777777777777778,\"#fb9f3a\"],[0.8888888888888888,\"#fdca26\"],[1.0,\"#f0f921\"]]}],\"heatmap\":[{\"type\":\"heatmap\",\"colorbar\":{\"outlinewidth\":0,\"ticks\":\"\"},\"colorscale\":[[0.0,\"#0d0887\"],[0.1111111111111111,\"#46039f\"],[0.2222222222222222,\"#7201a8\"],[0.3333333333333333,\"#9c179e\"],[0.4444444444444444,\"#bd3786\"],[0.5555555555555556,\"#d8576b\"],[0.6666666666666666,\"#ed7953\"],[0.7777777777777778,\"#fb9f3a\"],[0.8888888888888888,\"#fdca26\"],[1.0,\"#f0f921\"]]}],\"heatmapgl\":[{\"type\":\"heatmapgl\",\"colorbar\":{\"outlinewidth\":0,\"ticks\":\"\"},\"colorscale\":[[0.0,\"#0d0887\"],[0.1111111111111111,\"#46039f\"],[0.2222222222222222,\"#7201a8\"],[0.3333333333333333,\"#9c179e\"],[0.4444444444444444,\"#bd3786\"],[0.5555555555555556,\"#d8576b\"],[0.6666666666666666,\"#ed7953\"],[0.7777777777777778,\"#fb9f3a\"],[0.8888888888888888,\"#fdca26\"],[1.0,\"#f0f921\"]]}],\"contourcarpet\":[{\"type\":\"contourcarpet\",\"colorbar\":{\"outlinewidth\":0,\"ticks\":\"\"}}],\"contour\":[{\"type\":\"contour\",\"colorbar\":{\"outlinewidth\":0,\"ticks\":\"\"},\"colorscale\":[[0.0,\"#0d0887\"],[0.1111111111111111,\"#46039f\"],[0.2222222222222222,\"#7201a8\"],[0.3333333333333333,\"#9c179e\"],[0.4444444444444444,\"#bd3786\"],[0.5555555555555556,\"#d8576b\"],[0.6666666666666666,\"#ed7953\"],[0.7777777777777778,\"#fb9f3a\"],[0.8888888888888888,\"#fdca26\"],[1.0,\"#f0f921\"]]}],\"surface\":[{\"type\":\"surface\",\"colorbar\":{\"outlinewidth\":0,\"ticks\":\"\"},\"colorscale\":[[0.0,\"#0d0887\"],[0.1111111111111111,\"#46039f\"],[0.2222222222222222,\"#7201a8\"],[0.3333333333333333,\"#9c179e\"],[0.4444444444444444,\"#bd3786\"],[0.5555555555555556,\"#d8576b\"],[0.6666666666666666,\"#ed7953\"],[0.7777777777777778,\"#fb9f3a\"],[0.8888888888888888,\"#fdca26\"],[1.0,\"#f0f921\"]]}],\"mesh3d\":[{\"type\":\"mesh3d\",\"colorbar\":{\"outlinewidth\":0,\"ticks\":\"\"}}],\"scatter\":[{\"fillpattern\":{\"fillmode\":\"overlay\",\"size\":10,\"solidity\":0.2},\"type\":\"scatter\"}],\"parcoords\":[{\"type\":\"parcoords\",\"line\":{\"colorbar\":{\"outlinewidth\":0,\"ticks\":\"\"}}}],\"scatterpolargl\":[{\"type\":\"scatterpolargl\",\"marker\":{\"colorbar\":{\"outlinewidth\":0,\"ticks\":\"\"}}}],\"bar\":[{\"error_x\":{\"color\":\"#2a3f5f\"},\"error_y\":{\"color\":\"#2a3f5f\"},\"marker\":{\"line\":{\"color\":\"#E5ECF6\",\"width\":0.5},\"pattern\":{\"fillmode\":\"overlay\",\"size\":10,\"solidity\":0.2}},\"type\":\"bar\"}],\"scattergeo\":[{\"type\":\"scattergeo\",\"marker\":{\"colorbar\":{\"outlinewidth\":0,\"ticks\":\"\"}}}],\"scatterpolar\":[{\"type\":\"scatterpolar\",\"marker\":{\"colorbar\":{\"outlinewidth\":0,\"ticks\":\"\"}}}],\"histogram\":[{\"marker\":{\"pattern\":{\"fillmode\":\"overlay\",\"size\":10,\"solidity\":0.2}},\"type\":\"histogram\"}],\"scattergl\":[{\"type\":\"scattergl\",\"marker\":{\"colorbar\":{\"outlinewidth\":0,\"ticks\":\"\"}}}],\"scatter3d\":[{\"type\":\"scatter3d\",\"line\":{\"colorbar\":{\"outlinewidth\":0,\"ticks\":\"\"}},\"marker\":{\"colorbar\":{\"outlinewidth\":0,\"ticks\":\"\"}}}],\"scattermapbox\":[{\"type\":\"scattermapbox\",\"marker\":{\"colorbar\":{\"outlinewidth\":0,\"ticks\":\"\"}}}],\"scatterternary\":[{\"type\":\"scatterternary\",\"marker\":{\"colorbar\":{\"outlinewidth\":0,\"ticks\":\"\"}}}],\"scattercarpet\":[{\"type\":\"scattercarpet\",\"marker\":{\"colorbar\":{\"outlinewidth\":0,\"ticks\":\"\"}}}],\"carpet\":[{\"aaxis\":{\"endlinecolor\":\"#2a3f5f\",\"gridcolor\":\"white\",\"linecolor\":\"white\",\"minorgridcolor\":\"white\",\"startlinecolor\":\"#2a3f5f\"},\"baxis\":{\"endlinecolor\":\"#2a3f5f\",\"gridcolor\":\"white\",\"linecolor\":\"white\",\"minorgridcolor\":\"white\",\"startlinecolor\":\"#2a3f5f\"},\"type\":\"carpet\"}],\"table\":[{\"cells\":{\"fill\":{\"color\":\"#EBF0F8\"},\"line\":{\"color\":\"white\"}},\"header\":{\"fill\":{\"color\":\"#C8D4E3\"},\"line\":{\"color\":\"white\"}},\"type\":\"table\"}],\"barpolar\":[{\"marker\":{\"line\":{\"color\":\"#E5ECF6\",\"width\":0.5},\"pattern\":{\"fillmode\":\"overlay\",\"size\":10,\"solidity\":0.2}},\"type\":\"barpolar\"}],\"pie\":[{\"automargin\":true,\"type\":\"pie\"}]},\"layout\":{\"autotypenumbers\":\"strict\",\"colorway\":[\"#636efa\",\"#EF553B\",\"#00cc96\",\"#ab63fa\",\"#FFA15A\",\"#19d3f3\",\"#FF6692\",\"#B6E880\",\"#FF97FF\",\"#FECB52\"],\"font\":{\"color\":\"#2a3f5f\"},\"hovermode\":\"closest\",\"hoverlabel\":{\"align\":\"left\"},\"paper_bgcolor\":\"white\",\"plot_bgcolor\":\"#E5ECF6\",\"polar\":{\"bgcolor\":\"#E5ECF6\",\"angularaxis\":{\"gridcolor\":\"white\",\"linecolor\":\"white\",\"ticks\":\"\"},\"radialaxis\":{\"gridcolor\":\"white\",\"linecolor\":\"white\",\"ticks\":\"\"}},\"ternary\":{\"bgcolor\":\"#E5ECF6\",\"aaxis\":{\"gridcolor\":\"white\",\"linecolor\":\"white\",\"ticks\":\"\"},\"baxis\":{\"gridcolor\":\"white\",\"linecolor\":\"white\",\"ticks\":\"\"},\"caxis\":{\"gridcolor\":\"white\",\"linecolor\":\"white\",\"ticks\":\"\"}},\"coloraxis\":{\"colorbar\":{\"outlinewidth\":0,\"ticks\":\"\"}},\"colorscale\":{\"sequential\":[[0.0,\"#0d0887\"],[0.1111111111111111,\"#46039f\"],[0.2222222222222222,\"#7201a8\"],[0.3333333333333333,\"#9c179e\"],[0.4444444444444444,\"#bd3786\"],[0.5555555555555556,\"#d8576b\"],[0.6666666666666666,\"#ed7953\"],[0.7777777777777778,\"#fb9f3a\"],[0.8888888888888888,\"#fdca26\"],[1.0,\"#f0f921\"]],\"sequentialminus\":[[0.0,\"#0d0887\"],[0.1111111111111111,\"#46039f\"],[0.2222222222222222,\"#7201a8\"],[0.3333333333333333,\"#9c179e\"],[0.4444444444444444,\"#bd3786\"],[0.5555555555555556,\"#d8576b\"],[0.6666666666666666,\"#ed7953\"],[0.7777777777777778,\"#fb9f3a\"],[0.8888888888888888,\"#fdca26\"],[1.0,\"#f0f921\"]],\"diverging\":[[0,\"#8e0152\"],[0.1,\"#c51b7d\"],[0.2,\"#de77ae\"],[0.3,\"#f1b6da\"],[0.4,\"#fde0ef\"],[0.5,\"#f7f7f7\"],[0.6,\"#e6f5d0\"],[0.7,\"#b8e186\"],[0.8,\"#7fbc41\"],[0.9,\"#4d9221\"],[1,\"#276419\"]]},\"xaxis\":{\"gridcolor\":\"white\",\"linecolor\":\"white\",\"ticks\":\"\",\"title\":{\"standoff\":15},\"zerolinecolor\":\"white\",\"automargin\":true,\"zerolinewidth\":2},\"yaxis\":{\"gridcolor\":\"white\",\"linecolor\":\"white\",\"ticks\":\"\",\"title\":{\"standoff\":15},\"zerolinecolor\":\"white\",\"automargin\":true,\"zerolinewidth\":2},\"scene\":{\"xaxis\":{\"backgroundcolor\":\"#E5ECF6\",\"gridcolor\":\"white\",\"linecolor\":\"white\",\"showbackground\":true,\"ticks\":\"\",\"zerolinecolor\":\"white\",\"gridwidth\":2},\"yaxis\":{\"backgroundcolor\":\"#E5ECF6\",\"gridcolor\":\"white\",\"linecolor\":\"white\",\"showbackground\":true,\"ticks\":\"\",\"zerolinecolor\":\"white\",\"gridwidth\":2},\"zaxis\":{\"backgroundcolor\":\"#E5ECF6\",\"gridcolor\":\"white\",\"linecolor\":\"white\",\"showbackground\":true,\"ticks\":\"\",\"zerolinecolor\":\"white\",\"gridwidth\":2}},\"shapedefaults\":{\"line\":{\"color\":\"#2a3f5f\"}},\"annotationdefaults\":{\"arrowcolor\":\"#2a3f5f\",\"arrowhead\":0,\"arrowwidth\":1},\"geo\":{\"bgcolor\":\"white\",\"landcolor\":\"#E5ECF6\",\"subunitcolor\":\"white\",\"showland\":true,\"showlakes\":true,\"lakecolor\":\"white\"},\"title\":{\"x\":0.05},\"mapbox\":{\"style\":\"light\"}}},\"title\":{\"text\":\"Penalties Awarded\"},\"xaxis\":{\"title\":{\"text\":\"Penalties\"}},\"yaxis\":{\"title\":{\"text\":\"Referees\"}}},                        {\"responsive\": true}                    ).then(function(){\n",
       "                            \n",
       "var gd = document.getElementById('2f58a886-11bb-4d6a-b5aa-be2cf6dd8c08');\n",
       "var x = new MutationObserver(function (mutations, observer) {{\n",
       "        var display = window.getComputedStyle(gd).display;\n",
       "        if (!display || display === 'none') {{\n",
       "            console.log([gd, 'removed!']);\n",
       "            Plotly.purge(gd);\n",
       "            observer.disconnect();\n",
       "        }}\n",
       "}});\n",
       "\n",
       "// Listen for the removal of the full notebook cells\n",
       "var notebookContainer = gd.closest('#notebook-container');\n",
       "if (notebookContainer) {{\n",
       "    x.observe(notebookContainer, {childList: true});\n",
       "}}\n",
       "\n",
       "// Listen for the clearing of the current output cell\n",
       "var outputEl = gd.closest('.output');\n",
       "if (outputEl) {{\n",
       "    x.observe(outputEl, {childList: true});\n",
       "}}\n",
       "\n",
       "                        })                };                });            </script>        </div>"
      ]
     },
     "metadata": {},
     "output_type": "display_data"
    },
    {
     "data": {
      "text/plain": [
       "'https://plotly.com/~Kvothe_v1/13/'"
      ]
     },
     "execution_count": 568,
     "metadata": {},
     "output_type": "execute_result"
    }
   ],
   "source": [
    "# In order to get a more accurate distribution, I created a condition filtering the out data \n",
    "# outside the 25th to 75th quatile range for Penalty kicks\n",
    "condition_pk = ((referees['sum']['PKatt']>= 4) & (referees['sum']['PKatt'] <= 8))\n",
    "y = referees[condition_pk]['sum']['PKatt']\n",
    "x = referees.index\n",
    "\n",
    "\n",
    "referee_pk =  go.Figure([go.Bar(x=x, y=y, marker={\n",
    "                        'color':y,'colorscale': 'purples', 'showscale': True})])\n",
    "referee_pk.update_layout(\n",
    "            title='Penalties Awarded',\n",
    "                xaxis_title = 'Penalties',\n",
    "                yaxis_title = 'Referees')\n",
    "referee_pk.show()\n",
    "py.plot(referee_pk, filename='Referee_Penalty_Kicks_Analysis.html', auto_open=False)"
   ]
  },
  {
   "cell_type": "code",
   "execution_count": 569,
   "id": "ae1ce802",
   "metadata": {
    "scrolled": true
   },
   "outputs": [
    {
     "data": {
      "application/vnd.plotly.v1+json": {
       "config": {
        "plotlyServerURL": "https://plotly.com"
       },
       "data": [
        {
         "marker": {
          "color": [
           22,
           28,
           23,
           20,
           25,
           15,
           24,
           14,
           14,
           21,
           21,
           20,
           28,
           26
          ],
          "colorscale": [
           [
            0,
            "rgb(252,251,253)"
           ],
           [
            0.125,
            "rgb(239,237,245)"
           ],
           [
            0.25,
            "rgb(218,218,235)"
           ],
           [
            0.375,
            "rgb(188,189,220)"
           ],
           [
            0.5,
            "rgb(158,154,200)"
           ],
           [
            0.625,
            "rgb(128,125,186)"
           ],
           [
            0.75,
            "rgb(106,81,163)"
           ],
           [
            0.875,
            "rgb(84,39,143)"
           ],
           [
            1,
            "rgb(63,0,125)"
           ]
          ],
          "showscale": true
         },
         "type": "bar",
         "x": [
          "Andre Marriner",
          "Andy Madley",
          "Anthony Taylor",
          "Chris Kavanagh",
          "Craig Pawson",
          "Darren Bond",
          "Darren England",
          "David Coote",
          "Graham Scott",
          "Jarred Gillett",
          "John Brooks",
          "Jonathan Moss",
          "Kevin Friend",
          "Martin Atkinson",
          "Michael Oliver",
          "Michael Salisbury",
          "Mike Dean",
          "Paul Tierney",
          "Peter Bankes",
          "Robert Jones",
          "Robert Madley",
          "Simon Hooper",
          "Stuart Attwell",
          "Thomas Bramall",
          "Tony Harrington"
         ],
         "y": [
          22,
          28,
          23,
          20,
          25,
          15,
          24,
          14,
          14,
          21,
          21,
          20,
          28,
          26
         ]
        }
       ],
       "layout": {
        "template": {
         "data": {
          "bar": [
           {
            "error_x": {
             "color": "#2a3f5f"
            },
            "error_y": {
             "color": "#2a3f5f"
            },
            "marker": {
             "line": {
              "color": "#E5ECF6",
              "width": 0.5
             },
             "pattern": {
              "fillmode": "overlay",
              "size": 10,
              "solidity": 0.2
             }
            },
            "type": "bar"
           }
          ],
          "barpolar": [
           {
            "marker": {
             "line": {
              "color": "#E5ECF6",
              "width": 0.5
             },
             "pattern": {
              "fillmode": "overlay",
              "size": 10,
              "solidity": 0.2
             }
            },
            "type": "barpolar"
           }
          ],
          "carpet": [
           {
            "aaxis": {
             "endlinecolor": "#2a3f5f",
             "gridcolor": "white",
             "linecolor": "white",
             "minorgridcolor": "white",
             "startlinecolor": "#2a3f5f"
            },
            "baxis": {
             "endlinecolor": "#2a3f5f",
             "gridcolor": "white",
             "linecolor": "white",
             "minorgridcolor": "white",
             "startlinecolor": "#2a3f5f"
            },
            "type": "carpet"
           }
          ],
          "choropleth": [
           {
            "colorbar": {
             "outlinewidth": 0,
             "ticks": ""
            },
            "type": "choropleth"
           }
          ],
          "contour": [
           {
            "colorbar": {
             "outlinewidth": 0,
             "ticks": ""
            },
            "colorscale": [
             [
              0,
              "#0d0887"
             ],
             [
              0.1111111111111111,
              "#46039f"
             ],
             [
              0.2222222222222222,
              "#7201a8"
             ],
             [
              0.3333333333333333,
              "#9c179e"
             ],
             [
              0.4444444444444444,
              "#bd3786"
             ],
             [
              0.5555555555555556,
              "#d8576b"
             ],
             [
              0.6666666666666666,
              "#ed7953"
             ],
             [
              0.7777777777777778,
              "#fb9f3a"
             ],
             [
              0.8888888888888888,
              "#fdca26"
             ],
             [
              1,
              "#f0f921"
             ]
            ],
            "type": "contour"
           }
          ],
          "contourcarpet": [
           {
            "colorbar": {
             "outlinewidth": 0,
             "ticks": ""
            },
            "type": "contourcarpet"
           }
          ],
          "heatmap": [
           {
            "colorbar": {
             "outlinewidth": 0,
             "ticks": ""
            },
            "colorscale": [
             [
              0,
              "#0d0887"
             ],
             [
              0.1111111111111111,
              "#46039f"
             ],
             [
              0.2222222222222222,
              "#7201a8"
             ],
             [
              0.3333333333333333,
              "#9c179e"
             ],
             [
              0.4444444444444444,
              "#bd3786"
             ],
             [
              0.5555555555555556,
              "#d8576b"
             ],
             [
              0.6666666666666666,
              "#ed7953"
             ],
             [
              0.7777777777777778,
              "#fb9f3a"
             ],
             [
              0.8888888888888888,
              "#fdca26"
             ],
             [
              1,
              "#f0f921"
             ]
            ],
            "type": "heatmap"
           }
          ],
          "heatmapgl": [
           {
            "colorbar": {
             "outlinewidth": 0,
             "ticks": ""
            },
            "colorscale": [
             [
              0,
              "#0d0887"
             ],
             [
              0.1111111111111111,
              "#46039f"
             ],
             [
              0.2222222222222222,
              "#7201a8"
             ],
             [
              0.3333333333333333,
              "#9c179e"
             ],
             [
              0.4444444444444444,
              "#bd3786"
             ],
             [
              0.5555555555555556,
              "#d8576b"
             ],
             [
              0.6666666666666666,
              "#ed7953"
             ],
             [
              0.7777777777777778,
              "#fb9f3a"
             ],
             [
              0.8888888888888888,
              "#fdca26"
             ],
             [
              1,
              "#f0f921"
             ]
            ],
            "type": "heatmapgl"
           }
          ],
          "histogram": [
           {
            "marker": {
             "pattern": {
              "fillmode": "overlay",
              "size": 10,
              "solidity": 0.2
             }
            },
            "type": "histogram"
           }
          ],
          "histogram2d": [
           {
            "colorbar": {
             "outlinewidth": 0,
             "ticks": ""
            },
            "colorscale": [
             [
              0,
              "#0d0887"
             ],
             [
              0.1111111111111111,
              "#46039f"
             ],
             [
              0.2222222222222222,
              "#7201a8"
             ],
             [
              0.3333333333333333,
              "#9c179e"
             ],
             [
              0.4444444444444444,
              "#bd3786"
             ],
             [
              0.5555555555555556,
              "#d8576b"
             ],
             [
              0.6666666666666666,
              "#ed7953"
             ],
             [
              0.7777777777777778,
              "#fb9f3a"
             ],
             [
              0.8888888888888888,
              "#fdca26"
             ],
             [
              1,
              "#f0f921"
             ]
            ],
            "type": "histogram2d"
           }
          ],
          "histogram2dcontour": [
           {
            "colorbar": {
             "outlinewidth": 0,
             "ticks": ""
            },
            "colorscale": [
             [
              0,
              "#0d0887"
             ],
             [
              0.1111111111111111,
              "#46039f"
             ],
             [
              0.2222222222222222,
              "#7201a8"
             ],
             [
              0.3333333333333333,
              "#9c179e"
             ],
             [
              0.4444444444444444,
              "#bd3786"
             ],
             [
              0.5555555555555556,
              "#d8576b"
             ],
             [
              0.6666666666666666,
              "#ed7953"
             ],
             [
              0.7777777777777778,
              "#fb9f3a"
             ],
             [
              0.8888888888888888,
              "#fdca26"
             ],
             [
              1,
              "#f0f921"
             ]
            ],
            "type": "histogram2dcontour"
           }
          ],
          "mesh3d": [
           {
            "colorbar": {
             "outlinewidth": 0,
             "ticks": ""
            },
            "type": "mesh3d"
           }
          ],
          "parcoords": [
           {
            "line": {
             "colorbar": {
              "outlinewidth": 0,
              "ticks": ""
             }
            },
            "type": "parcoords"
           }
          ],
          "pie": [
           {
            "automargin": true,
            "type": "pie"
           }
          ],
          "scatter": [
           {
            "fillpattern": {
             "fillmode": "overlay",
             "size": 10,
             "solidity": 0.2
            },
            "type": "scatter"
           }
          ],
          "scatter3d": [
           {
            "line": {
             "colorbar": {
              "outlinewidth": 0,
              "ticks": ""
             }
            },
            "marker": {
             "colorbar": {
              "outlinewidth": 0,
              "ticks": ""
             }
            },
            "type": "scatter3d"
           }
          ],
          "scattercarpet": [
           {
            "marker": {
             "colorbar": {
              "outlinewidth": 0,
              "ticks": ""
             }
            },
            "type": "scattercarpet"
           }
          ],
          "scattergeo": [
           {
            "marker": {
             "colorbar": {
              "outlinewidth": 0,
              "ticks": ""
             }
            },
            "type": "scattergeo"
           }
          ],
          "scattergl": [
           {
            "marker": {
             "colorbar": {
              "outlinewidth": 0,
              "ticks": ""
             }
            },
            "type": "scattergl"
           }
          ],
          "scattermapbox": [
           {
            "marker": {
             "colorbar": {
              "outlinewidth": 0,
              "ticks": ""
             }
            },
            "type": "scattermapbox"
           }
          ],
          "scatterpolar": [
           {
            "marker": {
             "colorbar": {
              "outlinewidth": 0,
              "ticks": ""
             }
            },
            "type": "scatterpolar"
           }
          ],
          "scatterpolargl": [
           {
            "marker": {
             "colorbar": {
              "outlinewidth": 0,
              "ticks": ""
             }
            },
            "type": "scatterpolargl"
           }
          ],
          "scatterternary": [
           {
            "marker": {
             "colorbar": {
              "outlinewidth": 0,
              "ticks": ""
             }
            },
            "type": "scatterternary"
           }
          ],
          "surface": [
           {
            "colorbar": {
             "outlinewidth": 0,
             "ticks": ""
            },
            "colorscale": [
             [
              0,
              "#0d0887"
             ],
             [
              0.1111111111111111,
              "#46039f"
             ],
             [
              0.2222222222222222,
              "#7201a8"
             ],
             [
              0.3333333333333333,
              "#9c179e"
             ],
             [
              0.4444444444444444,
              "#bd3786"
             ],
             [
              0.5555555555555556,
              "#d8576b"
             ],
             [
              0.6666666666666666,
              "#ed7953"
             ],
             [
              0.7777777777777778,
              "#fb9f3a"
             ],
             [
              0.8888888888888888,
              "#fdca26"
             ],
             [
              1,
              "#f0f921"
             ]
            ],
            "type": "surface"
           }
          ],
          "table": [
           {
            "cells": {
             "fill": {
              "color": "#EBF0F8"
             },
             "line": {
              "color": "white"
             }
            },
            "header": {
             "fill": {
              "color": "#C8D4E3"
             },
             "line": {
              "color": "white"
             }
            },
            "type": "table"
           }
          ]
         },
         "layout": {
          "annotationdefaults": {
           "arrowcolor": "#2a3f5f",
           "arrowhead": 0,
           "arrowwidth": 1
          },
          "autotypenumbers": "strict",
          "coloraxis": {
           "colorbar": {
            "outlinewidth": 0,
            "ticks": ""
           }
          },
          "colorscale": {
           "diverging": [
            [
             0,
             "#8e0152"
            ],
            [
             0.1,
             "#c51b7d"
            ],
            [
             0.2,
             "#de77ae"
            ],
            [
             0.3,
             "#f1b6da"
            ],
            [
             0.4,
             "#fde0ef"
            ],
            [
             0.5,
             "#f7f7f7"
            ],
            [
             0.6,
             "#e6f5d0"
            ],
            [
             0.7,
             "#b8e186"
            ],
            [
             0.8,
             "#7fbc41"
            ],
            [
             0.9,
             "#4d9221"
            ],
            [
             1,
             "#276419"
            ]
           ],
           "sequential": [
            [
             0,
             "#0d0887"
            ],
            [
             0.1111111111111111,
             "#46039f"
            ],
            [
             0.2222222222222222,
             "#7201a8"
            ],
            [
             0.3333333333333333,
             "#9c179e"
            ],
            [
             0.4444444444444444,
             "#bd3786"
            ],
            [
             0.5555555555555556,
             "#d8576b"
            ],
            [
             0.6666666666666666,
             "#ed7953"
            ],
            [
             0.7777777777777778,
             "#fb9f3a"
            ],
            [
             0.8888888888888888,
             "#fdca26"
            ],
            [
             1,
             "#f0f921"
            ]
           ],
           "sequentialminus": [
            [
             0,
             "#0d0887"
            ],
            [
             0.1111111111111111,
             "#46039f"
            ],
            [
             0.2222222222222222,
             "#7201a8"
            ],
            [
             0.3333333333333333,
             "#9c179e"
            ],
            [
             0.4444444444444444,
             "#bd3786"
            ],
            [
             0.5555555555555556,
             "#d8576b"
            ],
            [
             0.6666666666666666,
             "#ed7953"
            ],
            [
             0.7777777777777778,
             "#fb9f3a"
            ],
            [
             0.8888888888888888,
             "#fdca26"
            ],
            [
             1,
             "#f0f921"
            ]
           ]
          },
          "colorway": [
           "#636efa",
           "#EF553B",
           "#00cc96",
           "#ab63fa",
           "#FFA15A",
           "#19d3f3",
           "#FF6692",
           "#B6E880",
           "#FF97FF",
           "#FECB52"
          ],
          "font": {
           "color": "#2a3f5f"
          },
          "geo": {
           "bgcolor": "white",
           "lakecolor": "white",
           "landcolor": "#E5ECF6",
           "showlakes": true,
           "showland": true,
           "subunitcolor": "white"
          },
          "hoverlabel": {
           "align": "left"
          },
          "hovermode": "closest",
          "mapbox": {
           "style": "light"
          },
          "paper_bgcolor": "white",
          "plot_bgcolor": "#E5ECF6",
          "polar": {
           "angularaxis": {
            "gridcolor": "white",
            "linecolor": "white",
            "ticks": ""
           },
           "bgcolor": "#E5ECF6",
           "radialaxis": {
            "gridcolor": "white",
            "linecolor": "white",
            "ticks": ""
           }
          },
          "scene": {
           "xaxis": {
            "backgroundcolor": "#E5ECF6",
            "gridcolor": "white",
            "gridwidth": 2,
            "linecolor": "white",
            "showbackground": true,
            "ticks": "",
            "zerolinecolor": "white"
           },
           "yaxis": {
            "backgroundcolor": "#E5ECF6",
            "gridcolor": "white",
            "gridwidth": 2,
            "linecolor": "white",
            "showbackground": true,
            "ticks": "",
            "zerolinecolor": "white"
           },
           "zaxis": {
            "backgroundcolor": "#E5ECF6",
            "gridcolor": "white",
            "gridwidth": 2,
            "linecolor": "white",
            "showbackground": true,
            "ticks": "",
            "zerolinecolor": "white"
           }
          },
          "shapedefaults": {
           "line": {
            "color": "#2a3f5f"
           }
          },
          "ternary": {
           "aaxis": {
            "gridcolor": "white",
            "linecolor": "white",
            "ticks": ""
           },
           "baxis": {
            "gridcolor": "white",
            "linecolor": "white",
            "ticks": ""
           },
           "bgcolor": "#E5ECF6",
           "caxis": {
            "gridcolor": "white",
            "linecolor": "white",
            "ticks": ""
           }
          },
          "title": {
           "x": 0.05
          },
          "xaxis": {
           "automargin": true,
           "gridcolor": "white",
           "linecolor": "white",
           "ticks": "",
           "title": {
            "standoff": 15
           },
           "zerolinecolor": "white",
           "zerolinewidth": 2
          },
          "yaxis": {
           "automargin": true,
           "gridcolor": "white",
           "linecolor": "white",
           "ticks": "",
           "title": {
            "standoff": 15
           },
           "zerolinecolor": "white",
           "zerolinewidth": 2
          }
         }
        },
        "title": {
         "text": "Free Kicks Awarded"
        },
        "xaxis": {
         "title": {
          "text": "Free Kicks"
         }
        },
        "yaxis": {
         "title": {
          "text": "Referees"
         }
        }
       }
      },
      "text/html": [
       "<div>                            <div id=\"08908d91-a2bf-4bcb-9492-0f60390ba09e\" class=\"plotly-graph-div\" style=\"height:525px; width:100%;\"></div>            <script type=\"text/javascript\">                require([\"plotly\"], function(Plotly) {                    window.PLOTLYENV=window.PLOTLYENV || {};                                    if (document.getElementById(\"08908d91-a2bf-4bcb-9492-0f60390ba09e\")) {                    Plotly.newPlot(                        \"08908d91-a2bf-4bcb-9492-0f60390ba09e\",                        [{\"marker\":{\"color\":[22.0,28.0,23.0,20.0,25.0,15.0,24.0,14.0,14.0,21.0,21.0,20.0,28.0,26.0],\"colorscale\":[[0.0,\"rgb(252,251,253)\"],[0.125,\"rgb(239,237,245)\"],[0.25,\"rgb(218,218,235)\"],[0.375,\"rgb(188,189,220)\"],[0.5,\"rgb(158,154,200)\"],[0.625,\"rgb(128,125,186)\"],[0.75,\"rgb(106,81,163)\"],[0.875,\"rgb(84,39,143)\"],[1.0,\"rgb(63,0,125)\"]],\"showscale\":true},\"x\":[\"Andre Marriner\",\"Andy Madley\",\"Anthony Taylor\",\"Chris Kavanagh\",\"Craig Pawson\",\"Darren Bond\",\"Darren England\",\"David Coote\",\"Graham Scott\",\"Jarred Gillett\",\"John Brooks\",\"Jonathan Moss\",\"Kevin Friend\",\"Martin Atkinson\",\"Michael Oliver\",\"Michael Salisbury\",\"Mike Dean\",\"Paul Tierney\",\"Peter Bankes\",\"Robert Jones\",\"Robert Madley\",\"Simon Hooper\",\"Stuart Attwell\",\"Thomas Bramall\",\"Tony Harrington\"],\"y\":[22.0,28.0,23.0,20.0,25.0,15.0,24.0,14.0,14.0,21.0,21.0,20.0,28.0,26.0],\"type\":\"bar\"}],                        {\"template\":{\"data\":{\"histogram2dcontour\":[{\"type\":\"histogram2dcontour\",\"colorbar\":{\"outlinewidth\":0,\"ticks\":\"\"},\"colorscale\":[[0.0,\"#0d0887\"],[0.1111111111111111,\"#46039f\"],[0.2222222222222222,\"#7201a8\"],[0.3333333333333333,\"#9c179e\"],[0.4444444444444444,\"#bd3786\"],[0.5555555555555556,\"#d8576b\"],[0.6666666666666666,\"#ed7953\"],[0.7777777777777778,\"#fb9f3a\"],[0.8888888888888888,\"#fdca26\"],[1.0,\"#f0f921\"]]}],\"choropleth\":[{\"type\":\"choropleth\",\"colorbar\":{\"outlinewidth\":0,\"ticks\":\"\"}}],\"histogram2d\":[{\"type\":\"histogram2d\",\"colorbar\":{\"outlinewidth\":0,\"ticks\":\"\"},\"colorscale\":[[0.0,\"#0d0887\"],[0.1111111111111111,\"#46039f\"],[0.2222222222222222,\"#7201a8\"],[0.3333333333333333,\"#9c179e\"],[0.4444444444444444,\"#bd3786\"],[0.5555555555555556,\"#d8576b\"],[0.6666666666666666,\"#ed7953\"],[0.7777777777777778,\"#fb9f3a\"],[0.8888888888888888,\"#fdca26\"],[1.0,\"#f0f921\"]]}],\"heatmap\":[{\"type\":\"heatmap\",\"colorbar\":{\"outlinewidth\":0,\"ticks\":\"\"},\"colorscale\":[[0.0,\"#0d0887\"],[0.1111111111111111,\"#46039f\"],[0.2222222222222222,\"#7201a8\"],[0.3333333333333333,\"#9c179e\"],[0.4444444444444444,\"#bd3786\"],[0.5555555555555556,\"#d8576b\"],[0.6666666666666666,\"#ed7953\"],[0.7777777777777778,\"#fb9f3a\"],[0.8888888888888888,\"#fdca26\"],[1.0,\"#f0f921\"]]}],\"heatmapgl\":[{\"type\":\"heatmapgl\",\"colorbar\":{\"outlinewidth\":0,\"ticks\":\"\"},\"colorscale\":[[0.0,\"#0d0887\"],[0.1111111111111111,\"#46039f\"],[0.2222222222222222,\"#7201a8\"],[0.3333333333333333,\"#9c179e\"],[0.4444444444444444,\"#bd3786\"],[0.5555555555555556,\"#d8576b\"],[0.6666666666666666,\"#ed7953\"],[0.7777777777777778,\"#fb9f3a\"],[0.8888888888888888,\"#fdca26\"],[1.0,\"#f0f921\"]]}],\"contourcarpet\":[{\"type\":\"contourcarpet\",\"colorbar\":{\"outlinewidth\":0,\"ticks\":\"\"}}],\"contour\":[{\"type\":\"contour\",\"colorbar\":{\"outlinewidth\":0,\"ticks\":\"\"},\"colorscale\":[[0.0,\"#0d0887\"],[0.1111111111111111,\"#46039f\"],[0.2222222222222222,\"#7201a8\"],[0.3333333333333333,\"#9c179e\"],[0.4444444444444444,\"#bd3786\"],[0.5555555555555556,\"#d8576b\"],[0.6666666666666666,\"#ed7953\"],[0.7777777777777778,\"#fb9f3a\"],[0.8888888888888888,\"#fdca26\"],[1.0,\"#f0f921\"]]}],\"surface\":[{\"type\":\"surface\",\"colorbar\":{\"outlinewidth\":0,\"ticks\":\"\"},\"colorscale\":[[0.0,\"#0d0887\"],[0.1111111111111111,\"#46039f\"],[0.2222222222222222,\"#7201a8\"],[0.3333333333333333,\"#9c179e\"],[0.4444444444444444,\"#bd3786\"],[0.5555555555555556,\"#d8576b\"],[0.6666666666666666,\"#ed7953\"],[0.7777777777777778,\"#fb9f3a\"],[0.8888888888888888,\"#fdca26\"],[1.0,\"#f0f921\"]]}],\"mesh3d\":[{\"type\":\"mesh3d\",\"colorbar\":{\"outlinewidth\":0,\"ticks\":\"\"}}],\"scatter\":[{\"fillpattern\":{\"fillmode\":\"overlay\",\"size\":10,\"solidity\":0.2},\"type\":\"scatter\"}],\"parcoords\":[{\"type\":\"parcoords\",\"line\":{\"colorbar\":{\"outlinewidth\":0,\"ticks\":\"\"}}}],\"scatterpolargl\":[{\"type\":\"scatterpolargl\",\"marker\":{\"colorbar\":{\"outlinewidth\":0,\"ticks\":\"\"}}}],\"bar\":[{\"error_x\":{\"color\":\"#2a3f5f\"},\"error_y\":{\"color\":\"#2a3f5f\"},\"marker\":{\"line\":{\"color\":\"#E5ECF6\",\"width\":0.5},\"pattern\":{\"fillmode\":\"overlay\",\"size\":10,\"solidity\":0.2}},\"type\":\"bar\"}],\"scattergeo\":[{\"type\":\"scattergeo\",\"marker\":{\"colorbar\":{\"outlinewidth\":0,\"ticks\":\"\"}}}],\"scatterpolar\":[{\"type\":\"scatterpolar\",\"marker\":{\"colorbar\":{\"outlinewidth\":0,\"ticks\":\"\"}}}],\"histogram\":[{\"marker\":{\"pattern\":{\"fillmode\":\"overlay\",\"size\":10,\"solidity\":0.2}},\"type\":\"histogram\"}],\"scattergl\":[{\"type\":\"scattergl\",\"marker\":{\"colorbar\":{\"outlinewidth\":0,\"ticks\":\"\"}}}],\"scatter3d\":[{\"type\":\"scatter3d\",\"line\":{\"colorbar\":{\"outlinewidth\":0,\"ticks\":\"\"}},\"marker\":{\"colorbar\":{\"outlinewidth\":0,\"ticks\":\"\"}}}],\"scattermapbox\":[{\"type\":\"scattermapbox\",\"marker\":{\"colorbar\":{\"outlinewidth\":0,\"ticks\":\"\"}}}],\"scatterternary\":[{\"type\":\"scatterternary\",\"marker\":{\"colorbar\":{\"outlinewidth\":0,\"ticks\":\"\"}}}],\"scattercarpet\":[{\"type\":\"scattercarpet\",\"marker\":{\"colorbar\":{\"outlinewidth\":0,\"ticks\":\"\"}}}],\"carpet\":[{\"aaxis\":{\"endlinecolor\":\"#2a3f5f\",\"gridcolor\":\"white\",\"linecolor\":\"white\",\"minorgridcolor\":\"white\",\"startlinecolor\":\"#2a3f5f\"},\"baxis\":{\"endlinecolor\":\"#2a3f5f\",\"gridcolor\":\"white\",\"linecolor\":\"white\",\"minorgridcolor\":\"white\",\"startlinecolor\":\"#2a3f5f\"},\"type\":\"carpet\"}],\"table\":[{\"cells\":{\"fill\":{\"color\":\"#EBF0F8\"},\"line\":{\"color\":\"white\"}},\"header\":{\"fill\":{\"color\":\"#C8D4E3\"},\"line\":{\"color\":\"white\"}},\"type\":\"table\"}],\"barpolar\":[{\"marker\":{\"line\":{\"color\":\"#E5ECF6\",\"width\":0.5},\"pattern\":{\"fillmode\":\"overlay\",\"size\":10,\"solidity\":0.2}},\"type\":\"barpolar\"}],\"pie\":[{\"automargin\":true,\"type\":\"pie\"}]},\"layout\":{\"autotypenumbers\":\"strict\",\"colorway\":[\"#636efa\",\"#EF553B\",\"#00cc96\",\"#ab63fa\",\"#FFA15A\",\"#19d3f3\",\"#FF6692\",\"#B6E880\",\"#FF97FF\",\"#FECB52\"],\"font\":{\"color\":\"#2a3f5f\"},\"hovermode\":\"closest\",\"hoverlabel\":{\"align\":\"left\"},\"paper_bgcolor\":\"white\",\"plot_bgcolor\":\"#E5ECF6\",\"polar\":{\"bgcolor\":\"#E5ECF6\",\"angularaxis\":{\"gridcolor\":\"white\",\"linecolor\":\"white\",\"ticks\":\"\"},\"radialaxis\":{\"gridcolor\":\"white\",\"linecolor\":\"white\",\"ticks\":\"\"}},\"ternary\":{\"bgcolor\":\"#E5ECF6\",\"aaxis\":{\"gridcolor\":\"white\",\"linecolor\":\"white\",\"ticks\":\"\"},\"baxis\":{\"gridcolor\":\"white\",\"linecolor\":\"white\",\"ticks\":\"\"},\"caxis\":{\"gridcolor\":\"white\",\"linecolor\":\"white\",\"ticks\":\"\"}},\"coloraxis\":{\"colorbar\":{\"outlinewidth\":0,\"ticks\":\"\"}},\"colorscale\":{\"sequential\":[[0.0,\"#0d0887\"],[0.1111111111111111,\"#46039f\"],[0.2222222222222222,\"#7201a8\"],[0.3333333333333333,\"#9c179e\"],[0.4444444444444444,\"#bd3786\"],[0.5555555555555556,\"#d8576b\"],[0.6666666666666666,\"#ed7953\"],[0.7777777777777778,\"#fb9f3a\"],[0.8888888888888888,\"#fdca26\"],[1.0,\"#f0f921\"]],\"sequentialminus\":[[0.0,\"#0d0887\"],[0.1111111111111111,\"#46039f\"],[0.2222222222222222,\"#7201a8\"],[0.3333333333333333,\"#9c179e\"],[0.4444444444444444,\"#bd3786\"],[0.5555555555555556,\"#d8576b\"],[0.6666666666666666,\"#ed7953\"],[0.7777777777777778,\"#fb9f3a\"],[0.8888888888888888,\"#fdca26\"],[1.0,\"#f0f921\"]],\"diverging\":[[0,\"#8e0152\"],[0.1,\"#c51b7d\"],[0.2,\"#de77ae\"],[0.3,\"#f1b6da\"],[0.4,\"#fde0ef\"],[0.5,\"#f7f7f7\"],[0.6,\"#e6f5d0\"],[0.7,\"#b8e186\"],[0.8,\"#7fbc41\"],[0.9,\"#4d9221\"],[1,\"#276419\"]]},\"xaxis\":{\"gridcolor\":\"white\",\"linecolor\":\"white\",\"ticks\":\"\",\"title\":{\"standoff\":15},\"zerolinecolor\":\"white\",\"automargin\":true,\"zerolinewidth\":2},\"yaxis\":{\"gridcolor\":\"white\",\"linecolor\":\"white\",\"ticks\":\"\",\"title\":{\"standoff\":15},\"zerolinecolor\":\"white\",\"automargin\":true,\"zerolinewidth\":2},\"scene\":{\"xaxis\":{\"backgroundcolor\":\"#E5ECF6\",\"gridcolor\":\"white\",\"linecolor\":\"white\",\"showbackground\":true,\"ticks\":\"\",\"zerolinecolor\":\"white\",\"gridwidth\":2},\"yaxis\":{\"backgroundcolor\":\"#E5ECF6\",\"gridcolor\":\"white\",\"linecolor\":\"white\",\"showbackground\":true,\"ticks\":\"\",\"zerolinecolor\":\"white\",\"gridwidth\":2},\"zaxis\":{\"backgroundcolor\":\"#E5ECF6\",\"gridcolor\":\"white\",\"linecolor\":\"white\",\"showbackground\":true,\"ticks\":\"\",\"zerolinecolor\":\"white\",\"gridwidth\":2}},\"shapedefaults\":{\"line\":{\"color\":\"#2a3f5f\"}},\"annotationdefaults\":{\"arrowcolor\":\"#2a3f5f\",\"arrowhead\":0,\"arrowwidth\":1},\"geo\":{\"bgcolor\":\"white\",\"landcolor\":\"#E5ECF6\",\"subunitcolor\":\"white\",\"showland\":true,\"showlakes\":true,\"lakecolor\":\"white\"},\"title\":{\"x\":0.05},\"mapbox\":{\"style\":\"light\"}}},\"title\":{\"text\":\"Free Kicks Awarded\"},\"xaxis\":{\"title\":{\"text\":\"Free Kicks\"}},\"yaxis\":{\"title\":{\"text\":\"Referees\"}}},                        {\"responsive\": true}                    ).then(function(){\n",
       "                            \n",
       "var gd = document.getElementById('08908d91-a2bf-4bcb-9492-0f60390ba09e');\n",
       "var x = new MutationObserver(function (mutations, observer) {{\n",
       "        var display = window.getComputedStyle(gd).display;\n",
       "        if (!display || display === 'none') {{\n",
       "            console.log([gd, 'removed!']);\n",
       "            Plotly.purge(gd);\n",
       "            observer.disconnect();\n",
       "        }}\n",
       "}});\n",
       "\n",
       "// Listen for the removal of the full notebook cells\n",
       "var notebookContainer = gd.closest('#notebook-container');\n",
       "if (notebookContainer) {{\n",
       "    x.observe(notebookContainer, {childList: true});\n",
       "}}\n",
       "\n",
       "// Listen for the clearing of the current output cell\n",
       "var outputEl = gd.closest('.output');\n",
       "if (outputEl) {{\n",
       "    x.observe(outputEl, {childList: true});\n",
       "}}\n",
       "\n",
       "                        })                };                });            </script>        </div>"
      ]
     },
     "metadata": {},
     "output_type": "display_data"
    },
    {
     "data": {
      "text/plain": [
       "'https://plotly.com/~Kvothe_v1/15/'"
      ]
     },
     "execution_count": 569,
     "metadata": {},
     "output_type": "execute_result"
    }
   ],
   "source": [
    "condition_fk = ((referees['sum']['FK']>= 14) & (referees['sum']['FK'] <= 28))\n",
    "y = referees[condition_fk]['sum']['FK']\n",
    "x = referees.index\n",
    "\n",
    "referee_fk = go.Figure([go.Bar(x=x, y=y, \n",
    "                marker={'color': y, 'colorscale': 'purples', \n",
    "                        'showscale': True})])\n",
    "\n",
    "referee_fk.update_layout(\n",
    "            title='Free Kicks Awarded',\n",
    "                xaxis_title = 'Free Kicks',\n",
    "                yaxis_title = 'Referees')\n",
    "referee_fk.show()\n",
    "py.plot(referee_fk, filename='Referee_FreeKicks_Analysis.html', auto_open=False)"
   ]
  },
  {
   "cell_type": "code",
   "execution_count": 354,
   "id": "5c2db059",
   "metadata": {
    "collapsed": true
   },
   "outputs": [
    {
     "data": {
      "text/html": [
       "<div>\n",
       "<style scoped>\n",
       "    .dataframe tbody tr th:only-of-type {\n",
       "        vertical-align: middle;\n",
       "    }\n",
       "\n",
       "    .dataframe tbody tr th {\n",
       "        vertical-align: top;\n",
       "    }\n",
       "\n",
       "    .dataframe thead th {\n",
       "        text-align: right;\n",
       "    }\n",
       "</style>\n",
       "<table border=\"1\" class=\"dataframe\">\n",
       "  <thead>\n",
       "    <tr style=\"text-align: right;\">\n",
       "      <th></th>\n",
       "      <th></th>\n",
       "      <th>FK</th>\n",
       "      <th>PKatt</th>\n",
       "    </tr>\n",
       "    <tr>\n",
       "      <th>Team</th>\n",
       "      <th>Season</th>\n",
       "      <th></th>\n",
       "      <th></th>\n",
       "    </tr>\n",
       "  </thead>\n",
       "  <tbody>\n",
       "    <tr>\n",
       "      <th rowspan=\"2\" valign=\"top\">Arsenal</th>\n",
       "      <th>2021</th>\n",
       "      <td>22.0</td>\n",
       "      <td>8.0</td>\n",
       "    </tr>\n",
       "    <tr>\n",
       "      <th>2022</th>\n",
       "      <td>10.0</td>\n",
       "      <td>2.0</td>\n",
       "    </tr>\n",
       "    <tr>\n",
       "      <th rowspan=\"2\" valign=\"top\">Aston Villa</th>\n",
       "      <th>2021</th>\n",
       "      <td>20.0</td>\n",
       "      <td>3.0</td>\n",
       "    </tr>\n",
       "    <tr>\n",
       "      <th>2022</th>\n",
       "      <td>10.0</td>\n",
       "      <td>2.0</td>\n",
       "    </tr>\n",
       "    <tr>\n",
       "      <th>Bournemouth</th>\n",
       "      <th>2022</th>\n",
       "      <td>10.0</td>\n",
       "      <td>0.0</td>\n",
       "    </tr>\n",
       "    <tr>\n",
       "      <th rowspan=\"2\" valign=\"top\">Brentford</th>\n",
       "      <th>2021</th>\n",
       "      <td>11.0</td>\n",
       "      <td>6.0</td>\n",
       "    </tr>\n",
       "    <tr>\n",
       "      <th>2022</th>\n",
       "      <td>7.0</td>\n",
       "      <td>5.0</td>\n",
       "    </tr>\n",
       "    <tr>\n",
       "      <th rowspan=\"2\" valign=\"top\">Brighton and Hove Albion</th>\n",
       "      <th>2021</th>\n",
       "      <td>15.0</td>\n",
       "      <td>7.0</td>\n",
       "    </tr>\n",
       "    <tr>\n",
       "      <th>2022</th>\n",
       "      <td>8.0</td>\n",
       "      <td>3.0</td>\n",
       "    </tr>\n",
       "    <tr>\n",
       "      <th>Burnley</th>\n",
       "      <th>2021</th>\n",
       "      <td>14.0</td>\n",
       "      <td>2.0</td>\n",
       "    </tr>\n",
       "    <tr>\n",
       "      <th rowspan=\"2\" valign=\"top\">Chelsea</th>\n",
       "      <th>2021</th>\n",
       "      <td>26.0</td>\n",
       "      <td>9.0</td>\n",
       "    </tr>\n",
       "    <tr>\n",
       "      <th>2022</th>\n",
       "      <td>6.0</td>\n",
       "      <td>2.0</td>\n",
       "    </tr>\n",
       "    <tr>\n",
       "      <th rowspan=\"2\" valign=\"top\">Crystal Palace</th>\n",
       "      <th>2021</th>\n",
       "      <td>13.0</td>\n",
       "      <td>8.0</td>\n",
       "    </tr>\n",
       "    <tr>\n",
       "      <th>2022</th>\n",
       "      <td>12.0</td>\n",
       "      <td>2.0</td>\n",
       "    </tr>\n",
       "    <tr>\n",
       "      <th rowspan=\"2\" valign=\"top\">Everton</th>\n",
       "      <th>2021</th>\n",
       "      <td>18.0</td>\n",
       "      <td>7.0</td>\n",
       "    </tr>\n",
       "    <tr>\n",
       "      <th>2022</th>\n",
       "      <td>5.0</td>\n",
       "      <td>1.0</td>\n",
       "    </tr>\n",
       "    <tr>\n",
       "      <th>Fulham</th>\n",
       "      <th>2022</th>\n",
       "      <td>9.0</td>\n",
       "      <td>7.0</td>\n",
       "    </tr>\n",
       "    <tr>\n",
       "      <th rowspan=\"2\" valign=\"top\">Leeds United</th>\n",
       "      <th>2021</th>\n",
       "      <td>13.0</td>\n",
       "      <td>5.0</td>\n",
       "    </tr>\n",
       "    <tr>\n",
       "      <th>2022</th>\n",
       "      <td>13.0</td>\n",
       "      <td>2.0</td>\n",
       "    </tr>\n",
       "    <tr>\n",
       "      <th rowspan=\"2\" valign=\"top\">Leicester City</th>\n",
       "      <th>2021</th>\n",
       "      <td>14.0</td>\n",
       "      <td>2.0</td>\n",
       "    </tr>\n",
       "    <tr>\n",
       "      <th>2022</th>\n",
       "      <td>9.0</td>\n",
       "      <td>2.0</td>\n",
       "    </tr>\n",
       "    <tr>\n",
       "      <th rowspan=\"2\" valign=\"top\">Liverpool</th>\n",
       "      <th>2021</th>\n",
       "      <td>13.0</td>\n",
       "      <td>8.0</td>\n",
       "    </tr>\n",
       "    <tr>\n",
       "      <th>2022</th>\n",
       "      <td>5.0</td>\n",
       "      <td>0.0</td>\n",
       "    </tr>\n",
       "    <tr>\n",
       "      <th rowspan=\"2\" valign=\"top\">Manchester City</th>\n",
       "      <th>2021</th>\n",
       "      <td>17.0</td>\n",
       "      <td>9.0</td>\n",
       "    </tr>\n",
       "    <tr>\n",
       "      <th>2022</th>\n",
       "      <td>11.0</td>\n",
       "      <td>5.0</td>\n",
       "    </tr>\n",
       "    <tr>\n",
       "      <th rowspan=\"2\" valign=\"top\">Manchester United</th>\n",
       "      <th>2021</th>\n",
       "      <td>19.0</td>\n",
       "      <td>5.0</td>\n",
       "    </tr>\n",
       "    <tr>\n",
       "      <th>2022</th>\n",
       "      <td>12.0</td>\n",
       "      <td>2.0</td>\n",
       "    </tr>\n",
       "    <tr>\n",
       "      <th rowspan=\"2\" valign=\"top\">Newcastle United</th>\n",
       "      <th>2021</th>\n",
       "      <td>15.0</td>\n",
       "      <td>3.0</td>\n",
       "    </tr>\n",
       "    <tr>\n",
       "      <th>2022</th>\n",
       "      <td>10.0</td>\n",
       "      <td>3.0</td>\n",
       "    </tr>\n",
       "    <tr>\n",
       "      <th>Norwich City</th>\n",
       "      <th>2021</th>\n",
       "      <td>18.0</td>\n",
       "      <td>3.0</td>\n",
       "    </tr>\n",
       "    <tr>\n",
       "      <th>Nottingham Forest</th>\n",
       "      <th>2022</th>\n",
       "      <td>9.0</td>\n",
       "      <td>2.0</td>\n",
       "    </tr>\n",
       "    <tr>\n",
       "      <th rowspan=\"2\" valign=\"top\">Southampton</th>\n",
       "      <th>2021</th>\n",
       "      <td>24.0</td>\n",
       "      <td>4.0</td>\n",
       "    </tr>\n",
       "    <tr>\n",
       "      <th>2022</th>\n",
       "      <td>10.0</td>\n",
       "      <td>1.0</td>\n",
       "    </tr>\n",
       "    <tr>\n",
       "      <th rowspan=\"2\" valign=\"top\">Tottenham Hotspur</th>\n",
       "      <th>2021</th>\n",
       "      <td>16.0</td>\n",
       "      <td>5.0</td>\n",
       "    </tr>\n",
       "    <tr>\n",
       "      <th>2022</th>\n",
       "      <td>10.0</td>\n",
       "      <td>3.0</td>\n",
       "    </tr>\n",
       "    <tr>\n",
       "      <th>Watford</th>\n",
       "      <th>2021</th>\n",
       "      <td>24.0</td>\n",
       "      <td>2.0</td>\n",
       "    </tr>\n",
       "    <tr>\n",
       "      <th rowspan=\"2\" valign=\"top\">West Ham United</th>\n",
       "      <th>2021</th>\n",
       "      <td>13.0</td>\n",
       "      <td>6.0</td>\n",
       "    </tr>\n",
       "    <tr>\n",
       "      <th>2022</th>\n",
       "      <td>9.0</td>\n",
       "      <td>6.0</td>\n",
       "    </tr>\n",
       "    <tr>\n",
       "      <th rowspan=\"2\" valign=\"top\">Wolverhampton Wanderers</th>\n",
       "      <th>2021</th>\n",
       "      <td>13.0</td>\n",
       "      <td>1.0</td>\n",
       "    </tr>\n",
       "    <tr>\n",
       "      <th>2022</th>\n",
       "      <td>12.0</td>\n",
       "      <td>2.0</td>\n",
       "    </tr>\n",
       "  </tbody>\n",
       "</table>\n",
       "</div>"
      ],
      "text/plain": [
       "                                   FK  PKatt\n",
       "Team                     Season             \n",
       "Arsenal                  2021    22.0    8.0\n",
       "                         2022    10.0    2.0\n",
       "Aston Villa              2021    20.0    3.0\n",
       "                         2022    10.0    2.0\n",
       "Bournemouth              2022    10.0    0.0\n",
       "Brentford                2021    11.0    6.0\n",
       "                         2022     7.0    5.0\n",
       "Brighton and Hove Albion 2021    15.0    7.0\n",
       "                         2022     8.0    3.0\n",
       "Burnley                  2021    14.0    2.0\n",
       "Chelsea                  2021    26.0    9.0\n",
       "                         2022     6.0    2.0\n",
       "Crystal Palace           2021    13.0    8.0\n",
       "                         2022    12.0    2.0\n",
       "Everton                  2021    18.0    7.0\n",
       "                         2022     5.0    1.0\n",
       "Fulham                   2022     9.0    7.0\n",
       "Leeds United             2021    13.0    5.0\n",
       "                         2022    13.0    2.0\n",
       "Leicester City           2021    14.0    2.0\n",
       "                         2022     9.0    2.0\n",
       "Liverpool                2021    13.0    8.0\n",
       "                         2022     5.0    0.0\n",
       "Manchester City          2021    17.0    9.0\n",
       "                         2022    11.0    5.0\n",
       "Manchester United        2021    19.0    5.0\n",
       "                         2022    12.0    2.0\n",
       "Newcastle United         2021    15.0    3.0\n",
       "                         2022    10.0    3.0\n",
       "Norwich City             2021    18.0    3.0\n",
       "Nottingham Forest        2022     9.0    2.0\n",
       "Southampton              2021    24.0    4.0\n",
       "                         2022    10.0    1.0\n",
       "Tottenham Hotspur        2021    16.0    5.0\n",
       "                         2022    10.0    3.0\n",
       "Watford                  2021    24.0    2.0\n",
       "West Ham United          2021    13.0    6.0\n",
       "                         2022     9.0    6.0\n",
       "Wolverhampton Wanderers  2021    13.0    1.0\n",
       "                         2022    12.0    2.0"
      ]
     },
     "execution_count": 354,
     "metadata": {},
     "output_type": "execute_result"
    }
   ],
   "source": [
    "matches_pr[['Referee','Team','Season','Result','FK','PK','PKatt']].head(50)\n",
    "#What's the trend over the past two seasons?\n",
    "#matches_pr.columns\n",
    "#matches_pr.groupby(['Team','Season'])['FK','PKatt'].sum()\n",
    "matches_pr.pivot_table(['FK','PKatt'],index=['Team','Season'], aggfunc= 'sum')\n",
    "# Looking at this table, I am unable to really answer this question as \n",
    "# I lack the necesary data to continue exploring this.2022 is an incomplete season"
   ]
  },
  {
   "cell_type": "markdown",
   "id": "6be11035",
   "metadata": {},
   "source": [
    "#### 4. What role does possession play in the team? Is it a deciding factor in the finishing position of teams?"
   ]
  },
  {
   "cell_type": "code",
   "execution_count": 458,
   "id": "b47750db",
   "metadata": {
    "collapsed": true
   },
   "outputs": [
    {
     "data": {
      "text/plain": [
       "Team\n",
       "Arsenal                     54.967213\n",
       "Aston Villa                 47.000000\n",
       "Bournemouth                 39.434783\n",
       "Brentford                   44.360656\n",
       "Brighton and Hove Albion    56.016667\n",
       "Burnley                     40.157895\n",
       "Chelsea                     60.688525\n",
       "Crystal Palace              48.672131\n",
       "Everton                     42.065574\n",
       "Fulham                      46.291667\n",
       "Leeds United                51.295082\n",
       "Leicester City              51.245902\n",
       "Liverpool                   61.633333\n",
       "Manchester City             66.564516\n",
       "Manchester United           52.919355\n",
       "Newcastle United            44.557377\n",
       "Norwich City                42.868421\n",
       "Nottingham Forest           39.478261\n",
       "Southampton                 46.409836\n",
       "Tottenham Hotspur           51.338710\n",
       "Watford                     40.710526\n",
       "West Ham United             46.360656\n",
       "Wolverhampton Wanderers     49.622951\n",
       "Name: Poss, dtype: float64"
      ]
     },
     "execution_count": 458,
     "metadata": {},
     "output_type": "execute_result"
    }
   ],
   "source": [
    "shootin_stats_21.head()\n",
    "matches_pr[['Team','Poss']].value_counts()\n",
    "poss_21 = matches_2021.pivot_table('Poss', index= 'Team', aggfunc= 'mean')\n",
    "poss_22 = matches_2022.pivot_table('Poss', index= 'Team', aggfunc= 'mean')\n",
    "possession = matches_pr.groupby(['Team'])[['Poss']].mean()\n",
    "#poss['Poss_diff'] = poss['Season']['2022'] - poss['Season']['2021']\n",
    "possession['Poss']"
   ]
  },
  {
   "cell_type": "code",
   "execution_count": 570,
   "id": "2ad9bb60",
   "metadata": {},
   "outputs": [
    {
     "data": {
      "application/vnd.plotly.v1+json": {
       "config": {
        "plotlyServerURL": "https://plotly.com"
       },
       "data": [
        {
         "marker": {
          "color": [
           54.967213114754095,
           47,
           39.43478260869565,
           44.36065573770492,
           56.016666666666666,
           40.1578947368421,
           60.68852459016394,
           48.67213114754098,
           42.0655737704918,
           46.291666666666664,
           51.295081967213115,
           51.24590163934426,
           61.63333333333333,
           66.56451612903226,
           52.91935483870968,
           44.557377049180324,
           42.86842105263158,
           39.47826086956522,
           46.40983606557377,
           51.33870967741935,
           40.71052631578947,
           46.36065573770492,
           49.622950819672134
          ],
          "colorscale": [
           [
            0,
            "#440154"
           ],
           [
            0.1111111111111111,
            "#482878"
           ],
           [
            0.2222222222222222,
            "#3e4989"
           ],
           [
            0.3333333333333333,
            "#31688e"
           ],
           [
            0.4444444444444444,
            "#26828e"
           ],
           [
            0.5555555555555556,
            "#1f9e89"
           ],
           [
            0.6666666666666666,
            "#35b779"
           ],
           [
            0.7777777777777778,
            "#6ece58"
           ],
           [
            0.8888888888888888,
            "#b5de2b"
           ],
           [
            1,
            "#fde725"
           ]
          ],
          "showscale": true,
          "size": [
           19.238524590163934,
           16.45,
           13.802173913043477,
           15.52622950819672,
           19.605833333333333,
           14.055263157894736,
           21.240983606557375,
           17.035245901639342,
           14.72295081967213,
           16.20208333333333,
           17.953278688524588,
           17.93606557377049,
           21.571666666666665,
           23.29758064516129,
           18.521774193548385,
           15.595081967213112,
           15.003947368421052,
           13.817391304347826,
           16.24344262295082,
           17.96854838709677,
           14.248684210526314,
           16.22622950819672,
           17.368032786885244
          ]
         },
         "mode": "markers",
         "type": "scatter",
         "x": [
          "Arsenal",
          "Aston Villa",
          "Bournemouth",
          "Brentford",
          "Brighton and Hove Albion",
          "Burnley",
          "Chelsea",
          "Crystal Palace",
          "Everton",
          "Fulham",
          "Leeds United",
          "Leicester City",
          "Liverpool",
          "Manchester City",
          "Manchester United",
          "Newcastle United",
          "Norwich City",
          "Nottingham Forest",
          "Southampton",
          "Tottenham Hotspur",
          "Watford",
          "West Ham United",
          "Wolverhampton Wanderers"
         ],
         "y": [
          54.967213114754095,
          47,
          39.43478260869565,
          44.36065573770492,
          56.016666666666666,
          40.1578947368421,
          60.68852459016394,
          48.67213114754098,
          42.0655737704918,
          46.291666666666664,
          51.295081967213115,
          51.24590163934426,
          61.63333333333333,
          66.56451612903226,
          52.91935483870968,
          44.557377049180324,
          42.86842105263158,
          39.47826086956522,
          46.40983606557377,
          51.33870967741935,
          40.71052631578947,
          46.36065573770492,
          49.622950819672134
         ]
        }
       ],
       "layout": {
        "template": {
         "data": {
          "bar": [
           {
            "error_x": {
             "color": "#2a3f5f"
            },
            "error_y": {
             "color": "#2a3f5f"
            },
            "marker": {
             "line": {
              "color": "#E5ECF6",
              "width": 0.5
             },
             "pattern": {
              "fillmode": "overlay",
              "size": 10,
              "solidity": 0.2
             }
            },
            "type": "bar"
           }
          ],
          "barpolar": [
           {
            "marker": {
             "line": {
              "color": "#E5ECF6",
              "width": 0.5
             },
             "pattern": {
              "fillmode": "overlay",
              "size": 10,
              "solidity": 0.2
             }
            },
            "type": "barpolar"
           }
          ],
          "carpet": [
           {
            "aaxis": {
             "endlinecolor": "#2a3f5f",
             "gridcolor": "white",
             "linecolor": "white",
             "minorgridcolor": "white",
             "startlinecolor": "#2a3f5f"
            },
            "baxis": {
             "endlinecolor": "#2a3f5f",
             "gridcolor": "white",
             "linecolor": "white",
             "minorgridcolor": "white",
             "startlinecolor": "#2a3f5f"
            },
            "type": "carpet"
           }
          ],
          "choropleth": [
           {
            "colorbar": {
             "outlinewidth": 0,
             "ticks": ""
            },
            "type": "choropleth"
           }
          ],
          "contour": [
           {
            "colorbar": {
             "outlinewidth": 0,
             "ticks": ""
            },
            "colorscale": [
             [
              0,
              "#0d0887"
             ],
             [
              0.1111111111111111,
              "#46039f"
             ],
             [
              0.2222222222222222,
              "#7201a8"
             ],
             [
              0.3333333333333333,
              "#9c179e"
             ],
             [
              0.4444444444444444,
              "#bd3786"
             ],
             [
              0.5555555555555556,
              "#d8576b"
             ],
             [
              0.6666666666666666,
              "#ed7953"
             ],
             [
              0.7777777777777778,
              "#fb9f3a"
             ],
             [
              0.8888888888888888,
              "#fdca26"
             ],
             [
              1,
              "#f0f921"
             ]
            ],
            "type": "contour"
           }
          ],
          "contourcarpet": [
           {
            "colorbar": {
             "outlinewidth": 0,
             "ticks": ""
            },
            "type": "contourcarpet"
           }
          ],
          "heatmap": [
           {
            "colorbar": {
             "outlinewidth": 0,
             "ticks": ""
            },
            "colorscale": [
             [
              0,
              "#0d0887"
             ],
             [
              0.1111111111111111,
              "#46039f"
             ],
             [
              0.2222222222222222,
              "#7201a8"
             ],
             [
              0.3333333333333333,
              "#9c179e"
             ],
             [
              0.4444444444444444,
              "#bd3786"
             ],
             [
              0.5555555555555556,
              "#d8576b"
             ],
             [
              0.6666666666666666,
              "#ed7953"
             ],
             [
              0.7777777777777778,
              "#fb9f3a"
             ],
             [
              0.8888888888888888,
              "#fdca26"
             ],
             [
              1,
              "#f0f921"
             ]
            ],
            "type": "heatmap"
           }
          ],
          "heatmapgl": [
           {
            "colorbar": {
             "outlinewidth": 0,
             "ticks": ""
            },
            "colorscale": [
             [
              0,
              "#0d0887"
             ],
             [
              0.1111111111111111,
              "#46039f"
             ],
             [
              0.2222222222222222,
              "#7201a8"
             ],
             [
              0.3333333333333333,
              "#9c179e"
             ],
             [
              0.4444444444444444,
              "#bd3786"
             ],
             [
              0.5555555555555556,
              "#d8576b"
             ],
             [
              0.6666666666666666,
              "#ed7953"
             ],
             [
              0.7777777777777778,
              "#fb9f3a"
             ],
             [
              0.8888888888888888,
              "#fdca26"
             ],
             [
              1,
              "#f0f921"
             ]
            ],
            "type": "heatmapgl"
           }
          ],
          "histogram": [
           {
            "marker": {
             "pattern": {
              "fillmode": "overlay",
              "size": 10,
              "solidity": 0.2
             }
            },
            "type": "histogram"
           }
          ],
          "histogram2d": [
           {
            "colorbar": {
             "outlinewidth": 0,
             "ticks": ""
            },
            "colorscale": [
             [
              0,
              "#0d0887"
             ],
             [
              0.1111111111111111,
              "#46039f"
             ],
             [
              0.2222222222222222,
              "#7201a8"
             ],
             [
              0.3333333333333333,
              "#9c179e"
             ],
             [
              0.4444444444444444,
              "#bd3786"
             ],
             [
              0.5555555555555556,
              "#d8576b"
             ],
             [
              0.6666666666666666,
              "#ed7953"
             ],
             [
              0.7777777777777778,
              "#fb9f3a"
             ],
             [
              0.8888888888888888,
              "#fdca26"
             ],
             [
              1,
              "#f0f921"
             ]
            ],
            "type": "histogram2d"
           }
          ],
          "histogram2dcontour": [
           {
            "colorbar": {
             "outlinewidth": 0,
             "ticks": ""
            },
            "colorscale": [
             [
              0,
              "#0d0887"
             ],
             [
              0.1111111111111111,
              "#46039f"
             ],
             [
              0.2222222222222222,
              "#7201a8"
             ],
             [
              0.3333333333333333,
              "#9c179e"
             ],
             [
              0.4444444444444444,
              "#bd3786"
             ],
             [
              0.5555555555555556,
              "#d8576b"
             ],
             [
              0.6666666666666666,
              "#ed7953"
             ],
             [
              0.7777777777777778,
              "#fb9f3a"
             ],
             [
              0.8888888888888888,
              "#fdca26"
             ],
             [
              1,
              "#f0f921"
             ]
            ],
            "type": "histogram2dcontour"
           }
          ],
          "mesh3d": [
           {
            "colorbar": {
             "outlinewidth": 0,
             "ticks": ""
            },
            "type": "mesh3d"
           }
          ],
          "parcoords": [
           {
            "line": {
             "colorbar": {
              "outlinewidth": 0,
              "ticks": ""
             }
            },
            "type": "parcoords"
           }
          ],
          "pie": [
           {
            "automargin": true,
            "type": "pie"
           }
          ],
          "scatter": [
           {
            "fillpattern": {
             "fillmode": "overlay",
             "size": 10,
             "solidity": 0.2
            },
            "type": "scatter"
           }
          ],
          "scatter3d": [
           {
            "line": {
             "colorbar": {
              "outlinewidth": 0,
              "ticks": ""
             }
            },
            "marker": {
             "colorbar": {
              "outlinewidth": 0,
              "ticks": ""
             }
            },
            "type": "scatter3d"
           }
          ],
          "scattercarpet": [
           {
            "marker": {
             "colorbar": {
              "outlinewidth": 0,
              "ticks": ""
             }
            },
            "type": "scattercarpet"
           }
          ],
          "scattergeo": [
           {
            "marker": {
             "colorbar": {
              "outlinewidth": 0,
              "ticks": ""
             }
            },
            "type": "scattergeo"
           }
          ],
          "scattergl": [
           {
            "marker": {
             "colorbar": {
              "outlinewidth": 0,
              "ticks": ""
             }
            },
            "type": "scattergl"
           }
          ],
          "scattermapbox": [
           {
            "marker": {
             "colorbar": {
              "outlinewidth": 0,
              "ticks": ""
             }
            },
            "type": "scattermapbox"
           }
          ],
          "scatterpolar": [
           {
            "marker": {
             "colorbar": {
              "outlinewidth": 0,
              "ticks": ""
             }
            },
            "type": "scatterpolar"
           }
          ],
          "scatterpolargl": [
           {
            "marker": {
             "colorbar": {
              "outlinewidth": 0,
              "ticks": ""
             }
            },
            "type": "scatterpolargl"
           }
          ],
          "scatterternary": [
           {
            "marker": {
             "colorbar": {
              "outlinewidth": 0,
              "ticks": ""
             }
            },
            "type": "scatterternary"
           }
          ],
          "surface": [
           {
            "colorbar": {
             "outlinewidth": 0,
             "ticks": ""
            },
            "colorscale": [
             [
              0,
              "#0d0887"
             ],
             [
              0.1111111111111111,
              "#46039f"
             ],
             [
              0.2222222222222222,
              "#7201a8"
             ],
             [
              0.3333333333333333,
              "#9c179e"
             ],
             [
              0.4444444444444444,
              "#bd3786"
             ],
             [
              0.5555555555555556,
              "#d8576b"
             ],
             [
              0.6666666666666666,
              "#ed7953"
             ],
             [
              0.7777777777777778,
              "#fb9f3a"
             ],
             [
              0.8888888888888888,
              "#fdca26"
             ],
             [
              1,
              "#f0f921"
             ]
            ],
            "type": "surface"
           }
          ],
          "table": [
           {
            "cells": {
             "fill": {
              "color": "#EBF0F8"
             },
             "line": {
              "color": "white"
             }
            },
            "header": {
             "fill": {
              "color": "#C8D4E3"
             },
             "line": {
              "color": "white"
             }
            },
            "type": "table"
           }
          ]
         },
         "layout": {
          "annotationdefaults": {
           "arrowcolor": "#2a3f5f",
           "arrowhead": 0,
           "arrowwidth": 1
          },
          "autotypenumbers": "strict",
          "coloraxis": {
           "colorbar": {
            "outlinewidth": 0,
            "ticks": ""
           }
          },
          "colorscale": {
           "diverging": [
            [
             0,
             "#8e0152"
            ],
            [
             0.1,
             "#c51b7d"
            ],
            [
             0.2,
             "#de77ae"
            ],
            [
             0.3,
             "#f1b6da"
            ],
            [
             0.4,
             "#fde0ef"
            ],
            [
             0.5,
             "#f7f7f7"
            ],
            [
             0.6,
             "#e6f5d0"
            ],
            [
             0.7,
             "#b8e186"
            ],
            [
             0.8,
             "#7fbc41"
            ],
            [
             0.9,
             "#4d9221"
            ],
            [
             1,
             "#276419"
            ]
           ],
           "sequential": [
            [
             0,
             "#0d0887"
            ],
            [
             0.1111111111111111,
             "#46039f"
            ],
            [
             0.2222222222222222,
             "#7201a8"
            ],
            [
             0.3333333333333333,
             "#9c179e"
            ],
            [
             0.4444444444444444,
             "#bd3786"
            ],
            [
             0.5555555555555556,
             "#d8576b"
            ],
            [
             0.6666666666666666,
             "#ed7953"
            ],
            [
             0.7777777777777778,
             "#fb9f3a"
            ],
            [
             0.8888888888888888,
             "#fdca26"
            ],
            [
             1,
             "#f0f921"
            ]
           ],
           "sequentialminus": [
            [
             0,
             "#0d0887"
            ],
            [
             0.1111111111111111,
             "#46039f"
            ],
            [
             0.2222222222222222,
             "#7201a8"
            ],
            [
             0.3333333333333333,
             "#9c179e"
            ],
            [
             0.4444444444444444,
             "#bd3786"
            ],
            [
             0.5555555555555556,
             "#d8576b"
            ],
            [
             0.6666666666666666,
             "#ed7953"
            ],
            [
             0.7777777777777778,
             "#fb9f3a"
            ],
            [
             0.8888888888888888,
             "#fdca26"
            ],
            [
             1,
             "#f0f921"
            ]
           ]
          },
          "colorway": [
           "#636efa",
           "#EF553B",
           "#00cc96",
           "#ab63fa",
           "#FFA15A",
           "#19d3f3",
           "#FF6692",
           "#B6E880",
           "#FF97FF",
           "#FECB52"
          ],
          "font": {
           "color": "#2a3f5f"
          },
          "geo": {
           "bgcolor": "white",
           "lakecolor": "white",
           "landcolor": "#E5ECF6",
           "showlakes": true,
           "showland": true,
           "subunitcolor": "white"
          },
          "hoverlabel": {
           "align": "left"
          },
          "hovermode": "closest",
          "mapbox": {
           "style": "light"
          },
          "paper_bgcolor": "white",
          "plot_bgcolor": "#E5ECF6",
          "polar": {
           "angularaxis": {
            "gridcolor": "white",
            "linecolor": "white",
            "ticks": ""
           },
           "bgcolor": "#E5ECF6",
           "radialaxis": {
            "gridcolor": "white",
            "linecolor": "white",
            "ticks": ""
           }
          },
          "scene": {
           "xaxis": {
            "backgroundcolor": "#E5ECF6",
            "gridcolor": "white",
            "gridwidth": 2,
            "linecolor": "white",
            "showbackground": true,
            "ticks": "",
            "zerolinecolor": "white"
           },
           "yaxis": {
            "backgroundcolor": "#E5ECF6",
            "gridcolor": "white",
            "gridwidth": 2,
            "linecolor": "white",
            "showbackground": true,
            "ticks": "",
            "zerolinecolor": "white"
           },
           "zaxis": {
            "backgroundcolor": "#E5ECF6",
            "gridcolor": "white",
            "gridwidth": 2,
            "linecolor": "white",
            "showbackground": true,
            "ticks": "",
            "zerolinecolor": "white"
           }
          },
          "shapedefaults": {
           "line": {
            "color": "#2a3f5f"
           }
          },
          "ternary": {
           "aaxis": {
            "gridcolor": "white",
            "linecolor": "white",
            "ticks": ""
           },
           "baxis": {
            "gridcolor": "white",
            "linecolor": "white",
            "ticks": ""
           },
           "bgcolor": "#E5ECF6",
           "caxis": {
            "gridcolor": "white",
            "linecolor": "white",
            "ticks": ""
           }
          },
          "title": {
           "x": 0.05
          },
          "xaxis": {
           "automargin": true,
           "gridcolor": "white",
           "linecolor": "white",
           "ticks": "",
           "title": {
            "standoff": 15
           },
           "zerolinecolor": "white",
           "zerolinewidth": 2
          },
          "yaxis": {
           "automargin": true,
           "gridcolor": "white",
           "linecolor": "white",
           "ticks": "",
           "title": {
            "standoff": 15
           },
           "zerolinecolor": "white",
           "zerolinewidth": 2
          }
         }
        },
        "title": {
         "text": "Possession Stats"
        },
        "xaxis": {
         "title": {
          "text": "Teams"
         }
        },
        "yaxis": {
         "title": {
          "text": "Possession"
         }
        }
       }
      },
      "text/html": [
       "<div>                            <div id=\"0b04fcb7-ddf6-4809-8b0f-f56c9e1001ec\" class=\"plotly-graph-div\" style=\"height:525px; width:100%;\"></div>            <script type=\"text/javascript\">                require([\"plotly\"], function(Plotly) {                    window.PLOTLYENV=window.PLOTLYENV || {};                                    if (document.getElementById(\"0b04fcb7-ddf6-4809-8b0f-f56c9e1001ec\")) {                    Plotly.newPlot(                        \"0b04fcb7-ddf6-4809-8b0f-f56c9e1001ec\",                        [{\"marker\":{\"color\":[54.967213114754095,47.0,39.43478260869565,44.36065573770492,56.016666666666666,40.1578947368421,60.68852459016394,48.67213114754098,42.0655737704918,46.291666666666664,51.295081967213115,51.24590163934426,61.63333333333333,66.56451612903226,52.91935483870968,44.557377049180324,42.86842105263158,39.47826086956522,46.40983606557377,51.33870967741935,40.71052631578947,46.36065573770492,49.622950819672134],\"colorscale\":[[0.0,\"#440154\"],[0.1111111111111111,\"#482878\"],[0.2222222222222222,\"#3e4989\"],[0.3333333333333333,\"#31688e\"],[0.4444444444444444,\"#26828e\"],[0.5555555555555556,\"#1f9e89\"],[0.6666666666666666,\"#35b779\"],[0.7777777777777778,\"#6ece58\"],[0.8888888888888888,\"#b5de2b\"],[1.0,\"#fde725\"]],\"showscale\":true,\"size\":[19.238524590163934,16.45,13.802173913043477,15.52622950819672,19.605833333333333,14.055263157894736,21.240983606557375,17.035245901639342,14.72295081967213,16.20208333333333,17.953278688524588,17.93606557377049,21.571666666666665,23.29758064516129,18.521774193548385,15.595081967213112,15.003947368421052,13.817391304347826,16.24344262295082,17.96854838709677,14.248684210526314,16.22622950819672,17.368032786885244]},\"mode\":\"markers\",\"x\":[\"Arsenal\",\"Aston Villa\",\"Bournemouth\",\"Brentford\",\"Brighton and Hove Albion\",\"Burnley\",\"Chelsea\",\"Crystal Palace\",\"Everton\",\"Fulham\",\"Leeds United\",\"Leicester City\",\"Liverpool\",\"Manchester City\",\"Manchester United\",\"Newcastle United\",\"Norwich City\",\"Nottingham Forest\",\"Southampton\",\"Tottenham Hotspur\",\"Watford\",\"West Ham United\",\"Wolverhampton Wanderers\"],\"y\":[54.967213114754095,47.0,39.43478260869565,44.36065573770492,56.016666666666666,40.1578947368421,60.68852459016394,48.67213114754098,42.0655737704918,46.291666666666664,51.295081967213115,51.24590163934426,61.63333333333333,66.56451612903226,52.91935483870968,44.557377049180324,42.86842105263158,39.47826086956522,46.40983606557377,51.33870967741935,40.71052631578947,46.36065573770492,49.622950819672134],\"type\":\"scatter\"}],                        {\"title\":{\"text\":\"Possession Stats\"},\"xaxis\":{\"title\":{\"text\":\"Teams\"}},\"yaxis\":{\"title\":{\"text\":\"Possession\"}},\"template\":{\"data\":{\"histogram2dcontour\":[{\"type\":\"histogram2dcontour\",\"colorbar\":{\"outlinewidth\":0,\"ticks\":\"\"},\"colorscale\":[[0.0,\"#0d0887\"],[0.1111111111111111,\"#46039f\"],[0.2222222222222222,\"#7201a8\"],[0.3333333333333333,\"#9c179e\"],[0.4444444444444444,\"#bd3786\"],[0.5555555555555556,\"#d8576b\"],[0.6666666666666666,\"#ed7953\"],[0.7777777777777778,\"#fb9f3a\"],[0.8888888888888888,\"#fdca26\"],[1.0,\"#f0f921\"]]}],\"choropleth\":[{\"type\":\"choropleth\",\"colorbar\":{\"outlinewidth\":0,\"ticks\":\"\"}}],\"histogram2d\":[{\"type\":\"histogram2d\",\"colorbar\":{\"outlinewidth\":0,\"ticks\":\"\"},\"colorscale\":[[0.0,\"#0d0887\"],[0.1111111111111111,\"#46039f\"],[0.2222222222222222,\"#7201a8\"],[0.3333333333333333,\"#9c179e\"],[0.4444444444444444,\"#bd3786\"],[0.5555555555555556,\"#d8576b\"],[0.6666666666666666,\"#ed7953\"],[0.7777777777777778,\"#fb9f3a\"],[0.8888888888888888,\"#fdca26\"],[1.0,\"#f0f921\"]]}],\"heatmap\":[{\"type\":\"heatmap\",\"colorbar\":{\"outlinewidth\":0,\"ticks\":\"\"},\"colorscale\":[[0.0,\"#0d0887\"],[0.1111111111111111,\"#46039f\"],[0.2222222222222222,\"#7201a8\"],[0.3333333333333333,\"#9c179e\"],[0.4444444444444444,\"#bd3786\"],[0.5555555555555556,\"#d8576b\"],[0.6666666666666666,\"#ed7953\"],[0.7777777777777778,\"#fb9f3a\"],[0.8888888888888888,\"#fdca26\"],[1.0,\"#f0f921\"]]}],\"heatmapgl\":[{\"type\":\"heatmapgl\",\"colorbar\":{\"outlinewidth\":0,\"ticks\":\"\"},\"colorscale\":[[0.0,\"#0d0887\"],[0.1111111111111111,\"#46039f\"],[0.2222222222222222,\"#7201a8\"],[0.3333333333333333,\"#9c179e\"],[0.4444444444444444,\"#bd3786\"],[0.5555555555555556,\"#d8576b\"],[0.6666666666666666,\"#ed7953\"],[0.7777777777777778,\"#fb9f3a\"],[0.8888888888888888,\"#fdca26\"],[1.0,\"#f0f921\"]]}],\"contourcarpet\":[{\"type\":\"contourcarpet\",\"colorbar\":{\"outlinewidth\":0,\"ticks\":\"\"}}],\"contour\":[{\"type\":\"contour\",\"colorbar\":{\"outlinewidth\":0,\"ticks\":\"\"},\"colorscale\":[[0.0,\"#0d0887\"],[0.1111111111111111,\"#46039f\"],[0.2222222222222222,\"#7201a8\"],[0.3333333333333333,\"#9c179e\"],[0.4444444444444444,\"#bd3786\"],[0.5555555555555556,\"#d8576b\"],[0.6666666666666666,\"#ed7953\"],[0.7777777777777778,\"#fb9f3a\"],[0.8888888888888888,\"#fdca26\"],[1.0,\"#f0f921\"]]}],\"surface\":[{\"type\":\"surface\",\"colorbar\":{\"outlinewidth\":0,\"ticks\":\"\"},\"colorscale\":[[0.0,\"#0d0887\"],[0.1111111111111111,\"#46039f\"],[0.2222222222222222,\"#7201a8\"],[0.3333333333333333,\"#9c179e\"],[0.4444444444444444,\"#bd3786\"],[0.5555555555555556,\"#d8576b\"],[0.6666666666666666,\"#ed7953\"],[0.7777777777777778,\"#fb9f3a\"],[0.8888888888888888,\"#fdca26\"],[1.0,\"#f0f921\"]]}],\"mesh3d\":[{\"type\":\"mesh3d\",\"colorbar\":{\"outlinewidth\":0,\"ticks\":\"\"}}],\"scatter\":[{\"fillpattern\":{\"fillmode\":\"overlay\",\"size\":10,\"solidity\":0.2},\"type\":\"scatter\"}],\"parcoords\":[{\"type\":\"parcoords\",\"line\":{\"colorbar\":{\"outlinewidth\":0,\"ticks\":\"\"}}}],\"scatterpolargl\":[{\"type\":\"scatterpolargl\",\"marker\":{\"colorbar\":{\"outlinewidth\":0,\"ticks\":\"\"}}}],\"bar\":[{\"error_x\":{\"color\":\"#2a3f5f\"},\"error_y\":{\"color\":\"#2a3f5f\"},\"marker\":{\"line\":{\"color\":\"#E5ECF6\",\"width\":0.5},\"pattern\":{\"fillmode\":\"overlay\",\"size\":10,\"solidity\":0.2}},\"type\":\"bar\"}],\"scattergeo\":[{\"type\":\"scattergeo\",\"marker\":{\"colorbar\":{\"outlinewidth\":0,\"ticks\":\"\"}}}],\"scatterpolar\":[{\"type\":\"scatterpolar\",\"marker\":{\"colorbar\":{\"outlinewidth\":0,\"ticks\":\"\"}}}],\"histogram\":[{\"marker\":{\"pattern\":{\"fillmode\":\"overlay\",\"size\":10,\"solidity\":0.2}},\"type\":\"histogram\"}],\"scattergl\":[{\"type\":\"scattergl\",\"marker\":{\"colorbar\":{\"outlinewidth\":0,\"ticks\":\"\"}}}],\"scatter3d\":[{\"type\":\"scatter3d\",\"line\":{\"colorbar\":{\"outlinewidth\":0,\"ticks\":\"\"}},\"marker\":{\"colorbar\":{\"outlinewidth\":0,\"ticks\":\"\"}}}],\"scattermapbox\":[{\"type\":\"scattermapbox\",\"marker\":{\"colorbar\":{\"outlinewidth\":0,\"ticks\":\"\"}}}],\"scatterternary\":[{\"type\":\"scatterternary\",\"marker\":{\"colorbar\":{\"outlinewidth\":0,\"ticks\":\"\"}}}],\"scattercarpet\":[{\"type\":\"scattercarpet\",\"marker\":{\"colorbar\":{\"outlinewidth\":0,\"ticks\":\"\"}}}],\"carpet\":[{\"aaxis\":{\"endlinecolor\":\"#2a3f5f\",\"gridcolor\":\"white\",\"linecolor\":\"white\",\"minorgridcolor\":\"white\",\"startlinecolor\":\"#2a3f5f\"},\"baxis\":{\"endlinecolor\":\"#2a3f5f\",\"gridcolor\":\"white\",\"linecolor\":\"white\",\"minorgridcolor\":\"white\",\"startlinecolor\":\"#2a3f5f\"},\"type\":\"carpet\"}],\"table\":[{\"cells\":{\"fill\":{\"color\":\"#EBF0F8\"},\"line\":{\"color\":\"white\"}},\"header\":{\"fill\":{\"color\":\"#C8D4E3\"},\"line\":{\"color\":\"white\"}},\"type\":\"table\"}],\"barpolar\":[{\"marker\":{\"line\":{\"color\":\"#E5ECF6\",\"width\":0.5},\"pattern\":{\"fillmode\":\"overlay\",\"size\":10,\"solidity\":0.2}},\"type\":\"barpolar\"}],\"pie\":[{\"automargin\":true,\"type\":\"pie\"}]},\"layout\":{\"autotypenumbers\":\"strict\",\"colorway\":[\"#636efa\",\"#EF553B\",\"#00cc96\",\"#ab63fa\",\"#FFA15A\",\"#19d3f3\",\"#FF6692\",\"#B6E880\",\"#FF97FF\",\"#FECB52\"],\"font\":{\"color\":\"#2a3f5f\"},\"hovermode\":\"closest\",\"hoverlabel\":{\"align\":\"left\"},\"paper_bgcolor\":\"white\",\"plot_bgcolor\":\"#E5ECF6\",\"polar\":{\"bgcolor\":\"#E5ECF6\",\"angularaxis\":{\"gridcolor\":\"white\",\"linecolor\":\"white\",\"ticks\":\"\"},\"radialaxis\":{\"gridcolor\":\"white\",\"linecolor\":\"white\",\"ticks\":\"\"}},\"ternary\":{\"bgcolor\":\"#E5ECF6\",\"aaxis\":{\"gridcolor\":\"white\",\"linecolor\":\"white\",\"ticks\":\"\"},\"baxis\":{\"gridcolor\":\"white\",\"linecolor\":\"white\",\"ticks\":\"\"},\"caxis\":{\"gridcolor\":\"white\",\"linecolor\":\"white\",\"ticks\":\"\"}},\"coloraxis\":{\"colorbar\":{\"outlinewidth\":0,\"ticks\":\"\"}},\"colorscale\":{\"sequential\":[[0.0,\"#0d0887\"],[0.1111111111111111,\"#46039f\"],[0.2222222222222222,\"#7201a8\"],[0.3333333333333333,\"#9c179e\"],[0.4444444444444444,\"#bd3786\"],[0.5555555555555556,\"#d8576b\"],[0.6666666666666666,\"#ed7953\"],[0.7777777777777778,\"#fb9f3a\"],[0.8888888888888888,\"#fdca26\"],[1.0,\"#f0f921\"]],\"sequentialminus\":[[0.0,\"#0d0887\"],[0.1111111111111111,\"#46039f\"],[0.2222222222222222,\"#7201a8\"],[0.3333333333333333,\"#9c179e\"],[0.4444444444444444,\"#bd3786\"],[0.5555555555555556,\"#d8576b\"],[0.6666666666666666,\"#ed7953\"],[0.7777777777777778,\"#fb9f3a\"],[0.8888888888888888,\"#fdca26\"],[1.0,\"#f0f921\"]],\"diverging\":[[0,\"#8e0152\"],[0.1,\"#c51b7d\"],[0.2,\"#de77ae\"],[0.3,\"#f1b6da\"],[0.4,\"#fde0ef\"],[0.5,\"#f7f7f7\"],[0.6,\"#e6f5d0\"],[0.7,\"#b8e186\"],[0.8,\"#7fbc41\"],[0.9,\"#4d9221\"],[1,\"#276419\"]]},\"xaxis\":{\"gridcolor\":\"white\",\"linecolor\":\"white\",\"ticks\":\"\",\"title\":{\"standoff\":15},\"zerolinecolor\":\"white\",\"automargin\":true,\"zerolinewidth\":2},\"yaxis\":{\"gridcolor\":\"white\",\"linecolor\":\"white\",\"ticks\":\"\",\"title\":{\"standoff\":15},\"zerolinecolor\":\"white\",\"automargin\":true,\"zerolinewidth\":2},\"scene\":{\"xaxis\":{\"backgroundcolor\":\"#E5ECF6\",\"gridcolor\":\"white\",\"linecolor\":\"white\",\"showbackground\":true,\"ticks\":\"\",\"zerolinecolor\":\"white\",\"gridwidth\":2},\"yaxis\":{\"backgroundcolor\":\"#E5ECF6\",\"gridcolor\":\"white\",\"linecolor\":\"white\",\"showbackground\":true,\"ticks\":\"\",\"zerolinecolor\":\"white\",\"gridwidth\":2},\"zaxis\":{\"backgroundcolor\":\"#E5ECF6\",\"gridcolor\":\"white\",\"linecolor\":\"white\",\"showbackground\":true,\"ticks\":\"\",\"zerolinecolor\":\"white\",\"gridwidth\":2}},\"shapedefaults\":{\"line\":{\"color\":\"#2a3f5f\"}},\"annotationdefaults\":{\"arrowcolor\":\"#2a3f5f\",\"arrowhead\":0,\"arrowwidth\":1},\"geo\":{\"bgcolor\":\"white\",\"landcolor\":\"#E5ECF6\",\"subunitcolor\":\"white\",\"showland\":true,\"showlakes\":true,\"lakecolor\":\"white\"},\"title\":{\"x\":0.05},\"mapbox\":{\"style\":\"light\"}}}},                        {\"responsive\": true}                    ).then(function(){\n",
       "                            \n",
       "var gd = document.getElementById('0b04fcb7-ddf6-4809-8b0f-f56c9e1001ec');\n",
       "var x = new MutationObserver(function (mutations, observer) {{\n",
       "        var display = window.getComputedStyle(gd).display;\n",
       "        if (!display || display === 'none') {{\n",
       "            console.log([gd, 'removed!']);\n",
       "            Plotly.purge(gd);\n",
       "            observer.disconnect();\n",
       "        }}\n",
       "}});\n",
       "\n",
       "// Listen for the removal of the full notebook cells\n",
       "var notebookContainer = gd.closest('#notebook-container');\n",
       "if (notebookContainer) {{\n",
       "    x.observe(notebookContainer, {childList: true});\n",
       "}}\n",
       "\n",
       "// Listen for the clearing of the current output cell\n",
       "var outputEl = gd.closest('.output');\n",
       "if (outputEl) {{\n",
       "    x.observe(outputEl, {childList: true});\n",
       "}}\n",
       "\n",
       "                        })                };                });            </script>        </div>"
      ]
     },
     "metadata": {},
     "output_type": "display_data"
    },
    {
     "data": {
      "text/plain": [
       "'https://plotly.com/~Kvothe_v1/17/'"
      ]
     },
     "execution_count": 570,
     "metadata": {},
     "output_type": "execute_result"
    }
   ],
   "source": [
    "# To show the possession stats of the different teams\n",
    "\n",
    "\n",
    "poss_st = go.Scatter(y=possession['Poss'],x=possession.index, mode='markers',\n",
    "                    marker={'size': .35 * possession['Poss'], \n",
    "                            'color':possession['Poss'], 'colorscale':'Viridis', 'showscale':True})\n",
    "                    #To have the points vary in size based on possession\n",
    "# create a layout for the plot\n",
    "poss_layout = go.Layout(title='Possession Stats',\n",
    "                   yaxis={'title': 'Possession'},\n",
    "                   xaxis={'title': 'Teams'})\n",
    "\n",
    "# create a figure object\n",
    "Summarized_possesion = go.Figure(data=[poss_st], layout=poss_layout)\n",
    "Summarized_possesion.show()\n",
    "py.plot(Summarized_possesion, filename='Summarized_Possession.html', auto_open=False)"
   ]
  },
  {
   "cell_type": "code",
   "execution_count": 572,
   "id": "5828a25a",
   "metadata": {},
   "outputs": [
    {
     "data": {
      "application/vnd.plotly.v1+json": {
       "config": {
        "plotlyServerURL": "https://plotly.com"
       },
       "data": [
        {
         "marker": {
          "color": "#A52A2A"
         },
         "name": "Possession Stats 22",
         "opacity": 0.5,
         "type": "bar",
         "x": [
          "Arsenal",
          "Aston Villa",
          "Brentford",
          "Brighton and Hove Albion",
          "Burnley",
          "Chelsea",
          "Crystal Palace",
          "Everton",
          "Leeds United",
          "Leicester City",
          "Liverpool",
          "Manchester City",
          "Manchester United",
          "Newcastle United",
          "Norwich City",
          "Southampton",
          "Tottenham Hotspur",
          "Watford",
          "West Ham United",
          "Wolverhampton Wanderers"
         ],
         "y": [
          58.608695652173914,
          47.869565217391305,
          39.43478260869565,
          43.69565217391305,
          58.81818181818182,
          58.91304347826087,
          44.69565217391305,
          45.47826086956522,
          46.291666666666664,
          49.56521739130435,
          50,
          59.86363636363637,
          64.375,
          53.291666666666664,
          51.391304347826086,
          39.47826086956522,
          44.30434782608695,
          50.541666666666664,
          43.78260869565217,
          49.78260869565217
         ]
        },
        {
         "marker": {
          "color": "#00BFFF"
         },
         "name": "Possession Stats 21",
         "opacity": 0.5,
         "type": "bar",
         "x": [
          "Arsenal",
          "Aston Villa",
          "Brentford",
          "Brighton and Hove Albion",
          "Burnley",
          "Chelsea",
          "Crystal Palace",
          "Everton",
          "Leeds United",
          "Leicester City",
          "Liverpool",
          "Manchester City",
          "Manchester United",
          "Newcastle United",
          "Norwich City",
          "Southampton",
          "Tottenham Hotspur",
          "Watford",
          "West Ham United",
          "Wolverhampton Wanderers"
         ],
         "y": [
          52.76315789473684,
          46.473684210526315,
          44.76315789473684,
          54.39473684210526,
          40.1578947368421,
          61.76315789473684,
          51.078947368421055,
          40,
          52.3421052631579,
          52,
          62.6578947368421,
          67.94736842105263,
          52.68421052631579,
          40.421052631578945,
          42.86842105263158,
          47.68421052631579,
          51.8421052631579,
          40.71052631578947,
          47.921052631578945,
          49.526315789473685
         ]
        }
       ],
       "layout": {
        "barmode": "group",
        "template": {
         "data": {
          "bar": [
           {
            "error_x": {
             "color": "#2a3f5f"
            },
            "error_y": {
             "color": "#2a3f5f"
            },
            "marker": {
             "line": {
              "color": "#E5ECF6",
              "width": 0.5
             },
             "pattern": {
              "fillmode": "overlay",
              "size": 10,
              "solidity": 0.2
             }
            },
            "type": "bar"
           }
          ],
          "barpolar": [
           {
            "marker": {
             "line": {
              "color": "#E5ECF6",
              "width": 0.5
             },
             "pattern": {
              "fillmode": "overlay",
              "size": 10,
              "solidity": 0.2
             }
            },
            "type": "barpolar"
           }
          ],
          "carpet": [
           {
            "aaxis": {
             "endlinecolor": "#2a3f5f",
             "gridcolor": "white",
             "linecolor": "white",
             "minorgridcolor": "white",
             "startlinecolor": "#2a3f5f"
            },
            "baxis": {
             "endlinecolor": "#2a3f5f",
             "gridcolor": "white",
             "linecolor": "white",
             "minorgridcolor": "white",
             "startlinecolor": "#2a3f5f"
            },
            "type": "carpet"
           }
          ],
          "choropleth": [
           {
            "colorbar": {
             "outlinewidth": 0,
             "ticks": ""
            },
            "type": "choropleth"
           }
          ],
          "contour": [
           {
            "colorbar": {
             "outlinewidth": 0,
             "ticks": ""
            },
            "colorscale": [
             [
              0,
              "#0d0887"
             ],
             [
              0.1111111111111111,
              "#46039f"
             ],
             [
              0.2222222222222222,
              "#7201a8"
             ],
             [
              0.3333333333333333,
              "#9c179e"
             ],
             [
              0.4444444444444444,
              "#bd3786"
             ],
             [
              0.5555555555555556,
              "#d8576b"
             ],
             [
              0.6666666666666666,
              "#ed7953"
             ],
             [
              0.7777777777777778,
              "#fb9f3a"
             ],
             [
              0.8888888888888888,
              "#fdca26"
             ],
             [
              1,
              "#f0f921"
             ]
            ],
            "type": "contour"
           }
          ],
          "contourcarpet": [
           {
            "colorbar": {
             "outlinewidth": 0,
             "ticks": ""
            },
            "type": "contourcarpet"
           }
          ],
          "heatmap": [
           {
            "colorbar": {
             "outlinewidth": 0,
             "ticks": ""
            },
            "colorscale": [
             [
              0,
              "#0d0887"
             ],
             [
              0.1111111111111111,
              "#46039f"
             ],
             [
              0.2222222222222222,
              "#7201a8"
             ],
             [
              0.3333333333333333,
              "#9c179e"
             ],
             [
              0.4444444444444444,
              "#bd3786"
             ],
             [
              0.5555555555555556,
              "#d8576b"
             ],
             [
              0.6666666666666666,
              "#ed7953"
             ],
             [
              0.7777777777777778,
              "#fb9f3a"
             ],
             [
              0.8888888888888888,
              "#fdca26"
             ],
             [
              1,
              "#f0f921"
             ]
            ],
            "type": "heatmap"
           }
          ],
          "heatmapgl": [
           {
            "colorbar": {
             "outlinewidth": 0,
             "ticks": ""
            },
            "colorscale": [
             [
              0,
              "#0d0887"
             ],
             [
              0.1111111111111111,
              "#46039f"
             ],
             [
              0.2222222222222222,
              "#7201a8"
             ],
             [
              0.3333333333333333,
              "#9c179e"
             ],
             [
              0.4444444444444444,
              "#bd3786"
             ],
             [
              0.5555555555555556,
              "#d8576b"
             ],
             [
              0.6666666666666666,
              "#ed7953"
             ],
             [
              0.7777777777777778,
              "#fb9f3a"
             ],
             [
              0.8888888888888888,
              "#fdca26"
             ],
             [
              1,
              "#f0f921"
             ]
            ],
            "type": "heatmapgl"
           }
          ],
          "histogram": [
           {
            "marker": {
             "pattern": {
              "fillmode": "overlay",
              "size": 10,
              "solidity": 0.2
             }
            },
            "type": "histogram"
           }
          ],
          "histogram2d": [
           {
            "colorbar": {
             "outlinewidth": 0,
             "ticks": ""
            },
            "colorscale": [
             [
              0,
              "#0d0887"
             ],
             [
              0.1111111111111111,
              "#46039f"
             ],
             [
              0.2222222222222222,
              "#7201a8"
             ],
             [
              0.3333333333333333,
              "#9c179e"
             ],
             [
              0.4444444444444444,
              "#bd3786"
             ],
             [
              0.5555555555555556,
              "#d8576b"
             ],
             [
              0.6666666666666666,
              "#ed7953"
             ],
             [
              0.7777777777777778,
              "#fb9f3a"
             ],
             [
              0.8888888888888888,
              "#fdca26"
             ],
             [
              1,
              "#f0f921"
             ]
            ],
            "type": "histogram2d"
           }
          ],
          "histogram2dcontour": [
           {
            "colorbar": {
             "outlinewidth": 0,
             "ticks": ""
            },
            "colorscale": [
             [
              0,
              "#0d0887"
             ],
             [
              0.1111111111111111,
              "#46039f"
             ],
             [
              0.2222222222222222,
              "#7201a8"
             ],
             [
              0.3333333333333333,
              "#9c179e"
             ],
             [
              0.4444444444444444,
              "#bd3786"
             ],
             [
              0.5555555555555556,
              "#d8576b"
             ],
             [
              0.6666666666666666,
              "#ed7953"
             ],
             [
              0.7777777777777778,
              "#fb9f3a"
             ],
             [
              0.8888888888888888,
              "#fdca26"
             ],
             [
              1,
              "#f0f921"
             ]
            ],
            "type": "histogram2dcontour"
           }
          ],
          "mesh3d": [
           {
            "colorbar": {
             "outlinewidth": 0,
             "ticks": ""
            },
            "type": "mesh3d"
           }
          ],
          "parcoords": [
           {
            "line": {
             "colorbar": {
              "outlinewidth": 0,
              "ticks": ""
             }
            },
            "type": "parcoords"
           }
          ],
          "pie": [
           {
            "automargin": true,
            "type": "pie"
           }
          ],
          "scatter": [
           {
            "fillpattern": {
             "fillmode": "overlay",
             "size": 10,
             "solidity": 0.2
            },
            "type": "scatter"
           }
          ],
          "scatter3d": [
           {
            "line": {
             "colorbar": {
              "outlinewidth": 0,
              "ticks": ""
             }
            },
            "marker": {
             "colorbar": {
              "outlinewidth": 0,
              "ticks": ""
             }
            },
            "type": "scatter3d"
           }
          ],
          "scattercarpet": [
           {
            "marker": {
             "colorbar": {
              "outlinewidth": 0,
              "ticks": ""
             }
            },
            "type": "scattercarpet"
           }
          ],
          "scattergeo": [
           {
            "marker": {
             "colorbar": {
              "outlinewidth": 0,
              "ticks": ""
             }
            },
            "type": "scattergeo"
           }
          ],
          "scattergl": [
           {
            "marker": {
             "colorbar": {
              "outlinewidth": 0,
              "ticks": ""
             }
            },
            "type": "scattergl"
           }
          ],
          "scattermapbox": [
           {
            "marker": {
             "colorbar": {
              "outlinewidth": 0,
              "ticks": ""
             }
            },
            "type": "scattermapbox"
           }
          ],
          "scatterpolar": [
           {
            "marker": {
             "colorbar": {
              "outlinewidth": 0,
              "ticks": ""
             }
            },
            "type": "scatterpolar"
           }
          ],
          "scatterpolargl": [
           {
            "marker": {
             "colorbar": {
              "outlinewidth": 0,
              "ticks": ""
             }
            },
            "type": "scatterpolargl"
           }
          ],
          "scatterternary": [
           {
            "marker": {
             "colorbar": {
              "outlinewidth": 0,
              "ticks": ""
             }
            },
            "type": "scatterternary"
           }
          ],
          "surface": [
           {
            "colorbar": {
             "outlinewidth": 0,
             "ticks": ""
            },
            "colorscale": [
             [
              0,
              "#0d0887"
             ],
             [
              0.1111111111111111,
              "#46039f"
             ],
             [
              0.2222222222222222,
              "#7201a8"
             ],
             [
              0.3333333333333333,
              "#9c179e"
             ],
             [
              0.4444444444444444,
              "#bd3786"
             ],
             [
              0.5555555555555556,
              "#d8576b"
             ],
             [
              0.6666666666666666,
              "#ed7953"
             ],
             [
              0.7777777777777778,
              "#fb9f3a"
             ],
             [
              0.8888888888888888,
              "#fdca26"
             ],
             [
              1,
              "#f0f921"
             ]
            ],
            "type": "surface"
           }
          ],
          "table": [
           {
            "cells": {
             "fill": {
              "color": "#EBF0F8"
             },
             "line": {
              "color": "white"
             }
            },
            "header": {
             "fill": {
              "color": "#C8D4E3"
             },
             "line": {
              "color": "white"
             }
            },
            "type": "table"
           }
          ]
         },
         "layout": {
          "annotationdefaults": {
           "arrowcolor": "#2a3f5f",
           "arrowhead": 0,
           "arrowwidth": 1
          },
          "autotypenumbers": "strict",
          "coloraxis": {
           "colorbar": {
            "outlinewidth": 0,
            "ticks": ""
           }
          },
          "colorscale": {
           "diverging": [
            [
             0,
             "#8e0152"
            ],
            [
             0.1,
             "#c51b7d"
            ],
            [
             0.2,
             "#de77ae"
            ],
            [
             0.3,
             "#f1b6da"
            ],
            [
             0.4,
             "#fde0ef"
            ],
            [
             0.5,
             "#f7f7f7"
            ],
            [
             0.6,
             "#e6f5d0"
            ],
            [
             0.7,
             "#b8e186"
            ],
            [
             0.8,
             "#7fbc41"
            ],
            [
             0.9,
             "#4d9221"
            ],
            [
             1,
             "#276419"
            ]
           ],
           "sequential": [
            [
             0,
             "#0d0887"
            ],
            [
             0.1111111111111111,
             "#46039f"
            ],
            [
             0.2222222222222222,
             "#7201a8"
            ],
            [
             0.3333333333333333,
             "#9c179e"
            ],
            [
             0.4444444444444444,
             "#bd3786"
            ],
            [
             0.5555555555555556,
             "#d8576b"
            ],
            [
             0.6666666666666666,
             "#ed7953"
            ],
            [
             0.7777777777777778,
             "#fb9f3a"
            ],
            [
             0.8888888888888888,
             "#fdca26"
            ],
            [
             1,
             "#f0f921"
            ]
           ],
           "sequentialminus": [
            [
             0,
             "#0d0887"
            ],
            [
             0.1111111111111111,
             "#46039f"
            ],
            [
             0.2222222222222222,
             "#7201a8"
            ],
            [
             0.3333333333333333,
             "#9c179e"
            ],
            [
             0.4444444444444444,
             "#bd3786"
            ],
            [
             0.5555555555555556,
             "#d8576b"
            ],
            [
             0.6666666666666666,
             "#ed7953"
            ],
            [
             0.7777777777777778,
             "#fb9f3a"
            ],
            [
             0.8888888888888888,
             "#fdca26"
            ],
            [
             1,
             "#f0f921"
            ]
           ]
          },
          "colorway": [
           "#636efa",
           "#EF553B",
           "#00cc96",
           "#ab63fa",
           "#FFA15A",
           "#19d3f3",
           "#FF6692",
           "#B6E880",
           "#FF97FF",
           "#FECB52"
          ],
          "font": {
           "color": "#2a3f5f"
          },
          "geo": {
           "bgcolor": "white",
           "lakecolor": "white",
           "landcolor": "#E5ECF6",
           "showlakes": true,
           "showland": true,
           "subunitcolor": "white"
          },
          "hoverlabel": {
           "align": "left"
          },
          "hovermode": "closest",
          "mapbox": {
           "style": "light"
          },
          "paper_bgcolor": "white",
          "plot_bgcolor": "#E5ECF6",
          "polar": {
           "angularaxis": {
            "gridcolor": "white",
            "linecolor": "white",
            "ticks": ""
           },
           "bgcolor": "#E5ECF6",
           "radialaxis": {
            "gridcolor": "white",
            "linecolor": "white",
            "ticks": ""
           }
          },
          "scene": {
           "xaxis": {
            "backgroundcolor": "#E5ECF6",
            "gridcolor": "white",
            "gridwidth": 2,
            "linecolor": "white",
            "showbackground": true,
            "ticks": "",
            "zerolinecolor": "white"
           },
           "yaxis": {
            "backgroundcolor": "#E5ECF6",
            "gridcolor": "white",
            "gridwidth": 2,
            "linecolor": "white",
            "showbackground": true,
            "ticks": "",
            "zerolinecolor": "white"
           },
           "zaxis": {
            "backgroundcolor": "#E5ECF6",
            "gridcolor": "white",
            "gridwidth": 2,
            "linecolor": "white",
            "showbackground": true,
            "ticks": "",
            "zerolinecolor": "white"
           }
          },
          "shapedefaults": {
           "line": {
            "color": "#2a3f5f"
           }
          },
          "ternary": {
           "aaxis": {
            "gridcolor": "white",
            "linecolor": "white",
            "ticks": ""
           },
           "baxis": {
            "gridcolor": "white",
            "linecolor": "white",
            "ticks": ""
           },
           "bgcolor": "#E5ECF6",
           "caxis": {
            "gridcolor": "white",
            "linecolor": "white",
            "ticks": ""
           }
          },
          "title": {
           "x": 0.05
          },
          "xaxis": {
           "automargin": true,
           "gridcolor": "white",
           "linecolor": "white",
           "ticks": "",
           "title": {
            "standoff": 15
           },
           "zerolinecolor": "white",
           "zerolinewidth": 2
          },
          "yaxis": {
           "automargin": true,
           "gridcolor": "white",
           "linecolor": "white",
           "ticks": "",
           "title": {
            "standoff": 15
           },
           "zerolinecolor": "white",
           "zerolinewidth": 2
          }
         }
        },
        "title": {
         "text": "Possession Statistics"
        },
        "xaxis": {
         "title": {
          "text": "Teams"
         }
        },
        "yaxis": {
         "title": {
          "text": "Possession"
         }
        }
       }
      },
      "text/html": [
       "<div>                            <div id=\"0260d4df-8f6f-4f02-85f0-092ef69cb8c3\" class=\"plotly-graph-div\" style=\"height:525px; width:100%;\"></div>            <script type=\"text/javascript\">                require([\"plotly\"], function(Plotly) {                    window.PLOTLYENV=window.PLOTLYENV || {};                                    if (document.getElementById(\"0260d4df-8f6f-4f02-85f0-092ef69cb8c3\")) {                    Plotly.newPlot(                        \"0260d4df-8f6f-4f02-85f0-092ef69cb8c3\",                        [{\"marker\":{\"color\":\"#A52A2A\"},\"name\":\"Possession Stats 22\",\"opacity\":0.5,\"x\":[\"Arsenal\",\"Aston Villa\",\"Brentford\",\"Brighton and Hove Albion\",\"Burnley\",\"Chelsea\",\"Crystal Palace\",\"Everton\",\"Leeds United\",\"Leicester City\",\"Liverpool\",\"Manchester City\",\"Manchester United\",\"Newcastle United\",\"Norwich City\",\"Southampton\",\"Tottenham Hotspur\",\"Watford\",\"West Ham United\",\"Wolverhampton Wanderers\"],\"y\":[58.608695652173914,47.869565217391305,39.43478260869565,43.69565217391305,58.81818181818182,58.91304347826087,44.69565217391305,45.47826086956522,46.291666666666664,49.56521739130435,50.0,59.86363636363637,64.375,53.291666666666664,51.391304347826086,39.47826086956522,44.30434782608695,50.541666666666664,43.78260869565217,49.78260869565217],\"type\":\"bar\"},{\"marker\":{\"color\":\"#00BFFF\"},\"name\":\"Possession Stats 21\",\"opacity\":0.5,\"x\":[\"Arsenal\",\"Aston Villa\",\"Brentford\",\"Brighton and Hove Albion\",\"Burnley\",\"Chelsea\",\"Crystal Palace\",\"Everton\",\"Leeds United\",\"Leicester City\",\"Liverpool\",\"Manchester City\",\"Manchester United\",\"Newcastle United\",\"Norwich City\",\"Southampton\",\"Tottenham Hotspur\",\"Watford\",\"West Ham United\",\"Wolverhampton Wanderers\"],\"y\":[52.76315789473684,46.473684210526315,44.76315789473684,54.39473684210526,40.1578947368421,61.76315789473684,51.078947368421055,40.0,52.3421052631579,52.0,62.6578947368421,67.94736842105263,52.68421052631579,40.421052631578945,42.86842105263158,47.68421052631579,51.8421052631579,40.71052631578947,47.921052631578945,49.526315789473685],\"type\":\"bar\"}],                        {\"barmode\":\"group\",\"title\":{\"text\":\"Possession Statistics\"},\"xaxis\":{\"title\":{\"text\":\"Teams\"}},\"yaxis\":{\"title\":{\"text\":\"Possession\"}},\"template\":{\"data\":{\"histogram2dcontour\":[{\"type\":\"histogram2dcontour\",\"colorbar\":{\"outlinewidth\":0,\"ticks\":\"\"},\"colorscale\":[[0.0,\"#0d0887\"],[0.1111111111111111,\"#46039f\"],[0.2222222222222222,\"#7201a8\"],[0.3333333333333333,\"#9c179e\"],[0.4444444444444444,\"#bd3786\"],[0.5555555555555556,\"#d8576b\"],[0.6666666666666666,\"#ed7953\"],[0.7777777777777778,\"#fb9f3a\"],[0.8888888888888888,\"#fdca26\"],[1.0,\"#f0f921\"]]}],\"choropleth\":[{\"type\":\"choropleth\",\"colorbar\":{\"outlinewidth\":0,\"ticks\":\"\"}}],\"histogram2d\":[{\"type\":\"histogram2d\",\"colorbar\":{\"outlinewidth\":0,\"ticks\":\"\"},\"colorscale\":[[0.0,\"#0d0887\"],[0.1111111111111111,\"#46039f\"],[0.2222222222222222,\"#7201a8\"],[0.3333333333333333,\"#9c179e\"],[0.4444444444444444,\"#bd3786\"],[0.5555555555555556,\"#d8576b\"],[0.6666666666666666,\"#ed7953\"],[0.7777777777777778,\"#fb9f3a\"],[0.8888888888888888,\"#fdca26\"],[1.0,\"#f0f921\"]]}],\"heatmap\":[{\"type\":\"heatmap\",\"colorbar\":{\"outlinewidth\":0,\"ticks\":\"\"},\"colorscale\":[[0.0,\"#0d0887\"],[0.1111111111111111,\"#46039f\"],[0.2222222222222222,\"#7201a8\"],[0.3333333333333333,\"#9c179e\"],[0.4444444444444444,\"#bd3786\"],[0.5555555555555556,\"#d8576b\"],[0.6666666666666666,\"#ed7953\"],[0.7777777777777778,\"#fb9f3a\"],[0.8888888888888888,\"#fdca26\"],[1.0,\"#f0f921\"]]}],\"heatmapgl\":[{\"type\":\"heatmapgl\",\"colorbar\":{\"outlinewidth\":0,\"ticks\":\"\"},\"colorscale\":[[0.0,\"#0d0887\"],[0.1111111111111111,\"#46039f\"],[0.2222222222222222,\"#7201a8\"],[0.3333333333333333,\"#9c179e\"],[0.4444444444444444,\"#bd3786\"],[0.5555555555555556,\"#d8576b\"],[0.6666666666666666,\"#ed7953\"],[0.7777777777777778,\"#fb9f3a\"],[0.8888888888888888,\"#fdca26\"],[1.0,\"#f0f921\"]]}],\"contourcarpet\":[{\"type\":\"contourcarpet\",\"colorbar\":{\"outlinewidth\":0,\"ticks\":\"\"}}],\"contour\":[{\"type\":\"contour\",\"colorbar\":{\"outlinewidth\":0,\"ticks\":\"\"},\"colorscale\":[[0.0,\"#0d0887\"],[0.1111111111111111,\"#46039f\"],[0.2222222222222222,\"#7201a8\"],[0.3333333333333333,\"#9c179e\"],[0.4444444444444444,\"#bd3786\"],[0.5555555555555556,\"#d8576b\"],[0.6666666666666666,\"#ed7953\"],[0.7777777777777778,\"#fb9f3a\"],[0.8888888888888888,\"#fdca26\"],[1.0,\"#f0f921\"]]}],\"surface\":[{\"type\":\"surface\",\"colorbar\":{\"outlinewidth\":0,\"ticks\":\"\"},\"colorscale\":[[0.0,\"#0d0887\"],[0.1111111111111111,\"#46039f\"],[0.2222222222222222,\"#7201a8\"],[0.3333333333333333,\"#9c179e\"],[0.4444444444444444,\"#bd3786\"],[0.5555555555555556,\"#d8576b\"],[0.6666666666666666,\"#ed7953\"],[0.7777777777777778,\"#fb9f3a\"],[0.8888888888888888,\"#fdca26\"],[1.0,\"#f0f921\"]]}],\"mesh3d\":[{\"type\":\"mesh3d\",\"colorbar\":{\"outlinewidth\":0,\"ticks\":\"\"}}],\"scatter\":[{\"fillpattern\":{\"fillmode\":\"overlay\",\"size\":10,\"solidity\":0.2},\"type\":\"scatter\"}],\"parcoords\":[{\"type\":\"parcoords\",\"line\":{\"colorbar\":{\"outlinewidth\":0,\"ticks\":\"\"}}}],\"scatterpolargl\":[{\"type\":\"scatterpolargl\",\"marker\":{\"colorbar\":{\"outlinewidth\":0,\"ticks\":\"\"}}}],\"bar\":[{\"error_x\":{\"color\":\"#2a3f5f\"},\"error_y\":{\"color\":\"#2a3f5f\"},\"marker\":{\"line\":{\"color\":\"#E5ECF6\",\"width\":0.5},\"pattern\":{\"fillmode\":\"overlay\",\"size\":10,\"solidity\":0.2}},\"type\":\"bar\"}],\"scattergeo\":[{\"type\":\"scattergeo\",\"marker\":{\"colorbar\":{\"outlinewidth\":0,\"ticks\":\"\"}}}],\"scatterpolar\":[{\"type\":\"scatterpolar\",\"marker\":{\"colorbar\":{\"outlinewidth\":0,\"ticks\":\"\"}}}],\"histogram\":[{\"marker\":{\"pattern\":{\"fillmode\":\"overlay\",\"size\":10,\"solidity\":0.2}},\"type\":\"histogram\"}],\"scattergl\":[{\"type\":\"scattergl\",\"marker\":{\"colorbar\":{\"outlinewidth\":0,\"ticks\":\"\"}}}],\"scatter3d\":[{\"type\":\"scatter3d\",\"line\":{\"colorbar\":{\"outlinewidth\":0,\"ticks\":\"\"}},\"marker\":{\"colorbar\":{\"outlinewidth\":0,\"ticks\":\"\"}}}],\"scattermapbox\":[{\"type\":\"scattermapbox\",\"marker\":{\"colorbar\":{\"outlinewidth\":0,\"ticks\":\"\"}}}],\"scatterternary\":[{\"type\":\"scatterternary\",\"marker\":{\"colorbar\":{\"outlinewidth\":0,\"ticks\":\"\"}}}],\"scattercarpet\":[{\"type\":\"scattercarpet\",\"marker\":{\"colorbar\":{\"outlinewidth\":0,\"ticks\":\"\"}}}],\"carpet\":[{\"aaxis\":{\"endlinecolor\":\"#2a3f5f\",\"gridcolor\":\"white\",\"linecolor\":\"white\",\"minorgridcolor\":\"white\",\"startlinecolor\":\"#2a3f5f\"},\"baxis\":{\"endlinecolor\":\"#2a3f5f\",\"gridcolor\":\"white\",\"linecolor\":\"white\",\"minorgridcolor\":\"white\",\"startlinecolor\":\"#2a3f5f\"},\"type\":\"carpet\"}],\"table\":[{\"cells\":{\"fill\":{\"color\":\"#EBF0F8\"},\"line\":{\"color\":\"white\"}},\"header\":{\"fill\":{\"color\":\"#C8D4E3\"},\"line\":{\"color\":\"white\"}},\"type\":\"table\"}],\"barpolar\":[{\"marker\":{\"line\":{\"color\":\"#E5ECF6\",\"width\":0.5},\"pattern\":{\"fillmode\":\"overlay\",\"size\":10,\"solidity\":0.2}},\"type\":\"barpolar\"}],\"pie\":[{\"automargin\":true,\"type\":\"pie\"}]},\"layout\":{\"autotypenumbers\":\"strict\",\"colorway\":[\"#636efa\",\"#EF553B\",\"#00cc96\",\"#ab63fa\",\"#FFA15A\",\"#19d3f3\",\"#FF6692\",\"#B6E880\",\"#FF97FF\",\"#FECB52\"],\"font\":{\"color\":\"#2a3f5f\"},\"hovermode\":\"closest\",\"hoverlabel\":{\"align\":\"left\"},\"paper_bgcolor\":\"white\",\"plot_bgcolor\":\"#E5ECF6\",\"polar\":{\"bgcolor\":\"#E5ECF6\",\"angularaxis\":{\"gridcolor\":\"white\",\"linecolor\":\"white\",\"ticks\":\"\"},\"radialaxis\":{\"gridcolor\":\"white\",\"linecolor\":\"white\",\"ticks\":\"\"}},\"ternary\":{\"bgcolor\":\"#E5ECF6\",\"aaxis\":{\"gridcolor\":\"white\",\"linecolor\":\"white\",\"ticks\":\"\"},\"baxis\":{\"gridcolor\":\"white\",\"linecolor\":\"white\",\"ticks\":\"\"},\"caxis\":{\"gridcolor\":\"white\",\"linecolor\":\"white\",\"ticks\":\"\"}},\"coloraxis\":{\"colorbar\":{\"outlinewidth\":0,\"ticks\":\"\"}},\"colorscale\":{\"sequential\":[[0.0,\"#0d0887\"],[0.1111111111111111,\"#46039f\"],[0.2222222222222222,\"#7201a8\"],[0.3333333333333333,\"#9c179e\"],[0.4444444444444444,\"#bd3786\"],[0.5555555555555556,\"#d8576b\"],[0.6666666666666666,\"#ed7953\"],[0.7777777777777778,\"#fb9f3a\"],[0.8888888888888888,\"#fdca26\"],[1.0,\"#f0f921\"]],\"sequentialminus\":[[0.0,\"#0d0887\"],[0.1111111111111111,\"#46039f\"],[0.2222222222222222,\"#7201a8\"],[0.3333333333333333,\"#9c179e\"],[0.4444444444444444,\"#bd3786\"],[0.5555555555555556,\"#d8576b\"],[0.6666666666666666,\"#ed7953\"],[0.7777777777777778,\"#fb9f3a\"],[0.8888888888888888,\"#fdca26\"],[1.0,\"#f0f921\"]],\"diverging\":[[0,\"#8e0152\"],[0.1,\"#c51b7d\"],[0.2,\"#de77ae\"],[0.3,\"#f1b6da\"],[0.4,\"#fde0ef\"],[0.5,\"#f7f7f7\"],[0.6,\"#e6f5d0\"],[0.7,\"#b8e186\"],[0.8,\"#7fbc41\"],[0.9,\"#4d9221\"],[1,\"#276419\"]]},\"xaxis\":{\"gridcolor\":\"white\",\"linecolor\":\"white\",\"ticks\":\"\",\"title\":{\"standoff\":15},\"zerolinecolor\":\"white\",\"automargin\":true,\"zerolinewidth\":2},\"yaxis\":{\"gridcolor\":\"white\",\"linecolor\":\"white\",\"ticks\":\"\",\"title\":{\"standoff\":15},\"zerolinecolor\":\"white\",\"automargin\":true,\"zerolinewidth\":2},\"scene\":{\"xaxis\":{\"backgroundcolor\":\"#E5ECF6\",\"gridcolor\":\"white\",\"linecolor\":\"white\",\"showbackground\":true,\"ticks\":\"\",\"zerolinecolor\":\"white\",\"gridwidth\":2},\"yaxis\":{\"backgroundcolor\":\"#E5ECF6\",\"gridcolor\":\"white\",\"linecolor\":\"white\",\"showbackground\":true,\"ticks\":\"\",\"zerolinecolor\":\"white\",\"gridwidth\":2},\"zaxis\":{\"backgroundcolor\":\"#E5ECF6\",\"gridcolor\":\"white\",\"linecolor\":\"white\",\"showbackground\":true,\"ticks\":\"\",\"zerolinecolor\":\"white\",\"gridwidth\":2}},\"shapedefaults\":{\"line\":{\"color\":\"#2a3f5f\"}},\"annotationdefaults\":{\"arrowcolor\":\"#2a3f5f\",\"arrowhead\":0,\"arrowwidth\":1},\"geo\":{\"bgcolor\":\"white\",\"landcolor\":\"#E5ECF6\",\"subunitcolor\":\"white\",\"showland\":true,\"showlakes\":true,\"lakecolor\":\"white\"},\"title\":{\"x\":0.05},\"mapbox\":{\"style\":\"light\"}}}},                        {\"responsive\": true}                    ).then(function(){\n",
       "                            \n",
       "var gd = document.getElementById('0260d4df-8f6f-4f02-85f0-092ef69cb8c3');\n",
       "var x = new MutationObserver(function (mutations, observer) {{\n",
       "        var display = window.getComputedStyle(gd).display;\n",
       "        if (!display || display === 'none') {{\n",
       "            console.log([gd, 'removed!']);\n",
       "            Plotly.purge(gd);\n",
       "            observer.disconnect();\n",
       "        }}\n",
       "}});\n",
       "\n",
       "// Listen for the removal of the full notebook cells\n",
       "var notebookContainer = gd.closest('#notebook-container');\n",
       "if (notebookContainer) {{\n",
       "    x.observe(notebookContainer, {childList: true});\n",
       "}}\n",
       "\n",
       "// Listen for the clearing of the current output cell\n",
       "var outputEl = gd.closest('.output');\n",
       "if (outputEl) {{\n",
       "    x.observe(outputEl, {childList: true});\n",
       "}}\n",
       "\n",
       "                        })                };                });            </script>        </div>"
      ]
     },
     "metadata": {},
     "output_type": "display_data"
    },
    {
     "data": {
      "text/plain": [
       "'https://plotly.com/~Kvothe_v1/19/'"
      ]
     },
     "execution_count": 572,
     "metadata": {},
     "output_type": "execute_result"
    }
   ],
   "source": [
    "#To do a side by side comparison of the possession stats between two seasons\n",
    "poss_21_ch = go.Bar(x=poss_21.index, y=poss_21['Poss'],name= 'Possession Stats 21',marker=dict(color='#00BFFF'),opacity=0.5)\n",
    "poss_22_ch = go.Bar(x=poss_21.index, y=poss_22['Poss'],name= 'Possession Stats 22',marker=dict(color='#A52A2A'),opacity=0.5)\n",
    "\n",
    "data = [poss_22_ch,poss_21_ch]\n",
    "\n",
    "layout = go.Layout(barmode='group',title= 'Possession Statistics',\n",
    "                   xaxis_title = 'Teams',\n",
    "                yaxis_title = 'Possession')\n",
    "possession_ch = go.Figure(data=data, layout=layout)\n",
    "possession_ch.show()\n",
    "py.plot(possession_ch, filename='Possession_Stats.html', auto_open=False)"
   ]
  }
 ],
 "metadata": {
  "kernelspec": {
   "display_name": "Python 3 (ipykernel)",
   "language": "python",
   "name": "python3"
  },
  "language_info": {
   "codemirror_mode": {
    "name": "ipython",
    "version": 3
   },
   "file_extension": ".py",
   "mimetype": "text/x-python",
   "name": "python",
   "nbconvert_exporter": "python",
   "pygments_lexer": "ipython3",
   "version": "3.9.13"
  }
 },
 "nbformat": 4,
 "nbformat_minor": 5
}
